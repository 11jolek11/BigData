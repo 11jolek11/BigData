{
  "nbformat": 4,
  "nbformat_minor": 0,
  "metadata": {
    "colab": {
      "provenance": [],
      "toc_visible": true,
      "mount_file_id": "https://github.com/11jolek11/BigData/blob/yfinance/List5.ipynb",
      "authorship_tag": "ABX9TyN6FEyTwCuzJLMU42Y3rqzE",
      "include_colab_link": true
    },
    "kernelspec": {
      "name": "python3",
      "display_name": "Python 3"
    },
    "language_info": {
      "name": "python"
    }
  },
  "cells": [
    {
      "cell_type": "markdown",
      "metadata": {
        "id": "view-in-github",
        "colab_type": "text"
      },
      "source": [
        "<a href=\"https://colab.research.google.com/github/11jolek11/BigData/blob/yfinance/List5.ipynb\" target=\"_parent\"><img src=\"https://colab.research.google.com/assets/colab-badge.svg\" alt=\"Open In Colab\"/></a>"
      ]
    },
    {
      "cell_type": "code",
      "source": [
        "from google.colab import files\n",
        "files.upload()\n",
        "\n",
        "!pip install -q kaggle\n",
        "!mkdir ~/.kaggle\n",
        "!cp kaggle.json ~/.kaggle/\n",
        "!chmod 600 ~/.kaggle/kaggle.json\n",
        "# !kaggle datasets list"
      ],
      "metadata": {
        "id": "vA_iMQFrriUT"
      },
      "execution_count": null,
      "outputs": []
    },
    {
      "cell_type": "code",
      "source": [
        "!kaggle datasets download -d shivam2503/diamonds\n",
        "!kaggle datasets download -d datascientistanna/customers-dataset\n",
        "!mkdir dataset\n",
        "!unzip -o -q /content/diamonds.zip -d /content/dataset\n",
        "!unzip -o -q /content/customers-dataset.zip -d /content/dataset"
      ],
      "metadata": {
        "id": "Kjdz50tWpcUn"
      },
      "execution_count": null,
      "outputs": []
    },
    {
      "cell_type": "code",
      "execution_count": null,
      "metadata": {
        "id": "Kbh8jCR578gK"
      },
      "outputs": [],
      "source": [
        "import seaborn as sns\n",
        "from sklearn import datasets\n",
        "from sklearn.decomposition import PCA\n",
        "import matplotlib.pyplot as plt\n",
        "import pandas as pd\n",
        "from sklearn.pipeline import Pipeline\n",
        "from sklearn.preprocessing import StandardScaler\n",
        "from sklearn.preprocessing import OrdinalEncoder\n",
        "from sklearn.discriminant_analysis import LinearDiscriminantAnalysis as LDA\n",
        "from sklearn.decomposition import TruncatedSVD"
      ]
    },
    {
      "cell_type": "code",
      "source": [
        "from google.colab import data_table\n",
        "data_table.enable_dataframe_formatter()"
      ],
      "metadata": {
        "id": "a3FQYvqImbne"
      },
      "execution_count": null,
      "outputs": []
    },
    {
      "cell_type": "markdown",
      "source": [
        "# Load data"
      ],
      "metadata": {
        "id": "6EyRqHerzIeY"
      }
    },
    {
      "cell_type": "code",
      "source": [
        "iris = datasets.load_iris(as_frame=True)\n",
        "wine = datasets.load_wine(as_frame=True)\n",
        "california_housing = datasets.fetch_california_housing(as_frame=True)\n",
        "diamonds_df = pd.read_csv(\"/content/dataset/diamonds.csv\", sep=\",\", header=0)\n",
        "customers_df = pd.read_csv(\"/content/dataset/Customers.csv\", sep=\",\", header=0)"
      ],
      "metadata": {
        "id": "hn5DoGR8jA-4"
      },
      "execution_count": 154,
      "outputs": []
    },
    {
      "cell_type": "code",
      "source": [
        "diamonds_df.drop(['Unnamed: 0'], axis=1, inplace=True)"
      ],
      "metadata": {
        "id": "X5kSsACQMG0G"
      },
      "execution_count": 155,
      "outputs": []
    },
    {
      "cell_type": "markdown",
      "source": [
        "Iris"
      ],
      "metadata": {
        "id": "Tpq-qGP4GdbW"
      }
    },
    {
      "cell_type": "code",
      "source": [
        "iris.target_names"
      ],
      "metadata": {
        "id": "X4a_oZp9_B3q"
      },
      "execution_count": null,
      "outputs": []
    },
    {
      "cell_type": "code",
      "source": [
        "iris.frame"
      ],
      "metadata": {
        "id": "r8uPUpc-HZge"
      },
      "execution_count": null,
      "outputs": []
    },
    {
      "cell_type": "code",
      "source": [
        "iris.frame.info()"
      ],
      "metadata": {
        "id": "ZrLqUjIqKvnu"
      },
      "execution_count": null,
      "outputs": []
    },
    {
      "cell_type": "code",
      "source": [
        "sns.heatmap(iris.frame.corr(), annot=True, cmap='rainbow')"
      ],
      "metadata": {
        "id": "Fi8bxfCyK-Fu"
      },
      "execution_count": null,
      "outputs": []
    },
    {
      "cell_type": "code",
      "source": [
        "sns.pairplot(iris.frame, hue='target', height=2.5)"
      ],
      "metadata": {
        "id": "rDYOPwQ0K2Du"
      },
      "execution_count": null,
      "outputs": []
    },
    {
      "cell_type": "markdown",
      "source": [
        "Wine"
      ],
      "metadata": {
        "id": "VkCZvkT0GLhj"
      }
    },
    {
      "cell_type": "code",
      "source": [
        "wine.frame"
      ],
      "metadata": {
        "id": "mT2EBheDHcXG",
        "colab": {
          "base_uri": "https://localhost:8080/",
          "height": 649
        },
        "outputId": "c0cab58a-0431-4770-dcc1-60e94c3620e8"
      },
      "execution_count": 149,
      "outputs": [
        {
          "output_type": "execute_result",
          "data": {
            "text/plain": [
              "     alcohol  malic_acid   ash  alcalinity_of_ash  magnesium  total_phenols  \\\n",
              "0      14.23        1.71  2.43               15.6      127.0           2.80   \n",
              "1      13.20        1.78  2.14               11.2      100.0           2.65   \n",
              "2      13.16        2.36  2.67               18.6      101.0           2.80   \n",
              "3      14.37        1.95  2.50               16.8      113.0           3.85   \n",
              "4      13.24        2.59  2.87               21.0      118.0           2.80   \n",
              "..       ...         ...   ...                ...        ...            ...   \n",
              "173    13.71        5.65  2.45               20.5       95.0           1.68   \n",
              "174    13.40        3.91  2.48               23.0      102.0           1.80   \n",
              "175    13.27        4.28  2.26               20.0      120.0           1.59   \n",
              "176    13.17        2.59  2.37               20.0      120.0           1.65   \n",
              "177    14.13        4.10  2.74               24.5       96.0           2.05   \n",
              "\n",
              "     flavanoids  nonflavanoid_phenols  proanthocyanins  color_intensity   hue  \\\n",
              "0          3.06                  0.28             2.29             5.64  1.04   \n",
              "1          2.76                  0.26             1.28             4.38  1.05   \n",
              "2          3.24                  0.30             2.81             5.68  1.03   \n",
              "3          3.49                  0.24             2.18             7.80  0.86   \n",
              "4          2.69                  0.39             1.82             4.32  1.04   \n",
              "..          ...                   ...              ...              ...   ...   \n",
              "173        0.61                  0.52             1.06             7.70  0.64   \n",
              "174        0.75                  0.43             1.41             7.30  0.70   \n",
              "175        0.69                  0.43             1.35            10.20  0.59   \n",
              "176        0.68                  0.53             1.46             9.30  0.60   \n",
              "177        0.76                  0.56             1.35             9.20  0.61   \n",
              "\n",
              "     od280/od315_of_diluted_wines  proline  target  \n",
              "0                            3.92   1065.0       0  \n",
              "1                            3.40   1050.0       0  \n",
              "2                            3.17   1185.0       0  \n",
              "3                            3.45   1480.0       0  \n",
              "4                            2.93    735.0       0  \n",
              "..                            ...      ...     ...  \n",
              "173                          1.74    740.0       2  \n",
              "174                          1.56    750.0       2  \n",
              "175                          1.56    835.0       2  \n",
              "176                          1.62    840.0       2  \n",
              "177                          1.60    560.0       2  \n",
              "\n",
              "[178 rows x 14 columns]"
            ],
            "text/html": [
              "\n",
              "  <div id=\"df-9ffad163-ecb5-445a-85e8-b45c78074ee3\">\n",
              "    <div class=\"colab-df-container\">\n",
              "      <div>\n",
              "<style scoped>\n",
              "    .dataframe tbody tr th:only-of-type {\n",
              "        vertical-align: middle;\n",
              "    }\n",
              "\n",
              "    .dataframe tbody tr th {\n",
              "        vertical-align: top;\n",
              "    }\n",
              "\n",
              "    .dataframe thead th {\n",
              "        text-align: right;\n",
              "    }\n",
              "</style>\n",
              "<table border=\"1\" class=\"dataframe\">\n",
              "  <thead>\n",
              "    <tr style=\"text-align: right;\">\n",
              "      <th></th>\n",
              "      <th>alcohol</th>\n",
              "      <th>malic_acid</th>\n",
              "      <th>ash</th>\n",
              "      <th>alcalinity_of_ash</th>\n",
              "      <th>magnesium</th>\n",
              "      <th>total_phenols</th>\n",
              "      <th>flavanoids</th>\n",
              "      <th>nonflavanoid_phenols</th>\n",
              "      <th>proanthocyanins</th>\n",
              "      <th>color_intensity</th>\n",
              "      <th>hue</th>\n",
              "      <th>od280/od315_of_diluted_wines</th>\n",
              "      <th>proline</th>\n",
              "      <th>target</th>\n",
              "    </tr>\n",
              "  </thead>\n",
              "  <tbody>\n",
              "    <tr>\n",
              "      <th>0</th>\n",
              "      <td>14.23</td>\n",
              "      <td>1.71</td>\n",
              "      <td>2.43</td>\n",
              "      <td>15.6</td>\n",
              "      <td>127.0</td>\n",
              "      <td>2.80</td>\n",
              "      <td>3.06</td>\n",
              "      <td>0.28</td>\n",
              "      <td>2.29</td>\n",
              "      <td>5.64</td>\n",
              "      <td>1.04</td>\n",
              "      <td>3.92</td>\n",
              "      <td>1065.0</td>\n",
              "      <td>0</td>\n",
              "    </tr>\n",
              "    <tr>\n",
              "      <th>1</th>\n",
              "      <td>13.20</td>\n",
              "      <td>1.78</td>\n",
              "      <td>2.14</td>\n",
              "      <td>11.2</td>\n",
              "      <td>100.0</td>\n",
              "      <td>2.65</td>\n",
              "      <td>2.76</td>\n",
              "      <td>0.26</td>\n",
              "      <td>1.28</td>\n",
              "      <td>4.38</td>\n",
              "      <td>1.05</td>\n",
              "      <td>3.40</td>\n",
              "      <td>1050.0</td>\n",
              "      <td>0</td>\n",
              "    </tr>\n",
              "    <tr>\n",
              "      <th>2</th>\n",
              "      <td>13.16</td>\n",
              "      <td>2.36</td>\n",
              "      <td>2.67</td>\n",
              "      <td>18.6</td>\n",
              "      <td>101.0</td>\n",
              "      <td>2.80</td>\n",
              "      <td>3.24</td>\n",
              "      <td>0.30</td>\n",
              "      <td>2.81</td>\n",
              "      <td>5.68</td>\n",
              "      <td>1.03</td>\n",
              "      <td>3.17</td>\n",
              "      <td>1185.0</td>\n",
              "      <td>0</td>\n",
              "    </tr>\n",
              "    <tr>\n",
              "      <th>3</th>\n",
              "      <td>14.37</td>\n",
              "      <td>1.95</td>\n",
              "      <td>2.50</td>\n",
              "      <td>16.8</td>\n",
              "      <td>113.0</td>\n",
              "      <td>3.85</td>\n",
              "      <td>3.49</td>\n",
              "      <td>0.24</td>\n",
              "      <td>2.18</td>\n",
              "      <td>7.80</td>\n",
              "      <td>0.86</td>\n",
              "      <td>3.45</td>\n",
              "      <td>1480.0</td>\n",
              "      <td>0</td>\n",
              "    </tr>\n",
              "    <tr>\n",
              "      <th>4</th>\n",
              "      <td>13.24</td>\n",
              "      <td>2.59</td>\n",
              "      <td>2.87</td>\n",
              "      <td>21.0</td>\n",
              "      <td>118.0</td>\n",
              "      <td>2.80</td>\n",
              "      <td>2.69</td>\n",
              "      <td>0.39</td>\n",
              "      <td>1.82</td>\n",
              "      <td>4.32</td>\n",
              "      <td>1.04</td>\n",
              "      <td>2.93</td>\n",
              "      <td>735.0</td>\n",
              "      <td>0</td>\n",
              "    </tr>\n",
              "    <tr>\n",
              "      <th>...</th>\n",
              "      <td>...</td>\n",
              "      <td>...</td>\n",
              "      <td>...</td>\n",
              "      <td>...</td>\n",
              "      <td>...</td>\n",
              "      <td>...</td>\n",
              "      <td>...</td>\n",
              "      <td>...</td>\n",
              "      <td>...</td>\n",
              "      <td>...</td>\n",
              "      <td>...</td>\n",
              "      <td>...</td>\n",
              "      <td>...</td>\n",
              "      <td>...</td>\n",
              "    </tr>\n",
              "    <tr>\n",
              "      <th>173</th>\n",
              "      <td>13.71</td>\n",
              "      <td>5.65</td>\n",
              "      <td>2.45</td>\n",
              "      <td>20.5</td>\n",
              "      <td>95.0</td>\n",
              "      <td>1.68</td>\n",
              "      <td>0.61</td>\n",
              "      <td>0.52</td>\n",
              "      <td>1.06</td>\n",
              "      <td>7.70</td>\n",
              "      <td>0.64</td>\n",
              "      <td>1.74</td>\n",
              "      <td>740.0</td>\n",
              "      <td>2</td>\n",
              "    </tr>\n",
              "    <tr>\n",
              "      <th>174</th>\n",
              "      <td>13.40</td>\n",
              "      <td>3.91</td>\n",
              "      <td>2.48</td>\n",
              "      <td>23.0</td>\n",
              "      <td>102.0</td>\n",
              "      <td>1.80</td>\n",
              "      <td>0.75</td>\n",
              "      <td>0.43</td>\n",
              "      <td>1.41</td>\n",
              "      <td>7.30</td>\n",
              "      <td>0.70</td>\n",
              "      <td>1.56</td>\n",
              "      <td>750.0</td>\n",
              "      <td>2</td>\n",
              "    </tr>\n",
              "    <tr>\n",
              "      <th>175</th>\n",
              "      <td>13.27</td>\n",
              "      <td>4.28</td>\n",
              "      <td>2.26</td>\n",
              "      <td>20.0</td>\n",
              "      <td>120.0</td>\n",
              "      <td>1.59</td>\n",
              "      <td>0.69</td>\n",
              "      <td>0.43</td>\n",
              "      <td>1.35</td>\n",
              "      <td>10.20</td>\n",
              "      <td>0.59</td>\n",
              "      <td>1.56</td>\n",
              "      <td>835.0</td>\n",
              "      <td>2</td>\n",
              "    </tr>\n",
              "    <tr>\n",
              "      <th>176</th>\n",
              "      <td>13.17</td>\n",
              "      <td>2.59</td>\n",
              "      <td>2.37</td>\n",
              "      <td>20.0</td>\n",
              "      <td>120.0</td>\n",
              "      <td>1.65</td>\n",
              "      <td>0.68</td>\n",
              "      <td>0.53</td>\n",
              "      <td>1.46</td>\n",
              "      <td>9.30</td>\n",
              "      <td>0.60</td>\n",
              "      <td>1.62</td>\n",
              "      <td>840.0</td>\n",
              "      <td>2</td>\n",
              "    </tr>\n",
              "    <tr>\n",
              "      <th>177</th>\n",
              "      <td>14.13</td>\n",
              "      <td>4.10</td>\n",
              "      <td>2.74</td>\n",
              "      <td>24.5</td>\n",
              "      <td>96.0</td>\n",
              "      <td>2.05</td>\n",
              "      <td>0.76</td>\n",
              "      <td>0.56</td>\n",
              "      <td>1.35</td>\n",
              "      <td>9.20</td>\n",
              "      <td>0.61</td>\n",
              "      <td>1.60</td>\n",
              "      <td>560.0</td>\n",
              "      <td>2</td>\n",
              "    </tr>\n",
              "  </tbody>\n",
              "</table>\n",
              "<p>178 rows × 14 columns</p>\n",
              "</div>\n",
              "      <button class=\"colab-df-convert\" onclick=\"convertToInteractive('df-9ffad163-ecb5-445a-85e8-b45c78074ee3')\"\n",
              "              title=\"Convert this dataframe to an interactive table.\"\n",
              "              style=\"display:none;\">\n",
              "        \n",
              "  <svg xmlns=\"http://www.w3.org/2000/svg\" height=\"24px\"viewBox=\"0 0 24 24\"\n",
              "       width=\"24px\">\n",
              "    <path d=\"M0 0h24v24H0V0z\" fill=\"none\"/>\n",
              "    <path d=\"M18.56 5.44l.94 2.06.94-2.06 2.06-.94-2.06-.94-.94-2.06-.94 2.06-2.06.94zm-11 1L8.5 8.5l.94-2.06 2.06-.94-2.06-.94L8.5 2.5l-.94 2.06-2.06.94zm10 10l.94 2.06.94-2.06 2.06-.94-2.06-.94-.94-2.06-.94 2.06-2.06.94z\"/><path d=\"M17.41 7.96l-1.37-1.37c-.4-.4-.92-.59-1.43-.59-.52 0-1.04.2-1.43.59L10.3 9.45l-7.72 7.72c-.78.78-.78 2.05 0 2.83L4 21.41c.39.39.9.59 1.41.59.51 0 1.02-.2 1.41-.59l7.78-7.78 2.81-2.81c.8-.78.8-2.07 0-2.86zM5.41 20L4 18.59l7.72-7.72 1.47 1.35L5.41 20z\"/>\n",
              "  </svg>\n",
              "      </button>\n",
              "      \n",
              "  <style>\n",
              "    .colab-df-container {\n",
              "      display:flex;\n",
              "      flex-wrap:wrap;\n",
              "      gap: 12px;\n",
              "    }\n",
              "\n",
              "    .colab-df-convert {\n",
              "      background-color: #E8F0FE;\n",
              "      border: none;\n",
              "      border-radius: 50%;\n",
              "      cursor: pointer;\n",
              "      display: none;\n",
              "      fill: #1967D2;\n",
              "      height: 32px;\n",
              "      padding: 0 0 0 0;\n",
              "      width: 32px;\n",
              "    }\n",
              "\n",
              "    .colab-df-convert:hover {\n",
              "      background-color: #E2EBFA;\n",
              "      box-shadow: 0px 1px 2px rgba(60, 64, 67, 0.3), 0px 1px 3px 1px rgba(60, 64, 67, 0.15);\n",
              "      fill: #174EA6;\n",
              "    }\n",
              "\n",
              "    [theme=dark] .colab-df-convert {\n",
              "      background-color: #3B4455;\n",
              "      fill: #D2E3FC;\n",
              "    }\n",
              "\n",
              "    [theme=dark] .colab-df-convert:hover {\n",
              "      background-color: #434B5C;\n",
              "      box-shadow: 0px 1px 3px 1px rgba(0, 0, 0, 0.15);\n",
              "      filter: drop-shadow(0px 1px 2px rgba(0, 0, 0, 0.3));\n",
              "      fill: #FFFFFF;\n",
              "    }\n",
              "  </style>\n",
              "\n",
              "      <script>\n",
              "        const buttonEl =\n",
              "          document.querySelector('#df-9ffad163-ecb5-445a-85e8-b45c78074ee3 button.colab-df-convert');\n",
              "        buttonEl.style.display =\n",
              "          google.colab.kernel.accessAllowed ? 'block' : 'none';\n",
              "\n",
              "        async function convertToInteractive(key) {\n",
              "          const element = document.querySelector('#df-9ffad163-ecb5-445a-85e8-b45c78074ee3');\n",
              "          const dataTable =\n",
              "            await google.colab.kernel.invokeFunction('convertToInteractive',\n",
              "                                                     [key], {});\n",
              "          if (!dataTable) return;\n",
              "\n",
              "          const docLinkHtml = 'Like what you see? Visit the ' +\n",
              "            '<a target=\"_blank\" href=https://colab.research.google.com/notebooks/data_table.ipynb>data table notebook</a>'\n",
              "            + ' to learn more about interactive tables.';\n",
              "          element.innerHTML = '';\n",
              "          dataTable['output_type'] = 'display_data';\n",
              "          await google.colab.output.renderOutput(dataTable, element);\n",
              "          const docLink = document.createElement('div');\n",
              "          docLink.innerHTML = docLinkHtml;\n",
              "          element.appendChild(docLink);\n",
              "        }\n",
              "      </script>\n",
              "    </div>\n",
              "  </div>\n",
              "  "
            ],
            "application/vnd.google.colaboratory.module+javascript": "\n      import \"https://ssl.gstatic.com/colaboratory/data_table/99dac6621f6ae8c4/data_table.js\";\n\n      window.createDataTable({\n        data: [[{\n            'v': 0,\n            'f': \"0\",\n        },\n{\n            'v': 14.23,\n            'f': \"14.23\",\n        },\n{\n            'v': 1.71,\n            'f': \"1.71\",\n        },\n{\n            'v': 2.43,\n            'f': \"2.43\",\n        },\n{\n            'v': 15.6,\n            'f': \"15.6\",\n        },\n{\n            'v': 127.0,\n            'f': \"127.0\",\n        },\n{\n            'v': 2.8,\n            'f': \"2.8\",\n        },\n{\n            'v': 3.06,\n            'f': \"3.06\",\n        },\n{\n            'v': 0.28,\n            'f': \"0.28\",\n        },\n{\n            'v': 2.29,\n            'f': \"2.29\",\n        },\n{\n            'v': 5.64,\n            'f': \"5.64\",\n        },\n{\n            'v': 1.04,\n            'f': \"1.04\",\n        },\n{\n            'v': 3.92,\n            'f': \"3.92\",\n        },\n{\n            'v': 1065.0,\n            'f': \"1065.0\",\n        },\n{\n            'v': 0,\n            'f': \"0\",\n        }],\n [{\n            'v': 1,\n            'f': \"1\",\n        },\n{\n            'v': 13.2,\n            'f': \"13.2\",\n        },\n{\n            'v': 1.78,\n            'f': \"1.78\",\n        },\n{\n            'v': 2.14,\n            'f': \"2.14\",\n        },\n{\n            'v': 11.2,\n            'f': \"11.2\",\n        },\n{\n            'v': 100.0,\n            'f': \"100.0\",\n        },\n{\n            'v': 2.65,\n            'f': \"2.65\",\n        },\n{\n            'v': 2.76,\n            'f': \"2.76\",\n        },\n{\n            'v': 0.26,\n            'f': \"0.26\",\n        },\n{\n            'v': 1.28,\n            'f': \"1.28\",\n        },\n{\n            'v': 4.38,\n            'f': \"4.38\",\n        },\n{\n            'v': 1.05,\n            'f': \"1.05\",\n        },\n{\n            'v': 3.4,\n            'f': \"3.4\",\n        },\n{\n            'v': 1050.0,\n            'f': \"1050.0\",\n        },\n{\n            'v': 0,\n            'f': \"0\",\n        }],\n [{\n            'v': 2,\n            'f': \"2\",\n        },\n{\n            'v': 13.16,\n            'f': \"13.16\",\n        },\n{\n            'v': 2.36,\n            'f': \"2.36\",\n        },\n{\n            'v': 2.67,\n            'f': \"2.67\",\n        },\n{\n            'v': 18.6,\n            'f': \"18.6\",\n        },\n{\n            'v': 101.0,\n            'f': \"101.0\",\n        },\n{\n            'v': 2.8,\n            'f': \"2.8\",\n        },\n{\n            'v': 3.24,\n            'f': \"3.24\",\n        },\n{\n            'v': 0.3,\n            'f': \"0.3\",\n        },\n{\n            'v': 2.81,\n            'f': \"2.81\",\n        },\n{\n            'v': 5.68,\n            'f': \"5.68\",\n        },\n{\n            'v': 1.03,\n            'f': \"1.03\",\n        },\n{\n            'v': 3.17,\n            'f': \"3.17\",\n        },\n{\n            'v': 1185.0,\n            'f': \"1185.0\",\n        },\n{\n            'v': 0,\n            'f': \"0\",\n        }],\n [{\n            'v': 3,\n            'f': \"3\",\n        },\n{\n            'v': 14.37,\n            'f': \"14.37\",\n        },\n{\n            'v': 1.95,\n            'f': \"1.95\",\n        },\n{\n            'v': 2.5,\n            'f': \"2.5\",\n        },\n{\n            'v': 16.8,\n            'f': \"16.8\",\n        },\n{\n            'v': 113.0,\n            'f': \"113.0\",\n        },\n{\n            'v': 3.85,\n            'f': \"3.85\",\n        },\n{\n            'v': 3.49,\n            'f': \"3.49\",\n        },\n{\n            'v': 0.24,\n            'f': \"0.24\",\n        },\n{\n            'v': 2.18,\n            'f': \"2.18\",\n        },\n{\n            'v': 7.8,\n            'f': \"7.8\",\n        },\n{\n            'v': 0.86,\n            'f': \"0.86\",\n        },\n{\n            'v': 3.45,\n            'f': \"3.45\",\n        },\n{\n            'v': 1480.0,\n            'f': \"1480.0\",\n        },\n{\n            'v': 0,\n            'f': \"0\",\n        }],\n [{\n            'v': 4,\n            'f': \"4\",\n        },\n{\n            'v': 13.24,\n            'f': \"13.24\",\n        },\n{\n            'v': 2.59,\n            'f': \"2.59\",\n        },\n{\n            'v': 2.87,\n            'f': \"2.87\",\n        },\n{\n            'v': 21.0,\n            'f': \"21.0\",\n        },\n{\n            'v': 118.0,\n            'f': \"118.0\",\n        },\n{\n            'v': 2.8,\n            'f': \"2.8\",\n        },\n{\n            'v': 2.69,\n            'f': \"2.69\",\n        },\n{\n            'v': 0.39,\n            'f': \"0.39\",\n        },\n{\n            'v': 1.82,\n            'f': \"1.82\",\n        },\n{\n            'v': 4.32,\n            'f': \"4.32\",\n        },\n{\n            'v': 1.04,\n            'f': \"1.04\",\n        },\n{\n            'v': 2.93,\n            'f': \"2.93\",\n        },\n{\n            'v': 735.0,\n            'f': \"735.0\",\n        },\n{\n            'v': 0,\n            'f': \"0\",\n        }],\n [{\n            'v': 5,\n            'f': \"5\",\n        },\n{\n            'v': 14.2,\n            'f': \"14.2\",\n        },\n{\n            'v': 1.76,\n            'f': \"1.76\",\n        },\n{\n            'v': 2.45,\n            'f': \"2.45\",\n        },\n{\n            'v': 15.2,\n            'f': \"15.2\",\n        },\n{\n            'v': 112.0,\n            'f': \"112.0\",\n        },\n{\n            'v': 3.27,\n            'f': \"3.27\",\n        },\n{\n            'v': 3.39,\n            'f': \"3.39\",\n        },\n{\n            'v': 0.34,\n            'f': \"0.34\",\n        },\n{\n            'v': 1.97,\n            'f': \"1.97\",\n        },\n{\n            'v': 6.75,\n            'f': \"6.75\",\n        },\n{\n            'v': 1.05,\n            'f': \"1.05\",\n        },\n{\n            'v': 2.85,\n            'f': \"2.85\",\n        },\n{\n            'v': 1450.0,\n            'f': \"1450.0\",\n        },\n{\n            'v': 0,\n            'f': \"0\",\n        }],\n [{\n            'v': 6,\n            'f': \"6\",\n        },\n{\n            'v': 14.39,\n            'f': \"14.39\",\n        },\n{\n            'v': 1.87,\n            'f': \"1.87\",\n        },\n{\n            'v': 2.45,\n            'f': \"2.45\",\n        },\n{\n            'v': 14.6,\n            'f': \"14.6\",\n        },\n{\n            'v': 96.0,\n            'f': \"96.0\",\n        },\n{\n            'v': 2.5,\n            'f': \"2.5\",\n        },\n{\n            'v': 2.52,\n            'f': \"2.52\",\n        },\n{\n            'v': 0.3,\n            'f': \"0.3\",\n        },\n{\n            'v': 1.98,\n            'f': \"1.98\",\n        },\n{\n            'v': 5.25,\n            'f': \"5.25\",\n        },\n{\n            'v': 1.02,\n            'f': \"1.02\",\n        },\n{\n            'v': 3.58,\n            'f': \"3.58\",\n        },\n{\n            'v': 1290.0,\n            'f': \"1290.0\",\n        },\n{\n            'v': 0,\n            'f': \"0\",\n        }],\n [{\n            'v': 7,\n            'f': \"7\",\n        },\n{\n            'v': 14.06,\n            'f': \"14.06\",\n        },\n{\n            'v': 2.15,\n            'f': \"2.15\",\n        },\n{\n            'v': 2.61,\n            'f': \"2.61\",\n        },\n{\n            'v': 17.6,\n            'f': \"17.6\",\n        },\n{\n            'v': 121.0,\n            'f': \"121.0\",\n        },\n{\n            'v': 2.6,\n            'f': \"2.6\",\n        },\n{\n            'v': 2.51,\n            'f': \"2.51\",\n        },\n{\n            'v': 0.31,\n            'f': \"0.31\",\n        },\n{\n            'v': 1.25,\n            'f': \"1.25\",\n        },\n{\n            'v': 5.05,\n            'f': \"5.05\",\n        },\n{\n            'v': 1.06,\n            'f': \"1.06\",\n        },\n{\n            'v': 3.58,\n            'f': \"3.58\",\n        },\n{\n            'v': 1295.0,\n            'f': \"1295.0\",\n        },\n{\n            'v': 0,\n            'f': \"0\",\n        }],\n [{\n            'v': 8,\n            'f': \"8\",\n        },\n{\n            'v': 14.83,\n            'f': \"14.83\",\n        },\n{\n            'v': 1.64,\n            'f': \"1.64\",\n        },\n{\n            'v': 2.17,\n            'f': \"2.17\",\n        },\n{\n            'v': 14.0,\n            'f': \"14.0\",\n        },\n{\n            'v': 97.0,\n            'f': \"97.0\",\n        },\n{\n            'v': 2.8,\n            'f': \"2.8\",\n        },\n{\n            'v': 2.98,\n            'f': \"2.98\",\n        },\n{\n            'v': 0.29,\n            'f': \"0.29\",\n        },\n{\n            'v': 1.98,\n            'f': \"1.98\",\n        },\n{\n            'v': 5.2,\n            'f': \"5.2\",\n        },\n{\n            'v': 1.08,\n            'f': \"1.08\",\n        },\n{\n            'v': 2.85,\n            'f': \"2.85\",\n        },\n{\n            'v': 1045.0,\n            'f': \"1045.0\",\n        },\n{\n            'v': 0,\n            'f': \"0\",\n        }],\n [{\n            'v': 9,\n            'f': \"9\",\n        },\n{\n            'v': 13.86,\n            'f': \"13.86\",\n        },\n{\n            'v': 1.35,\n            'f': \"1.35\",\n        },\n{\n            'v': 2.27,\n            'f': \"2.27\",\n        },\n{\n            'v': 16.0,\n            'f': \"16.0\",\n        },\n{\n            'v': 98.0,\n            'f': \"98.0\",\n        },\n{\n            'v': 2.98,\n            'f': \"2.98\",\n        },\n{\n            'v': 3.15,\n            'f': \"3.15\",\n        },\n{\n            'v': 0.22,\n            'f': \"0.22\",\n        },\n{\n            'v': 1.85,\n            'f': \"1.85\",\n        },\n{\n            'v': 7.22,\n            'f': \"7.22\",\n        },\n{\n            'v': 1.01,\n            'f': \"1.01\",\n        },\n{\n            'v': 3.55,\n            'f': \"3.55\",\n        },\n{\n            'v': 1045.0,\n            'f': \"1045.0\",\n        },\n{\n            'v': 0,\n            'f': \"0\",\n        }],\n [{\n            'v': 10,\n            'f': \"10\",\n        },\n{\n            'v': 14.1,\n            'f': \"14.1\",\n        },\n{\n            'v': 2.16,\n            'f': \"2.16\",\n        },\n{\n            'v': 2.3,\n            'f': \"2.3\",\n        },\n{\n            'v': 18.0,\n            'f': \"18.0\",\n        },\n{\n            'v': 105.0,\n            'f': \"105.0\",\n        },\n{\n            'v': 2.95,\n            'f': \"2.95\",\n        },\n{\n            'v': 3.32,\n            'f': \"3.32\",\n        },\n{\n            'v': 0.22,\n            'f': \"0.22\",\n        },\n{\n            'v': 2.38,\n            'f': \"2.38\",\n        },\n{\n            'v': 5.75,\n            'f': \"5.75\",\n        },\n{\n            'v': 1.25,\n            'f': \"1.25\",\n        },\n{\n            'v': 3.17,\n            'f': \"3.17\",\n        },\n{\n            'v': 1510.0,\n            'f': \"1510.0\",\n        },\n{\n            'v': 0,\n            'f': \"0\",\n        }],\n [{\n            'v': 11,\n            'f': \"11\",\n        },\n{\n            'v': 14.12,\n            'f': \"14.12\",\n        },\n{\n            'v': 1.48,\n            'f': \"1.48\",\n        },\n{\n            'v': 2.32,\n            'f': \"2.32\",\n        },\n{\n            'v': 16.8,\n            'f': \"16.8\",\n        },\n{\n            'v': 95.0,\n            'f': \"95.0\",\n        },\n{\n            'v': 2.2,\n            'f': \"2.2\",\n        },\n{\n            'v': 2.43,\n            'f': \"2.43\",\n        },\n{\n            'v': 0.26,\n            'f': \"0.26\",\n        },\n{\n            'v': 1.57,\n            'f': \"1.57\",\n        },\n{\n            'v': 5.0,\n            'f': \"5.0\",\n        },\n{\n            'v': 1.17,\n            'f': \"1.17\",\n        },\n{\n            'v': 2.82,\n            'f': \"2.82\",\n        },\n{\n            'v': 1280.0,\n            'f': \"1280.0\",\n        },\n{\n            'v': 0,\n            'f': \"0\",\n        }],\n [{\n            'v': 12,\n            'f': \"12\",\n        },\n{\n            'v': 13.75,\n            'f': \"13.75\",\n        },\n{\n            'v': 1.73,\n            'f': \"1.73\",\n        },\n{\n            'v': 2.41,\n            'f': \"2.41\",\n        },\n{\n            'v': 16.0,\n            'f': \"16.0\",\n        },\n{\n            'v': 89.0,\n            'f': \"89.0\",\n        },\n{\n            'v': 2.6,\n            'f': \"2.6\",\n        },\n{\n            'v': 2.76,\n            'f': \"2.76\",\n        },\n{\n            'v': 0.29,\n            'f': \"0.29\",\n        },\n{\n            'v': 1.81,\n            'f': \"1.81\",\n        },\n{\n            'v': 5.6,\n            'f': \"5.6\",\n        },\n{\n            'v': 1.15,\n            'f': \"1.15\",\n        },\n{\n            'v': 2.9,\n            'f': \"2.9\",\n        },\n{\n            'v': 1320.0,\n            'f': \"1320.0\",\n        },\n{\n            'v': 0,\n            'f': \"0\",\n        }],\n [{\n            'v': 13,\n            'f': \"13\",\n        },\n{\n            'v': 14.75,\n            'f': \"14.75\",\n        },\n{\n            'v': 1.73,\n            'f': \"1.73\",\n        },\n{\n            'v': 2.39,\n            'f': \"2.39\",\n        },\n{\n            'v': 11.4,\n            'f': \"11.4\",\n        },\n{\n            'v': 91.0,\n            'f': \"91.0\",\n        },\n{\n            'v': 3.1,\n            'f': \"3.1\",\n        },\n{\n            'v': 3.69,\n            'f': \"3.69\",\n        },\n{\n            'v': 0.43,\n            'f': \"0.43\",\n        },\n{\n            'v': 2.81,\n            'f': \"2.81\",\n        },\n{\n            'v': 5.4,\n            'f': \"5.4\",\n        },\n{\n            'v': 1.25,\n            'f': \"1.25\",\n        },\n{\n            'v': 2.73,\n            'f': \"2.73\",\n        },\n{\n            'v': 1150.0,\n            'f': \"1150.0\",\n        },\n{\n            'v': 0,\n            'f': \"0\",\n        }],\n [{\n            'v': 14,\n            'f': \"14\",\n        },\n{\n            'v': 14.38,\n            'f': \"14.38\",\n        },\n{\n            'v': 1.87,\n            'f': \"1.87\",\n        },\n{\n            'v': 2.38,\n            'f': \"2.38\",\n        },\n{\n            'v': 12.0,\n            'f': \"12.0\",\n        },\n{\n            'v': 102.0,\n            'f': \"102.0\",\n        },\n{\n            'v': 3.3,\n            'f': \"3.3\",\n        },\n{\n            'v': 3.64,\n            'f': \"3.64\",\n        },\n{\n            'v': 0.29,\n            'f': \"0.29\",\n        },\n{\n            'v': 2.96,\n            'f': \"2.96\",\n        },\n{\n            'v': 7.5,\n            'f': \"7.5\",\n        },\n{\n            'v': 1.2,\n            'f': \"1.2\",\n        },\n{\n            'v': 3.0,\n            'f': \"3.0\",\n        },\n{\n            'v': 1547.0,\n            'f': \"1547.0\",\n        },\n{\n            'v': 0,\n            'f': \"0\",\n        }],\n [{\n            'v': 15,\n            'f': \"15\",\n        },\n{\n            'v': 13.63,\n            'f': \"13.63\",\n        },\n{\n            'v': 1.81,\n            'f': \"1.81\",\n        },\n{\n            'v': 2.7,\n            'f': \"2.7\",\n        },\n{\n            'v': 17.2,\n            'f': \"17.2\",\n        },\n{\n            'v': 112.0,\n            'f': \"112.0\",\n        },\n{\n            'v': 2.85,\n            'f': \"2.85\",\n        },\n{\n            'v': 2.91,\n            'f': \"2.91\",\n        },\n{\n            'v': 0.3,\n            'f': \"0.3\",\n        },\n{\n            'v': 1.46,\n            'f': \"1.46\",\n        },\n{\n            'v': 7.3,\n            'f': \"7.3\",\n        },\n{\n            'v': 1.28,\n            'f': \"1.28\",\n        },\n{\n            'v': 2.88,\n            'f': \"2.88\",\n        },\n{\n            'v': 1310.0,\n            'f': \"1310.0\",\n        },\n{\n            'v': 0,\n            'f': \"0\",\n        }],\n [{\n            'v': 16,\n            'f': \"16\",\n        },\n{\n            'v': 14.3,\n            'f': \"14.3\",\n        },\n{\n            'v': 1.92,\n            'f': \"1.92\",\n        },\n{\n            'v': 2.72,\n            'f': \"2.72\",\n        },\n{\n            'v': 20.0,\n            'f': \"20.0\",\n        },\n{\n            'v': 120.0,\n            'f': \"120.0\",\n        },\n{\n            'v': 2.8,\n            'f': \"2.8\",\n        },\n{\n            'v': 3.14,\n            'f': \"3.14\",\n        },\n{\n            'v': 0.33,\n            'f': \"0.33\",\n        },\n{\n            'v': 1.97,\n            'f': \"1.97\",\n        },\n{\n            'v': 6.2,\n            'f': \"6.2\",\n        },\n{\n            'v': 1.07,\n            'f': \"1.07\",\n        },\n{\n            'v': 2.65,\n            'f': \"2.65\",\n        },\n{\n            'v': 1280.0,\n            'f': \"1280.0\",\n        },\n{\n            'v': 0,\n            'f': \"0\",\n        }],\n [{\n            'v': 17,\n            'f': \"17\",\n        },\n{\n            'v': 13.83,\n            'f': \"13.83\",\n        },\n{\n            'v': 1.57,\n            'f': \"1.57\",\n        },\n{\n            'v': 2.62,\n            'f': \"2.62\",\n        },\n{\n            'v': 20.0,\n            'f': \"20.0\",\n        },\n{\n            'v': 115.0,\n            'f': \"115.0\",\n        },\n{\n            'v': 2.95,\n            'f': \"2.95\",\n        },\n{\n            'v': 3.4,\n            'f': \"3.4\",\n        },\n{\n            'v': 0.4,\n            'f': \"0.4\",\n        },\n{\n            'v': 1.72,\n            'f': \"1.72\",\n        },\n{\n            'v': 6.6,\n            'f': \"6.6\",\n        },\n{\n            'v': 1.13,\n            'f': \"1.13\",\n        },\n{\n            'v': 2.57,\n            'f': \"2.57\",\n        },\n{\n            'v': 1130.0,\n            'f': \"1130.0\",\n        },\n{\n            'v': 0,\n            'f': \"0\",\n        }],\n [{\n            'v': 18,\n            'f': \"18\",\n        },\n{\n            'v': 14.19,\n            'f': \"14.19\",\n        },\n{\n            'v': 1.59,\n            'f': \"1.59\",\n        },\n{\n            'v': 2.48,\n            'f': \"2.48\",\n        },\n{\n            'v': 16.5,\n            'f': \"16.5\",\n        },\n{\n            'v': 108.0,\n            'f': \"108.0\",\n        },\n{\n            'v': 3.3,\n            'f': \"3.3\",\n        },\n{\n            'v': 3.93,\n            'f': \"3.93\",\n        },\n{\n            'v': 0.32,\n            'f': \"0.32\",\n        },\n{\n            'v': 1.86,\n            'f': \"1.86\",\n        },\n{\n            'v': 8.7,\n            'f': \"8.7\",\n        },\n{\n            'v': 1.23,\n            'f': \"1.23\",\n        },\n{\n            'v': 2.82,\n            'f': \"2.82\",\n        },\n{\n            'v': 1680.0,\n            'f': \"1680.0\",\n        },\n{\n            'v': 0,\n            'f': \"0\",\n        }],\n [{\n            'v': 19,\n            'f': \"19\",\n        },\n{\n            'v': 13.64,\n            'f': \"13.64\",\n        },\n{\n            'v': 3.1,\n            'f': \"3.1\",\n        },\n{\n            'v': 2.56,\n            'f': \"2.56\",\n        },\n{\n            'v': 15.2,\n            'f': \"15.2\",\n        },\n{\n            'v': 116.0,\n            'f': \"116.0\",\n        },\n{\n            'v': 2.7,\n            'f': \"2.7\",\n        },\n{\n            'v': 3.03,\n            'f': \"3.03\",\n        },\n{\n            'v': 0.17,\n            'f': \"0.17\",\n        },\n{\n            'v': 1.66,\n            'f': \"1.66\",\n        },\n{\n            'v': 5.1,\n            'f': \"5.1\",\n        },\n{\n            'v': 0.96,\n            'f': \"0.96\",\n        },\n{\n            'v': 3.36,\n            'f': \"3.36\",\n        },\n{\n            'v': 845.0,\n            'f': \"845.0\",\n        },\n{\n            'v': 0,\n            'f': \"0\",\n        }],\n [{\n            'v': 20,\n            'f': \"20\",\n        },\n{\n            'v': 14.06,\n            'f': \"14.06\",\n        },\n{\n            'v': 1.63,\n            'f': \"1.63\",\n        },\n{\n            'v': 2.28,\n            'f': \"2.28\",\n        },\n{\n            'v': 16.0,\n            'f': \"16.0\",\n        },\n{\n            'v': 126.0,\n            'f': \"126.0\",\n        },\n{\n            'v': 3.0,\n            'f': \"3.0\",\n        },\n{\n            'v': 3.17,\n            'f': \"3.17\",\n        },\n{\n            'v': 0.24,\n            'f': \"0.24\",\n        },\n{\n            'v': 2.1,\n            'f': \"2.1\",\n        },\n{\n            'v': 5.65,\n            'f': \"5.65\",\n        },\n{\n            'v': 1.09,\n            'f': \"1.09\",\n        },\n{\n            'v': 3.71,\n            'f': \"3.71\",\n        },\n{\n            'v': 780.0,\n            'f': \"780.0\",\n        },\n{\n            'v': 0,\n            'f': \"0\",\n        }],\n [{\n            'v': 21,\n            'f': \"21\",\n        },\n{\n            'v': 12.93,\n            'f': \"12.93\",\n        },\n{\n            'v': 3.8,\n            'f': \"3.8\",\n        },\n{\n            'v': 2.65,\n            'f': \"2.65\",\n        },\n{\n            'v': 18.6,\n            'f': \"18.6\",\n        },\n{\n            'v': 102.0,\n            'f': \"102.0\",\n        },\n{\n            'v': 2.41,\n            'f': \"2.41\",\n        },\n{\n            'v': 2.41,\n            'f': \"2.41\",\n        },\n{\n            'v': 0.25,\n            'f': \"0.25\",\n        },\n{\n            'v': 1.98,\n            'f': \"1.98\",\n        },\n{\n            'v': 4.5,\n            'f': \"4.5\",\n        },\n{\n            'v': 1.03,\n            'f': \"1.03\",\n        },\n{\n            'v': 3.52,\n            'f': \"3.52\",\n        },\n{\n            'v': 770.0,\n            'f': \"770.0\",\n        },\n{\n            'v': 0,\n            'f': \"0\",\n        }],\n [{\n            'v': 22,\n            'f': \"22\",\n        },\n{\n            'v': 13.71,\n            'f': \"13.71\",\n        },\n{\n            'v': 1.86,\n            'f': \"1.86\",\n        },\n{\n            'v': 2.36,\n            'f': \"2.36\",\n        },\n{\n            'v': 16.6,\n            'f': \"16.6\",\n        },\n{\n            'v': 101.0,\n            'f': \"101.0\",\n        },\n{\n            'v': 2.61,\n            'f': \"2.61\",\n        },\n{\n            'v': 2.88,\n            'f': \"2.88\",\n        },\n{\n            'v': 0.27,\n            'f': \"0.27\",\n        },\n{\n            'v': 1.69,\n            'f': \"1.69\",\n        },\n{\n            'v': 3.8,\n            'f': \"3.8\",\n        },\n{\n            'v': 1.11,\n            'f': \"1.11\",\n        },\n{\n            'v': 4.0,\n            'f': \"4.0\",\n        },\n{\n            'v': 1035.0,\n            'f': \"1035.0\",\n        },\n{\n            'v': 0,\n            'f': \"0\",\n        }],\n [{\n            'v': 23,\n            'f': \"23\",\n        },\n{\n            'v': 12.85,\n            'f': \"12.85\",\n        },\n{\n            'v': 1.6,\n            'f': \"1.6\",\n        },\n{\n            'v': 2.52,\n            'f': \"2.52\",\n        },\n{\n            'v': 17.8,\n            'f': \"17.8\",\n        },\n{\n            'v': 95.0,\n            'f': \"95.0\",\n        },\n{\n            'v': 2.48,\n            'f': \"2.48\",\n        },\n{\n            'v': 2.37,\n            'f': \"2.37\",\n        },\n{\n            'v': 0.26,\n            'f': \"0.26\",\n        },\n{\n            'v': 1.46,\n            'f': \"1.46\",\n        },\n{\n            'v': 3.93,\n            'f': \"3.93\",\n        },\n{\n            'v': 1.09,\n            'f': \"1.09\",\n        },\n{\n            'v': 3.63,\n            'f': \"3.63\",\n        },\n{\n            'v': 1015.0,\n            'f': \"1015.0\",\n        },\n{\n            'v': 0,\n            'f': \"0\",\n        }],\n [{\n            'v': 24,\n            'f': \"24\",\n        },\n{\n            'v': 13.5,\n            'f': \"13.5\",\n        },\n{\n            'v': 1.81,\n            'f': \"1.81\",\n        },\n{\n            'v': 2.61,\n            'f': \"2.61\",\n        },\n{\n            'v': 20.0,\n            'f': \"20.0\",\n        },\n{\n            'v': 96.0,\n            'f': \"96.0\",\n        },\n{\n            'v': 2.53,\n            'f': \"2.53\",\n        },\n{\n            'v': 2.61,\n            'f': \"2.61\",\n        },\n{\n            'v': 0.28,\n            'f': \"0.28\",\n        },\n{\n            'v': 1.66,\n            'f': \"1.66\",\n        },\n{\n            'v': 3.52,\n            'f': \"3.52\",\n        },\n{\n            'v': 1.12,\n            'f': \"1.12\",\n        },\n{\n            'v': 3.82,\n            'f': \"3.82\",\n        },\n{\n            'v': 845.0,\n            'f': \"845.0\",\n        },\n{\n            'v': 0,\n            'f': \"0\",\n        }],\n [{\n            'v': 25,\n            'f': \"25\",\n        },\n{\n            'v': 13.05,\n            'f': \"13.05\",\n        },\n{\n            'v': 2.05,\n            'f': \"2.05\",\n        },\n{\n            'v': 3.22,\n            'f': \"3.22\",\n        },\n{\n            'v': 25.0,\n            'f': \"25.0\",\n        },\n{\n            'v': 124.0,\n            'f': \"124.0\",\n        },\n{\n            'v': 2.63,\n            'f': \"2.63\",\n        },\n{\n            'v': 2.68,\n            'f': \"2.68\",\n        },\n{\n            'v': 0.47,\n            'f': \"0.47\",\n        },\n{\n            'v': 1.92,\n            'f': \"1.92\",\n        },\n{\n            'v': 3.58,\n            'f': \"3.58\",\n        },\n{\n            'v': 1.13,\n            'f': \"1.13\",\n        },\n{\n            'v': 3.2,\n            'f': \"3.2\",\n        },\n{\n            'v': 830.0,\n            'f': \"830.0\",\n        },\n{\n            'v': 0,\n            'f': \"0\",\n        }],\n [{\n            'v': 26,\n            'f': \"26\",\n        },\n{\n            'v': 13.39,\n            'f': \"13.39\",\n        },\n{\n            'v': 1.77,\n            'f': \"1.77\",\n        },\n{\n            'v': 2.62,\n            'f': \"2.62\",\n        },\n{\n            'v': 16.1,\n            'f': \"16.1\",\n        },\n{\n            'v': 93.0,\n            'f': \"93.0\",\n        },\n{\n            'v': 2.85,\n            'f': \"2.85\",\n        },\n{\n            'v': 2.94,\n            'f': \"2.94\",\n        },\n{\n            'v': 0.34,\n            'f': \"0.34\",\n        },\n{\n            'v': 1.45,\n            'f': \"1.45\",\n        },\n{\n            'v': 4.8,\n            'f': \"4.8\",\n        },\n{\n            'v': 0.92,\n            'f': \"0.92\",\n        },\n{\n            'v': 3.22,\n            'f': \"3.22\",\n        },\n{\n            'v': 1195.0,\n            'f': \"1195.0\",\n        },\n{\n            'v': 0,\n            'f': \"0\",\n        }],\n [{\n            'v': 27,\n            'f': \"27\",\n        },\n{\n            'v': 13.3,\n            'f': \"13.3\",\n        },\n{\n            'v': 1.72,\n            'f': \"1.72\",\n        },\n{\n            'v': 2.14,\n            'f': \"2.14\",\n        },\n{\n            'v': 17.0,\n            'f': \"17.0\",\n        },\n{\n            'v': 94.0,\n            'f': \"94.0\",\n        },\n{\n            'v': 2.4,\n            'f': \"2.4\",\n        },\n{\n            'v': 2.19,\n            'f': \"2.19\",\n        },\n{\n            'v': 0.27,\n            'f': \"0.27\",\n        },\n{\n            'v': 1.35,\n            'f': \"1.35\",\n        },\n{\n            'v': 3.95,\n            'f': \"3.95\",\n        },\n{\n            'v': 1.02,\n            'f': \"1.02\",\n        },\n{\n            'v': 2.77,\n            'f': \"2.77\",\n        },\n{\n            'v': 1285.0,\n            'f': \"1285.0\",\n        },\n{\n            'v': 0,\n            'f': \"0\",\n        }],\n [{\n            'v': 28,\n            'f': \"28\",\n        },\n{\n            'v': 13.87,\n            'f': \"13.87\",\n        },\n{\n            'v': 1.9,\n            'f': \"1.9\",\n        },\n{\n            'v': 2.8,\n            'f': \"2.8\",\n        },\n{\n            'v': 19.4,\n            'f': \"19.4\",\n        },\n{\n            'v': 107.0,\n            'f': \"107.0\",\n        },\n{\n            'v': 2.95,\n            'f': \"2.95\",\n        },\n{\n            'v': 2.97,\n            'f': \"2.97\",\n        },\n{\n            'v': 0.37,\n            'f': \"0.37\",\n        },\n{\n            'v': 1.76,\n            'f': \"1.76\",\n        },\n{\n            'v': 4.5,\n            'f': \"4.5\",\n        },\n{\n            'v': 1.25,\n            'f': \"1.25\",\n        },\n{\n            'v': 3.4,\n            'f': \"3.4\",\n        },\n{\n            'v': 915.0,\n            'f': \"915.0\",\n        },\n{\n            'v': 0,\n            'f': \"0\",\n        }],\n [{\n            'v': 29,\n            'f': \"29\",\n        },\n{\n            'v': 14.02,\n            'f': \"14.02\",\n        },\n{\n            'v': 1.68,\n            'f': \"1.68\",\n        },\n{\n            'v': 2.21,\n            'f': \"2.21\",\n        },\n{\n            'v': 16.0,\n            'f': \"16.0\",\n        },\n{\n            'v': 96.0,\n            'f': \"96.0\",\n        },\n{\n            'v': 2.65,\n            'f': \"2.65\",\n        },\n{\n            'v': 2.33,\n            'f': \"2.33\",\n        },\n{\n            'v': 0.26,\n            'f': \"0.26\",\n        },\n{\n            'v': 1.98,\n            'f': \"1.98\",\n        },\n{\n            'v': 4.7,\n            'f': \"4.7\",\n        },\n{\n            'v': 1.04,\n            'f': \"1.04\",\n        },\n{\n            'v': 3.59,\n            'f': \"3.59\",\n        },\n{\n            'v': 1035.0,\n            'f': \"1035.0\",\n        },\n{\n            'v': 0,\n            'f': \"0\",\n        }],\n [{\n            'v': 30,\n            'f': \"30\",\n        },\n{\n            'v': 13.73,\n            'f': \"13.73\",\n        },\n{\n            'v': 1.5,\n            'f': \"1.5\",\n        },\n{\n            'v': 2.7,\n            'f': \"2.7\",\n        },\n{\n            'v': 22.5,\n            'f': \"22.5\",\n        },\n{\n            'v': 101.0,\n            'f': \"101.0\",\n        },\n{\n            'v': 3.0,\n            'f': \"3.0\",\n        },\n{\n            'v': 3.25,\n            'f': \"3.25\",\n        },\n{\n            'v': 0.29,\n            'f': \"0.29\",\n        },\n{\n            'v': 2.38,\n            'f': \"2.38\",\n        },\n{\n            'v': 5.7,\n            'f': \"5.7\",\n        },\n{\n            'v': 1.19,\n            'f': \"1.19\",\n        },\n{\n            'v': 2.71,\n            'f': \"2.71\",\n        },\n{\n            'v': 1285.0,\n            'f': \"1285.0\",\n        },\n{\n            'v': 0,\n            'f': \"0\",\n        }],\n [{\n            'v': 31,\n            'f': \"31\",\n        },\n{\n            'v': 13.58,\n            'f': \"13.58\",\n        },\n{\n            'v': 1.66,\n            'f': \"1.66\",\n        },\n{\n            'v': 2.36,\n            'f': \"2.36\",\n        },\n{\n            'v': 19.1,\n            'f': \"19.1\",\n        },\n{\n            'v': 106.0,\n            'f': \"106.0\",\n        },\n{\n            'v': 2.86,\n            'f': \"2.86\",\n        },\n{\n            'v': 3.19,\n            'f': \"3.19\",\n        },\n{\n            'v': 0.22,\n            'f': \"0.22\",\n        },\n{\n            'v': 1.95,\n            'f': \"1.95\",\n        },\n{\n            'v': 6.9,\n            'f': \"6.9\",\n        },\n{\n            'v': 1.09,\n            'f': \"1.09\",\n        },\n{\n            'v': 2.88,\n            'f': \"2.88\",\n        },\n{\n            'v': 1515.0,\n            'f': \"1515.0\",\n        },\n{\n            'v': 0,\n            'f': \"0\",\n        }],\n [{\n            'v': 32,\n            'f': \"32\",\n        },\n{\n            'v': 13.68,\n            'f': \"13.68\",\n        },\n{\n            'v': 1.83,\n            'f': \"1.83\",\n        },\n{\n            'v': 2.36,\n            'f': \"2.36\",\n        },\n{\n            'v': 17.2,\n            'f': \"17.2\",\n        },\n{\n            'v': 104.0,\n            'f': \"104.0\",\n        },\n{\n            'v': 2.42,\n            'f': \"2.42\",\n        },\n{\n            'v': 2.69,\n            'f': \"2.69\",\n        },\n{\n            'v': 0.42,\n            'f': \"0.42\",\n        },\n{\n            'v': 1.97,\n            'f': \"1.97\",\n        },\n{\n            'v': 3.84,\n            'f': \"3.84\",\n        },\n{\n            'v': 1.23,\n            'f': \"1.23\",\n        },\n{\n            'v': 2.87,\n            'f': \"2.87\",\n        },\n{\n            'v': 990.0,\n            'f': \"990.0\",\n        },\n{\n            'v': 0,\n            'f': \"0\",\n        }],\n [{\n            'v': 33,\n            'f': \"33\",\n        },\n{\n            'v': 13.76,\n            'f': \"13.76\",\n        },\n{\n            'v': 1.53,\n            'f': \"1.53\",\n        },\n{\n            'v': 2.7,\n            'f': \"2.7\",\n        },\n{\n            'v': 19.5,\n            'f': \"19.5\",\n        },\n{\n            'v': 132.0,\n            'f': \"132.0\",\n        },\n{\n            'v': 2.95,\n            'f': \"2.95\",\n        },\n{\n            'v': 2.74,\n            'f': \"2.74\",\n        },\n{\n            'v': 0.5,\n            'f': \"0.5\",\n        },\n{\n            'v': 1.35,\n            'f': \"1.35\",\n        },\n{\n            'v': 5.4,\n            'f': \"5.4\",\n        },\n{\n            'v': 1.25,\n            'f': \"1.25\",\n        },\n{\n            'v': 3.0,\n            'f': \"3.0\",\n        },\n{\n            'v': 1235.0,\n            'f': \"1235.0\",\n        },\n{\n            'v': 0,\n            'f': \"0\",\n        }],\n [{\n            'v': 34,\n            'f': \"34\",\n        },\n{\n            'v': 13.51,\n            'f': \"13.51\",\n        },\n{\n            'v': 1.8,\n            'f': \"1.8\",\n        },\n{\n            'v': 2.65,\n            'f': \"2.65\",\n        },\n{\n            'v': 19.0,\n            'f': \"19.0\",\n        },\n{\n            'v': 110.0,\n            'f': \"110.0\",\n        },\n{\n            'v': 2.35,\n            'f': \"2.35\",\n        },\n{\n            'v': 2.53,\n            'f': \"2.53\",\n        },\n{\n            'v': 0.29,\n            'f': \"0.29\",\n        },\n{\n            'v': 1.54,\n            'f': \"1.54\",\n        },\n{\n            'v': 4.2,\n            'f': \"4.2\",\n        },\n{\n            'v': 1.1,\n            'f': \"1.1\",\n        },\n{\n            'v': 2.87,\n            'f': \"2.87\",\n        },\n{\n            'v': 1095.0,\n            'f': \"1095.0\",\n        },\n{\n            'v': 0,\n            'f': \"0\",\n        }],\n [{\n            'v': 35,\n            'f': \"35\",\n        },\n{\n            'v': 13.48,\n            'f': \"13.48\",\n        },\n{\n            'v': 1.81,\n            'f': \"1.81\",\n        },\n{\n            'v': 2.41,\n            'f': \"2.41\",\n        },\n{\n            'v': 20.5,\n            'f': \"20.5\",\n        },\n{\n            'v': 100.0,\n            'f': \"100.0\",\n        },\n{\n            'v': 2.7,\n            'f': \"2.7\",\n        },\n{\n            'v': 2.98,\n            'f': \"2.98\",\n        },\n{\n            'v': 0.26,\n            'f': \"0.26\",\n        },\n{\n            'v': 1.86,\n            'f': \"1.86\",\n        },\n{\n            'v': 5.1,\n            'f': \"5.1\",\n        },\n{\n            'v': 1.04,\n            'f': \"1.04\",\n        },\n{\n            'v': 3.47,\n            'f': \"3.47\",\n        },\n{\n            'v': 920.0,\n            'f': \"920.0\",\n        },\n{\n            'v': 0,\n            'f': \"0\",\n        }],\n [{\n            'v': 36,\n            'f': \"36\",\n        },\n{\n            'v': 13.28,\n            'f': \"13.28\",\n        },\n{\n            'v': 1.64,\n            'f': \"1.64\",\n        },\n{\n            'v': 2.84,\n            'f': \"2.84\",\n        },\n{\n            'v': 15.5,\n            'f': \"15.5\",\n        },\n{\n            'v': 110.0,\n            'f': \"110.0\",\n        },\n{\n            'v': 2.6,\n            'f': \"2.6\",\n        },\n{\n            'v': 2.68,\n            'f': \"2.68\",\n        },\n{\n            'v': 0.34,\n            'f': \"0.34\",\n        },\n{\n            'v': 1.36,\n            'f': \"1.36\",\n        },\n{\n            'v': 4.6,\n            'f': \"4.6\",\n        },\n{\n            'v': 1.09,\n            'f': \"1.09\",\n        },\n{\n            'v': 2.78,\n            'f': \"2.78\",\n        },\n{\n            'v': 880.0,\n            'f': \"880.0\",\n        },\n{\n            'v': 0,\n            'f': \"0\",\n        }],\n [{\n            'v': 37,\n            'f': \"37\",\n        },\n{\n            'v': 13.05,\n            'f': \"13.05\",\n        },\n{\n            'v': 1.65,\n            'f': \"1.65\",\n        },\n{\n            'v': 2.55,\n            'f': \"2.55\",\n        },\n{\n            'v': 18.0,\n            'f': \"18.0\",\n        },\n{\n            'v': 98.0,\n            'f': \"98.0\",\n        },\n{\n            'v': 2.45,\n            'f': \"2.45\",\n        },\n{\n            'v': 2.43,\n            'f': \"2.43\",\n        },\n{\n            'v': 0.29,\n            'f': \"0.29\",\n        },\n{\n            'v': 1.44,\n            'f': \"1.44\",\n        },\n{\n            'v': 4.25,\n            'f': \"4.25\",\n        },\n{\n            'v': 1.12,\n            'f': \"1.12\",\n        },\n{\n            'v': 2.51,\n            'f': \"2.51\",\n        },\n{\n            'v': 1105.0,\n            'f': \"1105.0\",\n        },\n{\n            'v': 0,\n            'f': \"0\",\n        }],\n [{\n            'v': 38,\n            'f': \"38\",\n        },\n{\n            'v': 13.07,\n            'f': \"13.07\",\n        },\n{\n            'v': 1.5,\n            'f': \"1.5\",\n        },\n{\n            'v': 2.1,\n            'f': \"2.1\",\n        },\n{\n            'v': 15.5,\n            'f': \"15.5\",\n        },\n{\n            'v': 98.0,\n            'f': \"98.0\",\n        },\n{\n            'v': 2.4,\n            'f': \"2.4\",\n        },\n{\n            'v': 2.64,\n            'f': \"2.64\",\n        },\n{\n            'v': 0.28,\n            'f': \"0.28\",\n        },\n{\n            'v': 1.37,\n            'f': \"1.37\",\n        },\n{\n            'v': 3.7,\n            'f': \"3.7\",\n        },\n{\n            'v': 1.18,\n            'f': \"1.18\",\n        },\n{\n            'v': 2.69,\n            'f': \"2.69\",\n        },\n{\n            'v': 1020.0,\n            'f': \"1020.0\",\n        },\n{\n            'v': 0,\n            'f': \"0\",\n        }],\n [{\n            'v': 39,\n            'f': \"39\",\n        },\n{\n            'v': 14.22,\n            'f': \"14.22\",\n        },\n{\n            'v': 3.99,\n            'f': \"3.99\",\n        },\n{\n            'v': 2.51,\n            'f': \"2.51\",\n        },\n{\n            'v': 13.2,\n            'f': \"13.2\",\n        },\n{\n            'v': 128.0,\n            'f': \"128.0\",\n        },\n{\n            'v': 3.0,\n            'f': \"3.0\",\n        },\n{\n            'v': 3.04,\n            'f': \"3.04\",\n        },\n{\n            'v': 0.2,\n            'f': \"0.2\",\n        },\n{\n            'v': 2.08,\n            'f': \"2.08\",\n        },\n{\n            'v': 5.1,\n            'f': \"5.1\",\n        },\n{\n            'v': 0.89,\n            'f': \"0.89\",\n        },\n{\n            'v': 3.53,\n            'f': \"3.53\",\n        },\n{\n            'v': 760.0,\n            'f': \"760.0\",\n        },\n{\n            'v': 0,\n            'f': \"0\",\n        }],\n [{\n            'v': 40,\n            'f': \"40\",\n        },\n{\n            'v': 13.56,\n            'f': \"13.56\",\n        },\n{\n            'v': 1.71,\n            'f': \"1.71\",\n        },\n{\n            'v': 2.31,\n            'f': \"2.31\",\n        },\n{\n            'v': 16.2,\n            'f': \"16.2\",\n        },\n{\n            'v': 117.0,\n            'f': \"117.0\",\n        },\n{\n            'v': 3.15,\n            'f': \"3.15\",\n        },\n{\n            'v': 3.29,\n            'f': \"3.29\",\n        },\n{\n            'v': 0.34,\n            'f': \"0.34\",\n        },\n{\n            'v': 2.34,\n            'f': \"2.34\",\n        },\n{\n            'v': 6.13,\n            'f': \"6.13\",\n        },\n{\n            'v': 0.95,\n            'f': \"0.95\",\n        },\n{\n            'v': 3.38,\n            'f': \"3.38\",\n        },\n{\n            'v': 795.0,\n            'f': \"795.0\",\n        },\n{\n            'v': 0,\n            'f': \"0\",\n        }],\n [{\n            'v': 41,\n            'f': \"41\",\n        },\n{\n            'v': 13.41,\n            'f': \"13.41\",\n        },\n{\n            'v': 3.84,\n            'f': \"3.84\",\n        },\n{\n            'v': 2.12,\n            'f': \"2.12\",\n        },\n{\n            'v': 18.8,\n            'f': \"18.8\",\n        },\n{\n            'v': 90.0,\n            'f': \"90.0\",\n        },\n{\n            'v': 2.45,\n            'f': \"2.45\",\n        },\n{\n            'v': 2.68,\n            'f': \"2.68\",\n        },\n{\n            'v': 0.27,\n            'f': \"0.27\",\n        },\n{\n            'v': 1.48,\n            'f': \"1.48\",\n        },\n{\n            'v': 4.28,\n            'f': \"4.28\",\n        },\n{\n            'v': 0.91,\n            'f': \"0.91\",\n        },\n{\n            'v': 3.0,\n            'f': \"3.0\",\n        },\n{\n            'v': 1035.0,\n            'f': \"1035.0\",\n        },\n{\n            'v': 0,\n            'f': \"0\",\n        }],\n [{\n            'v': 42,\n            'f': \"42\",\n        },\n{\n            'v': 13.88,\n            'f': \"13.88\",\n        },\n{\n            'v': 1.89,\n            'f': \"1.89\",\n        },\n{\n            'v': 2.59,\n            'f': \"2.59\",\n        },\n{\n            'v': 15.0,\n            'f': \"15.0\",\n        },\n{\n            'v': 101.0,\n            'f': \"101.0\",\n        },\n{\n            'v': 3.25,\n            'f': \"3.25\",\n        },\n{\n            'v': 3.56,\n            'f': \"3.56\",\n        },\n{\n            'v': 0.17,\n            'f': \"0.17\",\n        },\n{\n            'v': 1.7,\n            'f': \"1.7\",\n        },\n{\n            'v': 5.43,\n            'f': \"5.43\",\n        },\n{\n            'v': 0.88,\n            'f': \"0.88\",\n        },\n{\n            'v': 3.56,\n            'f': \"3.56\",\n        },\n{\n            'v': 1095.0,\n            'f': \"1095.0\",\n        },\n{\n            'v': 0,\n            'f': \"0\",\n        }],\n [{\n            'v': 43,\n            'f': \"43\",\n        },\n{\n            'v': 13.24,\n            'f': \"13.24\",\n        },\n{\n            'v': 3.98,\n            'f': \"3.98\",\n        },\n{\n            'v': 2.29,\n            'f': \"2.29\",\n        },\n{\n            'v': 17.5,\n            'f': \"17.5\",\n        },\n{\n            'v': 103.0,\n            'f': \"103.0\",\n        },\n{\n            'v': 2.64,\n            'f': \"2.64\",\n        },\n{\n            'v': 2.63,\n            'f': \"2.63\",\n        },\n{\n            'v': 0.32,\n            'f': \"0.32\",\n        },\n{\n            'v': 1.66,\n            'f': \"1.66\",\n        },\n{\n            'v': 4.36,\n            'f': \"4.36\",\n        },\n{\n            'v': 0.82,\n            'f': \"0.82\",\n        },\n{\n            'v': 3.0,\n            'f': \"3.0\",\n        },\n{\n            'v': 680.0,\n            'f': \"680.0\",\n        },\n{\n            'v': 0,\n            'f': \"0\",\n        }],\n [{\n            'v': 44,\n            'f': \"44\",\n        },\n{\n            'v': 13.05,\n            'f': \"13.05\",\n        },\n{\n            'v': 1.77,\n            'f': \"1.77\",\n        },\n{\n            'v': 2.1,\n            'f': \"2.1\",\n        },\n{\n            'v': 17.0,\n            'f': \"17.0\",\n        },\n{\n            'v': 107.0,\n            'f': \"107.0\",\n        },\n{\n            'v': 3.0,\n            'f': \"3.0\",\n        },\n{\n            'v': 3.0,\n            'f': \"3.0\",\n        },\n{\n            'v': 0.28,\n            'f': \"0.28\",\n        },\n{\n            'v': 2.03,\n            'f': \"2.03\",\n        },\n{\n            'v': 5.04,\n            'f': \"5.04\",\n        },\n{\n            'v': 0.88,\n            'f': \"0.88\",\n        },\n{\n            'v': 3.35,\n            'f': \"3.35\",\n        },\n{\n            'v': 885.0,\n            'f': \"885.0\",\n        },\n{\n            'v': 0,\n            'f': \"0\",\n        }],\n [{\n            'v': 45,\n            'f': \"45\",\n        },\n{\n            'v': 14.21,\n            'f': \"14.21\",\n        },\n{\n            'v': 4.04,\n            'f': \"4.04\",\n        },\n{\n            'v': 2.44,\n            'f': \"2.44\",\n        },\n{\n            'v': 18.9,\n            'f': \"18.9\",\n        },\n{\n            'v': 111.0,\n            'f': \"111.0\",\n        },\n{\n            'v': 2.85,\n            'f': \"2.85\",\n        },\n{\n            'v': 2.65,\n            'f': \"2.65\",\n        },\n{\n            'v': 0.3,\n            'f': \"0.3\",\n        },\n{\n            'v': 1.25,\n            'f': \"1.25\",\n        },\n{\n            'v': 5.24,\n            'f': \"5.24\",\n        },\n{\n            'v': 0.87,\n            'f': \"0.87\",\n        },\n{\n            'v': 3.33,\n            'f': \"3.33\",\n        },\n{\n            'v': 1080.0,\n            'f': \"1080.0\",\n        },\n{\n            'v': 0,\n            'f': \"0\",\n        }],\n [{\n            'v': 46,\n            'f': \"46\",\n        },\n{\n            'v': 14.38,\n            'f': \"14.38\",\n        },\n{\n            'v': 3.59,\n            'f': \"3.59\",\n        },\n{\n            'v': 2.28,\n            'f': \"2.28\",\n        },\n{\n            'v': 16.0,\n            'f': \"16.0\",\n        },\n{\n            'v': 102.0,\n            'f': \"102.0\",\n        },\n{\n            'v': 3.25,\n            'f': \"3.25\",\n        },\n{\n            'v': 3.17,\n            'f': \"3.17\",\n        },\n{\n            'v': 0.27,\n            'f': \"0.27\",\n        },\n{\n            'v': 2.19,\n            'f': \"2.19\",\n        },\n{\n            'v': 4.9,\n            'f': \"4.9\",\n        },\n{\n            'v': 1.04,\n            'f': \"1.04\",\n        },\n{\n            'v': 3.44,\n            'f': \"3.44\",\n        },\n{\n            'v': 1065.0,\n            'f': \"1065.0\",\n        },\n{\n            'v': 0,\n            'f': \"0\",\n        }],\n [{\n            'v': 47,\n            'f': \"47\",\n        },\n{\n            'v': 13.9,\n            'f': \"13.9\",\n        },\n{\n            'v': 1.68,\n            'f': \"1.68\",\n        },\n{\n            'v': 2.12,\n            'f': \"2.12\",\n        },\n{\n            'v': 16.0,\n            'f': \"16.0\",\n        },\n{\n            'v': 101.0,\n            'f': \"101.0\",\n        },\n{\n            'v': 3.1,\n            'f': \"3.1\",\n        },\n{\n            'v': 3.39,\n            'f': \"3.39\",\n        },\n{\n            'v': 0.21,\n            'f': \"0.21\",\n        },\n{\n            'v': 2.14,\n            'f': \"2.14\",\n        },\n{\n            'v': 6.1,\n            'f': \"6.1\",\n        },\n{\n            'v': 0.91,\n            'f': \"0.91\",\n        },\n{\n            'v': 3.33,\n            'f': \"3.33\",\n        },\n{\n            'v': 985.0,\n            'f': \"985.0\",\n        },\n{\n            'v': 0,\n            'f': \"0\",\n        }],\n [{\n            'v': 48,\n            'f': \"48\",\n        },\n{\n            'v': 14.1,\n            'f': \"14.1\",\n        },\n{\n            'v': 2.02,\n            'f': \"2.02\",\n        },\n{\n            'v': 2.4,\n            'f': \"2.4\",\n        },\n{\n            'v': 18.8,\n            'f': \"18.8\",\n        },\n{\n            'v': 103.0,\n            'f': \"103.0\",\n        },\n{\n            'v': 2.75,\n            'f': \"2.75\",\n        },\n{\n            'v': 2.92,\n            'f': \"2.92\",\n        },\n{\n            'v': 0.32,\n            'f': \"0.32\",\n        },\n{\n            'v': 2.38,\n            'f': \"2.38\",\n        },\n{\n            'v': 6.2,\n            'f': \"6.2\",\n        },\n{\n            'v': 1.07,\n            'f': \"1.07\",\n        },\n{\n            'v': 2.75,\n            'f': \"2.75\",\n        },\n{\n            'v': 1060.0,\n            'f': \"1060.0\",\n        },\n{\n            'v': 0,\n            'f': \"0\",\n        }],\n [{\n            'v': 49,\n            'f': \"49\",\n        },\n{\n            'v': 13.94,\n            'f': \"13.94\",\n        },\n{\n            'v': 1.73,\n            'f': \"1.73\",\n        },\n{\n            'v': 2.27,\n            'f': \"2.27\",\n        },\n{\n            'v': 17.4,\n            'f': \"17.4\",\n        },\n{\n            'v': 108.0,\n            'f': \"108.0\",\n        },\n{\n            'v': 2.88,\n            'f': \"2.88\",\n        },\n{\n            'v': 3.54,\n            'f': \"3.54\",\n        },\n{\n            'v': 0.32,\n            'f': \"0.32\",\n        },\n{\n            'v': 2.08,\n            'f': \"2.08\",\n        },\n{\n            'v': 8.9,\n            'f': \"8.9\",\n        },\n{\n            'v': 1.12,\n            'f': \"1.12\",\n        },\n{\n            'v': 3.1,\n            'f': \"3.1\",\n        },\n{\n            'v': 1260.0,\n            'f': \"1260.0\",\n        },\n{\n            'v': 0,\n            'f': \"0\",\n        }],\n [{\n            'v': 50,\n            'f': \"50\",\n        },\n{\n            'v': 13.05,\n            'f': \"13.05\",\n        },\n{\n            'v': 1.73,\n            'f': \"1.73\",\n        },\n{\n            'v': 2.04,\n            'f': \"2.04\",\n        },\n{\n            'v': 12.4,\n            'f': \"12.4\",\n        },\n{\n            'v': 92.0,\n            'f': \"92.0\",\n        },\n{\n            'v': 2.72,\n            'f': \"2.72\",\n        },\n{\n            'v': 3.27,\n            'f': \"3.27\",\n        },\n{\n            'v': 0.17,\n            'f': \"0.17\",\n        },\n{\n            'v': 2.91,\n            'f': \"2.91\",\n        },\n{\n            'v': 7.2,\n            'f': \"7.2\",\n        },\n{\n            'v': 1.12,\n            'f': \"1.12\",\n        },\n{\n            'v': 2.91,\n            'f': \"2.91\",\n        },\n{\n            'v': 1150.0,\n            'f': \"1150.0\",\n        },\n{\n            'v': 0,\n            'f': \"0\",\n        }],\n [{\n            'v': 51,\n            'f': \"51\",\n        },\n{\n            'v': 13.83,\n            'f': \"13.83\",\n        },\n{\n            'v': 1.65,\n            'f': \"1.65\",\n        },\n{\n            'v': 2.6,\n            'f': \"2.6\",\n        },\n{\n            'v': 17.2,\n            'f': \"17.2\",\n        },\n{\n            'v': 94.0,\n            'f': \"94.0\",\n        },\n{\n            'v': 2.45,\n            'f': \"2.45\",\n        },\n{\n            'v': 2.99,\n            'f': \"2.99\",\n        },\n{\n            'v': 0.22,\n            'f': \"0.22\",\n        },\n{\n            'v': 2.29,\n            'f': \"2.29\",\n        },\n{\n            'v': 5.6,\n            'f': \"5.6\",\n        },\n{\n            'v': 1.24,\n            'f': \"1.24\",\n        },\n{\n            'v': 3.37,\n            'f': \"3.37\",\n        },\n{\n            'v': 1265.0,\n            'f': \"1265.0\",\n        },\n{\n            'v': 0,\n            'f': \"0\",\n        }],\n [{\n            'v': 52,\n            'f': \"52\",\n        },\n{\n            'v': 13.82,\n            'f': \"13.82\",\n        },\n{\n            'v': 1.75,\n            'f': \"1.75\",\n        },\n{\n            'v': 2.42,\n            'f': \"2.42\",\n        },\n{\n            'v': 14.0,\n            'f': \"14.0\",\n        },\n{\n            'v': 111.0,\n            'f': \"111.0\",\n        },\n{\n            'v': 3.88,\n            'f': \"3.88\",\n        },\n{\n            'v': 3.74,\n            'f': \"3.74\",\n        },\n{\n            'v': 0.32,\n            'f': \"0.32\",\n        },\n{\n            'v': 1.87,\n            'f': \"1.87\",\n        },\n{\n            'v': 7.05,\n            'f': \"7.05\",\n        },\n{\n            'v': 1.01,\n            'f': \"1.01\",\n        },\n{\n            'v': 3.26,\n            'f': \"3.26\",\n        },\n{\n            'v': 1190.0,\n            'f': \"1190.0\",\n        },\n{\n            'v': 0,\n            'f': \"0\",\n        }],\n [{\n            'v': 53,\n            'f': \"53\",\n        },\n{\n            'v': 13.77,\n            'f': \"13.77\",\n        },\n{\n            'v': 1.9,\n            'f': \"1.9\",\n        },\n{\n            'v': 2.68,\n            'f': \"2.68\",\n        },\n{\n            'v': 17.1,\n            'f': \"17.1\",\n        },\n{\n            'v': 115.0,\n            'f': \"115.0\",\n        },\n{\n            'v': 3.0,\n            'f': \"3.0\",\n        },\n{\n            'v': 2.79,\n            'f': \"2.79\",\n        },\n{\n            'v': 0.39,\n            'f': \"0.39\",\n        },\n{\n            'v': 1.68,\n            'f': \"1.68\",\n        },\n{\n            'v': 6.3,\n            'f': \"6.3\",\n        },\n{\n            'v': 1.13,\n            'f': \"1.13\",\n        },\n{\n            'v': 2.93,\n            'f': \"2.93\",\n        },\n{\n            'v': 1375.0,\n            'f': \"1375.0\",\n        },\n{\n            'v': 0,\n            'f': \"0\",\n        }],\n [{\n            'v': 54,\n            'f': \"54\",\n        },\n{\n            'v': 13.74,\n            'f': \"13.74\",\n        },\n{\n            'v': 1.67,\n            'f': \"1.67\",\n        },\n{\n            'v': 2.25,\n            'f': \"2.25\",\n        },\n{\n            'v': 16.4,\n            'f': \"16.4\",\n        },\n{\n            'v': 118.0,\n            'f': \"118.0\",\n        },\n{\n            'v': 2.6,\n            'f': \"2.6\",\n        },\n{\n            'v': 2.9,\n            'f': \"2.9\",\n        },\n{\n            'v': 0.21,\n            'f': \"0.21\",\n        },\n{\n            'v': 1.62,\n            'f': \"1.62\",\n        },\n{\n            'v': 5.85,\n            'f': \"5.85\",\n        },\n{\n            'v': 0.92,\n            'f': \"0.92\",\n        },\n{\n            'v': 3.2,\n            'f': \"3.2\",\n        },\n{\n            'v': 1060.0,\n            'f': \"1060.0\",\n        },\n{\n            'v': 0,\n            'f': \"0\",\n        }],\n [{\n            'v': 55,\n            'f': \"55\",\n        },\n{\n            'v': 13.56,\n            'f': \"13.56\",\n        },\n{\n            'v': 1.73,\n            'f': \"1.73\",\n        },\n{\n            'v': 2.46,\n            'f': \"2.46\",\n        },\n{\n            'v': 20.5,\n            'f': \"20.5\",\n        },\n{\n            'v': 116.0,\n            'f': \"116.0\",\n        },\n{\n            'v': 2.96,\n            'f': \"2.96\",\n        },\n{\n            'v': 2.78,\n            'f': \"2.78\",\n        },\n{\n            'v': 0.2,\n            'f': \"0.2\",\n        },\n{\n            'v': 2.45,\n            'f': \"2.45\",\n        },\n{\n            'v': 6.25,\n            'f': \"6.25\",\n        },\n{\n            'v': 0.98,\n            'f': \"0.98\",\n        },\n{\n            'v': 3.03,\n            'f': \"3.03\",\n        },\n{\n            'v': 1120.0,\n            'f': \"1120.0\",\n        },\n{\n            'v': 0,\n            'f': \"0\",\n        }],\n [{\n            'v': 56,\n            'f': \"56\",\n        },\n{\n            'v': 14.22,\n            'f': \"14.22\",\n        },\n{\n            'v': 1.7,\n            'f': \"1.7\",\n        },\n{\n            'v': 2.3,\n            'f': \"2.3\",\n        },\n{\n            'v': 16.3,\n            'f': \"16.3\",\n        },\n{\n            'v': 118.0,\n            'f': \"118.0\",\n        },\n{\n            'v': 3.2,\n            'f': \"3.2\",\n        },\n{\n            'v': 3.0,\n            'f': \"3.0\",\n        },\n{\n            'v': 0.26,\n            'f': \"0.26\",\n        },\n{\n            'v': 2.03,\n            'f': \"2.03\",\n        },\n{\n            'v': 6.38,\n            'f': \"6.38\",\n        },\n{\n            'v': 0.94,\n            'f': \"0.94\",\n        },\n{\n            'v': 3.31,\n            'f': \"3.31\",\n        },\n{\n            'v': 970.0,\n            'f': \"970.0\",\n        },\n{\n            'v': 0,\n            'f': \"0\",\n        }],\n [{\n            'v': 57,\n            'f': \"57\",\n        },\n{\n            'v': 13.29,\n            'f': \"13.29\",\n        },\n{\n            'v': 1.97,\n            'f': \"1.97\",\n        },\n{\n            'v': 2.68,\n            'f': \"2.68\",\n        },\n{\n            'v': 16.8,\n            'f': \"16.8\",\n        },\n{\n            'v': 102.0,\n            'f': \"102.0\",\n        },\n{\n            'v': 3.0,\n            'f': \"3.0\",\n        },\n{\n            'v': 3.23,\n            'f': \"3.23\",\n        },\n{\n            'v': 0.31,\n            'f': \"0.31\",\n        },\n{\n            'v': 1.66,\n            'f': \"1.66\",\n        },\n{\n            'v': 6.0,\n            'f': \"6.0\",\n        },\n{\n            'v': 1.07,\n            'f': \"1.07\",\n        },\n{\n            'v': 2.84,\n            'f': \"2.84\",\n        },\n{\n            'v': 1270.0,\n            'f': \"1270.0\",\n        },\n{\n            'v': 0,\n            'f': \"0\",\n        }],\n [{\n            'v': 58,\n            'f': \"58\",\n        },\n{\n            'v': 13.72,\n            'f': \"13.72\",\n        },\n{\n            'v': 1.43,\n            'f': \"1.43\",\n        },\n{\n            'v': 2.5,\n            'f': \"2.5\",\n        },\n{\n            'v': 16.7,\n            'f': \"16.7\",\n        },\n{\n            'v': 108.0,\n            'f': \"108.0\",\n        },\n{\n            'v': 3.4,\n            'f': \"3.4\",\n        },\n{\n            'v': 3.67,\n            'f': \"3.67\",\n        },\n{\n            'v': 0.19,\n            'f': \"0.19\",\n        },\n{\n            'v': 2.04,\n            'f': \"2.04\",\n        },\n{\n            'v': 6.8,\n            'f': \"6.8\",\n        },\n{\n            'v': 0.89,\n            'f': \"0.89\",\n        },\n{\n            'v': 2.87,\n            'f': \"2.87\",\n        },\n{\n            'v': 1285.0,\n            'f': \"1285.0\",\n        },\n{\n            'v': 0,\n            'f': \"0\",\n        }],\n [{\n            'v': 59,\n            'f': \"59\",\n        },\n{\n            'v': 12.37,\n            'f': \"12.37\",\n        },\n{\n            'v': 0.94,\n            'f': \"0.94\",\n        },\n{\n            'v': 1.36,\n            'f': \"1.36\",\n        },\n{\n            'v': 10.6,\n            'f': \"10.6\",\n        },\n{\n            'v': 88.0,\n            'f': \"88.0\",\n        },\n{\n            'v': 1.98,\n            'f': \"1.98\",\n        },\n{\n            'v': 0.57,\n            'f': \"0.57\",\n        },\n{\n            'v': 0.28,\n            'f': \"0.28\",\n        },\n{\n            'v': 0.42,\n            'f': \"0.42\",\n        },\n{\n            'v': 1.95,\n            'f': \"1.95\",\n        },\n{\n            'v': 1.05,\n            'f': \"1.05\",\n        },\n{\n            'v': 1.82,\n            'f': \"1.82\",\n        },\n{\n            'v': 520.0,\n            'f': \"520.0\",\n        },\n{\n            'v': 1,\n            'f': \"1\",\n        }],\n [{\n            'v': 60,\n            'f': \"60\",\n        },\n{\n            'v': 12.33,\n            'f': \"12.33\",\n        },\n{\n            'v': 1.1,\n            'f': \"1.1\",\n        },\n{\n            'v': 2.28,\n            'f': \"2.28\",\n        },\n{\n            'v': 16.0,\n            'f': \"16.0\",\n        },\n{\n            'v': 101.0,\n            'f': \"101.0\",\n        },\n{\n            'v': 2.05,\n            'f': \"2.05\",\n        },\n{\n            'v': 1.09,\n            'f': \"1.09\",\n        },\n{\n            'v': 0.63,\n            'f': \"0.63\",\n        },\n{\n            'v': 0.41,\n            'f': \"0.41\",\n        },\n{\n            'v': 3.27,\n            'f': \"3.27\",\n        },\n{\n            'v': 1.25,\n            'f': \"1.25\",\n        },\n{\n            'v': 1.67,\n            'f': \"1.67\",\n        },\n{\n            'v': 680.0,\n            'f': \"680.0\",\n        },\n{\n            'v': 1,\n            'f': \"1\",\n        }],\n [{\n            'v': 61,\n            'f': \"61\",\n        },\n{\n            'v': 12.64,\n            'f': \"12.64\",\n        },\n{\n            'v': 1.36,\n            'f': \"1.36\",\n        },\n{\n            'v': 2.02,\n            'f': \"2.02\",\n        },\n{\n            'v': 16.8,\n            'f': \"16.8\",\n        },\n{\n            'v': 100.0,\n            'f': \"100.0\",\n        },\n{\n            'v': 2.02,\n            'f': \"2.02\",\n        },\n{\n            'v': 1.41,\n            'f': \"1.41\",\n        },\n{\n            'v': 0.53,\n            'f': \"0.53\",\n        },\n{\n            'v': 0.62,\n            'f': \"0.62\",\n        },\n{\n            'v': 5.75,\n            'f': \"5.75\",\n        },\n{\n            'v': 0.98,\n            'f': \"0.98\",\n        },\n{\n            'v': 1.59,\n            'f': \"1.59\",\n        },\n{\n            'v': 450.0,\n            'f': \"450.0\",\n        },\n{\n            'v': 1,\n            'f': \"1\",\n        }],\n [{\n            'v': 62,\n            'f': \"62\",\n        },\n{\n            'v': 13.67,\n            'f': \"13.67\",\n        },\n{\n            'v': 1.25,\n            'f': \"1.25\",\n        },\n{\n            'v': 1.92,\n            'f': \"1.92\",\n        },\n{\n            'v': 18.0,\n            'f': \"18.0\",\n        },\n{\n            'v': 94.0,\n            'f': \"94.0\",\n        },\n{\n            'v': 2.1,\n            'f': \"2.1\",\n        },\n{\n            'v': 1.79,\n            'f': \"1.79\",\n        },\n{\n            'v': 0.32,\n            'f': \"0.32\",\n        },\n{\n            'v': 0.73,\n            'f': \"0.73\",\n        },\n{\n            'v': 3.8,\n            'f': \"3.8\",\n        },\n{\n            'v': 1.23,\n            'f': \"1.23\",\n        },\n{\n            'v': 2.46,\n            'f': \"2.46\",\n        },\n{\n            'v': 630.0,\n            'f': \"630.0\",\n        },\n{\n            'v': 1,\n            'f': \"1\",\n        }],\n [{\n            'v': 63,\n            'f': \"63\",\n        },\n{\n            'v': 12.37,\n            'f': \"12.37\",\n        },\n{\n            'v': 1.13,\n            'f': \"1.13\",\n        },\n{\n            'v': 2.16,\n            'f': \"2.16\",\n        },\n{\n            'v': 19.0,\n            'f': \"19.0\",\n        },\n{\n            'v': 87.0,\n            'f': \"87.0\",\n        },\n{\n            'v': 3.5,\n            'f': \"3.5\",\n        },\n{\n            'v': 3.1,\n            'f': \"3.1\",\n        },\n{\n            'v': 0.19,\n            'f': \"0.19\",\n        },\n{\n            'v': 1.87,\n            'f': \"1.87\",\n        },\n{\n            'v': 4.45,\n            'f': \"4.45\",\n        },\n{\n            'v': 1.22,\n            'f': \"1.22\",\n        },\n{\n            'v': 2.87,\n            'f': \"2.87\",\n        },\n{\n            'v': 420.0,\n            'f': \"420.0\",\n        },\n{\n            'v': 1,\n            'f': \"1\",\n        }],\n [{\n            'v': 64,\n            'f': \"64\",\n        },\n{\n            'v': 12.17,\n            'f': \"12.17\",\n        },\n{\n            'v': 1.45,\n            'f': \"1.45\",\n        },\n{\n            'v': 2.53,\n            'f': \"2.53\",\n        },\n{\n            'v': 19.0,\n            'f': \"19.0\",\n        },\n{\n            'v': 104.0,\n            'f': \"104.0\",\n        },\n{\n            'v': 1.89,\n            'f': \"1.89\",\n        },\n{\n            'v': 1.75,\n            'f': \"1.75\",\n        },\n{\n            'v': 0.45,\n            'f': \"0.45\",\n        },\n{\n            'v': 1.03,\n            'f': \"1.03\",\n        },\n{\n            'v': 2.95,\n            'f': \"2.95\",\n        },\n{\n            'v': 1.45,\n            'f': \"1.45\",\n        },\n{\n            'v': 2.23,\n            'f': \"2.23\",\n        },\n{\n            'v': 355.0,\n            'f': \"355.0\",\n        },\n{\n            'v': 1,\n            'f': \"1\",\n        }],\n [{\n            'v': 65,\n            'f': \"65\",\n        },\n{\n            'v': 12.37,\n            'f': \"12.37\",\n        },\n{\n            'v': 1.21,\n            'f': \"1.21\",\n        },\n{\n            'v': 2.56,\n            'f': \"2.56\",\n        },\n{\n            'v': 18.1,\n            'f': \"18.1\",\n        },\n{\n            'v': 98.0,\n            'f': \"98.0\",\n        },\n{\n            'v': 2.42,\n            'f': \"2.42\",\n        },\n{\n            'v': 2.65,\n            'f': \"2.65\",\n        },\n{\n            'v': 0.37,\n            'f': \"0.37\",\n        },\n{\n            'v': 2.08,\n            'f': \"2.08\",\n        },\n{\n            'v': 4.6,\n            'f': \"4.6\",\n        },\n{\n            'v': 1.19,\n            'f': \"1.19\",\n        },\n{\n            'v': 2.3,\n            'f': \"2.3\",\n        },\n{\n            'v': 678.0,\n            'f': \"678.0\",\n        },\n{\n            'v': 1,\n            'f': \"1\",\n        }],\n [{\n            'v': 66,\n            'f': \"66\",\n        },\n{\n            'v': 13.11,\n            'f': \"13.11\",\n        },\n{\n            'v': 1.01,\n            'f': \"1.01\",\n        },\n{\n            'v': 1.7,\n            'f': \"1.7\",\n        },\n{\n            'v': 15.0,\n            'f': \"15.0\",\n        },\n{\n            'v': 78.0,\n            'f': \"78.0\",\n        },\n{\n            'v': 2.98,\n            'f': \"2.98\",\n        },\n{\n            'v': 3.18,\n            'f': \"3.18\",\n        },\n{\n            'v': 0.26,\n            'f': \"0.26\",\n        },\n{\n            'v': 2.28,\n            'f': \"2.28\",\n        },\n{\n            'v': 5.3,\n            'f': \"5.3\",\n        },\n{\n            'v': 1.12,\n            'f': \"1.12\",\n        },\n{\n            'v': 3.18,\n            'f': \"3.18\",\n        },\n{\n            'v': 502.0,\n            'f': \"502.0\",\n        },\n{\n            'v': 1,\n            'f': \"1\",\n        }],\n [{\n            'v': 67,\n            'f': \"67\",\n        },\n{\n            'v': 12.37,\n            'f': \"12.37\",\n        },\n{\n            'v': 1.17,\n            'f': \"1.17\",\n        },\n{\n            'v': 1.92,\n            'f': \"1.92\",\n        },\n{\n            'v': 19.6,\n            'f': \"19.6\",\n        },\n{\n            'v': 78.0,\n            'f': \"78.0\",\n        },\n{\n            'v': 2.11,\n            'f': \"2.11\",\n        },\n{\n            'v': 2.0,\n            'f': \"2.0\",\n        },\n{\n            'v': 0.27,\n            'f': \"0.27\",\n        },\n{\n            'v': 1.04,\n            'f': \"1.04\",\n        },\n{\n            'v': 4.68,\n            'f': \"4.68\",\n        },\n{\n            'v': 1.12,\n            'f': \"1.12\",\n        },\n{\n            'v': 3.48,\n            'f': \"3.48\",\n        },\n{\n            'v': 510.0,\n            'f': \"510.0\",\n        },\n{\n            'v': 1,\n            'f': \"1\",\n        }],\n [{\n            'v': 68,\n            'f': \"68\",\n        },\n{\n            'v': 13.34,\n            'f': \"13.34\",\n        },\n{\n            'v': 0.94,\n            'f': \"0.94\",\n        },\n{\n            'v': 2.36,\n            'f': \"2.36\",\n        },\n{\n            'v': 17.0,\n            'f': \"17.0\",\n        },\n{\n            'v': 110.0,\n            'f': \"110.0\",\n        },\n{\n            'v': 2.53,\n            'f': \"2.53\",\n        },\n{\n            'v': 1.3,\n            'f': \"1.3\",\n        },\n{\n            'v': 0.55,\n            'f': \"0.55\",\n        },\n{\n            'v': 0.42,\n            'f': \"0.42\",\n        },\n{\n            'v': 3.17,\n            'f': \"3.17\",\n        },\n{\n            'v': 1.02,\n            'f': \"1.02\",\n        },\n{\n            'v': 1.93,\n            'f': \"1.93\",\n        },\n{\n            'v': 750.0,\n            'f': \"750.0\",\n        },\n{\n            'v': 1,\n            'f': \"1\",\n        }],\n [{\n            'v': 69,\n            'f': \"69\",\n        },\n{\n            'v': 12.21,\n            'f': \"12.21\",\n        },\n{\n            'v': 1.19,\n            'f': \"1.19\",\n        },\n{\n            'v': 1.75,\n            'f': \"1.75\",\n        },\n{\n            'v': 16.8,\n            'f': \"16.8\",\n        },\n{\n            'v': 151.0,\n            'f': \"151.0\",\n        },\n{\n            'v': 1.85,\n            'f': \"1.85\",\n        },\n{\n            'v': 1.28,\n            'f': \"1.28\",\n        },\n{\n            'v': 0.14,\n            'f': \"0.14\",\n        },\n{\n            'v': 2.5,\n            'f': \"2.5\",\n        },\n{\n            'v': 2.85,\n            'f': \"2.85\",\n        },\n{\n            'v': 1.28,\n            'f': \"1.28\",\n        },\n{\n            'v': 3.07,\n            'f': \"3.07\",\n        },\n{\n            'v': 718.0,\n            'f': \"718.0\",\n        },\n{\n            'v': 1,\n            'f': \"1\",\n        }],\n [{\n            'v': 70,\n            'f': \"70\",\n        },\n{\n            'v': 12.29,\n            'f': \"12.29\",\n        },\n{\n            'v': 1.61,\n            'f': \"1.61\",\n        },\n{\n            'v': 2.21,\n            'f': \"2.21\",\n        },\n{\n            'v': 20.4,\n            'f': \"20.4\",\n        },\n{\n            'v': 103.0,\n            'f': \"103.0\",\n        },\n{\n            'v': 1.1,\n            'f': \"1.1\",\n        },\n{\n            'v': 1.02,\n            'f': \"1.02\",\n        },\n{\n            'v': 0.37,\n            'f': \"0.37\",\n        },\n{\n            'v': 1.46,\n            'f': \"1.46\",\n        },\n{\n            'v': 3.05,\n            'f': \"3.05\",\n        },\n{\n            'v': 0.906,\n            'f': \"0.906\",\n        },\n{\n            'v': 1.82,\n            'f': \"1.82\",\n        },\n{\n            'v': 870.0,\n            'f': \"870.0\",\n        },\n{\n            'v': 1,\n            'f': \"1\",\n        }],\n [{\n            'v': 71,\n            'f': \"71\",\n        },\n{\n            'v': 13.86,\n            'f': \"13.86\",\n        },\n{\n            'v': 1.51,\n            'f': \"1.51\",\n        },\n{\n            'v': 2.67,\n            'f': \"2.67\",\n        },\n{\n            'v': 25.0,\n            'f': \"25.0\",\n        },\n{\n            'v': 86.0,\n            'f': \"86.0\",\n        },\n{\n            'v': 2.95,\n            'f': \"2.95\",\n        },\n{\n            'v': 2.86,\n            'f': \"2.86\",\n        },\n{\n            'v': 0.21,\n            'f': \"0.21\",\n        },\n{\n            'v': 1.87,\n            'f': \"1.87\",\n        },\n{\n            'v': 3.38,\n            'f': \"3.38\",\n        },\n{\n            'v': 1.36,\n            'f': \"1.36\",\n        },\n{\n            'v': 3.16,\n            'f': \"3.16\",\n        },\n{\n            'v': 410.0,\n            'f': \"410.0\",\n        },\n{\n            'v': 1,\n            'f': \"1\",\n        }],\n [{\n            'v': 72,\n            'f': \"72\",\n        },\n{\n            'v': 13.49,\n            'f': \"13.49\",\n        },\n{\n            'v': 1.66,\n            'f': \"1.66\",\n        },\n{\n            'v': 2.24,\n            'f': \"2.24\",\n        },\n{\n            'v': 24.0,\n            'f': \"24.0\",\n        },\n{\n            'v': 87.0,\n            'f': \"87.0\",\n        },\n{\n            'v': 1.88,\n            'f': \"1.88\",\n        },\n{\n            'v': 1.84,\n            'f': \"1.84\",\n        },\n{\n            'v': 0.27,\n            'f': \"0.27\",\n        },\n{\n            'v': 1.03,\n            'f': \"1.03\",\n        },\n{\n            'v': 3.74,\n            'f': \"3.74\",\n        },\n{\n            'v': 0.98,\n            'f': \"0.98\",\n        },\n{\n            'v': 2.78,\n            'f': \"2.78\",\n        },\n{\n            'v': 472.0,\n            'f': \"472.0\",\n        },\n{\n            'v': 1,\n            'f': \"1\",\n        }],\n [{\n            'v': 73,\n            'f': \"73\",\n        },\n{\n            'v': 12.99,\n            'f': \"12.99\",\n        },\n{\n            'v': 1.67,\n            'f': \"1.67\",\n        },\n{\n            'v': 2.6,\n            'f': \"2.6\",\n        },\n{\n            'v': 30.0,\n            'f': \"30.0\",\n        },\n{\n            'v': 139.0,\n            'f': \"139.0\",\n        },\n{\n            'v': 3.3,\n            'f': \"3.3\",\n        },\n{\n            'v': 2.89,\n            'f': \"2.89\",\n        },\n{\n            'v': 0.21,\n            'f': \"0.21\",\n        },\n{\n            'v': 1.96,\n            'f': \"1.96\",\n        },\n{\n            'v': 3.35,\n            'f': \"3.35\",\n        },\n{\n            'v': 1.31,\n            'f': \"1.31\",\n        },\n{\n            'v': 3.5,\n            'f': \"3.5\",\n        },\n{\n            'v': 985.0,\n            'f': \"985.0\",\n        },\n{\n            'v': 1,\n            'f': \"1\",\n        }],\n [{\n            'v': 74,\n            'f': \"74\",\n        },\n{\n            'v': 11.96,\n            'f': \"11.96\",\n        },\n{\n            'v': 1.09,\n            'f': \"1.09\",\n        },\n{\n            'v': 2.3,\n            'f': \"2.3\",\n        },\n{\n            'v': 21.0,\n            'f': \"21.0\",\n        },\n{\n            'v': 101.0,\n            'f': \"101.0\",\n        },\n{\n            'v': 3.38,\n            'f': \"3.38\",\n        },\n{\n            'v': 2.14,\n            'f': \"2.14\",\n        },\n{\n            'v': 0.13,\n            'f': \"0.13\",\n        },\n{\n            'v': 1.65,\n            'f': \"1.65\",\n        },\n{\n            'v': 3.21,\n            'f': \"3.21\",\n        },\n{\n            'v': 0.99,\n            'f': \"0.99\",\n        },\n{\n            'v': 3.13,\n            'f': \"3.13\",\n        },\n{\n            'v': 886.0,\n            'f': \"886.0\",\n        },\n{\n            'v': 1,\n            'f': \"1\",\n        }],\n [{\n            'v': 75,\n            'f': \"75\",\n        },\n{\n            'v': 11.66,\n            'f': \"11.66\",\n        },\n{\n            'v': 1.88,\n            'f': \"1.88\",\n        },\n{\n            'v': 1.92,\n            'f': \"1.92\",\n        },\n{\n            'v': 16.0,\n            'f': \"16.0\",\n        },\n{\n            'v': 97.0,\n            'f': \"97.0\",\n        },\n{\n            'v': 1.61,\n            'f': \"1.61\",\n        },\n{\n            'v': 1.57,\n            'f': \"1.57\",\n        },\n{\n            'v': 0.34,\n            'f': \"0.34\",\n        },\n{\n            'v': 1.15,\n            'f': \"1.15\",\n        },\n{\n            'v': 3.8,\n            'f': \"3.8\",\n        },\n{\n            'v': 1.23,\n            'f': \"1.23\",\n        },\n{\n            'v': 2.14,\n            'f': \"2.14\",\n        },\n{\n            'v': 428.0,\n            'f': \"428.0\",\n        },\n{\n            'v': 1,\n            'f': \"1\",\n        }],\n [{\n            'v': 76,\n            'f': \"76\",\n        },\n{\n            'v': 13.03,\n            'f': \"13.03\",\n        },\n{\n            'v': 0.9,\n            'f': \"0.9\",\n        },\n{\n            'v': 1.71,\n            'f': \"1.71\",\n        },\n{\n            'v': 16.0,\n            'f': \"16.0\",\n        },\n{\n            'v': 86.0,\n            'f': \"86.0\",\n        },\n{\n            'v': 1.95,\n            'f': \"1.95\",\n        },\n{\n            'v': 2.03,\n            'f': \"2.03\",\n        },\n{\n            'v': 0.24,\n            'f': \"0.24\",\n        },\n{\n            'v': 1.46,\n            'f': \"1.46\",\n        },\n{\n            'v': 4.6,\n            'f': \"4.6\",\n        },\n{\n            'v': 1.19,\n            'f': \"1.19\",\n        },\n{\n            'v': 2.48,\n            'f': \"2.48\",\n        },\n{\n            'v': 392.0,\n            'f': \"392.0\",\n        },\n{\n            'v': 1,\n            'f': \"1\",\n        }],\n [{\n            'v': 77,\n            'f': \"77\",\n        },\n{\n            'v': 11.84,\n            'f': \"11.84\",\n        },\n{\n            'v': 2.89,\n            'f': \"2.89\",\n        },\n{\n            'v': 2.23,\n            'f': \"2.23\",\n        },\n{\n            'v': 18.0,\n            'f': \"18.0\",\n        },\n{\n            'v': 112.0,\n            'f': \"112.0\",\n        },\n{\n            'v': 1.72,\n            'f': \"1.72\",\n        },\n{\n            'v': 1.32,\n            'f': \"1.32\",\n        },\n{\n            'v': 0.43,\n            'f': \"0.43\",\n        },\n{\n            'v': 0.95,\n            'f': \"0.95\",\n        },\n{\n            'v': 2.65,\n            'f': \"2.65\",\n        },\n{\n            'v': 0.96,\n            'f': \"0.96\",\n        },\n{\n            'v': 2.52,\n            'f': \"2.52\",\n        },\n{\n            'v': 500.0,\n            'f': \"500.0\",\n        },\n{\n            'v': 1,\n            'f': \"1\",\n        }],\n [{\n            'v': 78,\n            'f': \"78\",\n        },\n{\n            'v': 12.33,\n            'f': \"12.33\",\n        },\n{\n            'v': 0.99,\n            'f': \"0.99\",\n        },\n{\n            'v': 1.95,\n            'f': \"1.95\",\n        },\n{\n            'v': 14.8,\n            'f': \"14.8\",\n        },\n{\n            'v': 136.0,\n            'f': \"136.0\",\n        },\n{\n            'v': 1.9,\n            'f': \"1.9\",\n        },\n{\n            'v': 1.85,\n            'f': \"1.85\",\n        },\n{\n            'v': 0.35,\n            'f': \"0.35\",\n        },\n{\n            'v': 2.76,\n            'f': \"2.76\",\n        },\n{\n            'v': 3.4,\n            'f': \"3.4\",\n        },\n{\n            'v': 1.06,\n            'f': \"1.06\",\n        },\n{\n            'v': 2.31,\n            'f': \"2.31\",\n        },\n{\n            'v': 750.0,\n            'f': \"750.0\",\n        },\n{\n            'v': 1,\n            'f': \"1\",\n        }],\n [{\n            'v': 79,\n            'f': \"79\",\n        },\n{\n            'v': 12.7,\n            'f': \"12.7\",\n        },\n{\n            'v': 3.87,\n            'f': \"3.87\",\n        },\n{\n            'v': 2.4,\n            'f': \"2.4\",\n        },\n{\n            'v': 23.0,\n            'f': \"23.0\",\n        },\n{\n            'v': 101.0,\n            'f': \"101.0\",\n        },\n{\n            'v': 2.83,\n            'f': \"2.83\",\n        },\n{\n            'v': 2.55,\n            'f': \"2.55\",\n        },\n{\n            'v': 0.43,\n            'f': \"0.43\",\n        },\n{\n            'v': 1.95,\n            'f': \"1.95\",\n        },\n{\n            'v': 2.57,\n            'f': \"2.57\",\n        },\n{\n            'v': 1.19,\n            'f': \"1.19\",\n        },\n{\n            'v': 3.13,\n            'f': \"3.13\",\n        },\n{\n            'v': 463.0,\n            'f': \"463.0\",\n        },\n{\n            'v': 1,\n            'f': \"1\",\n        }],\n [{\n            'v': 80,\n            'f': \"80\",\n        },\n{\n            'v': 12.0,\n            'f': \"12.0\",\n        },\n{\n            'v': 0.92,\n            'f': \"0.92\",\n        },\n{\n            'v': 2.0,\n            'f': \"2.0\",\n        },\n{\n            'v': 19.0,\n            'f': \"19.0\",\n        },\n{\n            'v': 86.0,\n            'f': \"86.0\",\n        },\n{\n            'v': 2.42,\n            'f': \"2.42\",\n        },\n{\n            'v': 2.26,\n            'f': \"2.26\",\n        },\n{\n            'v': 0.3,\n            'f': \"0.3\",\n        },\n{\n            'v': 1.43,\n            'f': \"1.43\",\n        },\n{\n            'v': 2.5,\n            'f': \"2.5\",\n        },\n{\n            'v': 1.38,\n            'f': \"1.38\",\n        },\n{\n            'v': 3.12,\n            'f': \"3.12\",\n        },\n{\n            'v': 278.0,\n            'f': \"278.0\",\n        },\n{\n            'v': 1,\n            'f': \"1\",\n        }],\n [{\n            'v': 81,\n            'f': \"81\",\n        },\n{\n            'v': 12.72,\n            'f': \"12.72\",\n        },\n{\n            'v': 1.81,\n            'f': \"1.81\",\n        },\n{\n            'v': 2.2,\n            'f': \"2.2\",\n        },\n{\n            'v': 18.8,\n            'f': \"18.8\",\n        },\n{\n            'v': 86.0,\n            'f': \"86.0\",\n        },\n{\n            'v': 2.2,\n            'f': \"2.2\",\n        },\n{\n            'v': 2.53,\n            'f': \"2.53\",\n        },\n{\n            'v': 0.26,\n            'f': \"0.26\",\n        },\n{\n            'v': 1.77,\n            'f': \"1.77\",\n        },\n{\n            'v': 3.9,\n            'f': \"3.9\",\n        },\n{\n            'v': 1.16,\n            'f': \"1.16\",\n        },\n{\n            'v': 3.14,\n            'f': \"3.14\",\n        },\n{\n            'v': 714.0,\n            'f': \"714.0\",\n        },\n{\n            'v': 1,\n            'f': \"1\",\n        }],\n [{\n            'v': 82,\n            'f': \"82\",\n        },\n{\n            'v': 12.08,\n            'f': \"12.08\",\n        },\n{\n            'v': 1.13,\n            'f': \"1.13\",\n        },\n{\n            'v': 2.51,\n            'f': \"2.51\",\n        },\n{\n            'v': 24.0,\n            'f': \"24.0\",\n        },\n{\n            'v': 78.0,\n            'f': \"78.0\",\n        },\n{\n            'v': 2.0,\n            'f': \"2.0\",\n        },\n{\n            'v': 1.58,\n            'f': \"1.58\",\n        },\n{\n            'v': 0.4,\n            'f': \"0.4\",\n        },\n{\n            'v': 1.4,\n            'f': \"1.4\",\n        },\n{\n            'v': 2.2,\n            'f': \"2.2\",\n        },\n{\n            'v': 1.31,\n            'f': \"1.31\",\n        },\n{\n            'v': 2.72,\n            'f': \"2.72\",\n        },\n{\n            'v': 630.0,\n            'f': \"630.0\",\n        },\n{\n            'v': 1,\n            'f': \"1\",\n        }],\n [{\n            'v': 83,\n            'f': \"83\",\n        },\n{\n            'v': 13.05,\n            'f': \"13.05\",\n        },\n{\n            'v': 3.86,\n            'f': \"3.86\",\n        },\n{\n            'v': 2.32,\n            'f': \"2.32\",\n        },\n{\n            'v': 22.5,\n            'f': \"22.5\",\n        },\n{\n            'v': 85.0,\n            'f': \"85.0\",\n        },\n{\n            'v': 1.65,\n            'f': \"1.65\",\n        },\n{\n            'v': 1.59,\n            'f': \"1.59\",\n        },\n{\n            'v': 0.61,\n            'f': \"0.61\",\n        },\n{\n            'v': 1.62,\n            'f': \"1.62\",\n        },\n{\n            'v': 4.8,\n            'f': \"4.8\",\n        },\n{\n            'v': 0.84,\n            'f': \"0.84\",\n        },\n{\n            'v': 2.01,\n            'f': \"2.01\",\n        },\n{\n            'v': 515.0,\n            'f': \"515.0\",\n        },\n{\n            'v': 1,\n            'f': \"1\",\n        }],\n [{\n            'v': 84,\n            'f': \"84\",\n        },\n{\n            'v': 11.84,\n            'f': \"11.84\",\n        },\n{\n            'v': 0.89,\n            'f': \"0.89\",\n        },\n{\n            'v': 2.58,\n            'f': \"2.58\",\n        },\n{\n            'v': 18.0,\n            'f': \"18.0\",\n        },\n{\n            'v': 94.0,\n            'f': \"94.0\",\n        },\n{\n            'v': 2.2,\n            'f': \"2.2\",\n        },\n{\n            'v': 2.21,\n            'f': \"2.21\",\n        },\n{\n            'v': 0.22,\n            'f': \"0.22\",\n        },\n{\n            'v': 2.35,\n            'f': \"2.35\",\n        },\n{\n            'v': 3.05,\n            'f': \"3.05\",\n        },\n{\n            'v': 0.79,\n            'f': \"0.79\",\n        },\n{\n            'v': 3.08,\n            'f': \"3.08\",\n        },\n{\n            'v': 520.0,\n            'f': \"520.0\",\n        },\n{\n            'v': 1,\n            'f': \"1\",\n        }],\n [{\n            'v': 85,\n            'f': \"85\",\n        },\n{\n            'v': 12.67,\n            'f': \"12.67\",\n        },\n{\n            'v': 0.98,\n            'f': \"0.98\",\n        },\n{\n            'v': 2.24,\n            'f': \"2.24\",\n        },\n{\n            'v': 18.0,\n            'f': \"18.0\",\n        },\n{\n            'v': 99.0,\n            'f': \"99.0\",\n        },\n{\n            'v': 2.2,\n            'f': \"2.2\",\n        },\n{\n            'v': 1.94,\n            'f': \"1.94\",\n        },\n{\n            'v': 0.3,\n            'f': \"0.3\",\n        },\n{\n            'v': 1.46,\n            'f': \"1.46\",\n        },\n{\n            'v': 2.62,\n            'f': \"2.62\",\n        },\n{\n            'v': 1.23,\n            'f': \"1.23\",\n        },\n{\n            'v': 3.16,\n            'f': \"3.16\",\n        },\n{\n            'v': 450.0,\n            'f': \"450.0\",\n        },\n{\n            'v': 1,\n            'f': \"1\",\n        }],\n [{\n            'v': 86,\n            'f': \"86\",\n        },\n{\n            'v': 12.16,\n            'f': \"12.16\",\n        },\n{\n            'v': 1.61,\n            'f': \"1.61\",\n        },\n{\n            'v': 2.31,\n            'f': \"2.31\",\n        },\n{\n            'v': 22.8,\n            'f': \"22.8\",\n        },\n{\n            'v': 90.0,\n            'f': \"90.0\",\n        },\n{\n            'v': 1.78,\n            'f': \"1.78\",\n        },\n{\n            'v': 1.69,\n            'f': \"1.69\",\n        },\n{\n            'v': 0.43,\n            'f': \"0.43\",\n        },\n{\n            'v': 1.56,\n            'f': \"1.56\",\n        },\n{\n            'v': 2.45,\n            'f': \"2.45\",\n        },\n{\n            'v': 1.33,\n            'f': \"1.33\",\n        },\n{\n            'v': 2.26,\n            'f': \"2.26\",\n        },\n{\n            'v': 495.0,\n            'f': \"495.0\",\n        },\n{\n            'v': 1,\n            'f': \"1\",\n        }],\n [{\n            'v': 87,\n            'f': \"87\",\n        },\n{\n            'v': 11.65,\n            'f': \"11.65\",\n        },\n{\n            'v': 1.67,\n            'f': \"1.67\",\n        },\n{\n            'v': 2.62,\n            'f': \"2.62\",\n        },\n{\n            'v': 26.0,\n            'f': \"26.0\",\n        },\n{\n            'v': 88.0,\n            'f': \"88.0\",\n        },\n{\n            'v': 1.92,\n            'f': \"1.92\",\n        },\n{\n            'v': 1.61,\n            'f': \"1.61\",\n        },\n{\n            'v': 0.4,\n            'f': \"0.4\",\n        },\n{\n            'v': 1.34,\n            'f': \"1.34\",\n        },\n{\n            'v': 2.6,\n            'f': \"2.6\",\n        },\n{\n            'v': 1.36,\n            'f': \"1.36\",\n        },\n{\n            'v': 3.21,\n            'f': \"3.21\",\n        },\n{\n            'v': 562.0,\n            'f': \"562.0\",\n        },\n{\n            'v': 1,\n            'f': \"1\",\n        }],\n [{\n            'v': 88,\n            'f': \"88\",\n        },\n{\n            'v': 11.64,\n            'f': \"11.64\",\n        },\n{\n            'v': 2.06,\n            'f': \"2.06\",\n        },\n{\n            'v': 2.46,\n            'f': \"2.46\",\n        },\n{\n            'v': 21.6,\n            'f': \"21.6\",\n        },\n{\n            'v': 84.0,\n            'f': \"84.0\",\n        },\n{\n            'v': 1.95,\n            'f': \"1.95\",\n        },\n{\n            'v': 1.69,\n            'f': \"1.69\",\n        },\n{\n            'v': 0.48,\n            'f': \"0.48\",\n        },\n{\n            'v': 1.35,\n            'f': \"1.35\",\n        },\n{\n            'v': 2.8,\n            'f': \"2.8\",\n        },\n{\n            'v': 1.0,\n            'f': \"1.0\",\n        },\n{\n            'v': 2.75,\n            'f': \"2.75\",\n        },\n{\n            'v': 680.0,\n            'f': \"680.0\",\n        },\n{\n            'v': 1,\n            'f': \"1\",\n        }],\n [{\n            'v': 89,\n            'f': \"89\",\n        },\n{\n            'v': 12.08,\n            'f': \"12.08\",\n        },\n{\n            'v': 1.33,\n            'f': \"1.33\",\n        },\n{\n            'v': 2.3,\n            'f': \"2.3\",\n        },\n{\n            'v': 23.6,\n            'f': \"23.6\",\n        },\n{\n            'v': 70.0,\n            'f': \"70.0\",\n        },\n{\n            'v': 2.2,\n            'f': \"2.2\",\n        },\n{\n            'v': 1.59,\n            'f': \"1.59\",\n        },\n{\n            'v': 0.42,\n            'f': \"0.42\",\n        },\n{\n            'v': 1.38,\n            'f': \"1.38\",\n        },\n{\n            'v': 1.74,\n            'f': \"1.74\",\n        },\n{\n            'v': 1.07,\n            'f': \"1.07\",\n        },\n{\n            'v': 3.21,\n            'f': \"3.21\",\n        },\n{\n            'v': 625.0,\n            'f': \"625.0\",\n        },\n{\n            'v': 1,\n            'f': \"1\",\n        }],\n [{\n            'v': 90,\n            'f': \"90\",\n        },\n{\n            'v': 12.08,\n            'f': \"12.08\",\n        },\n{\n            'v': 1.83,\n            'f': \"1.83\",\n        },\n{\n            'v': 2.32,\n            'f': \"2.32\",\n        },\n{\n            'v': 18.5,\n            'f': \"18.5\",\n        },\n{\n            'v': 81.0,\n            'f': \"81.0\",\n        },\n{\n            'v': 1.6,\n            'f': \"1.6\",\n        },\n{\n            'v': 1.5,\n            'f': \"1.5\",\n        },\n{\n            'v': 0.52,\n            'f': \"0.52\",\n        },\n{\n            'v': 1.64,\n            'f': \"1.64\",\n        },\n{\n            'v': 2.4,\n            'f': \"2.4\",\n        },\n{\n            'v': 1.08,\n            'f': \"1.08\",\n        },\n{\n            'v': 2.27,\n            'f': \"2.27\",\n        },\n{\n            'v': 480.0,\n            'f': \"480.0\",\n        },\n{\n            'v': 1,\n            'f': \"1\",\n        }],\n [{\n            'v': 91,\n            'f': \"91\",\n        },\n{\n            'v': 12.0,\n            'f': \"12.0\",\n        },\n{\n            'v': 1.51,\n            'f': \"1.51\",\n        },\n{\n            'v': 2.42,\n            'f': \"2.42\",\n        },\n{\n            'v': 22.0,\n            'f': \"22.0\",\n        },\n{\n            'v': 86.0,\n            'f': \"86.0\",\n        },\n{\n            'v': 1.45,\n            'f': \"1.45\",\n        },\n{\n            'v': 1.25,\n            'f': \"1.25\",\n        },\n{\n            'v': 0.5,\n            'f': \"0.5\",\n        },\n{\n            'v': 1.63,\n            'f': \"1.63\",\n        },\n{\n            'v': 3.6,\n            'f': \"3.6\",\n        },\n{\n            'v': 1.05,\n            'f': \"1.05\",\n        },\n{\n            'v': 2.65,\n            'f': \"2.65\",\n        },\n{\n            'v': 450.0,\n            'f': \"450.0\",\n        },\n{\n            'v': 1,\n            'f': \"1\",\n        }],\n [{\n            'v': 92,\n            'f': \"92\",\n        },\n{\n            'v': 12.69,\n            'f': \"12.69\",\n        },\n{\n            'v': 1.53,\n            'f': \"1.53\",\n        },\n{\n            'v': 2.26,\n            'f': \"2.26\",\n        },\n{\n            'v': 20.7,\n            'f': \"20.7\",\n        },\n{\n            'v': 80.0,\n            'f': \"80.0\",\n        },\n{\n            'v': 1.38,\n            'f': \"1.38\",\n        },\n{\n            'v': 1.46,\n            'f': \"1.46\",\n        },\n{\n            'v': 0.58,\n            'f': \"0.58\",\n        },\n{\n            'v': 1.62,\n            'f': \"1.62\",\n        },\n{\n            'v': 3.05,\n            'f': \"3.05\",\n        },\n{\n            'v': 0.96,\n            'f': \"0.96\",\n        },\n{\n            'v': 2.06,\n            'f': \"2.06\",\n        },\n{\n            'v': 495.0,\n            'f': \"495.0\",\n        },\n{\n            'v': 1,\n            'f': \"1\",\n        }],\n [{\n            'v': 93,\n            'f': \"93\",\n        },\n{\n            'v': 12.29,\n            'f': \"12.29\",\n        },\n{\n            'v': 2.83,\n            'f': \"2.83\",\n        },\n{\n            'v': 2.22,\n            'f': \"2.22\",\n        },\n{\n            'v': 18.0,\n            'f': \"18.0\",\n        },\n{\n            'v': 88.0,\n            'f': \"88.0\",\n        },\n{\n            'v': 2.45,\n            'f': \"2.45\",\n        },\n{\n            'v': 2.25,\n            'f': \"2.25\",\n        },\n{\n            'v': 0.25,\n            'f': \"0.25\",\n        },\n{\n            'v': 1.99,\n            'f': \"1.99\",\n        },\n{\n            'v': 2.15,\n            'f': \"2.15\",\n        },\n{\n            'v': 1.15,\n            'f': \"1.15\",\n        },\n{\n            'v': 3.3,\n            'f': \"3.3\",\n        },\n{\n            'v': 290.0,\n            'f': \"290.0\",\n        },\n{\n            'v': 1,\n            'f': \"1\",\n        }],\n [{\n            'v': 94,\n            'f': \"94\",\n        },\n{\n            'v': 11.62,\n            'f': \"11.62\",\n        },\n{\n            'v': 1.99,\n            'f': \"1.99\",\n        },\n{\n            'v': 2.28,\n            'f': \"2.28\",\n        },\n{\n            'v': 18.0,\n            'f': \"18.0\",\n        },\n{\n            'v': 98.0,\n            'f': \"98.0\",\n        },\n{\n            'v': 3.02,\n            'f': \"3.02\",\n        },\n{\n            'v': 2.26,\n            'f': \"2.26\",\n        },\n{\n            'v': 0.17,\n            'f': \"0.17\",\n        },\n{\n            'v': 1.35,\n            'f': \"1.35\",\n        },\n{\n            'v': 3.25,\n            'f': \"3.25\",\n        },\n{\n            'v': 1.16,\n            'f': \"1.16\",\n        },\n{\n            'v': 2.96,\n            'f': \"2.96\",\n        },\n{\n            'v': 345.0,\n            'f': \"345.0\",\n        },\n{\n            'v': 1,\n            'f': \"1\",\n        }],\n [{\n            'v': 95,\n            'f': \"95\",\n        },\n{\n            'v': 12.47,\n            'f': \"12.47\",\n        },\n{\n            'v': 1.52,\n            'f': \"1.52\",\n        },\n{\n            'v': 2.2,\n            'f': \"2.2\",\n        },\n{\n            'v': 19.0,\n            'f': \"19.0\",\n        },\n{\n            'v': 162.0,\n            'f': \"162.0\",\n        },\n{\n            'v': 2.5,\n            'f': \"2.5\",\n        },\n{\n            'v': 2.27,\n            'f': \"2.27\",\n        },\n{\n            'v': 0.32,\n            'f': \"0.32\",\n        },\n{\n            'v': 3.28,\n            'f': \"3.28\",\n        },\n{\n            'v': 2.6,\n            'f': \"2.6\",\n        },\n{\n            'v': 1.16,\n            'f': \"1.16\",\n        },\n{\n            'v': 2.63,\n            'f': \"2.63\",\n        },\n{\n            'v': 937.0,\n            'f': \"937.0\",\n        },\n{\n            'v': 1,\n            'f': \"1\",\n        }],\n [{\n            'v': 96,\n            'f': \"96\",\n        },\n{\n            'v': 11.81,\n            'f': \"11.81\",\n        },\n{\n            'v': 2.12,\n            'f': \"2.12\",\n        },\n{\n            'v': 2.74,\n            'f': \"2.74\",\n        },\n{\n            'v': 21.5,\n            'f': \"21.5\",\n        },\n{\n            'v': 134.0,\n            'f': \"134.0\",\n        },\n{\n            'v': 1.6,\n            'f': \"1.6\",\n        },\n{\n            'v': 0.99,\n            'f': \"0.99\",\n        },\n{\n            'v': 0.14,\n            'f': \"0.14\",\n        },\n{\n            'v': 1.56,\n            'f': \"1.56\",\n        },\n{\n            'v': 2.5,\n            'f': \"2.5\",\n        },\n{\n            'v': 0.95,\n            'f': \"0.95\",\n        },\n{\n            'v': 2.26,\n            'f': \"2.26\",\n        },\n{\n            'v': 625.0,\n            'f': \"625.0\",\n        },\n{\n            'v': 1,\n            'f': \"1\",\n        }],\n [{\n            'v': 97,\n            'f': \"97\",\n        },\n{\n            'v': 12.29,\n            'f': \"12.29\",\n        },\n{\n            'v': 1.41,\n            'f': \"1.41\",\n        },\n{\n            'v': 1.98,\n            'f': \"1.98\",\n        },\n{\n            'v': 16.0,\n            'f': \"16.0\",\n        },\n{\n            'v': 85.0,\n            'f': \"85.0\",\n        },\n{\n            'v': 2.55,\n            'f': \"2.55\",\n        },\n{\n            'v': 2.5,\n            'f': \"2.5\",\n        },\n{\n            'v': 0.29,\n            'f': \"0.29\",\n        },\n{\n            'v': 1.77,\n            'f': \"1.77\",\n        },\n{\n            'v': 2.9,\n            'f': \"2.9\",\n        },\n{\n            'v': 1.23,\n            'f': \"1.23\",\n        },\n{\n            'v': 2.74,\n            'f': \"2.74\",\n        },\n{\n            'v': 428.0,\n            'f': \"428.0\",\n        },\n{\n            'v': 1,\n            'f': \"1\",\n        }],\n [{\n            'v': 98,\n            'f': \"98\",\n        },\n{\n            'v': 12.37,\n            'f': \"12.37\",\n        },\n{\n            'v': 1.07,\n            'f': \"1.07\",\n        },\n{\n            'v': 2.1,\n            'f': \"2.1\",\n        },\n{\n            'v': 18.5,\n            'f': \"18.5\",\n        },\n{\n            'v': 88.0,\n            'f': \"88.0\",\n        },\n{\n            'v': 3.52,\n            'f': \"3.52\",\n        },\n{\n            'v': 3.75,\n            'f': \"3.75\",\n        },\n{\n            'v': 0.24,\n            'f': \"0.24\",\n        },\n{\n            'v': 1.95,\n            'f': \"1.95\",\n        },\n{\n            'v': 4.5,\n            'f': \"4.5\",\n        },\n{\n            'v': 1.04,\n            'f': \"1.04\",\n        },\n{\n            'v': 2.77,\n            'f': \"2.77\",\n        },\n{\n            'v': 660.0,\n            'f': \"660.0\",\n        },\n{\n            'v': 1,\n            'f': \"1\",\n        }],\n [{\n            'v': 99,\n            'f': \"99\",\n        },\n{\n            'v': 12.29,\n            'f': \"12.29\",\n        },\n{\n            'v': 3.17,\n            'f': \"3.17\",\n        },\n{\n            'v': 2.21,\n            'f': \"2.21\",\n        },\n{\n            'v': 18.0,\n            'f': \"18.0\",\n        },\n{\n            'v': 88.0,\n            'f': \"88.0\",\n        },\n{\n            'v': 2.85,\n            'f': \"2.85\",\n        },\n{\n            'v': 2.99,\n            'f': \"2.99\",\n        },\n{\n            'v': 0.45,\n            'f': \"0.45\",\n        },\n{\n            'v': 2.81,\n            'f': \"2.81\",\n        },\n{\n            'v': 2.3,\n            'f': \"2.3\",\n        },\n{\n            'v': 1.42,\n            'f': \"1.42\",\n        },\n{\n            'v': 2.83,\n            'f': \"2.83\",\n        },\n{\n            'v': 406.0,\n            'f': \"406.0\",\n        },\n{\n            'v': 1,\n            'f': \"1\",\n        }],\n [{\n            'v': 100,\n            'f': \"100\",\n        },\n{\n            'v': 12.08,\n            'f': \"12.08\",\n        },\n{\n            'v': 2.08,\n            'f': \"2.08\",\n        },\n{\n            'v': 1.7,\n            'f': \"1.7\",\n        },\n{\n            'v': 17.5,\n            'f': \"17.5\",\n        },\n{\n            'v': 97.0,\n            'f': \"97.0\",\n        },\n{\n            'v': 2.23,\n            'f': \"2.23\",\n        },\n{\n            'v': 2.17,\n            'f': \"2.17\",\n        },\n{\n            'v': 0.26,\n            'f': \"0.26\",\n        },\n{\n            'v': 1.4,\n            'f': \"1.4\",\n        },\n{\n            'v': 3.3,\n            'f': \"3.3\",\n        },\n{\n            'v': 1.27,\n            'f': \"1.27\",\n        },\n{\n            'v': 2.96,\n            'f': \"2.96\",\n        },\n{\n            'v': 710.0,\n            'f': \"710.0\",\n        },\n{\n            'v': 1,\n            'f': \"1\",\n        }],\n [{\n            'v': 101,\n            'f': \"101\",\n        },\n{\n            'v': 12.6,\n            'f': \"12.6\",\n        },\n{\n            'v': 1.34,\n            'f': \"1.34\",\n        },\n{\n            'v': 1.9,\n            'f': \"1.9\",\n        },\n{\n            'v': 18.5,\n            'f': \"18.5\",\n        },\n{\n            'v': 88.0,\n            'f': \"88.0\",\n        },\n{\n            'v': 1.45,\n            'f': \"1.45\",\n        },\n{\n            'v': 1.36,\n            'f': \"1.36\",\n        },\n{\n            'v': 0.29,\n            'f': \"0.29\",\n        },\n{\n            'v': 1.35,\n            'f': \"1.35\",\n        },\n{\n            'v': 2.45,\n            'f': \"2.45\",\n        },\n{\n            'v': 1.04,\n            'f': \"1.04\",\n        },\n{\n            'v': 2.77,\n            'f': \"2.77\",\n        },\n{\n            'v': 562.0,\n            'f': \"562.0\",\n        },\n{\n            'v': 1,\n            'f': \"1\",\n        }],\n [{\n            'v': 102,\n            'f': \"102\",\n        },\n{\n            'v': 12.34,\n            'f': \"12.34\",\n        },\n{\n            'v': 2.45,\n            'f': \"2.45\",\n        },\n{\n            'v': 2.46,\n            'f': \"2.46\",\n        },\n{\n            'v': 21.0,\n            'f': \"21.0\",\n        },\n{\n            'v': 98.0,\n            'f': \"98.0\",\n        },\n{\n            'v': 2.56,\n            'f': \"2.56\",\n        },\n{\n            'v': 2.11,\n            'f': \"2.11\",\n        },\n{\n            'v': 0.34,\n            'f': \"0.34\",\n        },\n{\n            'v': 1.31,\n            'f': \"1.31\",\n        },\n{\n            'v': 2.8,\n            'f': \"2.8\",\n        },\n{\n            'v': 0.8,\n            'f': \"0.8\",\n        },\n{\n            'v': 3.38,\n            'f': \"3.38\",\n        },\n{\n            'v': 438.0,\n            'f': \"438.0\",\n        },\n{\n            'v': 1,\n            'f': \"1\",\n        }],\n [{\n            'v': 103,\n            'f': \"103\",\n        },\n{\n            'v': 11.82,\n            'f': \"11.82\",\n        },\n{\n            'v': 1.72,\n            'f': \"1.72\",\n        },\n{\n            'v': 1.88,\n            'f': \"1.88\",\n        },\n{\n            'v': 19.5,\n            'f': \"19.5\",\n        },\n{\n            'v': 86.0,\n            'f': \"86.0\",\n        },\n{\n            'v': 2.5,\n            'f': \"2.5\",\n        },\n{\n            'v': 1.64,\n            'f': \"1.64\",\n        },\n{\n            'v': 0.37,\n            'f': \"0.37\",\n        },\n{\n            'v': 1.42,\n            'f': \"1.42\",\n        },\n{\n            'v': 2.06,\n            'f': \"2.06\",\n        },\n{\n            'v': 0.94,\n            'f': \"0.94\",\n        },\n{\n            'v': 2.44,\n            'f': \"2.44\",\n        },\n{\n            'v': 415.0,\n            'f': \"415.0\",\n        },\n{\n            'v': 1,\n            'f': \"1\",\n        }],\n [{\n            'v': 104,\n            'f': \"104\",\n        },\n{\n            'v': 12.51,\n            'f': \"12.51\",\n        },\n{\n            'v': 1.73,\n            'f': \"1.73\",\n        },\n{\n            'v': 1.98,\n            'f': \"1.98\",\n        },\n{\n            'v': 20.5,\n            'f': \"20.5\",\n        },\n{\n            'v': 85.0,\n            'f': \"85.0\",\n        },\n{\n            'v': 2.2,\n            'f': \"2.2\",\n        },\n{\n            'v': 1.92,\n            'f': \"1.92\",\n        },\n{\n            'v': 0.32,\n            'f': \"0.32\",\n        },\n{\n            'v': 1.48,\n            'f': \"1.48\",\n        },\n{\n            'v': 2.94,\n            'f': \"2.94\",\n        },\n{\n            'v': 1.04,\n            'f': \"1.04\",\n        },\n{\n            'v': 3.57,\n            'f': \"3.57\",\n        },\n{\n            'v': 672.0,\n            'f': \"672.0\",\n        },\n{\n            'v': 1,\n            'f': \"1\",\n        }],\n [{\n            'v': 105,\n            'f': \"105\",\n        },\n{\n            'v': 12.42,\n            'f': \"12.42\",\n        },\n{\n            'v': 2.55,\n            'f': \"2.55\",\n        },\n{\n            'v': 2.27,\n            'f': \"2.27\",\n        },\n{\n            'v': 22.0,\n            'f': \"22.0\",\n        },\n{\n            'v': 90.0,\n            'f': \"90.0\",\n        },\n{\n            'v': 1.68,\n            'f': \"1.68\",\n        },\n{\n            'v': 1.84,\n            'f': \"1.84\",\n        },\n{\n            'v': 0.66,\n            'f': \"0.66\",\n        },\n{\n            'v': 1.42,\n            'f': \"1.42\",\n        },\n{\n            'v': 2.7,\n            'f': \"2.7\",\n        },\n{\n            'v': 0.86,\n            'f': \"0.86\",\n        },\n{\n            'v': 3.3,\n            'f': \"3.3\",\n        },\n{\n            'v': 315.0,\n            'f': \"315.0\",\n        },\n{\n            'v': 1,\n            'f': \"1\",\n        }],\n [{\n            'v': 106,\n            'f': \"106\",\n        },\n{\n            'v': 12.25,\n            'f': \"12.25\",\n        },\n{\n            'v': 1.73,\n            'f': \"1.73\",\n        },\n{\n            'v': 2.12,\n            'f': \"2.12\",\n        },\n{\n            'v': 19.0,\n            'f': \"19.0\",\n        },\n{\n            'v': 80.0,\n            'f': \"80.0\",\n        },\n{\n            'v': 1.65,\n            'f': \"1.65\",\n        },\n{\n            'v': 2.03,\n            'f': \"2.03\",\n        },\n{\n            'v': 0.37,\n            'f': \"0.37\",\n        },\n{\n            'v': 1.63,\n            'f': \"1.63\",\n        },\n{\n            'v': 3.4,\n            'f': \"3.4\",\n        },\n{\n            'v': 1.0,\n            'f': \"1.0\",\n        },\n{\n            'v': 3.17,\n            'f': \"3.17\",\n        },\n{\n            'v': 510.0,\n            'f': \"510.0\",\n        },\n{\n            'v': 1,\n            'f': \"1\",\n        }],\n [{\n            'v': 107,\n            'f': \"107\",\n        },\n{\n            'v': 12.72,\n            'f': \"12.72\",\n        },\n{\n            'v': 1.75,\n            'f': \"1.75\",\n        },\n{\n            'v': 2.28,\n            'f': \"2.28\",\n        },\n{\n            'v': 22.5,\n            'f': \"22.5\",\n        },\n{\n            'v': 84.0,\n            'f': \"84.0\",\n        },\n{\n            'v': 1.38,\n            'f': \"1.38\",\n        },\n{\n            'v': 1.76,\n            'f': \"1.76\",\n        },\n{\n            'v': 0.48,\n            'f': \"0.48\",\n        },\n{\n            'v': 1.63,\n            'f': \"1.63\",\n        },\n{\n            'v': 3.3,\n            'f': \"3.3\",\n        },\n{\n            'v': 0.88,\n            'f': \"0.88\",\n        },\n{\n            'v': 2.42,\n            'f': \"2.42\",\n        },\n{\n            'v': 488.0,\n            'f': \"488.0\",\n        },\n{\n            'v': 1,\n            'f': \"1\",\n        }],\n [{\n            'v': 108,\n            'f': \"108\",\n        },\n{\n            'v': 12.22,\n            'f': \"12.22\",\n        },\n{\n            'v': 1.29,\n            'f': \"1.29\",\n        },\n{\n            'v': 1.94,\n            'f': \"1.94\",\n        },\n{\n            'v': 19.0,\n            'f': \"19.0\",\n        },\n{\n            'v': 92.0,\n            'f': \"92.0\",\n        },\n{\n            'v': 2.36,\n            'f': \"2.36\",\n        },\n{\n            'v': 2.04,\n            'f': \"2.04\",\n        },\n{\n            'v': 0.39,\n            'f': \"0.39\",\n        },\n{\n            'v': 2.08,\n            'f': \"2.08\",\n        },\n{\n            'v': 2.7,\n            'f': \"2.7\",\n        },\n{\n            'v': 0.86,\n            'f': \"0.86\",\n        },\n{\n            'v': 3.02,\n            'f': \"3.02\",\n        },\n{\n            'v': 312.0,\n            'f': \"312.0\",\n        },\n{\n            'v': 1,\n            'f': \"1\",\n        }],\n [{\n            'v': 109,\n            'f': \"109\",\n        },\n{\n            'v': 11.61,\n            'f': \"11.61\",\n        },\n{\n            'v': 1.35,\n            'f': \"1.35\",\n        },\n{\n            'v': 2.7,\n            'f': \"2.7\",\n        },\n{\n            'v': 20.0,\n            'f': \"20.0\",\n        },\n{\n            'v': 94.0,\n            'f': \"94.0\",\n        },\n{\n            'v': 2.74,\n            'f': \"2.74\",\n        },\n{\n            'v': 2.92,\n            'f': \"2.92\",\n        },\n{\n            'v': 0.29,\n            'f': \"0.29\",\n        },\n{\n            'v': 2.49,\n            'f': \"2.49\",\n        },\n{\n            'v': 2.65,\n            'f': \"2.65\",\n        },\n{\n            'v': 0.96,\n            'f': \"0.96\",\n        },\n{\n            'v': 3.26,\n            'f': \"3.26\",\n        },\n{\n            'v': 680.0,\n            'f': \"680.0\",\n        },\n{\n            'v': 1,\n            'f': \"1\",\n        }],\n [{\n            'v': 110,\n            'f': \"110\",\n        },\n{\n            'v': 11.46,\n            'f': \"11.46\",\n        },\n{\n            'v': 3.74,\n            'f': \"3.74\",\n        },\n{\n            'v': 1.82,\n            'f': \"1.82\",\n        },\n{\n            'v': 19.5,\n            'f': \"19.5\",\n        },\n{\n            'v': 107.0,\n            'f': \"107.0\",\n        },\n{\n            'v': 3.18,\n            'f': \"3.18\",\n        },\n{\n            'v': 2.58,\n            'f': \"2.58\",\n        },\n{\n            'v': 0.24,\n            'f': \"0.24\",\n        },\n{\n            'v': 3.58,\n            'f': \"3.58\",\n        },\n{\n            'v': 2.9,\n            'f': \"2.9\",\n        },\n{\n            'v': 0.75,\n            'f': \"0.75\",\n        },\n{\n            'v': 2.81,\n            'f': \"2.81\",\n        },\n{\n            'v': 562.0,\n            'f': \"562.0\",\n        },\n{\n            'v': 1,\n            'f': \"1\",\n        }],\n [{\n            'v': 111,\n            'f': \"111\",\n        },\n{\n            'v': 12.52,\n            'f': \"12.52\",\n        },\n{\n            'v': 2.43,\n            'f': \"2.43\",\n        },\n{\n            'v': 2.17,\n            'f': \"2.17\",\n        },\n{\n            'v': 21.0,\n            'f': \"21.0\",\n        },\n{\n            'v': 88.0,\n            'f': \"88.0\",\n        },\n{\n            'v': 2.55,\n            'f': \"2.55\",\n        },\n{\n            'v': 2.27,\n            'f': \"2.27\",\n        },\n{\n            'v': 0.26,\n            'f': \"0.26\",\n        },\n{\n            'v': 1.22,\n            'f': \"1.22\",\n        },\n{\n            'v': 2.0,\n            'f': \"2.0\",\n        },\n{\n            'v': 0.9,\n            'f': \"0.9\",\n        },\n{\n            'v': 2.78,\n            'f': \"2.78\",\n        },\n{\n            'v': 325.0,\n            'f': \"325.0\",\n        },\n{\n            'v': 1,\n            'f': \"1\",\n        }],\n [{\n            'v': 112,\n            'f': \"112\",\n        },\n{\n            'v': 11.76,\n            'f': \"11.76\",\n        },\n{\n            'v': 2.68,\n            'f': \"2.68\",\n        },\n{\n            'v': 2.92,\n            'f': \"2.92\",\n        },\n{\n            'v': 20.0,\n            'f': \"20.0\",\n        },\n{\n            'v': 103.0,\n            'f': \"103.0\",\n        },\n{\n            'v': 1.75,\n            'f': \"1.75\",\n        },\n{\n            'v': 2.03,\n            'f': \"2.03\",\n        },\n{\n            'v': 0.6,\n            'f': \"0.6\",\n        },\n{\n            'v': 1.05,\n            'f': \"1.05\",\n        },\n{\n            'v': 3.8,\n            'f': \"3.8\",\n        },\n{\n            'v': 1.23,\n            'f': \"1.23\",\n        },\n{\n            'v': 2.5,\n            'f': \"2.5\",\n        },\n{\n            'v': 607.0,\n            'f': \"607.0\",\n        },\n{\n            'v': 1,\n            'f': \"1\",\n        }],\n [{\n            'v': 113,\n            'f': \"113\",\n        },\n{\n            'v': 11.41,\n            'f': \"11.41\",\n        },\n{\n            'v': 0.74,\n            'f': \"0.74\",\n        },\n{\n            'v': 2.5,\n            'f': \"2.5\",\n        },\n{\n            'v': 21.0,\n            'f': \"21.0\",\n        },\n{\n            'v': 88.0,\n            'f': \"88.0\",\n        },\n{\n            'v': 2.48,\n            'f': \"2.48\",\n        },\n{\n            'v': 2.01,\n            'f': \"2.01\",\n        },\n{\n            'v': 0.42,\n            'f': \"0.42\",\n        },\n{\n            'v': 1.44,\n            'f': \"1.44\",\n        },\n{\n            'v': 3.08,\n            'f': \"3.08\",\n        },\n{\n            'v': 1.1,\n            'f': \"1.1\",\n        },\n{\n            'v': 2.31,\n            'f': \"2.31\",\n        },\n{\n            'v': 434.0,\n            'f': \"434.0\",\n        },\n{\n            'v': 1,\n            'f': \"1\",\n        }],\n [{\n            'v': 114,\n            'f': \"114\",\n        },\n{\n            'v': 12.08,\n            'f': \"12.08\",\n        },\n{\n            'v': 1.39,\n            'f': \"1.39\",\n        },\n{\n            'v': 2.5,\n            'f': \"2.5\",\n        },\n{\n            'v': 22.5,\n            'f': \"22.5\",\n        },\n{\n            'v': 84.0,\n            'f': \"84.0\",\n        },\n{\n            'v': 2.56,\n            'f': \"2.56\",\n        },\n{\n            'v': 2.29,\n            'f': \"2.29\",\n        },\n{\n            'v': 0.43,\n            'f': \"0.43\",\n        },\n{\n            'v': 1.04,\n            'f': \"1.04\",\n        },\n{\n            'v': 2.9,\n            'f': \"2.9\",\n        },\n{\n            'v': 0.93,\n            'f': \"0.93\",\n        },\n{\n            'v': 3.19,\n            'f': \"3.19\",\n        },\n{\n            'v': 385.0,\n            'f': \"385.0\",\n        },\n{\n            'v': 1,\n            'f': \"1\",\n        }],\n [{\n            'v': 115,\n            'f': \"115\",\n        },\n{\n            'v': 11.03,\n            'f': \"11.03\",\n        },\n{\n            'v': 1.51,\n            'f': \"1.51\",\n        },\n{\n            'v': 2.2,\n            'f': \"2.2\",\n        },\n{\n            'v': 21.5,\n            'f': \"21.5\",\n        },\n{\n            'v': 85.0,\n            'f': \"85.0\",\n        },\n{\n            'v': 2.46,\n            'f': \"2.46\",\n        },\n{\n            'v': 2.17,\n            'f': \"2.17\",\n        },\n{\n            'v': 0.52,\n            'f': \"0.52\",\n        },\n{\n            'v': 2.01,\n            'f': \"2.01\",\n        },\n{\n            'v': 1.9,\n            'f': \"1.9\",\n        },\n{\n            'v': 1.71,\n            'f': \"1.71\",\n        },\n{\n            'v': 2.87,\n            'f': \"2.87\",\n        },\n{\n            'v': 407.0,\n            'f': \"407.0\",\n        },\n{\n            'v': 1,\n            'f': \"1\",\n        }],\n [{\n            'v': 116,\n            'f': \"116\",\n        },\n{\n            'v': 11.82,\n            'f': \"11.82\",\n        },\n{\n            'v': 1.47,\n            'f': \"1.47\",\n        },\n{\n            'v': 1.99,\n            'f': \"1.99\",\n        },\n{\n            'v': 20.8,\n            'f': \"20.8\",\n        },\n{\n            'v': 86.0,\n            'f': \"86.0\",\n        },\n{\n            'v': 1.98,\n            'f': \"1.98\",\n        },\n{\n            'v': 1.6,\n            'f': \"1.6\",\n        },\n{\n            'v': 0.3,\n            'f': \"0.3\",\n        },\n{\n            'v': 1.53,\n            'f': \"1.53\",\n        },\n{\n            'v': 1.95,\n            'f': \"1.95\",\n        },\n{\n            'v': 0.95,\n            'f': \"0.95\",\n        },\n{\n            'v': 3.33,\n            'f': \"3.33\",\n        },\n{\n            'v': 495.0,\n            'f': \"495.0\",\n        },\n{\n            'v': 1,\n            'f': \"1\",\n        }],\n [{\n            'v': 117,\n            'f': \"117\",\n        },\n{\n            'v': 12.42,\n            'f': \"12.42\",\n        },\n{\n            'v': 1.61,\n            'f': \"1.61\",\n        },\n{\n            'v': 2.19,\n            'f': \"2.19\",\n        },\n{\n            'v': 22.5,\n            'f': \"22.5\",\n        },\n{\n            'v': 108.0,\n            'f': \"108.0\",\n        },\n{\n            'v': 2.0,\n            'f': \"2.0\",\n        },\n{\n            'v': 2.09,\n            'f': \"2.09\",\n        },\n{\n            'v': 0.34,\n            'f': \"0.34\",\n        },\n{\n            'v': 1.61,\n            'f': \"1.61\",\n        },\n{\n            'v': 2.06,\n            'f': \"2.06\",\n        },\n{\n            'v': 1.06,\n            'f': \"1.06\",\n        },\n{\n            'v': 2.96,\n            'f': \"2.96\",\n        },\n{\n            'v': 345.0,\n            'f': \"345.0\",\n        },\n{\n            'v': 1,\n            'f': \"1\",\n        }],\n [{\n            'v': 118,\n            'f': \"118\",\n        },\n{\n            'v': 12.77,\n            'f': \"12.77\",\n        },\n{\n            'v': 3.43,\n            'f': \"3.43\",\n        },\n{\n            'v': 1.98,\n            'f': \"1.98\",\n        },\n{\n            'v': 16.0,\n            'f': \"16.0\",\n        },\n{\n            'v': 80.0,\n            'f': \"80.0\",\n        },\n{\n            'v': 1.63,\n            'f': \"1.63\",\n        },\n{\n            'v': 1.25,\n            'f': \"1.25\",\n        },\n{\n            'v': 0.43,\n            'f': \"0.43\",\n        },\n{\n            'v': 0.83,\n            'f': \"0.83\",\n        },\n{\n            'v': 3.4,\n            'f': \"3.4\",\n        },\n{\n            'v': 0.7,\n            'f': \"0.7\",\n        },\n{\n            'v': 2.12,\n            'f': \"2.12\",\n        },\n{\n            'v': 372.0,\n            'f': \"372.0\",\n        },\n{\n            'v': 1,\n            'f': \"1\",\n        }],\n [{\n            'v': 119,\n            'f': \"119\",\n        },\n{\n            'v': 12.0,\n            'f': \"12.0\",\n        },\n{\n            'v': 3.43,\n            'f': \"3.43\",\n        },\n{\n            'v': 2.0,\n            'f': \"2.0\",\n        },\n{\n            'v': 19.0,\n            'f': \"19.0\",\n        },\n{\n            'v': 87.0,\n            'f': \"87.0\",\n        },\n{\n            'v': 2.0,\n            'f': \"2.0\",\n        },\n{\n            'v': 1.64,\n            'f': \"1.64\",\n        },\n{\n            'v': 0.37,\n            'f': \"0.37\",\n        },\n{\n            'v': 1.87,\n            'f': \"1.87\",\n        },\n{\n            'v': 1.28,\n            'f': \"1.28\",\n        },\n{\n            'v': 0.93,\n            'f': \"0.93\",\n        },\n{\n            'v': 3.05,\n            'f': \"3.05\",\n        },\n{\n            'v': 564.0,\n            'f': \"564.0\",\n        },\n{\n            'v': 1,\n            'f': \"1\",\n        }],\n [{\n            'v': 120,\n            'f': \"120\",\n        },\n{\n            'v': 11.45,\n            'f': \"11.45\",\n        },\n{\n            'v': 2.4,\n            'f': \"2.4\",\n        },\n{\n            'v': 2.42,\n            'f': \"2.42\",\n        },\n{\n            'v': 20.0,\n            'f': \"20.0\",\n        },\n{\n            'v': 96.0,\n            'f': \"96.0\",\n        },\n{\n            'v': 2.9,\n            'f': \"2.9\",\n        },\n{\n            'v': 2.79,\n            'f': \"2.79\",\n        },\n{\n            'v': 0.32,\n            'f': \"0.32\",\n        },\n{\n            'v': 1.83,\n            'f': \"1.83\",\n        },\n{\n            'v': 3.25,\n            'f': \"3.25\",\n        },\n{\n            'v': 0.8,\n            'f': \"0.8\",\n        },\n{\n            'v': 3.39,\n            'f': \"3.39\",\n        },\n{\n            'v': 625.0,\n            'f': \"625.0\",\n        },\n{\n            'v': 1,\n            'f': \"1\",\n        }],\n [{\n            'v': 121,\n            'f': \"121\",\n        },\n{\n            'v': 11.56,\n            'f': \"11.56\",\n        },\n{\n            'v': 2.05,\n            'f': \"2.05\",\n        },\n{\n            'v': 3.23,\n            'f': \"3.23\",\n        },\n{\n            'v': 28.5,\n            'f': \"28.5\",\n        },\n{\n            'v': 119.0,\n            'f': \"119.0\",\n        },\n{\n            'v': 3.18,\n            'f': \"3.18\",\n        },\n{\n            'v': 5.08,\n            'f': \"5.08\",\n        },\n{\n            'v': 0.47,\n            'f': \"0.47\",\n        },\n{\n            'v': 1.87,\n            'f': \"1.87\",\n        },\n{\n            'v': 6.0,\n            'f': \"6.0\",\n        },\n{\n            'v': 0.93,\n            'f': \"0.93\",\n        },\n{\n            'v': 3.69,\n            'f': \"3.69\",\n        },\n{\n            'v': 465.0,\n            'f': \"465.0\",\n        },\n{\n            'v': 1,\n            'f': \"1\",\n        }],\n [{\n            'v': 122,\n            'f': \"122\",\n        },\n{\n            'v': 12.42,\n            'f': \"12.42\",\n        },\n{\n            'v': 4.43,\n            'f': \"4.43\",\n        },\n{\n            'v': 2.73,\n            'f': \"2.73\",\n        },\n{\n            'v': 26.5,\n            'f': \"26.5\",\n        },\n{\n            'v': 102.0,\n            'f': \"102.0\",\n        },\n{\n            'v': 2.2,\n            'f': \"2.2\",\n        },\n{\n            'v': 2.13,\n            'f': \"2.13\",\n        },\n{\n            'v': 0.43,\n            'f': \"0.43\",\n        },\n{\n            'v': 1.71,\n            'f': \"1.71\",\n        },\n{\n            'v': 2.08,\n            'f': \"2.08\",\n        },\n{\n            'v': 0.92,\n            'f': \"0.92\",\n        },\n{\n            'v': 3.12,\n            'f': \"3.12\",\n        },\n{\n            'v': 365.0,\n            'f': \"365.0\",\n        },\n{\n            'v': 1,\n            'f': \"1\",\n        }],\n [{\n            'v': 123,\n            'f': \"123\",\n        },\n{\n            'v': 13.05,\n            'f': \"13.05\",\n        },\n{\n            'v': 5.8,\n            'f': \"5.8\",\n        },\n{\n            'v': 2.13,\n            'f': \"2.13\",\n        },\n{\n            'v': 21.5,\n            'f': \"21.5\",\n        },\n{\n            'v': 86.0,\n            'f': \"86.0\",\n        },\n{\n            'v': 2.62,\n            'f': \"2.62\",\n        },\n{\n            'v': 2.65,\n            'f': \"2.65\",\n        },\n{\n            'v': 0.3,\n            'f': \"0.3\",\n        },\n{\n            'v': 2.01,\n            'f': \"2.01\",\n        },\n{\n            'v': 2.6,\n            'f': \"2.6\",\n        },\n{\n            'v': 0.73,\n            'f': \"0.73\",\n        },\n{\n            'v': 3.1,\n            'f': \"3.1\",\n        },\n{\n            'v': 380.0,\n            'f': \"380.0\",\n        },\n{\n            'v': 1,\n            'f': \"1\",\n        }],\n [{\n            'v': 124,\n            'f': \"124\",\n        },\n{\n            'v': 11.87,\n            'f': \"11.87\",\n        },\n{\n            'v': 4.31,\n            'f': \"4.31\",\n        },\n{\n            'v': 2.39,\n            'f': \"2.39\",\n        },\n{\n            'v': 21.0,\n            'f': \"21.0\",\n        },\n{\n            'v': 82.0,\n            'f': \"82.0\",\n        },\n{\n            'v': 2.86,\n            'f': \"2.86\",\n        },\n{\n            'v': 3.03,\n            'f': \"3.03\",\n        },\n{\n            'v': 0.21,\n            'f': \"0.21\",\n        },\n{\n            'v': 2.91,\n            'f': \"2.91\",\n        },\n{\n            'v': 2.8,\n            'f': \"2.8\",\n        },\n{\n            'v': 0.75,\n            'f': \"0.75\",\n        },\n{\n            'v': 3.64,\n            'f': \"3.64\",\n        },\n{\n            'v': 380.0,\n            'f': \"380.0\",\n        },\n{\n            'v': 1,\n            'f': \"1\",\n        }],\n [{\n            'v': 125,\n            'f': \"125\",\n        },\n{\n            'v': 12.07,\n            'f': \"12.07\",\n        },\n{\n            'v': 2.16,\n            'f': \"2.16\",\n        },\n{\n            'v': 2.17,\n            'f': \"2.17\",\n        },\n{\n            'v': 21.0,\n            'f': \"21.0\",\n        },\n{\n            'v': 85.0,\n            'f': \"85.0\",\n        },\n{\n            'v': 2.6,\n            'f': \"2.6\",\n        },\n{\n            'v': 2.65,\n            'f': \"2.65\",\n        },\n{\n            'v': 0.37,\n            'f': \"0.37\",\n        },\n{\n            'v': 1.35,\n            'f': \"1.35\",\n        },\n{\n            'v': 2.76,\n            'f': \"2.76\",\n        },\n{\n            'v': 0.86,\n            'f': \"0.86\",\n        },\n{\n            'v': 3.28,\n            'f': \"3.28\",\n        },\n{\n            'v': 378.0,\n            'f': \"378.0\",\n        },\n{\n            'v': 1,\n            'f': \"1\",\n        }],\n [{\n            'v': 126,\n            'f': \"126\",\n        },\n{\n            'v': 12.43,\n            'f': \"12.43\",\n        },\n{\n            'v': 1.53,\n            'f': \"1.53\",\n        },\n{\n            'v': 2.29,\n            'f': \"2.29\",\n        },\n{\n            'v': 21.5,\n            'f': \"21.5\",\n        },\n{\n            'v': 86.0,\n            'f': \"86.0\",\n        },\n{\n            'v': 2.74,\n            'f': \"2.74\",\n        },\n{\n            'v': 3.15,\n            'f': \"3.15\",\n        },\n{\n            'v': 0.39,\n            'f': \"0.39\",\n        },\n{\n            'v': 1.77,\n            'f': \"1.77\",\n        },\n{\n            'v': 3.94,\n            'f': \"3.94\",\n        },\n{\n            'v': 0.69,\n            'f': \"0.69\",\n        },\n{\n            'v': 2.84,\n            'f': \"2.84\",\n        },\n{\n            'v': 352.0,\n            'f': \"352.0\",\n        },\n{\n            'v': 1,\n            'f': \"1\",\n        }],\n [{\n            'v': 127,\n            'f': \"127\",\n        },\n{\n            'v': 11.79,\n            'f': \"11.79\",\n        },\n{\n            'v': 2.13,\n            'f': \"2.13\",\n        },\n{\n            'v': 2.78,\n            'f': \"2.78\",\n        },\n{\n            'v': 28.5,\n            'f': \"28.5\",\n        },\n{\n            'v': 92.0,\n            'f': \"92.0\",\n        },\n{\n            'v': 2.13,\n            'f': \"2.13\",\n        },\n{\n            'v': 2.24,\n            'f': \"2.24\",\n        },\n{\n            'v': 0.58,\n            'f': \"0.58\",\n        },\n{\n            'v': 1.76,\n            'f': \"1.76\",\n        },\n{\n            'v': 3.0,\n            'f': \"3.0\",\n        },\n{\n            'v': 0.97,\n            'f': \"0.97\",\n        },\n{\n            'v': 2.44,\n            'f': \"2.44\",\n        },\n{\n            'v': 466.0,\n            'f': \"466.0\",\n        },\n{\n            'v': 1,\n            'f': \"1\",\n        }],\n [{\n            'v': 128,\n            'f': \"128\",\n        },\n{\n            'v': 12.37,\n            'f': \"12.37\",\n        },\n{\n            'v': 1.63,\n            'f': \"1.63\",\n        },\n{\n            'v': 2.3,\n            'f': \"2.3\",\n        },\n{\n            'v': 24.5,\n            'f': \"24.5\",\n        },\n{\n            'v': 88.0,\n            'f': \"88.0\",\n        },\n{\n            'v': 2.22,\n            'f': \"2.22\",\n        },\n{\n            'v': 2.45,\n            'f': \"2.45\",\n        },\n{\n            'v': 0.4,\n            'f': \"0.4\",\n        },\n{\n            'v': 1.9,\n            'f': \"1.9\",\n        },\n{\n            'v': 2.12,\n            'f': \"2.12\",\n        },\n{\n            'v': 0.89,\n            'f': \"0.89\",\n        },\n{\n            'v': 2.78,\n            'f': \"2.78\",\n        },\n{\n            'v': 342.0,\n            'f': \"342.0\",\n        },\n{\n            'v': 1,\n            'f': \"1\",\n        }],\n [{\n            'v': 129,\n            'f': \"129\",\n        },\n{\n            'v': 12.04,\n            'f': \"12.04\",\n        },\n{\n            'v': 4.3,\n            'f': \"4.3\",\n        },\n{\n            'v': 2.38,\n            'f': \"2.38\",\n        },\n{\n            'v': 22.0,\n            'f': \"22.0\",\n        },\n{\n            'v': 80.0,\n            'f': \"80.0\",\n        },\n{\n            'v': 2.1,\n            'f': \"2.1\",\n        },\n{\n            'v': 1.75,\n            'f': \"1.75\",\n        },\n{\n            'v': 0.42,\n            'f': \"0.42\",\n        },\n{\n            'v': 1.35,\n            'f': \"1.35\",\n        },\n{\n            'v': 2.6,\n            'f': \"2.6\",\n        },\n{\n            'v': 0.79,\n            'f': \"0.79\",\n        },\n{\n            'v': 2.57,\n            'f': \"2.57\",\n        },\n{\n            'v': 580.0,\n            'f': \"580.0\",\n        },\n{\n            'v': 1,\n            'f': \"1\",\n        }],\n [{\n            'v': 130,\n            'f': \"130\",\n        },\n{\n            'v': 12.86,\n            'f': \"12.86\",\n        },\n{\n            'v': 1.35,\n            'f': \"1.35\",\n        },\n{\n            'v': 2.32,\n            'f': \"2.32\",\n        },\n{\n            'v': 18.0,\n            'f': \"18.0\",\n        },\n{\n            'v': 122.0,\n            'f': \"122.0\",\n        },\n{\n            'v': 1.51,\n            'f': \"1.51\",\n        },\n{\n            'v': 1.25,\n            'f': \"1.25\",\n        },\n{\n            'v': 0.21,\n            'f': \"0.21\",\n        },\n{\n            'v': 0.94,\n            'f': \"0.94\",\n        },\n{\n            'v': 4.1,\n            'f': \"4.1\",\n        },\n{\n            'v': 0.76,\n            'f': \"0.76\",\n        },\n{\n            'v': 1.29,\n            'f': \"1.29\",\n        },\n{\n            'v': 630.0,\n            'f': \"630.0\",\n        },\n{\n            'v': 2,\n            'f': \"2\",\n        }],\n [{\n            'v': 131,\n            'f': \"131\",\n        },\n{\n            'v': 12.88,\n            'f': \"12.88\",\n        },\n{\n            'v': 2.99,\n            'f': \"2.99\",\n        },\n{\n            'v': 2.4,\n            'f': \"2.4\",\n        },\n{\n            'v': 20.0,\n            'f': \"20.0\",\n        },\n{\n            'v': 104.0,\n            'f': \"104.0\",\n        },\n{\n            'v': 1.3,\n            'f': \"1.3\",\n        },\n{\n            'v': 1.22,\n            'f': \"1.22\",\n        },\n{\n            'v': 0.24,\n            'f': \"0.24\",\n        },\n{\n            'v': 0.83,\n            'f': \"0.83\",\n        },\n{\n            'v': 5.4,\n            'f': \"5.4\",\n        },\n{\n            'v': 0.74,\n            'f': \"0.74\",\n        },\n{\n            'v': 1.42,\n            'f': \"1.42\",\n        },\n{\n            'v': 530.0,\n            'f': \"530.0\",\n        },\n{\n            'v': 2,\n            'f': \"2\",\n        }],\n [{\n            'v': 132,\n            'f': \"132\",\n        },\n{\n            'v': 12.81,\n            'f': \"12.81\",\n        },\n{\n            'v': 2.31,\n            'f': \"2.31\",\n        },\n{\n            'v': 2.4,\n            'f': \"2.4\",\n        },\n{\n            'v': 24.0,\n            'f': \"24.0\",\n        },\n{\n            'v': 98.0,\n            'f': \"98.0\",\n        },\n{\n            'v': 1.15,\n            'f': \"1.15\",\n        },\n{\n            'v': 1.09,\n            'f': \"1.09\",\n        },\n{\n            'v': 0.27,\n            'f': \"0.27\",\n        },\n{\n            'v': 0.83,\n            'f': \"0.83\",\n        },\n{\n            'v': 5.7,\n            'f': \"5.7\",\n        },\n{\n            'v': 0.66,\n            'f': \"0.66\",\n        },\n{\n            'v': 1.36,\n            'f': \"1.36\",\n        },\n{\n            'v': 560.0,\n            'f': \"560.0\",\n        },\n{\n            'v': 2,\n            'f': \"2\",\n        }],\n [{\n            'v': 133,\n            'f': \"133\",\n        },\n{\n            'v': 12.7,\n            'f': \"12.7\",\n        },\n{\n            'v': 3.55,\n            'f': \"3.55\",\n        },\n{\n            'v': 2.36,\n            'f': \"2.36\",\n        },\n{\n            'v': 21.5,\n            'f': \"21.5\",\n        },\n{\n            'v': 106.0,\n            'f': \"106.0\",\n        },\n{\n            'v': 1.7,\n            'f': \"1.7\",\n        },\n{\n            'v': 1.2,\n            'f': \"1.2\",\n        },\n{\n            'v': 0.17,\n            'f': \"0.17\",\n        },\n{\n            'v': 0.84,\n            'f': \"0.84\",\n        },\n{\n            'v': 5.0,\n            'f': \"5.0\",\n        },\n{\n            'v': 0.78,\n            'f': \"0.78\",\n        },\n{\n            'v': 1.29,\n            'f': \"1.29\",\n        },\n{\n            'v': 600.0,\n            'f': \"600.0\",\n        },\n{\n            'v': 2,\n            'f': \"2\",\n        }],\n [{\n            'v': 134,\n            'f': \"134\",\n        },\n{\n            'v': 12.51,\n            'f': \"12.51\",\n        },\n{\n            'v': 1.24,\n            'f': \"1.24\",\n        },\n{\n            'v': 2.25,\n            'f': \"2.25\",\n        },\n{\n            'v': 17.5,\n            'f': \"17.5\",\n        },\n{\n            'v': 85.0,\n            'f': \"85.0\",\n        },\n{\n            'v': 2.0,\n            'f': \"2.0\",\n        },\n{\n            'v': 0.58,\n            'f': \"0.58\",\n        },\n{\n            'v': 0.6,\n            'f': \"0.6\",\n        },\n{\n            'v': 1.25,\n            'f': \"1.25\",\n        },\n{\n            'v': 5.45,\n            'f': \"5.45\",\n        },\n{\n            'v': 0.75,\n            'f': \"0.75\",\n        },\n{\n            'v': 1.51,\n            'f': \"1.51\",\n        },\n{\n            'v': 650.0,\n            'f': \"650.0\",\n        },\n{\n            'v': 2,\n            'f': \"2\",\n        }],\n [{\n            'v': 135,\n            'f': \"135\",\n        },\n{\n            'v': 12.6,\n            'f': \"12.6\",\n        },\n{\n            'v': 2.46,\n            'f': \"2.46\",\n        },\n{\n            'v': 2.2,\n            'f': \"2.2\",\n        },\n{\n            'v': 18.5,\n            'f': \"18.5\",\n        },\n{\n            'v': 94.0,\n            'f': \"94.0\",\n        },\n{\n            'v': 1.62,\n            'f': \"1.62\",\n        },\n{\n            'v': 0.66,\n            'f': \"0.66\",\n        },\n{\n            'v': 0.63,\n            'f': \"0.63\",\n        },\n{\n            'v': 0.94,\n            'f': \"0.94\",\n        },\n{\n            'v': 7.1,\n            'f': \"7.1\",\n        },\n{\n            'v': 0.73,\n            'f': \"0.73\",\n        },\n{\n            'v': 1.58,\n            'f': \"1.58\",\n        },\n{\n            'v': 695.0,\n            'f': \"695.0\",\n        },\n{\n            'v': 2,\n            'f': \"2\",\n        }],\n [{\n            'v': 136,\n            'f': \"136\",\n        },\n{\n            'v': 12.25,\n            'f': \"12.25\",\n        },\n{\n            'v': 4.72,\n            'f': \"4.72\",\n        },\n{\n            'v': 2.54,\n            'f': \"2.54\",\n        },\n{\n            'v': 21.0,\n            'f': \"21.0\",\n        },\n{\n            'v': 89.0,\n            'f': \"89.0\",\n        },\n{\n            'v': 1.38,\n            'f': \"1.38\",\n        },\n{\n            'v': 0.47,\n            'f': \"0.47\",\n        },\n{\n            'v': 0.53,\n            'f': \"0.53\",\n        },\n{\n            'v': 0.8,\n            'f': \"0.8\",\n        },\n{\n            'v': 3.85,\n            'f': \"3.85\",\n        },\n{\n            'v': 0.75,\n            'f': \"0.75\",\n        },\n{\n            'v': 1.27,\n            'f': \"1.27\",\n        },\n{\n            'v': 720.0,\n            'f': \"720.0\",\n        },\n{\n            'v': 2,\n            'f': \"2\",\n        }],\n [{\n            'v': 137,\n            'f': \"137\",\n        },\n{\n            'v': 12.53,\n            'f': \"12.53\",\n        },\n{\n            'v': 5.51,\n            'f': \"5.51\",\n        },\n{\n            'v': 2.64,\n            'f': \"2.64\",\n        },\n{\n            'v': 25.0,\n            'f': \"25.0\",\n        },\n{\n            'v': 96.0,\n            'f': \"96.0\",\n        },\n{\n            'v': 1.79,\n            'f': \"1.79\",\n        },\n{\n            'v': 0.6,\n            'f': \"0.6\",\n        },\n{\n            'v': 0.63,\n            'f': \"0.63\",\n        },\n{\n            'v': 1.1,\n            'f': \"1.1\",\n        },\n{\n            'v': 5.0,\n            'f': \"5.0\",\n        },\n{\n            'v': 0.82,\n            'f': \"0.82\",\n        },\n{\n            'v': 1.69,\n            'f': \"1.69\",\n        },\n{\n            'v': 515.0,\n            'f': \"515.0\",\n        },\n{\n            'v': 2,\n            'f': \"2\",\n        }],\n [{\n            'v': 138,\n            'f': \"138\",\n        },\n{\n            'v': 13.49,\n            'f': \"13.49\",\n        },\n{\n            'v': 3.59,\n            'f': \"3.59\",\n        },\n{\n            'v': 2.19,\n            'f': \"2.19\",\n        },\n{\n            'v': 19.5,\n            'f': \"19.5\",\n        },\n{\n            'v': 88.0,\n            'f': \"88.0\",\n        },\n{\n            'v': 1.62,\n            'f': \"1.62\",\n        },\n{\n            'v': 0.48,\n            'f': \"0.48\",\n        },\n{\n            'v': 0.58,\n            'f': \"0.58\",\n        },\n{\n            'v': 0.88,\n            'f': \"0.88\",\n        },\n{\n            'v': 5.7,\n            'f': \"5.7\",\n        },\n{\n            'v': 0.81,\n            'f': \"0.81\",\n        },\n{\n            'v': 1.82,\n            'f': \"1.82\",\n        },\n{\n            'v': 580.0,\n            'f': \"580.0\",\n        },\n{\n            'v': 2,\n            'f': \"2\",\n        }],\n [{\n            'v': 139,\n            'f': \"139\",\n        },\n{\n            'v': 12.84,\n            'f': \"12.84\",\n        },\n{\n            'v': 2.96,\n            'f': \"2.96\",\n        },\n{\n            'v': 2.61,\n            'f': \"2.61\",\n        },\n{\n            'v': 24.0,\n            'f': \"24.0\",\n        },\n{\n            'v': 101.0,\n            'f': \"101.0\",\n        },\n{\n            'v': 2.32,\n            'f': \"2.32\",\n        },\n{\n            'v': 0.6,\n            'f': \"0.6\",\n        },\n{\n            'v': 0.53,\n            'f': \"0.53\",\n        },\n{\n            'v': 0.81,\n            'f': \"0.81\",\n        },\n{\n            'v': 4.92,\n            'f': \"4.92\",\n        },\n{\n            'v': 0.89,\n            'f': \"0.89\",\n        },\n{\n            'v': 2.15,\n            'f': \"2.15\",\n        },\n{\n            'v': 590.0,\n            'f': \"590.0\",\n        },\n{\n            'v': 2,\n            'f': \"2\",\n        }],\n [{\n            'v': 140,\n            'f': \"140\",\n        },\n{\n            'v': 12.93,\n            'f': \"12.93\",\n        },\n{\n            'v': 2.81,\n            'f': \"2.81\",\n        },\n{\n            'v': 2.7,\n            'f': \"2.7\",\n        },\n{\n            'v': 21.0,\n            'f': \"21.0\",\n        },\n{\n            'v': 96.0,\n            'f': \"96.0\",\n        },\n{\n            'v': 1.54,\n            'f': \"1.54\",\n        },\n{\n            'v': 0.5,\n            'f': \"0.5\",\n        },\n{\n            'v': 0.53,\n            'f': \"0.53\",\n        },\n{\n            'v': 0.75,\n            'f': \"0.75\",\n        },\n{\n            'v': 4.6,\n            'f': \"4.6\",\n        },\n{\n            'v': 0.77,\n            'f': \"0.77\",\n        },\n{\n            'v': 2.31,\n            'f': \"2.31\",\n        },\n{\n            'v': 600.0,\n            'f': \"600.0\",\n        },\n{\n            'v': 2,\n            'f': \"2\",\n        }],\n [{\n            'v': 141,\n            'f': \"141\",\n        },\n{\n            'v': 13.36,\n            'f': \"13.36\",\n        },\n{\n            'v': 2.56,\n            'f': \"2.56\",\n        },\n{\n            'v': 2.35,\n            'f': \"2.35\",\n        },\n{\n            'v': 20.0,\n            'f': \"20.0\",\n        },\n{\n            'v': 89.0,\n            'f': \"89.0\",\n        },\n{\n            'v': 1.4,\n            'f': \"1.4\",\n        },\n{\n            'v': 0.5,\n            'f': \"0.5\",\n        },\n{\n            'v': 0.37,\n            'f': \"0.37\",\n        },\n{\n            'v': 0.64,\n            'f': \"0.64\",\n        },\n{\n            'v': 5.6,\n            'f': \"5.6\",\n        },\n{\n            'v': 0.7,\n            'f': \"0.7\",\n        },\n{\n            'v': 2.47,\n            'f': \"2.47\",\n        },\n{\n            'v': 780.0,\n            'f': \"780.0\",\n        },\n{\n            'v': 2,\n            'f': \"2\",\n        }],\n [{\n            'v': 142,\n            'f': \"142\",\n        },\n{\n            'v': 13.52,\n            'f': \"13.52\",\n        },\n{\n            'v': 3.17,\n            'f': \"3.17\",\n        },\n{\n            'v': 2.72,\n            'f': \"2.72\",\n        },\n{\n            'v': 23.5,\n            'f': \"23.5\",\n        },\n{\n            'v': 97.0,\n            'f': \"97.0\",\n        },\n{\n            'v': 1.55,\n            'f': \"1.55\",\n        },\n{\n            'v': 0.52,\n            'f': \"0.52\",\n        },\n{\n            'v': 0.5,\n            'f': \"0.5\",\n        },\n{\n            'v': 0.55,\n            'f': \"0.55\",\n        },\n{\n            'v': 4.35,\n            'f': \"4.35\",\n        },\n{\n            'v': 0.89,\n            'f': \"0.89\",\n        },\n{\n            'v': 2.06,\n            'f': \"2.06\",\n        },\n{\n            'v': 520.0,\n            'f': \"520.0\",\n        },\n{\n            'v': 2,\n            'f': \"2\",\n        }],\n [{\n            'v': 143,\n            'f': \"143\",\n        },\n{\n            'v': 13.62,\n            'f': \"13.62\",\n        },\n{\n            'v': 4.95,\n            'f': \"4.95\",\n        },\n{\n            'v': 2.35,\n            'f': \"2.35\",\n        },\n{\n            'v': 20.0,\n            'f': \"20.0\",\n        },\n{\n            'v': 92.0,\n            'f': \"92.0\",\n        },\n{\n            'v': 2.0,\n            'f': \"2.0\",\n        },\n{\n            'v': 0.8,\n            'f': \"0.8\",\n        },\n{\n            'v': 0.47,\n            'f': \"0.47\",\n        },\n{\n            'v': 1.02,\n            'f': \"1.02\",\n        },\n{\n            'v': 4.4,\n            'f': \"4.4\",\n        },\n{\n            'v': 0.91,\n            'f': \"0.91\",\n        },\n{\n            'v': 2.05,\n            'f': \"2.05\",\n        },\n{\n            'v': 550.0,\n            'f': \"550.0\",\n        },\n{\n            'v': 2,\n            'f': \"2\",\n        }],\n [{\n            'v': 144,\n            'f': \"144\",\n        },\n{\n            'v': 12.25,\n            'f': \"12.25\",\n        },\n{\n            'v': 3.88,\n            'f': \"3.88\",\n        },\n{\n            'v': 2.2,\n            'f': \"2.2\",\n        },\n{\n            'v': 18.5,\n            'f': \"18.5\",\n        },\n{\n            'v': 112.0,\n            'f': \"112.0\",\n        },\n{\n            'v': 1.38,\n            'f': \"1.38\",\n        },\n{\n            'v': 0.78,\n            'f': \"0.78\",\n        },\n{\n            'v': 0.29,\n            'f': \"0.29\",\n        },\n{\n            'v': 1.14,\n            'f': \"1.14\",\n        },\n{\n            'v': 8.21,\n            'f': \"8.21\",\n        },\n{\n            'v': 0.65,\n            'f': \"0.65\",\n        },\n{\n            'v': 2.0,\n            'f': \"2.0\",\n        },\n{\n            'v': 855.0,\n            'f': \"855.0\",\n        },\n{\n            'v': 2,\n            'f': \"2\",\n        }],\n [{\n            'v': 145,\n            'f': \"145\",\n        },\n{\n            'v': 13.16,\n            'f': \"13.16\",\n        },\n{\n            'v': 3.57,\n            'f': \"3.57\",\n        },\n{\n            'v': 2.15,\n            'f': \"2.15\",\n        },\n{\n            'v': 21.0,\n            'f': \"21.0\",\n        },\n{\n            'v': 102.0,\n            'f': \"102.0\",\n        },\n{\n            'v': 1.5,\n            'f': \"1.5\",\n        },\n{\n            'v': 0.55,\n            'f': \"0.55\",\n        },\n{\n            'v': 0.43,\n            'f': \"0.43\",\n        },\n{\n            'v': 1.3,\n            'f': \"1.3\",\n        },\n{\n            'v': 4.0,\n            'f': \"4.0\",\n        },\n{\n            'v': 0.6,\n            'f': \"0.6\",\n        },\n{\n            'v': 1.68,\n            'f': \"1.68\",\n        },\n{\n            'v': 830.0,\n            'f': \"830.0\",\n        },\n{\n            'v': 2,\n            'f': \"2\",\n        }],\n [{\n            'v': 146,\n            'f': \"146\",\n        },\n{\n            'v': 13.88,\n            'f': \"13.88\",\n        },\n{\n            'v': 5.04,\n            'f': \"5.04\",\n        },\n{\n            'v': 2.23,\n            'f': \"2.23\",\n        },\n{\n            'v': 20.0,\n            'f': \"20.0\",\n        },\n{\n            'v': 80.0,\n            'f': \"80.0\",\n        },\n{\n            'v': 0.98,\n            'f': \"0.98\",\n        },\n{\n            'v': 0.34,\n            'f': \"0.34\",\n        },\n{\n            'v': 0.4,\n            'f': \"0.4\",\n        },\n{\n            'v': 0.68,\n            'f': \"0.68\",\n        },\n{\n            'v': 4.9,\n            'f': \"4.9\",\n        },\n{\n            'v': 0.58,\n            'f': \"0.58\",\n        },\n{\n            'v': 1.33,\n            'f': \"1.33\",\n        },\n{\n            'v': 415.0,\n            'f': \"415.0\",\n        },\n{\n            'v': 2,\n            'f': \"2\",\n        }],\n [{\n            'v': 147,\n            'f': \"147\",\n        },\n{\n            'v': 12.87,\n            'f': \"12.87\",\n        },\n{\n            'v': 4.61,\n            'f': \"4.61\",\n        },\n{\n            'v': 2.48,\n            'f': \"2.48\",\n        },\n{\n            'v': 21.5,\n            'f': \"21.5\",\n        },\n{\n            'v': 86.0,\n            'f': \"86.0\",\n        },\n{\n            'v': 1.7,\n            'f': \"1.7\",\n        },\n{\n            'v': 0.65,\n            'f': \"0.65\",\n        },\n{\n            'v': 0.47,\n            'f': \"0.47\",\n        },\n{\n            'v': 0.86,\n            'f': \"0.86\",\n        },\n{\n            'v': 7.65,\n            'f': \"7.65\",\n        },\n{\n            'v': 0.54,\n            'f': \"0.54\",\n        },\n{\n            'v': 1.86,\n            'f': \"1.86\",\n        },\n{\n            'v': 625.0,\n            'f': \"625.0\",\n        },\n{\n            'v': 2,\n            'f': \"2\",\n        }],\n [{\n            'v': 148,\n            'f': \"148\",\n        },\n{\n            'v': 13.32,\n            'f': \"13.32\",\n        },\n{\n            'v': 3.24,\n            'f': \"3.24\",\n        },\n{\n            'v': 2.38,\n            'f': \"2.38\",\n        },\n{\n            'v': 21.5,\n            'f': \"21.5\",\n        },\n{\n            'v': 92.0,\n            'f': \"92.0\",\n        },\n{\n            'v': 1.93,\n            'f': \"1.93\",\n        },\n{\n            'v': 0.76,\n            'f': \"0.76\",\n        },\n{\n            'v': 0.45,\n            'f': \"0.45\",\n        },\n{\n            'v': 1.25,\n            'f': \"1.25\",\n        },\n{\n            'v': 8.42,\n            'f': \"8.42\",\n        },\n{\n            'v': 0.55,\n            'f': \"0.55\",\n        },\n{\n            'v': 1.62,\n            'f': \"1.62\",\n        },\n{\n            'v': 650.0,\n            'f': \"650.0\",\n        },\n{\n            'v': 2,\n            'f': \"2\",\n        }],\n [{\n            'v': 149,\n            'f': \"149\",\n        },\n{\n            'v': 13.08,\n            'f': \"13.08\",\n        },\n{\n            'v': 3.9,\n            'f': \"3.9\",\n        },\n{\n            'v': 2.36,\n            'f': \"2.36\",\n        },\n{\n            'v': 21.5,\n            'f': \"21.5\",\n        },\n{\n            'v': 113.0,\n            'f': \"113.0\",\n        },\n{\n            'v': 1.41,\n            'f': \"1.41\",\n        },\n{\n            'v': 1.39,\n            'f': \"1.39\",\n        },\n{\n            'v': 0.34,\n            'f': \"0.34\",\n        },\n{\n            'v': 1.14,\n            'f': \"1.14\",\n        },\n{\n            'v': 9.4,\n            'f': \"9.4\",\n        },\n{\n            'v': 0.57,\n            'f': \"0.57\",\n        },\n{\n            'v': 1.33,\n            'f': \"1.33\",\n        },\n{\n            'v': 550.0,\n            'f': \"550.0\",\n        },\n{\n            'v': 2,\n            'f': \"2\",\n        }],\n [{\n            'v': 150,\n            'f': \"150\",\n        },\n{\n            'v': 13.5,\n            'f': \"13.5\",\n        },\n{\n            'v': 3.12,\n            'f': \"3.12\",\n        },\n{\n            'v': 2.62,\n            'f': \"2.62\",\n        },\n{\n            'v': 24.0,\n            'f': \"24.0\",\n        },\n{\n            'v': 123.0,\n            'f': \"123.0\",\n        },\n{\n            'v': 1.4,\n            'f': \"1.4\",\n        },\n{\n            'v': 1.57,\n            'f': \"1.57\",\n        },\n{\n            'v': 0.22,\n            'f': \"0.22\",\n        },\n{\n            'v': 1.25,\n            'f': \"1.25\",\n        },\n{\n            'v': 8.6,\n            'f': \"8.6\",\n        },\n{\n            'v': 0.59,\n            'f': \"0.59\",\n        },\n{\n            'v': 1.3,\n            'f': \"1.3\",\n        },\n{\n            'v': 500.0,\n            'f': \"500.0\",\n        },\n{\n            'v': 2,\n            'f': \"2\",\n        }],\n [{\n            'v': 151,\n            'f': \"151\",\n        },\n{\n            'v': 12.79,\n            'f': \"12.79\",\n        },\n{\n            'v': 2.67,\n            'f': \"2.67\",\n        },\n{\n            'v': 2.48,\n            'f': \"2.48\",\n        },\n{\n            'v': 22.0,\n            'f': \"22.0\",\n        },\n{\n            'v': 112.0,\n            'f': \"112.0\",\n        },\n{\n            'v': 1.48,\n            'f': \"1.48\",\n        },\n{\n            'v': 1.36,\n            'f': \"1.36\",\n        },\n{\n            'v': 0.24,\n            'f': \"0.24\",\n        },\n{\n            'v': 1.26,\n            'f': \"1.26\",\n        },\n{\n            'v': 10.8,\n            'f': \"10.8\",\n        },\n{\n            'v': 0.48,\n            'f': \"0.48\",\n        },\n{\n            'v': 1.47,\n            'f': \"1.47\",\n        },\n{\n            'v': 480.0,\n            'f': \"480.0\",\n        },\n{\n            'v': 2,\n            'f': \"2\",\n        }],\n [{\n            'v': 152,\n            'f': \"152\",\n        },\n{\n            'v': 13.11,\n            'f': \"13.11\",\n        },\n{\n            'v': 1.9,\n            'f': \"1.9\",\n        },\n{\n            'v': 2.75,\n            'f': \"2.75\",\n        },\n{\n            'v': 25.5,\n            'f': \"25.5\",\n        },\n{\n            'v': 116.0,\n            'f': \"116.0\",\n        },\n{\n            'v': 2.2,\n            'f': \"2.2\",\n        },\n{\n            'v': 1.28,\n            'f': \"1.28\",\n        },\n{\n            'v': 0.26,\n            'f': \"0.26\",\n        },\n{\n            'v': 1.56,\n            'f': \"1.56\",\n        },\n{\n            'v': 7.1,\n            'f': \"7.1\",\n        },\n{\n            'v': 0.61,\n            'f': \"0.61\",\n        },\n{\n            'v': 1.33,\n            'f': \"1.33\",\n        },\n{\n            'v': 425.0,\n            'f': \"425.0\",\n        },\n{\n            'v': 2,\n            'f': \"2\",\n        }],\n [{\n            'v': 153,\n            'f': \"153\",\n        },\n{\n            'v': 13.23,\n            'f': \"13.23\",\n        },\n{\n            'v': 3.3,\n            'f': \"3.3\",\n        },\n{\n            'v': 2.28,\n            'f': \"2.28\",\n        },\n{\n            'v': 18.5,\n            'f': \"18.5\",\n        },\n{\n            'v': 98.0,\n            'f': \"98.0\",\n        },\n{\n            'v': 1.8,\n            'f': \"1.8\",\n        },\n{\n            'v': 0.83,\n            'f': \"0.83\",\n        },\n{\n            'v': 0.61,\n            'f': \"0.61\",\n        },\n{\n            'v': 1.87,\n            'f': \"1.87\",\n        },\n{\n            'v': 10.52,\n            'f': \"10.52\",\n        },\n{\n            'v': 0.56,\n            'f': \"0.56\",\n        },\n{\n            'v': 1.51,\n            'f': \"1.51\",\n        },\n{\n            'v': 675.0,\n            'f': \"675.0\",\n        },\n{\n            'v': 2,\n            'f': \"2\",\n        }],\n [{\n            'v': 154,\n            'f': \"154\",\n        },\n{\n            'v': 12.58,\n            'f': \"12.58\",\n        },\n{\n            'v': 1.29,\n            'f': \"1.29\",\n        },\n{\n            'v': 2.1,\n            'f': \"2.1\",\n        },\n{\n            'v': 20.0,\n            'f': \"20.0\",\n        },\n{\n            'v': 103.0,\n            'f': \"103.0\",\n        },\n{\n            'v': 1.48,\n            'f': \"1.48\",\n        },\n{\n            'v': 0.58,\n            'f': \"0.58\",\n        },\n{\n            'v': 0.53,\n            'f': \"0.53\",\n        },\n{\n            'v': 1.4,\n            'f': \"1.4\",\n        },\n{\n            'v': 7.6,\n            'f': \"7.6\",\n        },\n{\n            'v': 0.58,\n            'f': \"0.58\",\n        },\n{\n            'v': 1.55,\n            'f': \"1.55\",\n        },\n{\n            'v': 640.0,\n            'f': \"640.0\",\n        },\n{\n            'v': 2,\n            'f': \"2\",\n        }],\n [{\n            'v': 155,\n            'f': \"155\",\n        },\n{\n            'v': 13.17,\n            'f': \"13.17\",\n        },\n{\n            'v': 5.19,\n            'f': \"5.19\",\n        },\n{\n            'v': 2.32,\n            'f': \"2.32\",\n        },\n{\n            'v': 22.0,\n            'f': \"22.0\",\n        },\n{\n            'v': 93.0,\n            'f': \"93.0\",\n        },\n{\n            'v': 1.74,\n            'f': \"1.74\",\n        },\n{\n            'v': 0.63,\n            'f': \"0.63\",\n        },\n{\n            'v': 0.61,\n            'f': \"0.61\",\n        },\n{\n            'v': 1.55,\n            'f': \"1.55\",\n        },\n{\n            'v': 7.9,\n            'f': \"7.9\",\n        },\n{\n            'v': 0.6,\n            'f': \"0.6\",\n        },\n{\n            'v': 1.48,\n            'f': \"1.48\",\n        },\n{\n            'v': 725.0,\n            'f': \"725.0\",\n        },\n{\n            'v': 2,\n            'f': \"2\",\n        }],\n [{\n            'v': 156,\n            'f': \"156\",\n        },\n{\n            'v': 13.84,\n            'f': \"13.84\",\n        },\n{\n            'v': 4.12,\n            'f': \"4.12\",\n        },\n{\n            'v': 2.38,\n            'f': \"2.38\",\n        },\n{\n            'v': 19.5,\n            'f': \"19.5\",\n        },\n{\n            'v': 89.0,\n            'f': \"89.0\",\n        },\n{\n            'v': 1.8,\n            'f': \"1.8\",\n        },\n{\n            'v': 0.83,\n            'f': \"0.83\",\n        },\n{\n            'v': 0.48,\n            'f': \"0.48\",\n        },\n{\n            'v': 1.56,\n            'f': \"1.56\",\n        },\n{\n            'v': 9.01,\n            'f': \"9.01\",\n        },\n{\n            'v': 0.57,\n            'f': \"0.57\",\n        },\n{\n            'v': 1.64,\n            'f': \"1.64\",\n        },\n{\n            'v': 480.0,\n            'f': \"480.0\",\n        },\n{\n            'v': 2,\n            'f': \"2\",\n        }],\n [{\n            'v': 157,\n            'f': \"157\",\n        },\n{\n            'v': 12.45,\n            'f': \"12.45\",\n        },\n{\n            'v': 3.03,\n            'f': \"3.03\",\n        },\n{\n            'v': 2.64,\n            'f': \"2.64\",\n        },\n{\n            'v': 27.0,\n            'f': \"27.0\",\n        },\n{\n            'v': 97.0,\n            'f': \"97.0\",\n        },\n{\n            'v': 1.9,\n            'f': \"1.9\",\n        },\n{\n            'v': 0.58,\n            'f': \"0.58\",\n        },\n{\n            'v': 0.63,\n            'f': \"0.63\",\n        },\n{\n            'v': 1.14,\n            'f': \"1.14\",\n        },\n{\n            'v': 7.5,\n            'f': \"7.5\",\n        },\n{\n            'v': 0.67,\n            'f': \"0.67\",\n        },\n{\n            'v': 1.73,\n            'f': \"1.73\",\n        },\n{\n            'v': 880.0,\n            'f': \"880.0\",\n        },\n{\n            'v': 2,\n            'f': \"2\",\n        }],\n [{\n            'v': 158,\n            'f': \"158\",\n        },\n{\n            'v': 14.34,\n            'f': \"14.34\",\n        },\n{\n            'v': 1.68,\n            'f': \"1.68\",\n        },\n{\n            'v': 2.7,\n            'f': \"2.7\",\n        },\n{\n            'v': 25.0,\n            'f': \"25.0\",\n        },\n{\n            'v': 98.0,\n            'f': \"98.0\",\n        },\n{\n            'v': 2.8,\n            'f': \"2.8\",\n        },\n{\n            'v': 1.31,\n            'f': \"1.31\",\n        },\n{\n            'v': 0.53,\n            'f': \"0.53\",\n        },\n{\n            'v': 2.7,\n            'f': \"2.7\",\n        },\n{\n            'v': 13.0,\n            'f': \"13.0\",\n        },\n{\n            'v': 0.57,\n            'f': \"0.57\",\n        },\n{\n            'v': 1.96,\n            'f': \"1.96\",\n        },\n{\n            'v': 660.0,\n            'f': \"660.0\",\n        },\n{\n            'v': 2,\n            'f': \"2\",\n        }],\n [{\n            'v': 159,\n            'f': \"159\",\n        },\n{\n            'v': 13.48,\n            'f': \"13.48\",\n        },\n{\n            'v': 1.67,\n            'f': \"1.67\",\n        },\n{\n            'v': 2.64,\n            'f': \"2.64\",\n        },\n{\n            'v': 22.5,\n            'f': \"22.5\",\n        },\n{\n            'v': 89.0,\n            'f': \"89.0\",\n        },\n{\n            'v': 2.6,\n            'f': \"2.6\",\n        },\n{\n            'v': 1.1,\n            'f': \"1.1\",\n        },\n{\n            'v': 0.52,\n            'f': \"0.52\",\n        },\n{\n            'v': 2.29,\n            'f': \"2.29\",\n        },\n{\n            'v': 11.75,\n            'f': \"11.75\",\n        },\n{\n            'v': 0.57,\n            'f': \"0.57\",\n        },\n{\n            'v': 1.78,\n            'f': \"1.78\",\n        },\n{\n            'v': 620.0,\n            'f': \"620.0\",\n        },\n{\n            'v': 2,\n            'f': \"2\",\n        }],\n [{\n            'v': 160,\n            'f': \"160\",\n        },\n{\n            'v': 12.36,\n            'f': \"12.36\",\n        },\n{\n            'v': 3.83,\n            'f': \"3.83\",\n        },\n{\n            'v': 2.38,\n            'f': \"2.38\",\n        },\n{\n            'v': 21.0,\n            'f': \"21.0\",\n        },\n{\n            'v': 88.0,\n            'f': \"88.0\",\n        },\n{\n            'v': 2.3,\n            'f': \"2.3\",\n        },\n{\n            'v': 0.92,\n            'f': \"0.92\",\n        },\n{\n            'v': 0.5,\n            'f': \"0.5\",\n        },\n{\n            'v': 1.04,\n            'f': \"1.04\",\n        },\n{\n            'v': 7.65,\n            'f': \"7.65\",\n        },\n{\n            'v': 0.56,\n            'f': \"0.56\",\n        },\n{\n            'v': 1.58,\n            'f': \"1.58\",\n        },\n{\n            'v': 520.0,\n            'f': \"520.0\",\n        },\n{\n            'v': 2,\n            'f': \"2\",\n        }],\n [{\n            'v': 161,\n            'f': \"161\",\n        },\n{\n            'v': 13.69,\n            'f': \"13.69\",\n        },\n{\n            'v': 3.26,\n            'f': \"3.26\",\n        },\n{\n            'v': 2.54,\n            'f': \"2.54\",\n        },\n{\n            'v': 20.0,\n            'f': \"20.0\",\n        },\n{\n            'v': 107.0,\n            'f': \"107.0\",\n        },\n{\n            'v': 1.83,\n            'f': \"1.83\",\n        },\n{\n            'v': 0.56,\n            'f': \"0.56\",\n        },\n{\n            'v': 0.5,\n            'f': \"0.5\",\n        },\n{\n            'v': 0.8,\n            'f': \"0.8\",\n        },\n{\n            'v': 5.88,\n            'f': \"5.88\",\n        },\n{\n            'v': 0.96,\n            'f': \"0.96\",\n        },\n{\n            'v': 1.82,\n            'f': \"1.82\",\n        },\n{\n            'v': 680.0,\n            'f': \"680.0\",\n        },\n{\n            'v': 2,\n            'f': \"2\",\n        }],\n [{\n            'v': 162,\n            'f': \"162\",\n        },\n{\n            'v': 12.85,\n            'f': \"12.85\",\n        },\n{\n            'v': 3.27,\n            'f': \"3.27\",\n        },\n{\n            'v': 2.58,\n            'f': \"2.58\",\n        },\n{\n            'v': 22.0,\n            'f': \"22.0\",\n        },\n{\n            'v': 106.0,\n            'f': \"106.0\",\n        },\n{\n            'v': 1.65,\n            'f': \"1.65\",\n        },\n{\n            'v': 0.6,\n            'f': \"0.6\",\n        },\n{\n            'v': 0.6,\n            'f': \"0.6\",\n        },\n{\n            'v': 0.96,\n            'f': \"0.96\",\n        },\n{\n            'v': 5.58,\n            'f': \"5.58\",\n        },\n{\n            'v': 0.87,\n            'f': \"0.87\",\n        },\n{\n            'v': 2.11,\n            'f': \"2.11\",\n        },\n{\n            'v': 570.0,\n            'f': \"570.0\",\n        },\n{\n            'v': 2,\n            'f': \"2\",\n        }],\n [{\n            'v': 163,\n            'f': \"163\",\n        },\n{\n            'v': 12.96,\n            'f': \"12.96\",\n        },\n{\n            'v': 3.45,\n            'f': \"3.45\",\n        },\n{\n            'v': 2.35,\n            'f': \"2.35\",\n        },\n{\n            'v': 18.5,\n            'f': \"18.5\",\n        },\n{\n            'v': 106.0,\n            'f': \"106.0\",\n        },\n{\n            'v': 1.39,\n            'f': \"1.39\",\n        },\n{\n            'v': 0.7,\n            'f': \"0.7\",\n        },\n{\n            'v': 0.4,\n            'f': \"0.4\",\n        },\n{\n            'v': 0.94,\n            'f': \"0.94\",\n        },\n{\n            'v': 5.28,\n            'f': \"5.28\",\n        },\n{\n            'v': 0.68,\n            'f': \"0.68\",\n        },\n{\n            'v': 1.75,\n            'f': \"1.75\",\n        },\n{\n            'v': 675.0,\n            'f': \"675.0\",\n        },\n{\n            'v': 2,\n            'f': \"2\",\n        }],\n [{\n            'v': 164,\n            'f': \"164\",\n        },\n{\n            'v': 13.78,\n            'f': \"13.78\",\n        },\n{\n            'v': 2.76,\n            'f': \"2.76\",\n        },\n{\n            'v': 2.3,\n            'f': \"2.3\",\n        },\n{\n            'v': 22.0,\n            'f': \"22.0\",\n        },\n{\n            'v': 90.0,\n            'f': \"90.0\",\n        },\n{\n            'v': 1.35,\n            'f': \"1.35\",\n        },\n{\n            'v': 0.68,\n            'f': \"0.68\",\n        },\n{\n            'v': 0.41,\n            'f': \"0.41\",\n        },\n{\n            'v': 1.03,\n            'f': \"1.03\",\n        },\n{\n            'v': 9.58,\n            'f': \"9.58\",\n        },\n{\n            'v': 0.7,\n            'f': \"0.7\",\n        },\n{\n            'v': 1.68,\n            'f': \"1.68\",\n        },\n{\n            'v': 615.0,\n            'f': \"615.0\",\n        },\n{\n            'v': 2,\n            'f': \"2\",\n        }],\n [{\n            'v': 165,\n            'f': \"165\",\n        },\n{\n            'v': 13.73,\n            'f': \"13.73\",\n        },\n{\n            'v': 4.36,\n            'f': \"4.36\",\n        },\n{\n            'v': 2.26,\n            'f': \"2.26\",\n        },\n{\n            'v': 22.5,\n            'f': \"22.5\",\n        },\n{\n            'v': 88.0,\n            'f': \"88.0\",\n        },\n{\n            'v': 1.28,\n            'f': \"1.28\",\n        },\n{\n            'v': 0.47,\n            'f': \"0.47\",\n        },\n{\n            'v': 0.52,\n            'f': \"0.52\",\n        },\n{\n            'v': 1.15,\n            'f': \"1.15\",\n        },\n{\n            'v': 6.62,\n            'f': \"6.62\",\n        },\n{\n            'v': 0.78,\n            'f': \"0.78\",\n        },\n{\n            'v': 1.75,\n            'f': \"1.75\",\n        },\n{\n            'v': 520.0,\n            'f': \"520.0\",\n        },\n{\n            'v': 2,\n            'f': \"2\",\n        }],\n [{\n            'v': 166,\n            'f': \"166\",\n        },\n{\n            'v': 13.45,\n            'f': \"13.45\",\n        },\n{\n            'v': 3.7,\n            'f': \"3.7\",\n        },\n{\n            'v': 2.6,\n            'f': \"2.6\",\n        },\n{\n            'v': 23.0,\n            'f': \"23.0\",\n        },\n{\n            'v': 111.0,\n            'f': \"111.0\",\n        },\n{\n            'v': 1.7,\n            'f': \"1.7\",\n        },\n{\n            'v': 0.92,\n            'f': \"0.92\",\n        },\n{\n            'v': 0.43,\n            'f': \"0.43\",\n        },\n{\n            'v': 1.46,\n            'f': \"1.46\",\n        },\n{\n            'v': 10.68,\n            'f': \"10.68\",\n        },\n{\n            'v': 0.85,\n            'f': \"0.85\",\n        },\n{\n            'v': 1.56,\n            'f': \"1.56\",\n        },\n{\n            'v': 695.0,\n            'f': \"695.0\",\n        },\n{\n            'v': 2,\n            'f': \"2\",\n        }],\n [{\n            'v': 167,\n            'f': \"167\",\n        },\n{\n            'v': 12.82,\n            'f': \"12.82\",\n        },\n{\n            'v': 3.37,\n            'f': \"3.37\",\n        },\n{\n            'v': 2.3,\n            'f': \"2.3\",\n        },\n{\n            'v': 19.5,\n            'f': \"19.5\",\n        },\n{\n            'v': 88.0,\n            'f': \"88.0\",\n        },\n{\n            'v': 1.48,\n            'f': \"1.48\",\n        },\n{\n            'v': 0.66,\n            'f': \"0.66\",\n        },\n{\n            'v': 0.4,\n            'f': \"0.4\",\n        },\n{\n            'v': 0.97,\n            'f': \"0.97\",\n        },\n{\n            'v': 10.26,\n            'f': \"10.26\",\n        },\n{\n            'v': 0.72,\n            'f': \"0.72\",\n        },\n{\n            'v': 1.75,\n            'f': \"1.75\",\n        },\n{\n            'v': 685.0,\n            'f': \"685.0\",\n        },\n{\n            'v': 2,\n            'f': \"2\",\n        }],\n [{\n            'v': 168,\n            'f': \"168\",\n        },\n{\n            'v': 13.58,\n            'f': \"13.58\",\n        },\n{\n            'v': 2.58,\n            'f': \"2.58\",\n        },\n{\n            'v': 2.69,\n            'f': \"2.69\",\n        },\n{\n            'v': 24.5,\n            'f': \"24.5\",\n        },\n{\n            'v': 105.0,\n            'f': \"105.0\",\n        },\n{\n            'v': 1.55,\n            'f': \"1.55\",\n        },\n{\n            'v': 0.84,\n            'f': \"0.84\",\n        },\n{\n            'v': 0.39,\n            'f': \"0.39\",\n        },\n{\n            'v': 1.54,\n            'f': \"1.54\",\n        },\n{\n            'v': 8.66,\n            'f': \"8.66\",\n        },\n{\n            'v': 0.74,\n            'f': \"0.74\",\n        },\n{\n            'v': 1.8,\n            'f': \"1.8\",\n        },\n{\n            'v': 750.0,\n            'f': \"750.0\",\n        },\n{\n            'v': 2,\n            'f': \"2\",\n        }],\n [{\n            'v': 169,\n            'f': \"169\",\n        },\n{\n            'v': 13.4,\n            'f': \"13.4\",\n        },\n{\n            'v': 4.6,\n            'f': \"4.6\",\n        },\n{\n            'v': 2.86,\n            'f': \"2.86\",\n        },\n{\n            'v': 25.0,\n            'f': \"25.0\",\n        },\n{\n            'v': 112.0,\n            'f': \"112.0\",\n        },\n{\n            'v': 1.98,\n            'f': \"1.98\",\n        },\n{\n            'v': 0.96,\n            'f': \"0.96\",\n        },\n{\n            'v': 0.27,\n            'f': \"0.27\",\n        },\n{\n            'v': 1.11,\n            'f': \"1.11\",\n        },\n{\n            'v': 8.5,\n            'f': \"8.5\",\n        },\n{\n            'v': 0.67,\n            'f': \"0.67\",\n        },\n{\n            'v': 1.92,\n            'f': \"1.92\",\n        },\n{\n            'v': 630.0,\n            'f': \"630.0\",\n        },\n{\n            'v': 2,\n            'f': \"2\",\n        }],\n [{\n            'v': 170,\n            'f': \"170\",\n        },\n{\n            'v': 12.2,\n            'f': \"12.2\",\n        },\n{\n            'v': 3.03,\n            'f': \"3.03\",\n        },\n{\n            'v': 2.32,\n            'f': \"2.32\",\n        },\n{\n            'v': 19.0,\n            'f': \"19.0\",\n        },\n{\n            'v': 96.0,\n            'f': \"96.0\",\n        },\n{\n            'v': 1.25,\n            'f': \"1.25\",\n        },\n{\n            'v': 0.49,\n            'f': \"0.49\",\n        },\n{\n            'v': 0.4,\n            'f': \"0.4\",\n        },\n{\n            'v': 0.73,\n            'f': \"0.73\",\n        },\n{\n            'v': 5.5,\n            'f': \"5.5\",\n        },\n{\n            'v': 0.66,\n            'f': \"0.66\",\n        },\n{\n            'v': 1.83,\n            'f': \"1.83\",\n        },\n{\n            'v': 510.0,\n            'f': \"510.0\",\n        },\n{\n            'v': 2,\n            'f': \"2\",\n        }],\n [{\n            'v': 171,\n            'f': \"171\",\n        },\n{\n            'v': 12.77,\n            'f': \"12.77\",\n        },\n{\n            'v': 2.39,\n            'f': \"2.39\",\n        },\n{\n            'v': 2.28,\n            'f': \"2.28\",\n        },\n{\n            'v': 19.5,\n            'f': \"19.5\",\n        },\n{\n            'v': 86.0,\n            'f': \"86.0\",\n        },\n{\n            'v': 1.39,\n            'f': \"1.39\",\n        },\n{\n            'v': 0.51,\n            'f': \"0.51\",\n        },\n{\n            'v': 0.48,\n            'f': \"0.48\",\n        },\n{\n            'v': 0.64,\n            'f': \"0.64\",\n        },\n{\n            'v': 9.899999,\n            'f': \"9.899999\",\n        },\n{\n            'v': 0.57,\n            'f': \"0.57\",\n        },\n{\n            'v': 1.63,\n            'f': \"1.63\",\n        },\n{\n            'v': 470.0,\n            'f': \"470.0\",\n        },\n{\n            'v': 2,\n            'f': \"2\",\n        }],\n [{\n            'v': 172,\n            'f': \"172\",\n        },\n{\n            'v': 14.16,\n            'f': \"14.16\",\n        },\n{\n            'v': 2.51,\n            'f': \"2.51\",\n        },\n{\n            'v': 2.48,\n            'f': \"2.48\",\n        },\n{\n            'v': 20.0,\n            'f': \"20.0\",\n        },\n{\n            'v': 91.0,\n            'f': \"91.0\",\n        },\n{\n            'v': 1.68,\n            'f': \"1.68\",\n        },\n{\n            'v': 0.7,\n            'f': \"0.7\",\n        },\n{\n            'v': 0.44,\n            'f': \"0.44\",\n        },\n{\n            'v': 1.24,\n            'f': \"1.24\",\n        },\n{\n            'v': 9.7,\n            'f': \"9.7\",\n        },\n{\n            'v': 0.62,\n            'f': \"0.62\",\n        },\n{\n            'v': 1.71,\n            'f': \"1.71\",\n        },\n{\n            'v': 660.0,\n            'f': \"660.0\",\n        },\n{\n            'v': 2,\n            'f': \"2\",\n        }],\n [{\n            'v': 173,\n            'f': \"173\",\n        },\n{\n            'v': 13.71,\n            'f': \"13.71\",\n        },\n{\n            'v': 5.65,\n            'f': \"5.65\",\n        },\n{\n            'v': 2.45,\n            'f': \"2.45\",\n        },\n{\n            'v': 20.5,\n            'f': \"20.5\",\n        },\n{\n            'v': 95.0,\n            'f': \"95.0\",\n        },\n{\n            'v': 1.68,\n            'f': \"1.68\",\n        },\n{\n            'v': 0.61,\n            'f': \"0.61\",\n        },\n{\n            'v': 0.52,\n            'f': \"0.52\",\n        },\n{\n            'v': 1.06,\n            'f': \"1.06\",\n        },\n{\n            'v': 7.7,\n            'f': \"7.7\",\n        },\n{\n            'v': 0.64,\n            'f': \"0.64\",\n        },\n{\n            'v': 1.74,\n            'f': \"1.74\",\n        },\n{\n            'v': 740.0,\n            'f': \"740.0\",\n        },\n{\n            'v': 2,\n            'f': \"2\",\n        }],\n [{\n            'v': 174,\n            'f': \"174\",\n        },\n{\n            'v': 13.4,\n            'f': \"13.4\",\n        },\n{\n            'v': 3.91,\n            'f': \"3.91\",\n        },\n{\n            'v': 2.48,\n            'f': \"2.48\",\n        },\n{\n            'v': 23.0,\n            'f': \"23.0\",\n        },\n{\n            'v': 102.0,\n            'f': \"102.0\",\n        },\n{\n            'v': 1.8,\n            'f': \"1.8\",\n        },\n{\n            'v': 0.75,\n            'f': \"0.75\",\n        },\n{\n            'v': 0.43,\n            'f': \"0.43\",\n        },\n{\n            'v': 1.41,\n            'f': \"1.41\",\n        },\n{\n            'v': 7.3,\n            'f': \"7.3\",\n        },\n{\n            'v': 0.7,\n            'f': \"0.7\",\n        },\n{\n            'v': 1.56,\n            'f': \"1.56\",\n        },\n{\n            'v': 750.0,\n            'f': \"750.0\",\n        },\n{\n            'v': 2,\n            'f': \"2\",\n        }],\n [{\n            'v': 175,\n            'f': \"175\",\n        },\n{\n            'v': 13.27,\n            'f': \"13.27\",\n        },\n{\n            'v': 4.28,\n            'f': \"4.28\",\n        },\n{\n            'v': 2.26,\n            'f': \"2.26\",\n        },\n{\n            'v': 20.0,\n            'f': \"20.0\",\n        },\n{\n            'v': 120.0,\n            'f': \"120.0\",\n        },\n{\n            'v': 1.59,\n            'f': \"1.59\",\n        },\n{\n            'v': 0.69,\n            'f': \"0.69\",\n        },\n{\n            'v': 0.43,\n            'f': \"0.43\",\n        },\n{\n            'v': 1.35,\n            'f': \"1.35\",\n        },\n{\n            'v': 10.2,\n            'f': \"10.2\",\n        },\n{\n            'v': 0.59,\n            'f': \"0.59\",\n        },\n{\n            'v': 1.56,\n            'f': \"1.56\",\n        },\n{\n            'v': 835.0,\n            'f': \"835.0\",\n        },\n{\n            'v': 2,\n            'f': \"2\",\n        }],\n [{\n            'v': 176,\n            'f': \"176\",\n        },\n{\n            'v': 13.17,\n            'f': \"13.17\",\n        },\n{\n            'v': 2.59,\n            'f': \"2.59\",\n        },\n{\n            'v': 2.37,\n            'f': \"2.37\",\n        },\n{\n            'v': 20.0,\n            'f': \"20.0\",\n        },\n{\n            'v': 120.0,\n            'f': \"120.0\",\n        },\n{\n            'v': 1.65,\n            'f': \"1.65\",\n        },\n{\n            'v': 0.68,\n            'f': \"0.68\",\n        },\n{\n            'v': 0.53,\n            'f': \"0.53\",\n        },\n{\n            'v': 1.46,\n            'f': \"1.46\",\n        },\n{\n            'v': 9.3,\n            'f': \"9.3\",\n        },\n{\n            'v': 0.6,\n            'f': \"0.6\",\n        },\n{\n            'v': 1.62,\n            'f': \"1.62\",\n        },\n{\n            'v': 840.0,\n            'f': \"840.0\",\n        },\n{\n            'v': 2,\n            'f': \"2\",\n        }],\n [{\n            'v': 177,\n            'f': \"177\",\n        },\n{\n            'v': 14.13,\n            'f': \"14.13\",\n        },\n{\n            'v': 4.1,\n            'f': \"4.1\",\n        },\n{\n            'v': 2.74,\n            'f': \"2.74\",\n        },\n{\n            'v': 24.5,\n            'f': \"24.5\",\n        },\n{\n            'v': 96.0,\n            'f': \"96.0\",\n        },\n{\n            'v': 2.05,\n            'f': \"2.05\",\n        },\n{\n            'v': 0.76,\n            'f': \"0.76\",\n        },\n{\n            'v': 0.56,\n            'f': \"0.56\",\n        },\n{\n            'v': 1.35,\n            'f': \"1.35\",\n        },\n{\n            'v': 9.2,\n            'f': \"9.2\",\n        },\n{\n            'v': 0.61,\n            'f': \"0.61\",\n        },\n{\n            'v': 1.6,\n            'f': \"1.6\",\n        },\n{\n            'v': 560.0,\n            'f': \"560.0\",\n        },\n{\n            'v': 2,\n            'f': \"2\",\n        }]],\n        columns: [[\"number\", \"index\"], [\"number\", \"alcohol\"], [\"number\", \"malic_acid\"], [\"number\", \"ash\"], [\"number\", \"alcalinity_of_ash\"], [\"number\", \"magnesium\"], [\"number\", \"total_phenols\"], [\"number\", \"flavanoids\"], [\"number\", \"nonflavanoid_phenols\"], [\"number\", \"proanthocyanins\"], [\"number\", \"color_intensity\"], [\"number\", \"hue\"], [\"number\", \"od280/od315_of_diluted_wines\"], [\"number\", \"proline\"], [\"number\", \"target\"]],\n        columnOptions: [{\"width\": \"1px\", \"className\": \"index_column\"}],\n        rowsPerPage: 25,\n        helpUrl: \"https://colab.research.google.com/notebooks/data_table.ipynb\",\n        suppressOutputScrolling: true,\n        minimumWidth: undefined,\n      });\n    "
          },
          "metadata": {},
          "execution_count": 149
        }
      ]
    },
    {
      "cell_type": "code",
      "source": [
        "wine.target"
      ],
      "metadata": {
        "colab": {
          "base_uri": "https://localhost:8080/"
        },
        "id": "qIp1QN9RzGiA",
        "outputId": "acc9cf4c-8349-496b-ebc4-ab86065460fe"
      },
      "execution_count": 148,
      "outputs": [
        {
          "output_type": "execute_result",
          "data": {
            "text/plain": [
              "0      0\n",
              "1      0\n",
              "2      0\n",
              "3      0\n",
              "4      0\n",
              "      ..\n",
              "173    2\n",
              "174    2\n",
              "175    2\n",
              "176    2\n",
              "177    2\n",
              "Name: target, Length: 178, dtype: int64"
            ]
          },
          "metadata": {},
          "execution_count": 148
        }
      ]
    },
    {
      "cell_type": "code",
      "source": [
        "wine.frame.info()"
      ],
      "metadata": {
        "id": "3VD0xp_BKxxe"
      },
      "execution_count": null,
      "outputs": []
    },
    {
      "cell_type": "code",
      "source": [
        "fig, axes = plt.subplots(figsize=(10,10))\n",
        "sns.heatmap(wine.frame.corr(), annot=True, cmap='crest', robust=True, ax=axes)"
      ],
      "metadata": {
        "id": "lsdbGJQ1K8P9"
      },
      "execution_count": null,
      "outputs": []
    },
    {
      "cell_type": "code",
      "source": [
        "sns.pairplot(wine.frame, hue='target', height=2.5)"
      ],
      "metadata": {
        "id": "noCsJBKjGlad"
      },
      "execution_count": null,
      "outputs": []
    },
    {
      "cell_type": "markdown",
      "source": [
        "California"
      ],
      "metadata": {
        "id": "qJ8rarNaGNrx"
      }
    },
    {
      "cell_type": "code",
      "source": [
        "california_housing.frame.info()"
      ],
      "metadata": {
        "id": "xaJ1IW7PGPGq"
      },
      "execution_count": null,
      "outputs": []
    },
    {
      "cell_type": "code",
      "source": [
        "fig, axes = plt.subplots(figsize=(10,10))\n",
        "sns.heatmap(california_housing.frame.corr(), annot=True, cmap='crest', robust=True, ax=axes)"
      ],
      "metadata": {
        "id": "vLn6gW3RQccw"
      },
      "execution_count": null,
      "outputs": []
    },
    {
      "cell_type": "code",
      "source": [
        "temp_scaler = StandardScaler(copy=True)\n",
        "\n",
        "standardized_housing = pd.DataFrame(temp_scaler.fit_transform(california_housing.frame), columns=california_housing.frame.columns)\n",
        "sns.jointplot(data=standardized_housing, x='MedHouseVal', y='MedInc', kind=\"kde\")"
      ],
      "metadata": {
        "id": "BLIiBDmWaMTl"
      },
      "execution_count": null,
      "outputs": []
    },
    {
      "cell_type": "markdown",
      "source": [
        "Diamonds"
      ],
      "metadata": {
        "id": "8xNcuTIKr2Sf"
      }
    },
    {
      "cell_type": "code",
      "source": [
        "diamonds_df.info()"
      ],
      "metadata": {
        "id": "19tjc63qr4A4",
        "colab": {
          "base_uri": "https://localhost:8080/"
        },
        "outputId": "4cc671e4-37ba-473f-c260-f481169225a0"
      },
      "execution_count": 156,
      "outputs": [
        {
          "output_type": "stream",
          "name": "stdout",
          "text": [
            "<class 'pandas.core.frame.DataFrame'>\n",
            "RangeIndex: 53940 entries, 0 to 53939\n",
            "Data columns (total 10 columns):\n",
            " #   Column   Non-Null Count  Dtype  \n",
            "---  ------   --------------  -----  \n",
            " 0   carat    53940 non-null  float64\n",
            " 1   cut      53940 non-null  object \n",
            " 2   color    53940 non-null  object \n",
            " 3   clarity  53940 non-null  object \n",
            " 4   depth    53940 non-null  float64\n",
            " 5   table    53940 non-null  float64\n",
            " 6   price    53940 non-null  int64  \n",
            " 7   x        53940 non-null  float64\n",
            " 8   y        53940 non-null  float64\n",
            " 9   z        53940 non-null  float64\n",
            "dtypes: float64(6), int64(1), object(3)\n",
            "memory usage: 4.1+ MB\n"
          ]
        }
      ]
    },
    {
      "cell_type": "code",
      "source": [
        "diamonds_df.head()\n",
        "# TODO: how analyze nonnumerical data?"
      ],
      "metadata": {
        "id": "_6xQKNb1u0-K",
        "colab": {
          "base_uri": "https://localhost:8080/",
          "height": 196
        },
        "outputId": "d114a543-1fb7-44a5-bed2-fc2e8eea0986"
      },
      "execution_count": 157,
      "outputs": [
        {
          "output_type": "execute_result",
          "data": {
            "text/plain": [
              "   carat      cut color clarity  depth  table  price     x     y     z\n",
              "0   0.23    Ideal     E     SI2   61.5   55.0    326  3.95  3.98  2.43\n",
              "1   0.21  Premium     E     SI1   59.8   61.0    326  3.89  3.84  2.31\n",
              "2   0.23     Good     E     VS1   56.9   65.0    327  4.05  4.07  2.31\n",
              "3   0.29  Premium     I     VS2   62.4   58.0    334  4.20  4.23  2.63\n",
              "4   0.31     Good     J     SI2   63.3   58.0    335  4.34  4.35  2.75"
            ],
            "text/html": [
              "\n",
              "  <div id=\"df-7434bb8e-c59f-445c-8570-fa57b0b4b8ba\">\n",
              "    <div class=\"colab-df-container\">\n",
              "      <div>\n",
              "<style scoped>\n",
              "    .dataframe tbody tr th:only-of-type {\n",
              "        vertical-align: middle;\n",
              "    }\n",
              "\n",
              "    .dataframe tbody tr th {\n",
              "        vertical-align: top;\n",
              "    }\n",
              "\n",
              "    .dataframe thead th {\n",
              "        text-align: right;\n",
              "    }\n",
              "</style>\n",
              "<table border=\"1\" class=\"dataframe\">\n",
              "  <thead>\n",
              "    <tr style=\"text-align: right;\">\n",
              "      <th></th>\n",
              "      <th>carat</th>\n",
              "      <th>cut</th>\n",
              "      <th>color</th>\n",
              "      <th>clarity</th>\n",
              "      <th>depth</th>\n",
              "      <th>table</th>\n",
              "      <th>price</th>\n",
              "      <th>x</th>\n",
              "      <th>y</th>\n",
              "      <th>z</th>\n",
              "    </tr>\n",
              "  </thead>\n",
              "  <tbody>\n",
              "    <tr>\n",
              "      <th>0</th>\n",
              "      <td>0.23</td>\n",
              "      <td>Ideal</td>\n",
              "      <td>E</td>\n",
              "      <td>SI2</td>\n",
              "      <td>61.5</td>\n",
              "      <td>55.0</td>\n",
              "      <td>326</td>\n",
              "      <td>3.95</td>\n",
              "      <td>3.98</td>\n",
              "      <td>2.43</td>\n",
              "    </tr>\n",
              "    <tr>\n",
              "      <th>1</th>\n",
              "      <td>0.21</td>\n",
              "      <td>Premium</td>\n",
              "      <td>E</td>\n",
              "      <td>SI1</td>\n",
              "      <td>59.8</td>\n",
              "      <td>61.0</td>\n",
              "      <td>326</td>\n",
              "      <td>3.89</td>\n",
              "      <td>3.84</td>\n",
              "      <td>2.31</td>\n",
              "    </tr>\n",
              "    <tr>\n",
              "      <th>2</th>\n",
              "      <td>0.23</td>\n",
              "      <td>Good</td>\n",
              "      <td>E</td>\n",
              "      <td>VS1</td>\n",
              "      <td>56.9</td>\n",
              "      <td>65.0</td>\n",
              "      <td>327</td>\n",
              "      <td>4.05</td>\n",
              "      <td>4.07</td>\n",
              "      <td>2.31</td>\n",
              "    </tr>\n",
              "    <tr>\n",
              "      <th>3</th>\n",
              "      <td>0.29</td>\n",
              "      <td>Premium</td>\n",
              "      <td>I</td>\n",
              "      <td>VS2</td>\n",
              "      <td>62.4</td>\n",
              "      <td>58.0</td>\n",
              "      <td>334</td>\n",
              "      <td>4.20</td>\n",
              "      <td>4.23</td>\n",
              "      <td>2.63</td>\n",
              "    </tr>\n",
              "    <tr>\n",
              "      <th>4</th>\n",
              "      <td>0.31</td>\n",
              "      <td>Good</td>\n",
              "      <td>J</td>\n",
              "      <td>SI2</td>\n",
              "      <td>63.3</td>\n",
              "      <td>58.0</td>\n",
              "      <td>335</td>\n",
              "      <td>4.34</td>\n",
              "      <td>4.35</td>\n",
              "      <td>2.75</td>\n",
              "    </tr>\n",
              "  </tbody>\n",
              "</table>\n",
              "</div>\n",
              "      <button class=\"colab-df-convert\" onclick=\"convertToInteractive('df-7434bb8e-c59f-445c-8570-fa57b0b4b8ba')\"\n",
              "              title=\"Convert this dataframe to an interactive table.\"\n",
              "              style=\"display:none;\">\n",
              "        \n",
              "  <svg xmlns=\"http://www.w3.org/2000/svg\" height=\"24px\"viewBox=\"0 0 24 24\"\n",
              "       width=\"24px\">\n",
              "    <path d=\"M0 0h24v24H0V0z\" fill=\"none\"/>\n",
              "    <path d=\"M18.56 5.44l.94 2.06.94-2.06 2.06-.94-2.06-.94-.94-2.06-.94 2.06-2.06.94zm-11 1L8.5 8.5l.94-2.06 2.06-.94-2.06-.94L8.5 2.5l-.94 2.06-2.06.94zm10 10l.94 2.06.94-2.06 2.06-.94-2.06-.94-.94-2.06-.94 2.06-2.06.94z\"/><path d=\"M17.41 7.96l-1.37-1.37c-.4-.4-.92-.59-1.43-.59-.52 0-1.04.2-1.43.59L10.3 9.45l-7.72 7.72c-.78.78-.78 2.05 0 2.83L4 21.41c.39.39.9.59 1.41.59.51 0 1.02-.2 1.41-.59l7.78-7.78 2.81-2.81c.8-.78.8-2.07 0-2.86zM5.41 20L4 18.59l7.72-7.72 1.47 1.35L5.41 20z\"/>\n",
              "  </svg>\n",
              "      </button>\n",
              "      \n",
              "  <style>\n",
              "    .colab-df-container {\n",
              "      display:flex;\n",
              "      flex-wrap:wrap;\n",
              "      gap: 12px;\n",
              "    }\n",
              "\n",
              "    .colab-df-convert {\n",
              "      background-color: #E8F0FE;\n",
              "      border: none;\n",
              "      border-radius: 50%;\n",
              "      cursor: pointer;\n",
              "      display: none;\n",
              "      fill: #1967D2;\n",
              "      height: 32px;\n",
              "      padding: 0 0 0 0;\n",
              "      width: 32px;\n",
              "    }\n",
              "\n",
              "    .colab-df-convert:hover {\n",
              "      background-color: #E2EBFA;\n",
              "      box-shadow: 0px 1px 2px rgba(60, 64, 67, 0.3), 0px 1px 3px 1px rgba(60, 64, 67, 0.15);\n",
              "      fill: #174EA6;\n",
              "    }\n",
              "\n",
              "    [theme=dark] .colab-df-convert {\n",
              "      background-color: #3B4455;\n",
              "      fill: #D2E3FC;\n",
              "    }\n",
              "\n",
              "    [theme=dark] .colab-df-convert:hover {\n",
              "      background-color: #434B5C;\n",
              "      box-shadow: 0px 1px 3px 1px rgba(0, 0, 0, 0.15);\n",
              "      filter: drop-shadow(0px 1px 2px rgba(0, 0, 0, 0.3));\n",
              "      fill: #FFFFFF;\n",
              "    }\n",
              "  </style>\n",
              "\n",
              "      <script>\n",
              "        const buttonEl =\n",
              "          document.querySelector('#df-7434bb8e-c59f-445c-8570-fa57b0b4b8ba button.colab-df-convert');\n",
              "        buttonEl.style.display =\n",
              "          google.colab.kernel.accessAllowed ? 'block' : 'none';\n",
              "\n",
              "        async function convertToInteractive(key) {\n",
              "          const element = document.querySelector('#df-7434bb8e-c59f-445c-8570-fa57b0b4b8ba');\n",
              "          const dataTable =\n",
              "            await google.colab.kernel.invokeFunction('convertToInteractive',\n",
              "                                                     [key], {});\n",
              "          if (!dataTable) return;\n",
              "\n",
              "          const docLinkHtml = 'Like what you see? Visit the ' +\n",
              "            '<a target=\"_blank\" href=https://colab.research.google.com/notebooks/data_table.ipynb>data table notebook</a>'\n",
              "            + ' to learn more about interactive tables.';\n",
              "          element.innerHTML = '';\n",
              "          dataTable['output_type'] = 'display_data';\n",
              "          await google.colab.output.renderOutput(dataTable, element);\n",
              "          const docLink = document.createElement('div');\n",
              "          docLink.innerHTML = docLinkHtml;\n",
              "          element.appendChild(docLink);\n",
              "        }\n",
              "      </script>\n",
              "    </div>\n",
              "  </div>\n",
              "  "
            ],
            "application/vnd.google.colaboratory.module+javascript": "\n      import \"https://ssl.gstatic.com/colaboratory/data_table/99dac6621f6ae8c4/data_table.js\";\n\n      window.createDataTable({\n        data: [[{\n            'v': 0,\n            'f': \"0\",\n        },\n{\n            'v': 0.23,\n            'f': \"0.23\",\n        },\n\"Ideal\",\n\"E\",\n\"SI2\",\n{\n            'v': 61.5,\n            'f': \"61.5\",\n        },\n{\n            'v': 55.0,\n            'f': \"55.0\",\n        },\n{\n            'v': 326,\n            'f': \"326\",\n        },\n{\n            'v': 3.95,\n            'f': \"3.95\",\n        },\n{\n            'v': 3.98,\n            'f': \"3.98\",\n        },\n{\n            'v': 2.43,\n            'f': \"2.43\",\n        }],\n [{\n            'v': 1,\n            'f': \"1\",\n        },\n{\n            'v': 0.21,\n            'f': \"0.21\",\n        },\n\"Premium\",\n\"E\",\n\"SI1\",\n{\n            'v': 59.8,\n            'f': \"59.8\",\n        },\n{\n            'v': 61.0,\n            'f': \"61.0\",\n        },\n{\n            'v': 326,\n            'f': \"326\",\n        },\n{\n            'v': 3.89,\n            'f': \"3.89\",\n        },\n{\n            'v': 3.84,\n            'f': \"3.84\",\n        },\n{\n            'v': 2.31,\n            'f': \"2.31\",\n        }],\n [{\n            'v': 2,\n            'f': \"2\",\n        },\n{\n            'v': 0.23,\n            'f': \"0.23\",\n        },\n\"Good\",\n\"E\",\n\"VS1\",\n{\n            'v': 56.9,\n            'f': \"56.9\",\n        },\n{\n            'v': 65.0,\n            'f': \"65.0\",\n        },\n{\n            'v': 327,\n            'f': \"327\",\n        },\n{\n            'v': 4.05,\n            'f': \"4.05\",\n        },\n{\n            'v': 4.07,\n            'f': \"4.07\",\n        },\n{\n            'v': 2.31,\n            'f': \"2.31\",\n        }],\n [{\n            'v': 3,\n            'f': \"3\",\n        },\n{\n            'v': 0.29,\n            'f': \"0.29\",\n        },\n\"Premium\",\n\"I\",\n\"VS2\",\n{\n            'v': 62.4,\n            'f': \"62.4\",\n        },\n{\n            'v': 58.0,\n            'f': \"58.0\",\n        },\n{\n            'v': 334,\n            'f': \"334\",\n        },\n{\n            'v': 4.2,\n            'f': \"4.2\",\n        },\n{\n            'v': 4.23,\n            'f': \"4.23\",\n        },\n{\n            'v': 2.63,\n            'f': \"2.63\",\n        }],\n [{\n            'v': 4,\n            'f': \"4\",\n        },\n{\n            'v': 0.31,\n            'f': \"0.31\",\n        },\n\"Good\",\n\"J\",\n\"SI2\",\n{\n            'v': 63.3,\n            'f': \"63.3\",\n        },\n{\n            'v': 58.0,\n            'f': \"58.0\",\n        },\n{\n            'v': 335,\n            'f': \"335\",\n        },\n{\n            'v': 4.34,\n            'f': \"4.34\",\n        },\n{\n            'v': 4.35,\n            'f': \"4.35\",\n        },\n{\n            'v': 2.75,\n            'f': \"2.75\",\n        }]],\n        columns: [[\"number\", \"index\"], [\"number\", \"carat\"], [\"string\", \"cut\"], [\"string\", \"color\"], [\"string\", \"clarity\"], [\"number\", \"depth\"], [\"number\", \"table\"], [\"number\", \"price\"], [\"number\", \"x\"], [\"number\", \"y\"], [\"number\", \"z\"]],\n        columnOptions: [{\"width\": \"1px\", \"className\": \"index_column\"}],\n        rowsPerPage: 25,\n        helpUrl: \"https://colab.research.google.com/notebooks/data_table.ipynb\",\n        suppressOutputScrolling: true,\n        minimumWidth: undefined,\n      });\n    "
          },
          "metadata": {},
          "execution_count": 157
        }
      ]
    },
    {
      "cell_type": "code",
      "source": [
        "fig, axes = plt.subplots(figsize=(10,10))\n",
        "sns.heatmap(diamonds_df.corr(), annot=True, cmap='crest', robust=True, ax=axes)"
      ],
      "metadata": {
        "id": "J6gtOBqWvb6J"
      },
      "execution_count": null,
      "outputs": []
    },
    {
      "cell_type": "code",
      "source": [
        "# standardized_diamonds = pd.DataFrame(temp_scaler.fit_transform(diamonds_df), \\\n",
        "# columns=diamonds_df.columns)\n",
        "diamonds_df.head()\n",
        "numerical = ['carat', 'depth', 'table','price', 'x', 'y', 'z']\n",
        "categorical = ['cut', 'color', 'clarity']\n",
        "\n",
        "diamonds_color = diamonds_df['color']"
      ],
      "metadata": {
        "id": "a0NATogZvr1v"
      },
      "execution_count": 158,
      "outputs": []
    },
    {
      "cell_type": "code",
      "source": [
        "diamonds_df.drop(categorical, inplace=True, axis=1)"
      ],
      "metadata": {
        "id": "OXSWwghlQ2XU"
      },
      "execution_count": 159,
      "outputs": []
    },
    {
      "cell_type": "markdown",
      "source": [
        "Customers\n"
      ],
      "metadata": {
        "id": "Z0bK8G2Nvj1r"
      }
    },
    {
      "cell_type": "code",
      "source": [
        "customers_df"
      ],
      "metadata": {
        "id": "9OmoAFsBvlt2"
      },
      "execution_count": null,
      "outputs": []
    },
    {
      "cell_type": "code",
      "source": [
        "encoder = OrdinalEncoder()\n",
        "\n",
        "customers_df['Gender'] = encoder.fit_transform(customers_df.Gender.values.reshape(-1, 1))\n",
        "customers_df['Profession'] = encoder.fit_transform(customers_df.Profession.values.reshape(-1, 1))"
      ],
      "metadata": {
        "id": "jfqVqyp4wRIz"
      },
      "execution_count": null,
      "outputs": []
    },
    {
      "cell_type": "code",
      "source": [
        "fig, axes = plt.subplots(figsize=(10,10))\n",
        "sns.heatmap(customers_df.corr(), annot=True, cmap='crest', robust=True, ax=axes)"
      ],
      "metadata": {
        "id": "zJAszbY2x5TE"
      },
      "execution_count": null,
      "outputs": []
    },
    {
      "cell_type": "code",
      "source": [
        "sns.pairplot(customers_df, hue='Profession', height=2.5)"
      ],
      "metadata": {
        "id": "L20nMAxPzK0F"
      },
      "execution_count": null,
      "outputs": []
    },
    {
      "cell_type": "code",
      "source": [
        "sns.pairplot(customers_df, hue='Gender', height=2.5)"
      ],
      "metadata": {
        "id": "svU18JVKzV3f"
      },
      "execution_count": null,
      "outputs": []
    },
    {
      "cell_type": "markdown",
      "source": [
        "# Zad 1"
      ],
      "metadata": {
        "id": "PhJSAToZzRdX"
      }
    },
    {
      "cell_type": "code",
      "source": [
        "pca_pipeline = Pipeline(\n",
        "    [\n",
        "      ('scaler', StandardScaler()),\n",
        "      ('pca_dim_reduction', PCA(n_components=2)),\n",
        "    ]\n",
        ")"
      ],
      "metadata": {
        "id": "KuvfP9mex1_M"
      },
      "execution_count": null,
      "outputs": []
    },
    {
      "cell_type": "code",
      "source": [
        "iris_target = iris.frame['target']\n",
        "iris_df = iris.frame.drop(['target'], axis=1)"
      ],
      "metadata": {
        "id": "Rcgjb_mw80NW"
      },
      "execution_count": null,
      "outputs": []
    },
    {
      "cell_type": "code",
      "source": [
        "iris_pca = pd.DataFrame(data=pca_pipeline.fit_transform(iris_df), columns = ['pca1', 'pca2'])"
      ],
      "metadata": {
        "id": "TD1R1zIC1o8I"
      },
      "execution_count": null,
      "outputs": []
    },
    {
      "cell_type": "code",
      "source": [
        "sns.scatterplot(data=iris_pca, x='pca1', y='pca2', hue=iris.frame['target'])"
      ],
      "metadata": {
        "id": "hihT9c1m3XLY"
      },
      "execution_count": null,
      "outputs": []
    },
    {
      "cell_type": "code",
      "source": [
        "wine_df = wine.frame.drop(['target'], axis=1)"
      ],
      "metadata": {
        "id": "WVfc-12Y_WrV"
      },
      "execution_count": null,
      "outputs": []
    },
    {
      "cell_type": "code",
      "source": [
        "wine_pca = pd.DataFrame(data = pca_pipeline.fit_transform(wine_df), columns = ['pca1', 'pca2'])"
      ],
      "metadata": {
        "id": "IOpkMct7Cl8N"
      },
      "execution_count": null,
      "outputs": []
    },
    {
      "cell_type": "code",
      "source": [
        "sns.scatterplot(data=wine_pca, x='pca1', y='pca2', hue=wine.frame['target'])"
      ],
      "metadata": {
        "id": "lfOindNFCrAi"
      },
      "execution_count": null,
      "outputs": []
    },
    {
      "cell_type": "code",
      "source": [
        "customers_df = customers_df.dropna().reset_index(drop=True)\n",
        "customers_temp = customers_df.drop(['Gender', 'Profession'], axis=1)\n",
        "customers_temp.head()\n",
        "# print(customers_df.shape)"
      ],
      "metadata": {
        "id": "em6chXyE0eUL"
      },
      "execution_count": null,
      "outputs": []
    },
    {
      "cell_type": "code",
      "source": [
        "customers_pca = pd.DataFrame(pca_pipeline.fit_transform(customers_temp), columns = ['pca1', 'pca2'])\n",
        "sns.scatterplot(data=customers_pca, x='pca1', y='pca2', hue=customers_df['Gender'])\n",
        "# TODO: finde better dataset"
      ],
      "metadata": {
        "id": "iR41zCc25FCb"
      },
      "execution_count": null,
      "outputs": []
    },
    {
      "cell_type": "markdown",
      "source": [
        "# Zad 2"
      ],
      "metadata": {
        "id": "amOL-K41F-eY"
      }
    },
    {
      "cell_type": "code",
      "source": [
        "# california_housing.frame.info()\n",
        "california_pca = pd.DataFrame(pca_pipeline.fit_transform(california_housing.frame), columns = ['pca1', 'pca2'])"
      ],
      "metadata": {
        "id": "rdsKUjL7GBLT"
      },
      "execution_count": null,
      "outputs": []
    },
    {
      "cell_type": "code",
      "source": [
        "sns.scatterplot(data=california_pca, x='pca1', y='pca2')"
      ],
      "metadata": {
        "id": "_3qthACInTJE"
      },
      "execution_count": null,
      "outputs": []
    },
    {
      "cell_type": "code",
      "source": [
        "diamonds_df.head()"
      ],
      "metadata": {
        "id": "A0woW3S86aMk"
      },
      "execution_count": null,
      "outputs": []
    },
    {
      "cell_type": "code",
      "source": [
        "diamonds_pca = pd.DataFrame(pca_pipeline.fit_transform(diamonds_df), columns = ['pca1', 'pca2'])"
      ],
      "metadata": {
        "id": "i23quZU06jDb"
      },
      "execution_count": null,
      "outputs": []
    },
    {
      "cell_type": "code",
      "source": [
        "sns.scatterplot(data=diamonds_pca, x='pca1', y='pca2')"
      ],
      "metadata": {
        "id": "dg_p5M4X7OnC"
      },
      "execution_count": null,
      "outputs": []
    },
    {
      "cell_type": "markdown",
      "source": [
        "# Zad 3"
      ],
      "metadata": {
        "id": "t-ImiBgJ7fwG"
      }
    },
    {
      "cell_type": "code",
      "source": [
        "standarization_pipeline = Pipeline(\n",
        "    [\n",
        "      ('scaler', StandardScaler()),\n",
        "    ]\n",
        ")\n",
        "\n",
        "lda = LDA(n_components=2)"
      ],
      "metadata": {
        "id": "mLmpo3Ok7hSj"
      },
      "execution_count": null,
      "outputs": []
    },
    {
      "cell_type": "code",
      "source": [
        "iris_stand = pd.DataFrame(data=standarization_pipeline.fit_transform(iris_df))\n",
        "iris_lda = lda.fit_transform(iris_stand, iris_target)"
      ],
      "metadata": {
        "id": "PAavvbno8G9i"
      },
      "execution_count": null,
      "outputs": []
    },
    {
      "cell_type": "code",
      "source": [
        "wine_df\n",
        "wine_stand = pd.DataFrame(data=standarization_pipeline.fit_transform(wine_df))\n",
        "\n",
        "wine_lda = lda.fit_transform(wine_stand, wine.target)"
      ],
      "metadata": {
        "id": "8VLb5vk576Q9"
      },
      "execution_count": 151,
      "outputs": []
    },
    {
      "cell_type": "code",
      "source": [
        "# customers_lda = pd.DataFrame(pca_pipeline.fit_transform(customers_temp), columns = ['lda1', 'lda2'])\n",
        "# sns.scatterplot(data=customers_lda, x='lda1', y='lda2')\n",
        "# customers_profession = customers_df['Profession']\n",
        "# customers_df.drop(['Profession'], inplace=True, axis=1)\n",
        "\n",
        "customers_stand = pd.DataFrame(data=standarization_pipeline.fit_transform(customers_df))\n",
        "customers_lda = lda.fit_transform(customers_stand, customers_profession)"
      ],
      "metadata": {
        "id": "jV9HOycp8-Tb"
      },
      "execution_count": 145,
      "outputs": []
    },
    {
      "cell_type": "code",
      "source": [
        "# california_lda = pd.DataFrame(pca_pipeline.fit_transform(california_housing.frame), columns = ['lda1', 'lda2'])\n",
        "# sns.scatterplot(data=wine_lda, x='lda1', y='lda2')"
      ],
      "metadata": {
        "id": "PJlS1yJU8qY1"
      },
      "execution_count": null,
      "outputs": []
    },
    {
      "cell_type": "code",
      "source": [
        "diamonds_stand = pd.DataFrame(data=standarization_pipeline.fit_transform(diamonds_df))\n",
        "diamonds_lda = lda.fit_transform(diamonds_stand, diamonds_color)\n",
        "# diamonds_lda = pd.DataFrame(pca_pipeline.fit_transform(diamonds_df), columns = ['lda1', 'lda2'])\n",
        "# sns.scatterplot(data=wine_lda, x='lda1', y='lda2')"
      ],
      "metadata": {
        "id": "0kqzKZyo8zXG"
      },
      "execution_count": 161,
      "outputs": []
    },
    {
      "cell_type": "markdown",
      "source": [
        "# Zad 4"
      ],
      "metadata": {
        "id": "DA8ig7ya-wMF"
      }
    },
    {
      "cell_type": "code",
      "source": [
        "# svd_pipeline = Pipeline(\n",
        "#     [\n",
        "#       ('scaler', StandardScaler()),\n",
        "#       ('svd_dim_reduction', TruncatedSVD()),\n",
        "#     ]\n",
        "# )\n",
        "\n",
        "svd = TruncatedSVD(n_components=2)"
      ],
      "metadata": {
        "id": "H2rWsZKn-ynj"
      },
      "execution_count": 164,
      "outputs": []
    },
    {
      "cell_type": "code",
      "source": [
        "# iris_stand\n",
        "svd.fit_transform(iris_stand)"
      ],
      "metadata": {
        "id": "Lr1w14xU_vtv"
      },
      "execution_count": null,
      "outputs": []
    },
    {
      "cell_type": "code",
      "source": [
        "svd.fit_transform(wine_stand)"
      ],
      "metadata": {
        "id": "zst-6DN4AHGf"
      },
      "execution_count": null,
      "outputs": []
    },
    {
      "cell_type": "code",
      "source": [
        "svd.fit_transform(customers_stand)"
      ],
      "metadata": {
        "id": "Hw1Cy_lfBC1P"
      },
      "execution_count": null,
      "outputs": []
    },
    {
      "cell_type": "code",
      "source": [
        "svd.fit_transform(diamonds_stand)"
      ],
      "metadata": {
        "id": "K1zlYaU5BIMm"
      },
      "execution_count": null,
      "outputs": []
    }
  ]
}