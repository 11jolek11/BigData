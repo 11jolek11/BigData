{
  "nbformat": 4,
  "nbformat_minor": 0,
  "metadata": {
    "colab": {
      "provenance": [],
      "toc_visible": true,
      "mount_file_id": "https://github.com/11jolek11/BigData/blob/yfinance/List5.ipynb",
      "authorship_tag": "ABX9TyOKFWDoU6NqZIORgo7xOJaY",
      "include_colab_link": true
    },
    "kernelspec": {
      "name": "python3",
      "display_name": "Python 3"
    },
    "language_info": {
      "name": "python"
    }
  },
  "cells": [
    {
      "cell_type": "markdown",
      "metadata": {
        "id": "view-in-github",
        "colab_type": "text"
      },
      "source": [
        "<a href=\"https://colab.research.google.com/github/11jolek11/BigData/blob/yfinance/List5.ipynb\" target=\"_parent\"><img src=\"https://colab.research.google.com/assets/colab-badge.svg\" alt=\"Open In Colab\"/></a>"
      ]
    },
    {
      "cell_type": "code",
      "source": [
        "from google.colab import files\n",
        "files.upload()\n",
        "\n",
        "!pip install -q kaggle\n",
        "!mkdir ~/.kaggle\n",
        "!cp kaggle.json ~/.kaggle/\n",
        "!chmod 600 ~/.kaggle/kaggle.json\n",
        "# !kaggle datasets list"
      ],
      "metadata": {
        "id": "vA_iMQFrriUT"
      },
      "execution_count": null,
      "outputs": []
    },
    {
      "cell_type": "code",
      "source": [
        "!kaggle datasets download -d shivam2503/diamonds\n",
        "!kaggle datasets download -d datascientistanna/customers-dataset\n",
        "!mkdir dataset\n",
        "!unzip -o -q /content/diamonds.zip -d /content/dataset\n",
        "!unzip -o -q /content/customers-dataset.zip -d /content/dataset"
      ],
      "metadata": {
        "id": "Kjdz50tWpcUn"
      },
      "execution_count": null,
      "outputs": []
    },
    {
      "cell_type": "code",
      "execution_count": null,
      "metadata": {
        "id": "Kbh8jCR578gK"
      },
      "outputs": [],
      "source": [
        "import seaborn as sns\n",
        "from sklearn import datasets\n",
        "from sklearn.decomposition import PCA\n",
        "import matplotlib.pyplot as plt\n",
        "import pandas as pd\n",
        "from sklearn.pipeline import Pipeline\n",
        "from sklearn.preprocessing import StandardScaler\n",
        "from sklearn.preprocessing import OrdinalEncoder\n",
        "from sklearn.discriminant_analysis import LinearDiscriminantAnalysis as LDA\n",
        "from sklearn.decomposition import TruncatedSVD"
      ]
    },
    {
      "cell_type": "code",
      "source": [
        "from google.colab import data_table\n",
        "data_table.enable_dataframe_formatter()"
      ],
      "metadata": {
        "id": "a3FQYvqImbne"
      },
      "execution_count": null,
      "outputs": []
    },
    {
      "cell_type": "markdown",
      "source": [
        "# Load data"
      ],
      "metadata": {
        "id": "6EyRqHerzIeY"
      }
    },
    {
      "cell_type": "code",
      "source": [
        "iris = datasets.load_iris(as_frame=True)\n",
        "wine = datasets.load_wine(as_frame=True)\n",
        "california_housing = datasets.fetch_california_housing(as_frame=True)\n",
        "diamonds_df = pd.read_csv(\"/content/dataset/diamonds.csv\", sep=\",\", header=0)\n",
        "customers_df = pd.read_csv(\"/content/dataset/Customers.csv\", sep=\",\", header=0)"
      ],
      "metadata": {
        "id": "hn5DoGR8jA-4"
      },
      "execution_count": null,
      "outputs": []
    },
    {
      "cell_type": "code",
      "source": [
        "diamonds_df.drop(['Unnamed: 0'], axis=1, inplace=True)"
      ],
      "metadata": {
        "id": "X5kSsACQMG0G"
      },
      "execution_count": null,
      "outputs": []
    },
    {
      "cell_type": "markdown",
      "source": [
        "Iris"
      ],
      "metadata": {
        "id": "Tpq-qGP4GdbW"
      }
    },
    {
      "cell_type": "code",
      "source": [
        "iris.target_names"
      ],
      "metadata": {
        "id": "X4a_oZp9_B3q"
      },
      "execution_count": null,
      "outputs": []
    },
    {
      "cell_type": "code",
      "source": [
        "iris.frame"
      ],
      "metadata": {
        "id": "r8uPUpc-HZge"
      },
      "execution_count": null,
      "outputs": []
    },
    {
      "cell_type": "code",
      "source": [
        "iris.frame.info()"
      ],
      "metadata": {
        "id": "ZrLqUjIqKvnu"
      },
      "execution_count": null,
      "outputs": []
    },
    {
      "cell_type": "code",
      "source": [
        "sns.heatmap(iris.frame.corr(), annot=True, cmap='rainbow')"
      ],
      "metadata": {
        "id": "Fi8bxfCyK-Fu"
      },
      "execution_count": null,
      "outputs": []
    },
    {
      "cell_type": "code",
      "source": [
        "sns.pairplot(iris.frame, hue='target', height=2.5)"
      ],
      "metadata": {
        "id": "rDYOPwQ0K2Du"
      },
      "execution_count": null,
      "outputs": []
    },
    {
      "cell_type": "markdown",
      "source": [
        "Wine"
      ],
      "metadata": {
        "id": "VkCZvkT0GLhj"
      }
    },
    {
      "cell_type": "code",
      "source": [
        "wine.frame"
      ],
      "metadata": {
        "id": "mT2EBheDHcXG"
      },
      "execution_count": null,
      "outputs": []
    },
    {
      "cell_type": "code",
      "source": [
        "wine.target"
      ],
      "metadata": {
        "id": "qIp1QN9RzGiA"
      },
      "execution_count": null,
      "outputs": []
    },
    {
      "cell_type": "code",
      "source": [
        "wine.frame.info()"
      ],
      "metadata": {
        "id": "3VD0xp_BKxxe"
      },
      "execution_count": null,
      "outputs": []
    },
    {
      "cell_type": "code",
      "source": [
        "fig, axes = plt.subplots(figsize=(10,10))\n",
        "sns.heatmap(wine.frame.corr(), annot=True, cmap='crest', robust=True, ax=axes)"
      ],
      "metadata": {
        "id": "lsdbGJQ1K8P9"
      },
      "execution_count": null,
      "outputs": []
    },
    {
      "cell_type": "code",
      "source": [
        "sns.pairplot(wine.frame, hue='target', height=2.5)"
      ],
      "metadata": {
        "id": "noCsJBKjGlad"
      },
      "execution_count": null,
      "outputs": []
    },
    {
      "cell_type": "markdown",
      "source": [
        "California"
      ],
      "metadata": {
        "id": "qJ8rarNaGNrx"
      }
    },
    {
      "cell_type": "code",
      "source": [
        "california_housing.frame.info()"
      ],
      "metadata": {
        "id": "xaJ1IW7PGPGq"
      },
      "execution_count": null,
      "outputs": []
    },
    {
      "cell_type": "code",
      "source": [
        "fig, axes = plt.subplots(figsize=(10,10))\n",
        "sns.heatmap(california_housing.frame.corr(), annot=True, cmap='crest', robust=True, ax=axes)"
      ],
      "metadata": {
        "id": "vLn6gW3RQccw"
      },
      "execution_count": null,
      "outputs": []
    },
    {
      "cell_type": "code",
      "source": [
        "temp_scaler = StandardScaler(copy=True)\n",
        "\n",
        "standardized_housing = pd.DataFrame(temp_scaler.fit_transform(california_housing.frame), columns=california_housing.frame.columns)\n",
        "sns.jointplot(data=standardized_housing, x='MedHouseVal', y='MedInc', kind=\"kde\")"
      ],
      "metadata": {
        "id": "BLIiBDmWaMTl"
      },
      "execution_count": null,
      "outputs": []
    },
    {
      "cell_type": "markdown",
      "source": [
        "Diamonds"
      ],
      "metadata": {
        "id": "8xNcuTIKr2Sf"
      }
    },
    {
      "cell_type": "code",
      "source": [
        "diamonds_df.info()"
      ],
      "metadata": {
        "id": "19tjc63qr4A4"
      },
      "execution_count": null,
      "outputs": []
    },
    {
      "cell_type": "code",
      "source": [
        "diamonds_df.head()\n",
        "# TODO: how analyze nonnumerical data?"
      ],
      "metadata": {
        "id": "_6xQKNb1u0-K"
      },
      "execution_count": null,
      "outputs": []
    },
    {
      "cell_type": "code",
      "source": [
        "fig, axes = plt.subplots(figsize=(10,10))\n",
        "sns.heatmap(diamonds_df.corr(), annot=True, cmap='crest', robust=True, ax=axes)"
      ],
      "metadata": {
        "id": "J6gtOBqWvb6J"
      },
      "execution_count": null,
      "outputs": []
    },
    {
      "cell_type": "code",
      "source": [
        "# standardized_diamonds = pd.DataFrame(temp_scaler.fit_transform(diamonds_df), \\\n",
        "# columns=diamonds_df.columns)\n",
        "diamonds_df.head()\n",
        "numerical = ['carat', 'depth', 'table','price', 'x', 'y', 'z']\n",
        "categorical = ['cut', 'color', 'clarity']\n",
        "\n",
        "diamonds_color = diamonds_df['color']"
      ],
      "metadata": {
        "id": "a0NATogZvr1v"
      },
      "execution_count": null,
      "outputs": []
    },
    {
      "cell_type": "code",
      "source": [
        "diamonds_df.drop(categorical, inplace=True, axis=1)"
      ],
      "metadata": {
        "id": "OXSWwghlQ2XU"
      },
      "execution_count": null,
      "outputs": []
    },
    {
      "cell_type": "markdown",
      "source": [
        "Customers\n"
      ],
      "metadata": {
        "id": "Z0bK8G2Nvj1r"
      }
    },
    {
      "cell_type": "code",
      "source": [
        "customers_df"
      ],
      "metadata": {
        "id": "9OmoAFsBvlt2"
      },
      "execution_count": null,
      "outputs": []
    },
    {
      "cell_type": "code",
      "source": [
        "encoder = OrdinalEncoder()\n",
        "\n",
        "customers_df['Gender'] = encoder.fit_transform(customers_df.Gender.values.reshape(-1, 1))\n",
        "customers_df['Profession'] = encoder.fit_transform(customers_df.Profession.values.reshape(-1, 1))"
      ],
      "metadata": {
        "id": "jfqVqyp4wRIz"
      },
      "execution_count": null,
      "outputs": []
    },
    {
      "cell_type": "code",
      "source": [
        "fig, axes = plt.subplots(figsize=(10,10))\n",
        "sns.heatmap(customers_df.corr(), annot=True, cmap='crest', robust=True, ax=axes)"
      ],
      "metadata": {
        "id": "zJAszbY2x5TE"
      },
      "execution_count": null,
      "outputs": []
    },
    {
      "cell_type": "code",
      "source": [
        "sns.pairplot(customers_df, hue='Profession', height=2.5)"
      ],
      "metadata": {
        "id": "L20nMAxPzK0F"
      },
      "execution_count": null,
      "outputs": []
    },
    {
      "cell_type": "code",
      "source": [
        "sns.pairplot(customers_df, hue='Gender', height=2.5)"
      ],
      "metadata": {
        "id": "svU18JVKzV3f"
      },
      "execution_count": null,
      "outputs": []
    },
    {
      "cell_type": "markdown",
      "source": [
        "# Zad 1"
      ],
      "metadata": {
        "id": "PhJSAToZzRdX"
      }
    },
    {
      "cell_type": "code",
      "source": [
        "pca_pipeline = Pipeline(\n",
        "    [\n",
        "      ('scaler', StandardScaler()),\n",
        "      ('pca_dim_reduction', PCA(n_components=2)),\n",
        "    ]\n",
        ")"
      ],
      "metadata": {
        "id": "KuvfP9mex1_M"
      },
      "execution_count": null,
      "outputs": []
    },
    {
      "cell_type": "code",
      "source": [
        "iris_target = iris.frame['target']\n",
        "iris_df = iris.frame.drop(['target'], axis=1)"
      ],
      "metadata": {
        "id": "Rcgjb_mw80NW"
      },
      "execution_count": null,
      "outputs": []
    },
    {
      "cell_type": "code",
      "source": [
        "iris_pca = pd.DataFrame(data=pca_pipeline.fit_transform(iris_df), columns = ['pca1', 'pca2'])"
      ],
      "metadata": {
        "id": "TD1R1zIC1o8I"
      },
      "execution_count": null,
      "outputs": []
    },
    {
      "cell_type": "code",
      "source": [
        "sns.scatterplot(data=iris_pca, x='pca1', y='pca2', hue=iris.frame['target'])"
      ],
      "metadata": {
        "id": "hihT9c1m3XLY"
      },
      "execution_count": null,
      "outputs": []
    },
    {
      "cell_type": "code",
      "source": [
        "wine_df = wine.frame.drop(['target'], axis=1)"
      ],
      "metadata": {
        "id": "WVfc-12Y_WrV"
      },
      "execution_count": null,
      "outputs": []
    },
    {
      "cell_type": "code",
      "source": [
        "wine_pca = pd.DataFrame(data = pca_pipeline.fit_transform(wine_df), columns = ['pca1', 'pca2'])"
      ],
      "metadata": {
        "id": "IOpkMct7Cl8N"
      },
      "execution_count": null,
      "outputs": []
    },
    {
      "cell_type": "code",
      "source": [
        "sns.scatterplot(data=wine_pca, x='pca1', y='pca2', hue=wine.frame['target'])"
      ],
      "metadata": {
        "id": "lfOindNFCrAi"
      },
      "execution_count": null,
      "outputs": []
    },
    {
      "cell_type": "code",
      "source": [
        "customers_df = customers_df.dropna().reset_index(drop=True)\n",
        "customers_temp = customers_df.drop(['Gender', 'Profession'], axis=1)\n",
        "customers_temp.head()\n",
        "# print(customers_df.shape)"
      ],
      "metadata": {
        "id": "em6chXyE0eUL"
      },
      "execution_count": null,
      "outputs": []
    },
    {
      "cell_type": "code",
      "source": [
        "customers_pca = pd.DataFrame(pca_pipeline.fit_transform(customers_temp), columns = ['pca1', 'pca2'])\n",
        "sns.scatterplot(data=customers_pca, x='pca1', y='pca2', hue=customers_df['Gender'])\n",
        "# TODO: finde better dataset"
      ],
      "metadata": {
        "id": "iR41zCc25FCb"
      },
      "execution_count": null,
      "outputs": []
    },
    {
      "cell_type": "markdown",
      "source": [
        "# Zad 2"
      ],
      "metadata": {
        "id": "amOL-K41F-eY"
      }
    },
    {
      "cell_type": "code",
      "source": [
        "# california_housing.frame.info()\n",
        "california_pca = pd.DataFrame(pca_pipeline.fit_transform(california_housing.frame), columns = ['pca1', 'pca2'])"
      ],
      "metadata": {
        "id": "rdsKUjL7GBLT"
      },
      "execution_count": null,
      "outputs": []
    },
    {
      "cell_type": "code",
      "source": [
        "sns.scatterplot(data=california_pca, x='pca1', y='pca2')"
      ],
      "metadata": {
        "id": "_3qthACInTJE"
      },
      "execution_count": null,
      "outputs": []
    },
    {
      "cell_type": "code",
      "source": [
        "diamonds_df.head()"
      ],
      "metadata": {
        "id": "A0woW3S86aMk"
      },
      "execution_count": null,
      "outputs": []
    },
    {
      "cell_type": "code",
      "source": [
        "diamonds_pca = pd.DataFrame(pca_pipeline.fit_transform(diamonds_df), columns = ['pca1', 'pca2'])"
      ],
      "metadata": {
        "id": "i23quZU06jDb"
      },
      "execution_count": null,
      "outputs": []
    },
    {
      "cell_type": "code",
      "source": [
        "sns.scatterplot(data=diamonds_pca, x='pca1', y='pca2')"
      ],
      "metadata": {
        "id": "dg_p5M4X7OnC"
      },
      "execution_count": null,
      "outputs": []
    },
    {
      "cell_type": "markdown",
      "source": [
        "# Zad 3"
      ],
      "metadata": {
        "id": "t-ImiBgJ7fwG"
      }
    },
    {
      "cell_type": "code",
      "source": [
        "standarization_pipeline = Pipeline(\n",
        "    [\n",
        "      ('scaler', StandardScaler()),\n",
        "    ]\n",
        ")\n",
        "\n",
        "lda = LDA(n_components=2)"
      ],
      "metadata": {
        "id": "mLmpo3Ok7hSj"
      },
      "execution_count": null,
      "outputs": []
    },
    {
      "cell_type": "code",
      "source": [
        "iris_stand = pd.DataFrame(data=standarization_pipeline.fit_transform(iris_df))\n",
        "iris_lda = lda.fit_transform(iris_stand, iris_target)"
      ],
      "metadata": {
        "id": "PAavvbno8G9i"
      },
      "execution_count": null,
      "outputs": []
    },
    {
      "cell_type": "code",
      "source": [
        "wine_df\n",
        "wine_stand = pd.DataFrame(data=standarization_pipeline.fit_transform(wine_df))\n",
        "\n",
        "wine_lda = lda.fit_transform(wine_stand, wine.target)"
      ],
      "metadata": {
        "id": "8VLb5vk576Q9"
      },
      "execution_count": null,
      "outputs": []
    },
    {
      "cell_type": "code",
      "source": [
        "# customers_lda = pd.DataFrame(pca_pipeline.fit_transform(customers_temp), columns = ['lda1', 'lda2'])\n",
        "# sns.scatterplot(data=customers_lda, x='lda1', y='lda2')\n",
        "customers_profession = customers_df['Profession']\n",
        "# customers_df.drop(['Profession'], inplace=True, axis=1)\n",
        "\n",
        "customers_stand = pd.DataFrame(data=standarization_pipeline.fit_transform(customers_df))\n",
        "customers_lda = lda.fit_transform(customers_stand, customers_profession)"
      ],
      "metadata": {
        "id": "jV9HOycp8-Tb"
      },
      "execution_count": null,
      "outputs": []
    },
    {
      "cell_type": "code",
      "source": [
        "# california_lda = pd.DataFrame(pca_pipeline.fit_transform(california_housing.frame), columns = ['lda1', 'lda2'])\n",
        "# sns.scatterplot(data=wine_lda, x='lda1', y='lda2')\n",
        "california_stand = pd.DataFrame(data=standarization_pipeline.fit_transform(california_housing.frame))\n",
        "california_lda = lda.fit_transform(california_stand, california_housing.frame.HouseAge)\n",
        "# california_housing.frame"
      ],
      "metadata": {
        "id": "PJlS1yJU8qY1"
      },
      "execution_count": null,
      "outputs": []
    },
    {
      "cell_type": "code",
      "source": [
        "diamonds_stand = pd.DataFrame(data=standarization_pipeline.fit_transform(diamonds_df))\n",
        "diamonds_lda = lda.fit_transform(diamonds_stand, diamonds_color)\n",
        "# diamonds_lda = pd.DataFrame(pca_pipeline.fit_transform(diamonds_df), columns = ['lda1', 'lda2'])\n",
        "# sns.scatterplot(data=wine_lda, x='lda1', y='lda2')"
      ],
      "metadata": {
        "id": "0kqzKZyo8zXG"
      },
      "execution_count": null,
      "outputs": []
    },
    {
      "cell_type": "markdown",
      "source": [
        "# Zad 4"
      ],
      "metadata": {
        "id": "DA8ig7ya-wMF"
      }
    },
    {
      "cell_type": "code",
      "source": [
        "# svd_pipeline = Pipeline(\n",
        "#     [\n",
        "#       ('scaler', StandardScaler()),\n",
        "#       ('svd_dim_reduction', TruncatedSVD()),\n",
        "#     ]\n",
        "# )\n",
        "\n",
        "svd = TruncatedSVD(n_components=2)"
      ],
      "metadata": {
        "id": "H2rWsZKn-ynj"
      },
      "execution_count": null,
      "outputs": []
    },
    {
      "cell_type": "code",
      "source": [
        "# iris_stand\n",
        "svd.fit_transform(iris_stand)"
      ],
      "metadata": {
        "id": "Lr1w14xU_vtv"
      },
      "execution_count": null,
      "outputs": []
    },
    {
      "cell_type": "code",
      "source": [
        "svd.fit_transform(california_stand)"
      ],
      "metadata": {
        "id": "vvlvc2WPsXaW"
      },
      "execution_count": null,
      "outputs": []
    },
    {
      "cell_type": "code",
      "source": [
        "svd.fit_transform(wine_stand)"
      ],
      "metadata": {
        "id": "zst-6DN4AHGf"
      },
      "execution_count": null,
      "outputs": []
    },
    {
      "cell_type": "code",
      "source": [
        "svd.fit_transform(customers_stand)"
      ],
      "metadata": {
        "id": "Hw1Cy_lfBC1P"
      },
      "execution_count": null,
      "outputs": []
    },
    {
      "cell_type": "code",
      "source": [
        "svd.fit_transform(diamonds_stand)"
      ],
      "metadata": {
        "id": "K1zlYaU5BIMm"
      },
      "execution_count": null,
      "outputs": []
    }
  ]
}