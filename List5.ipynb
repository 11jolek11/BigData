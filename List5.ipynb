{
  "nbformat": 4,
  "nbformat_minor": 0,
  "metadata": {
    "colab": {
      "provenance": [],
      "authorship_tag": "ABX9TyNc/oJDPsjKDAYHA3/NedZJ",
      "include_colab_link": true
    },
    "kernelspec": {
      "name": "python3",
      "display_name": "Python 3"
    },
    "language_info": {
      "name": "python"
    }
  },
  "cells": [
    {
      "cell_type": "markdown",
      "metadata": {
        "id": "view-in-github",
        "colab_type": "text"
      },
      "source": [
        "<a href=\"https://colab.research.google.com/github/11jolek11/BigData/blob/yfinance/List5.ipynb\" target=\"_parent\"><img src=\"https://colab.research.google.com/assets/colab-badge.svg\" alt=\"Open In Colab\"/></a>"
      ]
    },
    {
      "cell_type": "code",
      "execution_count": 33,
      "metadata": {
        "id": "Kbh8jCR578gK"
      },
      "outputs": [],
      "source": [
        "import seaborn as sns\n",
        "from sklearn import datasets\n",
        "from sklearn.decomposition import PCA\n",
        "import matplotlib.pyplot as plt\n",
        "import pandas as pd\n",
        "from sklearn.pipeline import Pipeline\n",
        "from sklearn.preprocessing import StandardScaler, MinMaxScaler"
      ]
    },
    {
      "cell_type": "code",
      "source": [
        "from google.colab import data_table\n",
        "data_table.enable_dataframe_formatter()"
      ],
      "metadata": {
        "id": "a3FQYvqImbne"
      },
      "execution_count": 55,
      "outputs": []
    },
    {
      "cell_type": "markdown",
      "source": [
        "# Load data"
      ],
      "metadata": {
        "id": "6EyRqHerzIeY"
      }
    },
    {
      "cell_type": "code",
      "source": [
        "iris = datasets.load_iris(as_frame=True)\n",
        "wine = datasets.load_wine(as_frame=True)\n",
        "california_housing = datasets.fetch_california_housing(as_frame=True)"
      ],
      "metadata": {
        "id": "hn5DoGR8jA-4"
      },
      "execution_count": 136,
      "outputs": []
    },
    {
      "cell_type": "markdown",
      "source": [
        "Iris"
      ],
      "metadata": {
        "id": "Tpq-qGP4GdbW"
      }
    },
    {
      "cell_type": "code",
      "source": [
        "iris.target_names"
      ],
      "metadata": {
        "id": "X4a_oZp9_B3q"
      },
      "execution_count": null,
      "outputs": []
    },
    {
      "cell_type": "code",
      "source": [
        "iris.frame"
      ],
      "metadata": {
        "id": "r8uPUpc-HZge"
      },
      "execution_count": null,
      "outputs": []
    },
    {
      "cell_type": "code",
      "source": [
        "iris.frame.info()"
      ],
      "metadata": {
        "id": "ZrLqUjIqKvnu"
      },
      "execution_count": null,
      "outputs": []
    },
    {
      "cell_type": "code",
      "source": [
        "sns.heatmap(iris.frame.corr(), annot=True, cmap='rainbow')"
      ],
      "metadata": {
        "id": "Fi8bxfCyK-Fu"
      },
      "execution_count": null,
      "outputs": []
    },
    {
      "cell_type": "code",
      "source": [
        "sns.pairplot(iris.frame, hue='target', height=2.5)"
      ],
      "metadata": {
        "id": "rDYOPwQ0K2Du"
      },
      "execution_count": null,
      "outputs": []
    },
    {
      "cell_type": "markdown",
      "source": [
        "Wine"
      ],
      "metadata": {
        "id": "VkCZvkT0GLhj"
      }
    },
    {
      "cell_type": "code",
      "source": [
        "wine.frame"
      ],
      "metadata": {
        "id": "mT2EBheDHcXG"
      },
      "execution_count": null,
      "outputs": []
    },
    {
      "cell_type": "code",
      "source": [
        "wine.frame.info()"
      ],
      "metadata": {
        "id": "3VD0xp_BKxxe"
      },
      "execution_count": null,
      "outputs": []
    },
    {
      "cell_type": "code",
      "source": [
        "fig, axes = plt.subplots(figsize=(10,10))\n",
        "sns.heatmap(wine.frame.corr(), annot=True, cmap='crest', robust=True, ax=axes)"
      ],
      "metadata": {
        "id": "lsdbGJQ1K8P9"
      },
      "execution_count": null,
      "outputs": []
    },
    {
      "cell_type": "code",
      "source": [
        "sns.pairplot(wine.frame, hue='target', height=2.5)"
      ],
      "metadata": {
        "id": "noCsJBKjGlad"
      },
      "execution_count": null,
      "outputs": []
    },
    {
      "cell_type": "markdown",
      "source": [
        "California"
      ],
      "metadata": {
        "id": "qJ8rarNaGNrx"
      }
    },
    {
      "cell_type": "code",
      "source": [
        "california_housing.frame.info()"
      ],
      "metadata": {
        "id": "xaJ1IW7PGPGq"
      },
      "execution_count": null,
      "outputs": []
    },
    {
      "cell_type": "code",
      "source": [
        "fig, axes = plt.subplots(figsize=(10,10))\n",
        "sns.heatmap(california_housing.frame.corr(), annot=True, cmap='crest', robust=True, ax=axes)"
      ],
      "metadata": {
        "id": "vLn6gW3RQccw"
      },
      "execution_count": null,
      "outputs": []
    },
    {
      "cell_type": "code",
      "source": [
        "temp_scaler = StandardScaler(copy=True)\n",
        "\n",
        "standardized_housing = pd.DataFrame(temp_scaler.fit_transform(california_housing.frame), columns=california_housing.frame.columns)\n",
        "sns.jointplot(data=standardized_housing, x='MedHouseVal', y='MedInc', kind=\"kde\")"
      ],
      "metadata": {
        "id": "BLIiBDmWaMTl"
      },
      "execution_count": null,
      "outputs": []
    },
    {
      "cell_type": "markdown",
      "source": [
        "# Zad 1"
      ],
      "metadata": {
        "id": "PhJSAToZzRdX"
      }
    },
    {
      "cell_type": "code",
      "source": [
        "pca_pipeline = Pipeline(\n",
        "    [\n",
        "      ('scaler', StandardScaler()),\n",
        "      ('dim_reduction', PCA(n_components=2)),\n",
        "    ]\n",
        ")"
      ],
      "metadata": {
        "id": "KuvfP9mex1_M"
      },
      "execution_count": 118,
      "outputs": []
    },
    {
      "cell_type": "code",
      "source": [
        "iris_df = iris.frame.drop(['target'], axis=1)"
      ],
      "metadata": {
        "id": "Rcgjb_mw80NW"
      },
      "execution_count": 128,
      "outputs": []
    },
    {
      "cell_type": "code",
      "source": [
        "iris_pca = pd.DataFrame(data=pca_pipeline.fit_transform(iris_df), columns = ['pca1', 'pca2'])"
      ],
      "metadata": {
        "id": "TD1R1zIC1o8I"
      },
      "execution_count": 166,
      "outputs": []
    },
    {
      "cell_type": "code",
      "source": [
        "sns.scatterplot(data=iris_pca, x='pca1', y='pca2', hue=iris.frame['target'])"
      ],
      "metadata": {
        "id": "hihT9c1m3XLY"
      },
      "execution_count": null,
      "outputs": []
    },
    {
      "cell_type": "code",
      "source": [
        "wine_df = wine.frame.drop(['target'], axis=1)"
      ],
      "metadata": {
        "id": "WVfc-12Y_WrV"
      },
      "execution_count": 133,
      "outputs": []
    },
    {
      "cell_type": "code",
      "source": [
        "wine_pca = pd.DataFrame(data = pca_pipeline.fit_transform(wine_df), columns = ['pca1', 'pca2'])"
      ],
      "metadata": {
        "id": "IOpkMct7Cl8N"
      },
      "execution_count": 134,
      "outputs": []
    },
    {
      "cell_type": "code",
      "source": [
        "sns.scatterplot(data=wine_pca, x='pca1', y='pca2', hue=wine.frame['target'])"
      ],
      "metadata": {
        "id": "lfOindNFCrAi"
      },
      "execution_count": null,
      "outputs": []
    },
    {
      "cell_type": "markdown",
      "source": [
        "# Zad 2"
      ],
      "metadata": {
        "id": "amOL-K41F-eY"
      }
    },
    {
      "cell_type": "code",
      "source": [
        "# california_housing.frame.info()\n",
        "california_pca = pd.DataFrame(pca_pipeline.fit_transform(california_housing.frame), columns = ['pca1', 'pca2'])"
      ],
      "metadata": {
        "id": "rdsKUjL7GBLT"
      },
      "execution_count": 167,
      "outputs": []
    },
    {
      "cell_type": "code",
      "source": [
        "sns.scatterplot(data=california_pca, x='pca1', y='pca2')"
      ],
      "metadata": {
        "colab": {
          "base_uri": "https://localhost:8080/",
          "height": 466
        },
        "id": "_3qthACInTJE",
        "outputId": "02d9ef5f-1d9d-4329-c0cc-62a011fedf8c"
      },
      "execution_count": 169,
      "outputs": [
        {
          "output_type": "execute_result",
          "data": {
            "text/plain": [
              "<Axes: xlabel='pca1', ylabel='pca2'>"
            ]
          },
          "metadata": {},
          "execution_count": 169
        },
        {
          "output_type": "display_data",
          "data": {
            "text/plain": [
              "<Figure size 640x480 with 1 Axes>"
            ],
            "image/png": "[encoded data removed]"
          },
          "metadata": {}
        }
      ]
    }
  ]
}