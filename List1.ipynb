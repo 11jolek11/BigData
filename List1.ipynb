{
  "nbformat": 4,
  "nbformat_minor": 0,
  "metadata": {
    "colab": {
      "provenance": [],
      "toc_visible": true,
      "authorship_tag": "ABX9TyMLsZDP2ytzxivPdsYeX5xr",
      "include_colab_link": true
    },
    "kernelspec": {
      "name": "python3",
      "display_name": "Python 3"
    },
    "language_info": {
      "name": "python"
    }
  },
  "cells": [
    {
      "cell_type": "markdown",
      "metadata": {
        "id": "view-in-github",
        "colab_type": "text"
      },
      "source": [
        "<a href=\"https://colab.research.google.com/github/11jolek11/BigData/blob/release/List1.ipynb\" target=\"_parent\"><img src=\"https://colab.research.google.com/assets/colab-badge.svg\" alt=\"Open In Colab\"/></a>"
      ]
    },
    {
      "cell_type": "code",
      "execution_count": null,
      "metadata": {
        "id": "WakVFM4ukPSF",
        "outputId": "8c6dd7c8-ab4d-4329-9eef-3e8180180c21",
        "colab": {
          "base_uri": "https://localhost:8080/"
        }
      },
      "outputs": [
        {
          "output_type": "stream",
          "name": "stdout",
          "text": [
            "Looking in indexes: https://pypi.org/simple, https://us-python.pkg.dev/colab-wheels/public/simple/\n",
            "Collecting flake8\n",
            "  Downloading flake8-6.0.0-py2.py3-none-any.whl (57 kB)\n",
            "\u001b[2K     \u001b[90m━━━━━━━━━━━━━━━━━━━━━━━━━━━━━━━━━━━━━━━━\u001b[0m \u001b[32m57.8/57.8 KB\u001b[0m \u001b[31m2.0 MB/s\u001b[0m eta \u001b[36m0:00:00\u001b[0m\n",
            "\u001b[?25hCollecting pycodestyle<2.11.0,>=2.10.0\n",
            "  Downloading pycodestyle-2.10.0-py2.py3-none-any.whl (41 kB)\n",
            "\u001b[2K     \u001b[90m━━━━━━━━━━━━━━━━━━━━━━━━━━━━━━━━━━━━━━━━\u001b[0m \u001b[32m41.3/41.3 KB\u001b[0m \u001b[31m2.2 MB/s\u001b[0m eta \u001b[36m0:00:00\u001b[0m\n",
            "\u001b[?25hCollecting pyflakes<3.1.0,>=3.0.0\n",
            "  Downloading pyflakes-3.0.1-py2.py3-none-any.whl (62 kB)\n",
            "\u001b[2K     \u001b[90m━━━━━━━━━━━━━━━━━━━━━━━━━━━━━━━━━━━━━━━━\u001b[0m \u001b[32m62.8/62.8 KB\u001b[0m \u001b[31m2.1 MB/s\u001b[0m eta \u001b[36m0:00:00\u001b[0m\n",
            "\u001b[?25hCollecting mccabe<0.8.0,>=0.7.0\n",
            "  Downloading mccabe-0.7.0-py2.py3-none-any.whl (7.3 kB)\n",
            "Installing collected packages: pyflakes, pycodestyle, mccabe, flake8\n",
            "Successfully installed flake8-6.0.0 mccabe-0.7.0 pycodestyle-2.10.0 pyflakes-3.0.1\n",
            "Looking in indexes: https://pypi.org/simple, https://us-python.pkg.dev/colab-wheels/public/simple/\n",
            "Requirement already satisfied: pycodestyle in /usr/local/lib/python3.8/dist-packages (2.10.0)\n",
            "Collecting pycodestyle_magic\n",
            "  Downloading pycodestyle_magic-0.5-py2.py3-none-any.whl (9.5 kB)\n",
            "Installing collected packages: pycodestyle_magic\n",
            "Successfully installed pycodestyle_magic-0.5\n"
          ]
        }
      ],
      "source": [
        "# # install\n",
        "!pip install flake8\n",
        "!pip install pycodestyle pycodestyle_magic\n",
        "\n",
        "\n",
        "# # load\n",
        "%load_ext pycodestyle_magic\n",
        "\n",
        "%pycodestyle_on"
      ]
    },
    {
      "cell_type": "code",
      "source": [
        "from sklearn.linear_model import LinearRegression\n",
        "from sklearn.preprocessing import PolynomialFeatures\n",
        "from sklearn.linear_model import Ridge\n",
        "from sklearn.linear_model import RidgeCV\n",
        "from sklearn.datasets import make_regression\n",
        "from sklearn.model_selection import train_test_split\n",
        "from sklearn.metrics import mean_squared_error\n",
        "import matplotlib.pyplot as plt\n",
        "import numpy as np\n",
        "\n",
        "%matplotlib inline"
      ],
      "metadata": {
        "id": "eC0hDDb02s2D"
      },
      "execution_count": null,
      "outputs": []
    },
    {
      "cell_type": "markdown",
      "source": [
        "#Zadanie 1"
      ],
      "metadata": {
        "id": "bxqUBG_I9BcL"
      }
    },
    {
      "cell_type": "code",
      "source": [
        "# Data without modification\n",
        "x_data, y_data = make_regression(n_samples=100, n_features=1, noise=3)\n",
        "\n",
        "plt.scatter(x_data, y_data)\n",
        "plt.show()"
      ],
      "metadata": {
        "colab": {
          "base_uri": "https://localhost:8080/",
          "height": 265
        },
        "id": "8QTvQCMTri0m",
        "outputId": "0fd35d28-f49e-437f-8d3c-1bd1a3ec6694"
      },
      "execution_count": null,
      "outputs": [
        {
          "output_type": "display_data",
          "data": {
            "text/plain": [
              "<Figure size 432x288 with 1 Axes>"
            ],
            "image/png": "[encoded data removed]"
          },
          "metadata": {
            "needs_background": "light"
          }
        }
      ]
    },
    {
      "cell_type": "code",
      "source": [
        "x_train, x_test, y_train, y_test = train_test_split(x_data, y_data)\n",
        "\n",
        "y_train = y_train.reshape(-1, 1)\n",
        "y_test = y_test.reshape(-1, 1)"
      ],
      "metadata": {
        "id": "_NDfI4F7t8JZ"
      },
      "execution_count": null,
      "outputs": []
    },
    {
      "cell_type": "code",
      "source": [
        "linreg = LinearRegression().fit(x_train,\n",
        "                                y_train)\n",
        "\n",
        "y_test_predict = linreg.predict(x_test)\n",
        "y_train_predict = linreg.predict(x_train).reshape(-1, 1)\n",
        "\n",
        "plt.scatter(x_data, y_data)\n",
        "\n",
        "# plt.plot(x_train,\n",
        "#          y_train_predict,\n",
        "#          color='tab:green',\n",
        "#          label=\"Prediction on training dataset\")\n",
        "\n",
        "plt.plot(x_test, y_test_predict, color='tab:red',\n",
        "         label=\"Prediction on training dataset\")\n",
        "plt.legend()\n",
        "plt.show()\n",
        "\n",
        "print(f'Estimated coefficients: {linreg.coef_}')\n",
        "print(f'Independent term: {linreg.intercept_}')\n",
        "\n",
        "# test_mse = mean_squared_error(y_test, y_test_predict, squared=False)\n",
        "# train_mse = mean_squared_error(y_train, y_train_predict, squared=False)\n",
        "\n",
        "# print(f'MSE on train dataset: {train_mse}')\n",
        "# print(f'MSE on test dataset: {test_mse}')\n",
        "# print(f'Diffrence: {abs(train_mse - test_mse)}')"
      ],
      "metadata": {
        "colab": {
          "base_uri": "https://localhost:8080/",
          "height": 300
        },
        "id": "dxbsPRMsvr40",
        "outputId": "ad6dad48-c55e-49f9-ee51-26e07c2148a3"
      },
      "execution_count": null,
      "outputs": [
        {
          "output_type": "display_data",
          "data": {
            "text/plain": [
              "<Figure size 432x288 with 1 Axes>"
            ],
            "image/png": "[encoded data removed]"
          },
          "metadata": {
            "needs_background": "light"
          }
        },
        {
          "output_type": "stream",
          "name": "stdout",
          "text": [
            "Estimated coefficients: [[39.93558554]]\n",
            "Independent term: [-0.85336589]\n"
          ]
        }
      ]
    },
    {
      "cell_type": "markdown",
      "source": [
        "# Zadanie 2"
      ],
      "metadata": {
        "id": "l2UNwhPh9KPt"
      }
    },
    {
      "cell_type": "code",
      "source": [
        "def make_polynomial_regression(n_samples=100.0, noise=0.1,\n",
        "                               degree=2, x_axis_span=2.5):\n",
        "    X = x_axis_span*np.random.randn(n_samples, 1)\n",
        "    y = 4 + 2*X + (-4)*X**degree + noise*np.random.randn(n_samples, 1)\n",
        "    return X, y, degree\n",
        "\n",
        "\n",
        "n = 100\n",
        "noise = 30\n",
        "x_data, y_data, degree = make_polynomial_regression(n, noise, 3)\n",
        "\n",
        "plt.scatter(x_data, y_data)\n",
        "plt.show()"
      ],
      "metadata": {
        "id": "_9CcZVjA9NM0",
        "outputId": "b45b6dba-3d74-4c56-ca3c-8344a89a2696",
        "colab": {
          "base_uri": "https://localhost:8080/",
          "height": 265
        }
      },
      "execution_count": null,
      "outputs": [
        {
          "output_type": "display_data",
          "data": {
            "text/plain": [
              "<Figure size 432x288 with 1 Axes>"
            ],
            "image/png": "[encoded data removed]"
          },
          "metadata": {
            "needs_background": "light"
          }
        }
      ]
    },
    {
      "cell_type": "code",
      "source": [
        "x_train, x_test, y_train, y_test = train_test_split(x_data, y_data)\n",
        "\n",
        "# for one_set in (x_train, x_test, y_train, y_test):\n",
        "#     print(one_set.shape)"
      ],
      "metadata": {
        "id": "Rznj1FyUFIlI"
      },
      "execution_count": null,
      "outputs": []
    },
    {
      "cell_type": "code",
      "source": [
        "def make_polynomial_regression(n_samples=100.0, noise=0.1,\n",
        "                               degree=2, x_axis_span=2.5):\n",
        "    X = x_axis_span*np.random.randn(n_samples)\n",
        "    y = 4 + 2*X + (-4)*X**degree + noise*np.random.randn(n_samples)\n",
        "    return X, y, degree\n",
        "\n",
        "n = 100\n",
        "noise = 30\n",
        "\n",
        "x_data, y_data, degree = make_polynomial_regression(n, noise, 3)\n",
        "\n",
        "x_train, x_test, y_train, y_test = train_test_split(x_data, y_data)\n",
        "\n",
        "mymodel = np.poly1d(np.polyfit(x_train, y_train, degree))\n",
        "\n",
        "x_for_plot = np.linspace(np.min(x_data), np.max(x_data), 100)\n",
        "\n",
        "plt.scatter(x_data, y_data)\n",
        "\n",
        "y_train_predict = mymodel(x_for_plot)\n",
        "\n",
        "plt.plot(x_for_plot, y_train_predict, color=\"tab:red\")\n",
        "plt.show()\n",
        "\n",
        "print(f'Estimated coefficients:  {mymodel.coefficients}')"
      ],
      "metadata": {
        "id": "ppFpUjVP0SX6",
        "outputId": "e43b0589-6a89-41e5-9b2a-c4404c2c4cd3",
        "colab": {
          "base_uri": "https://localhost:8080/",
          "height": 334
        }
      },
      "execution_count": null,
      "outputs": [
        {
          "output_type": "display_data",
          "data": {
            "text/plain": [
              "<Figure size 432x288 with 1 Axes>"
            ],
            "image/png": "[encoded data removed]"
          },
          "metadata": {
            "needs_background": "light"
          }
        },
        {
          "output_type": "stream",
          "name": "stderr",
          "text": [
            "INFO:pycodestyle:7:1: E305 expected 2 blank lines after class or function definition, found 1\n"
          ]
        },
        {
          "output_type": "stream",
          "name": "stdout",
          "text": [
            "Estimated coefficients:  [-4.10948662  0.322089    2.9517539   1.10084253]\n",
            "Estimated coefficients:  [-4.10948662  0.322089    2.9517539   1.10084253]\n",
            "Estimated coefficients:  [-4.10948662  0.322089    2.9517539   1.10084253]\n"
          ]
        }
      ]
    },
    {
      "cell_type": "markdown",
      "source": [
        "# Zadanie 3"
      ],
      "metadata": {
        "id": "FXxzca9XA0dh"
      }
    },
    {
      "cell_type": "code",
      "source": [
        "x_data, y_data = make_regression(n_samples=100, n_features=1, noise=5)\n",
        "\n",
        "plt.scatter(x_data, y_data)\n",
        "plt.show()"
      ],
      "metadata": {
        "id": "P62BVsj4A3gS",
        "outputId": "34ce51ac-1018-45d8-a2e3-8547f61da058",
        "colab": {
          "base_uri": "https://localhost:8080/",
          "height": 267
        }
      },
      "execution_count": null,
      "outputs": [
        {
          "output_type": "display_data",
          "data": {
            "text/plain": [
              "<Figure size 432x288 with 1 Axes>"
            ],
            "image/png": "[encoded data removed]"
          },
          "metadata": {
            "needs_background": "light"
          }
        }
      ]
    },
    {
      "cell_type": "code",
      "source": [
        "x_train, x_test, y_train, y_test = train_test_split(x_data, y_data)\n",
        "\n",
        "y_train = y_train.reshape(-1, 1)\n",
        "y_test = y_test.reshape(-1, 1)\n",
        "\n",
        "# print(f'x_train shape {x_train.shape}')\n",
        "# print(f'x_test shape {x_test.shape}')\n",
        "# print(f'y_train shape {y_train.shape}')\n",
        "# print(f'y_test shape {y_test.shape}')"
      ],
      "metadata": {
        "id": "SGBbJi-_ICl2"
      },
      "execution_count": null,
      "outputs": []
    },
    {
      "cell_type": "code",
      "source": [
        "ridge_reg = Ridge(alpha=3.0).fit(x_train, y_train)\n",
        "\n",
        "y_test_predict = ridge_reg.predict(x_test)\n",
        "y_train_predict = ridge_reg.predict(x_train)\n",
        "\n",
        "plt.scatter(x_data, y_data)\n",
        "\n",
        "# plt.plot(x_train,\n",
        "#          y_train_predict,\n",
        "#          color='tab:green',\n",
        "#          label=\"Prediction on training dataset\")\n",
        "\n",
        "plt.plot(x_test, y_test_predict, color='tab:red',\n",
        "         label=\"Prediction on training dataset\")\n",
        "\n",
        "plt.legend()\n",
        "plt.show()\n",
        "\n",
        "print(f'Estimated coefficients: {ridge_reg.coef_}')\n",
        "print(f'Independent term: {ridge_reg.intercept_}')\n",
        "\n",
        "\n",
        "# test_mse = mean_squared_error(y_test, y_test_predict, squared=False)\n",
        "# train_mse = mean_squared_error(y_train, y_train_predict, squared=False)\n",
        "\n",
        "# print(f'MSE on train dataset: {train_mse}')\n",
        "# print(f'MSE on test dataset: {test_mse}')\n",
        "# print(f'Diffrence: {abs(train_mse - test_mse)}')"
      ],
      "metadata": {
        "id": "fSW3JO-tILB8",
        "outputId": "bcbef696-a4ca-4b8f-f114-7699d9fc6d77",
        "colab": {
          "base_uri": "https://localhost:8080/",
          "height": 302
        }
      },
      "execution_count": null,
      "outputs": [
        {
          "output_type": "display_data",
          "data": {
            "text/plain": [
              "<Figure size 432x288 with 1 Axes>"
            ],
            "image/png": "[encoded data removed]"
          },
          "metadata": {
            "needs_background": "light"
          }
        },
        {
          "output_type": "stream",
          "name": "stdout",
          "text": [
            "Estimated coefficients: [[36.59509023]]\n",
            "Independent term: [-0.21886037]\n"
          ]
        }
      ]
    },
    {
      "cell_type": "markdown",
      "source": [
        "Zad 3 CV"
      ],
      "metadata": {
        "id": "LD3bprMKjSRH"
      }
    },
    {
      "cell_type": "code",
      "source": [
        "x_data, y_data = make_regression(n_samples=100, n_features=1, noise=12)\n",
        "\n",
        "plt.scatter(x_data, y_data)\n",
        "plt.show()"
      ],
      "metadata": {
        "id": "G5FUkGatjUy2",
        "colab": {
          "base_uri": "https://localhost:8080/",
          "height": 265
        },
        "outputId": "d0c58617-d9d9-4a17-971c-3f2113717112"
      },
      "execution_count": null,
      "outputs": [
        {
          "output_type": "display_data",
          "data": {
            "text/plain": [
              "<Figure size 432x288 with 1 Axes>"
            ],
            "image/png": "[encoded data removed]"
          },
          "metadata": {
            "needs_background": "light"
          }
        }
      ]
    },
    {
      "cell_type": "code",
      "source": [
        "x_train, x_test, y_train, y_test = train_test_split(x_data, y_data)\n",
        "\n",
        "y_train = y_train.reshape(-1, 1)\n",
        "y_test = y_test.reshape(-1, 1)"
      ],
      "metadata": {
        "id": "Ec-zNC1Ojcv0"
      },
      "execution_count": null,
      "outputs": []
    },
    {
      "cell_type": "code",
      "source": [
        "r_alphas = np.logspace(0, 5, 100)\n",
        "\n",
        "ridge_model = RidgeCV(alphas=r_alphas, store_cv_values=True)\n",
        "\n",
        "ridge_reg = ridge_model.fit(x_train, y_train)"
      ],
      "metadata": {
        "id": "qCv2j3Uhje0N"
      },
      "execution_count": null,
      "outputs": []
    },
    {
      "cell_type": "code",
      "source": [
        "\n",
        "y_test_predict = ridge_reg.predict(x_test)\n",
        "y_train_predict = ridge_reg.predict(x_train)\n",
        "\n",
        "plt.scatter(x_data, y_data)\n",
        "\n",
        "# plt.plot(x_train,\n",
        "#          y_train_predict,\n",
        "#          color='tab:green',\n",
        "#          label=\"Prediction on training dataset\")\n",
        "\n",
        "plt.plot(x_test, y_test_predict, color='tab:red',\n",
        "         label=\"Prediction on training dataset\")\n",
        "\n",
        "plt.legend()\n",
        "plt.show()"
      ],
      "metadata": {
        "id": "cN4mHDe0jkks",
        "colab": {
          "base_uri": "https://localhost:8080/",
          "height": 265
        },
        "outputId": "5c886a27-ab58-47f4-91d7-33683f7b84c8"
      },
      "execution_count": null,
      "outputs": [
        {
          "output_type": "display_data",
          "data": {
            "text/plain": [
              "<Figure size 432x288 with 1 Axes>"
            ],
            "image/png": "[encoded data removed]"
          },
          "metadata": {
            "needs_background": "light"
          }
        }
      ]
    },
    {
      "cell_type": "code",
      "source": [
        "\n",
        "print(f'Estimated coefficients: {ridge_reg.coef_}')\n",
        "print(f'Independent term: {ridge_reg.intercept_}')"
      ],
      "metadata": {
        "id": "fz-vOic7jneY",
        "colab": {
          "base_uri": "https://localhost:8080/"
        },
        "outputId": "04c6a22a-3386-4e58-987e-327e35062a5d"
      },
      "execution_count": null,
      "outputs": [
        {
          "output_type": "stream",
          "name": "stdout",
          "text": [
            "Estimated coefficients: [[38.6828625]]\n",
            "Independent term: [1.71173113]\n"
          ]
        }
      ]
    }
  ]
}