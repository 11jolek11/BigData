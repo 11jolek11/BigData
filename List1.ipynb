{
  "nbformat": 4,
  "nbformat_minor": 0,
  "metadata": {
    "colab": {
      "provenance": [],
      "authorship_tag": "ABX9TyNR4k69zwKErbVgiFLIsRA/",
      "include_colab_link": true
    },
    "kernelspec": {
      "name": "python3",
      "display_name": "Python 3"
    },
    "language_info": {
      "name": "python"
    }
  },
  "cells": [
    {
      "cell_type": "markdown",
      "metadata": {
        "id": "view-in-github",
        "colab_type": "text"
      },
      "source": [
        "<a href=\"https://colab.research.google.com/github/11jolek11/BigData/blob/main/List1.ipynb\" target=\"_parent\"><img src=\"https://colab.research.google.com/assets/colab-badge.svg\" alt=\"Open In Colab\"/></a>"
      ]
    },
    {
      "cell_type": "code",
      "execution_count": 128,
      "metadata": {
        "id": "WakVFM4ukPSF",
        "outputId": "c83753a8-49a6-4220-a676-49cafe5cbdd2",
        "colab": {
          "base_uri": "https://localhost:8080/"
        }
      },
      "outputs": [
        {
          "output_type": "stream",
          "name": "stdout",
          "text": [
            "Looking in indexes: https://pypi.org/simple, https://us-python.pkg.dev/colab-wheels/public/simple/\n",
            "Requirement already satisfied: flake8 in /usr/local/lib/python3.8/dist-packages (6.0.0)\n",
            "Requirement already satisfied: pyflakes<3.1.0,>=3.0.0 in /usr/local/lib/python3.8/dist-packages (from flake8) (3.0.1)\n",
            "Requirement already satisfied: pycodestyle<2.11.0,>=2.10.0 in /usr/local/lib/python3.8/dist-packages (from flake8) (2.10.0)\n",
            "Requirement already satisfied: mccabe<0.8.0,>=0.7.0 in /usr/local/lib/python3.8/dist-packages (from flake8) (0.7.0)\n",
            "Looking in indexes: https://pypi.org/simple, https://us-python.pkg.dev/colab-wheels/public/simple/\n",
            "Requirement already satisfied: pycodestyle in /usr/local/lib/python3.8/dist-packages (2.10.0)\n",
            "Requirement already satisfied: pycodestyle_magic in /usr/local/lib/python3.8/dist-packages (0.5)\n",
            "The pycodestyle_magic extension is already loaded. To reload it, use:\n",
            "  %reload_ext pycodestyle_magic\n"
          ]
        }
      ],
      "source": [
        "# # install\n",
        "!pip install flake8\n",
        "!pip install pycodestyle pycodestyle_magic\n",
        "\n",
        "\n",
        "# # load\n",
        "%load_ext pycodestyle_magic\n",
        "\n",
        "%pycodestyle_on"
      ]
    },
    {
      "cell_type": "code",
      "source": [
        "from sklearn.linear_model import LinearRegression\n",
        "from sklearn.preprocessing import PolynomialFeatures\n",
        "from sklearn.linear_model import Ridge\n",
        "from sklearn.datasets import make_regression\n",
        "from sklearn.model_selection import train_test_split\n",
        "from sklearn.metrics import mean_squared_error\n",
        "import matplotlib.pyplot as plt\n",
        "import numpy as np\n",
        "\n",
        "%matplotlib inline"
      ],
      "metadata": {
        "id": "eC0hDDb02s2D"
      },
      "execution_count": 129,
      "outputs": []
    },
    {
      "cell_type": "markdown",
      "source": [
        "#Zadanie 1"
      ],
      "metadata": {
        "id": "bxqUBG_I9BcL"
      }
    },
    {
      "cell_type": "code",
      "source": [
        "# Data without modification\n",
        "x_data, y_data = make_regression(n_samples=100, n_features=1, noise=3)\n",
        "\n",
        "plt.scatter(x_data, y_data)\n",
        "plt.show()"
      ],
      "metadata": {
        "colab": {
          "base_uri": "https://localhost:8080/",
          "height": 265
        },
        "id": "8QTvQCMTri0m",
        "outputId": "e5d5982c-a862-4ad7-914a-3172e75d4925"
      },
      "execution_count": 259,
      "outputs": [
        {
          "output_type": "display_data",
          "data": {
            "text/plain": [
              "<Figure size 432x288 with 1 Axes>"
            ],
            "image/png": "[encoded data removed]"
          },
          "metadata": {
            "needs_background": "light"
          }
        }
      ]
    },
    {
      "cell_type": "code",
      "source": [
        "x_train, x_test, y_train, y_test = train_test_split(x_data, y_data)\n",
        "\n",
        "y_train = y_train.reshape(-1, 1)\n",
        "y_test = y_test.reshape(-1, 1)\n",
        "\n",
        "print(f'x_train shape {x_train.shape}')\n",
        "print(f'x_test shape {x_test.shape}')\n",
        "print(f'y_train shape {y_train.shape}')\n",
        "print(f'y_test shape {y_test.shape}')\n",
        "# TODO: Add cross validation for another linear models"
      ],
      "metadata": {
        "id": "_NDfI4F7t8JZ",
        "outputId": "298508a2-100f-4fa3-db34-87d990ffc2b0",
        "colab": {
          "base_uri": "https://localhost:8080/"
        }
      },
      "execution_count": 260,
      "outputs": [
        {
          "output_type": "stream",
          "name": "stdout",
          "text": [
            "x_train shape (75, 1)\n",
            "x_test shape (25, 1)\n",
            "y_train shape (75, 1)\n",
            "y_test shape (25, 1)\n"
          ]
        }
      ]
    },
    {
      "cell_type": "code",
      "source": [
        "linreg = LinearRegression().fit(x_train,\n",
        "                                y_train)\n",
        "\n",
        "y_test_predict = linreg.predict(x_test)\n",
        "y_train_predict = linreg.predict(x_train).reshape(-1, 1)\n",
        "\n",
        "plt.scatter(x_data, y_data)\n",
        "\n",
        "# plt.plot(x_train,\n",
        "#          y_train_predict,\n",
        "#          color='tab:green',\n",
        "#          label=\"Prediction on training dataset\")\n",
        "\n",
        "plt.plot(x_test, y_test_predict, color='tab:red',\n",
        "         label=\"Prediction on training dataset\")\n",
        "\n",
        "plt.show()\n",
        "\n",
        "test_mse = mean_squared_error(y_test_predict, x_test)\n",
        "train_mse = mean_squared_error(y_train_predict, x_train)\n",
        "\n",
        "print(f'MSE on train dataset: {train_mse}')\n",
        "print(f'MSE on test dataset: {test_mse}')\n",
        "print(f'Diffrence: {train_mse - test_mse}')"
      ],
      "metadata": {
        "colab": {
          "base_uri": "https://localhost:8080/",
          "height": 317
        },
        "id": "dxbsPRMsvr40",
        "outputId": "2da4c48a-d0b0-480c-e7fb-60500f1548b5"
      },
      "execution_count": 261,
      "outputs": [
        {
          "output_type": "display_data",
          "data": {
            "text/plain": [
              "<Figure size 432x288 with 1 Axes>"
            ],
            "image/png": "[encoded data removed]"
          },
          "metadata": {
            "needs_background": "light"
          }
        },
        {
          "output_type": "stream",
          "name": "stdout",
          "text": [
            "MSE on train dataset: 33.3351756422309\n",
            "MSE on test dataset: 35.02695391527035\n",
            "Diffrence: -1.6917782730394464\n"
          ]
        }
      ]
    },
    {
      "cell_type": "markdown",
      "source": [
        "# Zadanie 2"
      ],
      "metadata": {
        "id": "l2UNwhPh9KPt"
      }
    },
    {
      "cell_type": "code",
      "source": [
        "def make_polynomial_regression(n_samples=100.0, noise=0.1,\n",
        "                               degree=2, x_axis_span=2.5):\n",
        "    X = x_axis_span*np.random.randn(n_samples, 1)\n",
        "    y = 4 + 2*X + (-4)*X**degree + noise*np.random.randn(n_samples, 1)\n",
        "    return X, y, degree\n",
        "\n",
        "\n",
        "n = 100\n",
        "noise = 30\n",
        "x_data, y_data, degree = make_polynomial_regression(n, noise, 3)\n",
        "\n",
        "plt.scatter(x_data, y_data)\n",
        "plt.show()"
      ],
      "metadata": {
        "id": "_9CcZVjA9NM0",
        "outputId": "8160ced3-5246-4614-b57a-b895e752bee9",
        "colab": {
          "base_uri": "https://localhost:8080/",
          "height": 265
        }
      },
      "execution_count": 252,
      "outputs": [
        {
          "output_type": "display_data",
          "data": {
            "text/plain": [
              "<Figure size 432x288 with 1 Axes>"
            ],
            "image/png": "[encoded data removed]"
          },
          "metadata": {
            "needs_background": "light"
          }
        }
      ]
    },
    {
      "cell_type": "code",
      "source": [
        "poly_features = PolynomialFeatures(degree=3, include_bias=False)\n",
        "x_data_poly = poly_features.fit_transform(x_data)\n",
        "\n",
        "reg = LinearRegression()\n",
        "reg.fit(x_data_poly, y_data)\n",
        "\n",
        "# TODO: split datasets on train and test"
      ],
      "metadata": {
        "id": "yE2Mw2ZqXhQp",
        "outputId": "80cfd640-031a-4e6d-cbff-843ca7cad490",
        "colab": {
          "base_uri": "https://localhost:8080/",
          "height": 74
        }
      },
      "execution_count": 253,
      "outputs": [
        {
          "output_type": "execute_result",
          "data": {
            "text/plain": [
              "LinearRegression()"
            ],
            "text/html": [
              "<style>#sk-container-id-21 {color: black;background-color: white;}#sk-container-id-21 pre{padding: 0;}#sk-container-id-21 div.sk-toggleable {background-color: white;}#sk-container-id-21 label.sk-toggleable__label {cursor: pointer;display: block;width: 100%;margin-bottom: 0;padding: 0.3em;box-sizing: border-box;text-align: center;}#sk-container-id-21 label.sk-toggleable__label-arrow:before {content: \"▸\";float: left;margin-right: 0.25em;color: #696969;}#sk-container-id-21 label.sk-toggleable__label-arrow:hover:before {color: black;}#sk-container-id-21 div.sk-estimator:hover label.sk-toggleable__label-arrow:before {color: black;}#sk-container-id-21 div.sk-toggleable__content {max-height: 0;max-width: 0;overflow: hidden;text-align: left;background-color: #f0f8ff;}#sk-container-id-21 div.sk-toggleable__content pre {margin: 0.2em;color: black;border-radius: 0.25em;background-color: #f0f8ff;}#sk-container-id-21 input.sk-toggleable__control:checked~div.sk-toggleable__content {max-height: 200px;max-width: 100%;overflow: auto;}#sk-container-id-21 input.sk-toggleable__control:checked~label.sk-toggleable__label-arrow:before {content: \"▾\";}#sk-container-id-21 div.sk-estimator input.sk-toggleable__control:checked~label.sk-toggleable__label {background-color: #d4ebff;}#sk-container-id-21 div.sk-label input.sk-toggleable__control:checked~label.sk-toggleable__label {background-color: #d4ebff;}#sk-container-id-21 input.sk-hidden--visually {border: 0;clip: rect(1px 1px 1px 1px);clip: rect(1px, 1px, 1px, 1px);height: 1px;margin: -1px;overflow: hidden;padding: 0;position: absolute;width: 1px;}#sk-container-id-21 div.sk-estimator {font-family: monospace;background-color: #f0f8ff;border: 1px dotted black;border-radius: 0.25em;box-sizing: border-box;margin-bottom: 0.5em;}#sk-container-id-21 div.sk-estimator:hover {background-color: #d4ebff;}#sk-container-id-21 div.sk-parallel-item::after {content: \"\";width: 100%;border-bottom: 1px solid gray;flex-grow: 1;}#sk-container-id-21 div.sk-label:hover label.sk-toggleable__label {background-color: #d4ebff;}#sk-container-id-21 div.sk-serial::before {content: \"\";position: absolute;border-left: 1px solid gray;box-sizing: border-box;top: 0;bottom: 0;left: 50%;z-index: 0;}#sk-container-id-21 div.sk-serial {display: flex;flex-direction: column;align-items: center;background-color: white;padding-right: 0.2em;padding-left: 0.2em;position: relative;}#sk-container-id-21 div.sk-item {position: relative;z-index: 1;}#sk-container-id-21 div.sk-parallel {display: flex;align-items: stretch;justify-content: center;background-color: white;position: relative;}#sk-container-id-21 div.sk-item::before, #sk-container-id-21 div.sk-parallel-item::before {content: \"\";position: absolute;border-left: 1px solid gray;box-sizing: border-box;top: 0;bottom: 0;left: 50%;z-index: -1;}#sk-container-id-21 div.sk-parallel-item {display: flex;flex-direction: column;z-index: 1;position: relative;background-color: white;}#sk-container-id-21 div.sk-parallel-item:first-child::after {align-self: flex-end;width: 50%;}#sk-container-id-21 div.sk-parallel-item:last-child::after {align-self: flex-start;width: 50%;}#sk-container-id-21 div.sk-parallel-item:only-child::after {width: 0;}#sk-container-id-21 div.sk-dashed-wrapped {border: 1px dashed gray;margin: 0 0.4em 0.5em 0.4em;box-sizing: border-box;padding-bottom: 0.4em;background-color: white;}#sk-container-id-21 div.sk-label label {font-family: monospace;font-weight: bold;display: inline-block;line-height: 1.2em;}#sk-container-id-21 div.sk-label-container {text-align: center;}#sk-container-id-21 div.sk-container {/* jupyter's `normalize.less` sets `[hidden] { display: none; }` but bootstrap.min.css set `[hidden] { display: none !important; }` so we also need the `!important` here to be able to override the default hidden behavior on the sphinx rendered scikit-learn.org. See: https://github.com/scikit-learn/scikit-learn/issues/21755 */display: inline-block !important;position: relative;}#sk-container-id-21 div.sk-text-repr-fallback {display: none;}</style><div id=\"sk-container-id-21\" class=\"sk-top-container\"><div class=\"sk-text-repr-fallback\"><pre>LinearRegression()</pre><b>In a Jupyter environment, please rerun this cell to show the HTML representation or trust the notebook. <br />On GitHub, the HTML representation is unable to render, please try loading this page with nbviewer.org.</b></div><div class=\"sk-container\" hidden><div class=\"sk-item\"><div class=\"sk-estimator sk-toggleable\"><input class=\"sk-toggleable__control sk-hidden--visually\" id=\"sk-estimator-id-21\" type=\"checkbox\" checked><label for=\"sk-estimator-id-21\" class=\"sk-toggleable__label sk-toggleable__label-arrow\">LinearRegression</label><div class=\"sk-toggleable__content\"><pre>LinearRegression()</pre></div></div></div></div></div>"
            ]
          },
          "metadata": {},
          "execution_count": 253
        }
      ]
    },
    {
      "cell_type": "code",
      "source": [
        "x_vals = np.linspace(np.min(x_data), np.max(x_data), n).reshape(-1, 1)\n",
        "x_vals_poly = poly_features.transform(x_vals)\n",
        "\n",
        "y_vals = reg.predict(x_vals_poly)"
      ],
      "metadata": {
        "id": "2cP79G4DwJ0C"
      },
      "execution_count": 254,
      "outputs": []
    },
    {
      "cell_type": "code",
      "source": [
        "plt.scatter(x_data, y_data)\n",
        "plt.plot(x_vals, y_vals, color=\"tab:red\")\n",
        "\n",
        "plt.show()"
      ],
      "metadata": {
        "id": "LPAqWlWExR8g",
        "outputId": "313f1aed-9d9b-4e06-cc75-089852665507",
        "colab": {
          "base_uri": "https://localhost:8080/",
          "height": 265
        }
      },
      "execution_count": 255,
      "outputs": [
        {
          "output_type": "display_data",
          "data": {
            "text/plain": [
              "<Figure size 432x288 with 1 Axes>"
            ],
            "image/png": "[encoded data removed]"
          },
          "metadata": {
            "needs_background": "light"
          }
        }
      ]
    },
    {
      "cell_type": "markdown",
      "source": [
        "# Zadanie 3"
      ],
      "metadata": {
        "id": "FXxzca9XA0dh"
      }
    },
    {
      "cell_type": "code",
      "source": [
        "x_data, y_data = make_regression(n_samples=1000, n_features=1, noise=18)\n",
        "\n",
        "plt.scatter(x_data, y_data)\n",
        "plt.show()"
      ],
      "metadata": {
        "id": "P62BVsj4A3gS",
        "outputId": "f0324c85-8197-4969-8330-1fd5e429a43f",
        "colab": {
          "base_uri": "https://localhost:8080/",
          "height": 265
        }
      },
      "execution_count": 256,
      "outputs": [
        {
          "output_type": "display_data",
          "data": {
            "text/plain": [
              "<Figure size 432x288 with 1 Axes>"
            ],
            "image/png": "[encoded data removed]"
          },
          "metadata": {
            "needs_background": "light"
          }
        }
      ]
    },
    {
      "cell_type": "code",
      "source": [
        "x_train, x_test, y_train, y_test = train_test_split(x_data, y_data)\n",
        "\n",
        "y_train = y_train.reshape(-1, 1)\n",
        "y_test = y_test.reshape(-1, 1)\n",
        "\n",
        "print(f'x_train shape {x_train.shape}')\n",
        "print(f'x_test shape {x_test.shape}')\n",
        "print(f'y_train shape {y_train.shape}')\n",
        "print(f'y_test shape {y_test.shape}')"
      ],
      "metadata": {
        "id": "SGBbJi-_ICl2",
        "outputId": "658284a9-6dc8-4401-b435-eccc48c2f757",
        "colab": {
          "base_uri": "https://localhost:8080/"
        }
      },
      "execution_count": 257,
      "outputs": [
        {
          "output_type": "stream",
          "name": "stdout",
          "text": [
            "x_train shape (750, 1)\n",
            "x_test shape (250, 1)\n",
            "y_train shape (750, 1)\n",
            "y_test shape (250, 1)\n"
          ]
        }
      ]
    },
    {
      "cell_type": "code",
      "source": [
        "ridge_reg = Ridge(alpha=4.0).fit(x_train, y_train)\n",
        "\n",
        "y_test_predict = ridge_reg.predict(x_test)\n",
        "y_train_predict = ridge_reg.predict(x_train)\n",
        "\n",
        "plt.scatter(x_data, y_data)\n",
        "\n",
        "# plt.plot(x_train,\n",
        "#          y_train_predict,\n",
        "#          color='tab:green',\n",
        "#          label=\"Prediction on training dataset\")\n",
        "\n",
        "plt.plot(x_test, y_test_predict, color='tab:red',\n",
        "         label=\"Prediction on training dataset\", marker=\".\")\n",
        "\n",
        "plt.show()\n",
        "\n",
        "test_mse = mean_squared_error(y_test_predict, x_test)\n",
        "train_mse = mean_squared_error(y_train_predict, x_train)\n",
        "\n",
        "print(f'MSE on train dataset: {train_mse}')\n",
        "print(f'MSE on test dataset: {test_mse}')\n",
        "print(f'Diffrence: {train_mse - test_mse}')"
      ],
      "metadata": {
        "id": "fSW3JO-tILB8",
        "outputId": "985c1954-119c-426a-a530-0e2ea91c4e4a",
        "colab": {
          "base_uri": "https://localhost:8080/",
          "height": 317
        }
      },
      "execution_count": 268,
      "outputs": [
        {
          "output_type": "display_data",
          "data": {
            "text/plain": [
              "<Figure size 432x288 with 1 Axes>"
            ],
            "image/png": "[encoded data removed]"
          },
          "metadata": {
            "needs_background": "light"
          }
        },
        {
          "output_type": "stream",
          "name": "stdout",
          "text": [
            "MSE on train dataset: 29.783717368635042\n",
            "MSE on test dataset: 31.334768743567714\n",
            "Diffrence: -1.5510513749326726\n"
          ]
        }
      ]
    }
  ]
}