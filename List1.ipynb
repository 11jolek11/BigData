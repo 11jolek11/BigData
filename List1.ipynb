{
  "nbformat": 4,
  "nbformat_minor": 0,
  "metadata": {
    "colab": {
      "provenance": [],
      "authorship_tag": "ABX9TyN0XXesIySKJ/cLccup8c6V",
      "include_colab_link": true
    },
    "kernelspec": {
      "name": "python3",
      "display_name": "Python 3"
    },
    "language_info": {
      "name": "python"
    }
  },
  "cells": [
    {
      "cell_type": "markdown",
      "metadata": {
        "id": "view-in-github",
        "colab_type": "text"
      },
      "source": [
        "<a href=\"https://colab.research.google.com/github/11jolek11/BigData/blob/pandas/List1.ipynb\" target=\"_parent\"><img src=\"https://colab.research.google.com/assets/colab-badge.svg\" alt=\"Open In Colab\"/></a>"
      ]
    },
    {
      "cell_type": "code",
      "execution_count": 33,
      "metadata": {
        "id": "WakVFM4ukPSF",
        "outputId": "aa39a58b-3de5-4266-c2e2-227ae5496815",
        "colab": {
          "base_uri": "https://localhost:8080/"
        }
      },
      "outputs": [
        {
          "output_type": "stream",
          "name": "stdout",
          "text": [
            "Looking in indexes: https://pypi.org/simple, https://us-python.pkg.dev/colab-wheels/public/simple/\n",
            "Requirement already satisfied: flake8 in /usr/local/lib/python3.8/dist-packages (6.0.0)\n",
            "Requirement already satisfied: pyflakes<3.1.0,>=3.0.0 in /usr/local/lib/python3.8/dist-packages (from flake8) (3.0.1)\n",
            "Requirement already satisfied: pycodestyle<2.11.0,>=2.10.0 in /usr/local/lib/python3.8/dist-packages (from flake8) (2.10.0)\n",
            "Requirement already satisfied: mccabe<0.8.0,>=0.7.0 in /usr/local/lib/python3.8/dist-packages (from flake8) (0.7.0)\n",
            "Looking in indexes: https://pypi.org/simple, https://us-python.pkg.dev/colab-wheels/public/simple/\n",
            "Requirement already satisfied: pycodestyle in /usr/local/lib/python3.8/dist-packages (2.10.0)\n",
            "Requirement already satisfied: pycodestyle_magic in /usr/local/lib/python3.8/dist-packages (0.5)\n",
            "The pycodestyle_magic extension is already loaded. To reload it, use:\n",
            "  %reload_ext pycodestyle_magic\n"
          ]
        }
      ],
      "source": [
        "# # install\n",
        "!pip install flake8\n",
        "!pip install pycodestyle pycodestyle_magic\n",
        "\n",
        "\n",
        "# # load\n",
        "%load_ext pycodestyle_magic\n",
        "\n",
        "%pycodestyle_on"
      ]
    },
    {
      "cell_type": "code",
      "source": [
        "from sklearn.linear_model import LinearRegression\n",
        "from sklearn.preprocessing import PolynomialFeatures\n",
        "from sklearn.linear_model import Ridge\n",
        "from sklearn.datasets import make_regression\n",
        "from sklearn.model_selection import train_test_split\n",
        "from sklearn.metrics import mean_squared_error\n",
        "import matplotlib.pyplot as plt\n",
        "import numpy as np\n",
        "\n",
        "%matplotlib inline"
      ],
      "metadata": {
        "id": "eC0hDDb02s2D"
      },
      "execution_count": 34,
      "outputs": []
    },
    {
      "cell_type": "markdown",
      "source": [
        "#Zadanie 1"
      ],
      "metadata": {
        "id": "bxqUBG_I9BcL"
      }
    },
    {
      "cell_type": "code",
      "source": [
        "# Data without modification\n",
        "x_data, y_data = make_regression(n_samples=100, n_features=1, noise=3)\n",
        "\n",
        "plt.scatter(x_data, y_data)\n",
        "plt.show()"
      ],
      "metadata": {
        "colab": {
          "base_uri": "https://localhost:8080/",
          "height": 0
        },
        "id": "8QTvQCMTri0m",
        "outputId": "3c94900b-ccaf-4d05-b4ca-be931283737f"
      },
      "execution_count": 35,
      "outputs": [
        {
          "output_type": "display_data",
          "data": {
            "text/plain": [
              "<Figure size 432x288 with 1 Axes>"
            ],
            "image/png": "[encoded data removed]"
          },
          "metadata": {
            "needs_background": "light"
          }
        }
      ]
    },
    {
      "cell_type": "code",
      "source": [
        "x_train, x_test, y_train, y_test = train_test_split(x_data, y_data)\n",
        "\n",
        "y_train = y_train.reshape(-1, 1)\n",
        "y_test = y_test.reshape(-1, 1)\n",
        "\n",
        "print(f'x_train shape {x_train.shape}')\n",
        "print(f'x_test shape {x_test.shape}')\n",
        "print(f'y_train shape {y_train.shape}')\n",
        "print(f'y_test shape {y_test.shape}')\n",
        "# TODO: Add cross validation for another linear models"
      ],
      "metadata": {
        "id": "_NDfI4F7t8JZ",
        "outputId": "f516a087-009f-4fd4-ba70-7a398e2a456d",
        "colab": {
          "base_uri": "https://localhost:8080/"
        }
      },
      "execution_count": 36,
      "outputs": [
        {
          "output_type": "stream",
          "name": "stdout",
          "text": [
            "x_train shape (75, 1)\n",
            "x_test shape (25, 1)\n",
            "y_train shape (75, 1)\n",
            "y_test shape (25, 1)\n"
          ]
        }
      ]
    },
    {
      "cell_type": "code",
      "source": [
        "linreg = LinearRegression().fit(x_train,\n",
        "                                y_train)\n",
        "\n",
        "y_test_predict = linreg.predict(x_test)\n",
        "y_train_predict = linreg.predict(x_train).reshape(-1, 1)\n",
        "\n",
        "plt.scatter(x_data, y_data)\n",
        "\n",
        "# plt.plot(x_train,\n",
        "#          y_train_predict,\n",
        "#          color='tab:green',\n",
        "#          label=\"Prediction on training dataset\")\n",
        "\n",
        "plt.plot(x_test, y_test_predict, color='tab:red',\n",
        "         label=\"Prediction on training dataset\")\n",
        "plt.legend()\n",
        "plt.show()\n",
        "\n",
        "# test_mse = mean_squared_error(y_test_predict, x_test, squared=False)\n",
        "# train_mse = mean_squared_error(y_train_predict, x_train, squared=False)\n",
        "\n",
        "test_mse = mean_squared_error(y_test, y_test_predict, squared=False)\n",
        "train_mse = mean_squared_error(y_train, y_train_predict, squared=False)\n",
        "\n",
        "print(f'MSE on train dataset: {train_mse}')\n",
        "print(f'MSE on test dataset: {test_mse}')\n",
        "print(f'Diffrence: {abs(train_mse - test_mse)}')"
      ],
      "metadata": {
        "colab": {
          "base_uri": "https://localhost:8080/",
          "height": 0
        },
        "id": "dxbsPRMsvr40",
        "outputId": "316c0541-7891-4709-b469-8ff7039e92bb"
      },
      "execution_count": 37,
      "outputs": [
        {
          "output_type": "display_data",
          "data": {
            "text/plain": [
              "<Figure size 432x288 with 1 Axes>"
            ],
            "image/png": "[encoded data removed]"
          },
          "metadata": {
            "needs_background": "light"
          }
        },
        {
          "output_type": "stream",
          "name": "stdout",
          "text": [
            "MSE on train dataset: 2.492373597339969\n",
            "MSE on test dataset: 2.766570128116477\n",
            "Diffrence: 0.27419653077650796\n"
          ]
        }
      ]
    },
    {
      "cell_type": "markdown",
      "source": [
        "# Zadanie 2"
      ],
      "metadata": {
        "id": "l2UNwhPh9KPt"
      }
    },
    {
      "cell_type": "code",
      "source": [
        "def make_polynomial_regression(n_samples=100.0, noise=0.1,\n",
        "                               degree=2, x_axis_span=2.5):\n",
        "    X = x_axis_span*np.random.randn(n_samples, 1)\n",
        "    y = 4 + 2*X + (-4)*X**degree + noise*np.random.randn(n_samples, 1)\n",
        "    return X, y, degree\n",
        "\n",
        "\n",
        "n = 100\n",
        "noise = 30\n",
        "x_data, y_data, degree = make_polynomial_regression(n, noise, 3)\n",
        "\n",
        "plt.scatter(x_data, y_data)\n",
        "plt.show()"
      ],
      "metadata": {
        "id": "_9CcZVjA9NM0",
        "outputId": "b95686ed-7852-4d17-c9e5-7a4033f846cd",
        "colab": {
          "base_uri": "https://localhost:8080/",
          "height": 265
        }
      },
      "execution_count": 38,
      "outputs": [
        {
          "output_type": "display_data",
          "data": {
            "text/plain": [
              "<Figure size 432x288 with 1 Axes>"
            ],
            "image/png": "[encoded data removed]"
          },
          "metadata": {
            "needs_background": "light"
          }
        }
      ]
    },
    {
      "cell_type": "code",
      "source": [
        "x_train, x_test, y_train, y_test = train_test_split(x_data, y_data)\n",
        "\n",
        "for one_set in (x_train, x_test, y_train, y_test):\n",
        "    print(one_set.shape)"
      ],
      "metadata": {
        "id": "Rznj1FyUFIlI",
        "outputId": "78b2978b-4882-4ecd-c9a6-26662dd6cbd9",
        "colab": {
          "base_uri": "https://localhost:8080/"
        }
      },
      "execution_count": 39,
      "outputs": [
        {
          "output_type": "stream",
          "name": "stdout",
          "text": [
            "(75, 1)\n",
            "(25, 1)\n",
            "(75, 1)\n",
            "(25, 1)\n"
          ]
        }
      ]
    },
    {
      "cell_type": "code",
      "source": [
        "# poly_features = PolynomialFeatures(degree=3, include_bias=False)\n",
        "# x_data_poly = poly_features.fit_transform(x_data)\n",
        "\n",
        "# reg = LinearRegression()\n",
        "# reg.fit(x_data_poly, y_data)\n",
        "\n",
        "# TODO: split datasets on train and test"
      ],
      "metadata": {
        "id": "yE2Mw2ZqXhQp"
      },
      "execution_count": 40,
      "outputs": []
    },
    {
      "cell_type": "code",
      "source": [
        "# x_vals = np.linspace(np.min(x_data), np.max(x_data), n).reshape(-1, 1)\n",
        "# x_vals_poly = poly_features.transform(x_vals)\n",
        "\n",
        "# y_vals = reg.predict(x_vals_poly)"
      ],
      "metadata": {
        "id": "2cP79G4DwJ0C"
      },
      "execution_count": 41,
      "outputs": []
    },
    {
      "cell_type": "code",
      "source": [
        "# plt.scatter(x_data, y_data)\n",
        "# plt.plot(x_vals, y_vals, color=\"tab:red\")\n",
        "\n",
        "# plt.show()"
      ],
      "metadata": {
        "id": "LPAqWlWExR8g"
      },
      "execution_count": 42,
      "outputs": []
    },
    {
      "cell_type": "markdown",
      "source": [
        "Wersja 2 zad 2"
      ],
      "metadata": {
        "id": "9lWDPech0Q24"
      }
    },
    {
      "cell_type": "code",
      "source": [
        "def make_polynomial_regression(n_samples=100.0, noise=0.1,\n",
        "                               degree=2, x_axis_span=2.5):\n",
        "    X = x_axis_span*np.random.randn(n_samples)\n",
        "    y = 4 + 2*X + (-4)*X**degree + noise*np.random.randn(n_samples)\n",
        "    return X, y, degree\n",
        "\n",
        "\n",
        "n = 100\n",
        "noise = 30\n",
        "x_data, y_data, degree = make_polynomial_regression(n, noise, 3)\n",
        "\n",
        "x_train, x_test, y_train, y_test = train_test_split(x_data, y_data)\n",
        "\n",
        "for one_set in (x_train, x_test, y_train, y_test):\n",
        "    print(one_set.shape)\n",
        "\n",
        "plt.scatter(x_data, y_data)\n",
        "plt.show()\n",
        "\n",
        "mymodel = np.poly1d(np.polyfit(x_train, y_train, degree))\n",
        "\n",
        "x_for_plot = np.linspace(np.min(x_data), np.max(x_data), 100)\n",
        "\n",
        "plt.scatter(x_data, y_data)\n",
        "plt.plot(x_for_plot, mymodel(x_for_plot), color=\"tab:red\")\n",
        "plt.show()"
      ],
      "metadata": {
        "id": "ppFpUjVP0SX6",
        "outputId": "fa1c85ef-aa4a-4b94-bbd7-c33155b28b3f",
        "colab": {
          "base_uri": "https://localhost:8080/",
          "height": 582
        }
      },
      "execution_count": 43,
      "outputs": [
        {
          "output_type": "stream",
          "name": "stdout",
          "text": [
            "(75,)\n",
            "(25,)\n",
            "(75,)\n",
            "(25,)\n"
          ]
        },
        {
          "output_type": "display_data",
          "data": {
            "text/plain": [
              "<Figure size 432x288 with 1 Axes>"
            ],
            "image/png": "[encoded data removed]"
          },
          "metadata": {
            "needs_background": "light"
          }
        },
        {
          "output_type": "display_data",
          "data": {
            "text/plain": [
              "<Figure size 432x288 with 1 Axes>"
            ],
            "image/png": "[encoded data removed]"
          },
          "metadata": {
            "needs_background": "light"
          }
        }
      ]
    },
    {
      "cell_type": "markdown",
      "source": [
        "# Zadanie 3"
      ],
      "metadata": {
        "id": "FXxzca9XA0dh"
      }
    },
    {
      "cell_type": "code",
      "source": [
        "x_data, y_data = make_regression(n_samples=100, n_features=1, noise=5)\n",
        "\n",
        "plt.scatter(x_data, y_data)\n",
        "plt.show()"
      ],
      "metadata": {
        "id": "P62BVsj4A3gS",
        "outputId": "cd1ce917-4fbd-4ccd-8fd9-42f483b63ab6",
        "colab": {
          "base_uri": "https://localhost:8080/",
          "height": 265
        }
      },
      "execution_count": 44,
      "outputs": [
        {
          "output_type": "display_data",
          "data": {
            "text/plain": [
              "<Figure size 432x288 with 1 Axes>"
            ],
            "image/png": "[encoded data removed]"
          },
          "metadata": {
            "needs_background": "light"
          }
        }
      ]
    },
    {
      "cell_type": "code",
      "source": [
        "x_train, x_test, y_train, y_test = train_test_split(x_data, y_data)\n",
        "\n",
        "y_train = y_train.reshape(-1, 1)\n",
        "y_test = y_test.reshape(-1, 1)\n",
        "\n",
        "print(f'x_train shape {x_train.shape}')\n",
        "print(f'x_test shape {x_test.shape}')\n",
        "print(f'y_train shape {y_train.shape}')\n",
        "print(f'y_test shape {y_test.shape}')"
      ],
      "metadata": {
        "id": "SGBbJi-_ICl2",
        "outputId": "16dd845a-3abb-48d4-de89-7a4c69ea2671",
        "colab": {
          "base_uri": "https://localhost:8080/"
        }
      },
      "execution_count": 45,
      "outputs": [
        {
          "output_type": "stream",
          "name": "stdout",
          "text": [
            "x_train shape (75, 1)\n",
            "x_test shape (25, 1)\n",
            "y_train shape (75, 1)\n",
            "y_test shape (25, 1)\n"
          ]
        }
      ]
    },
    {
      "cell_type": "code",
      "source": [
        "ridge_reg = Ridge(alpha=3.0).fit(x_train, y_train)\n",
        "\n",
        "y_test_predict = ridge_reg.predict(x_test)\n",
        "y_train_predict = ridge_reg.predict(x_train)\n",
        "\n",
        "plt.scatter(x_data, y_data)\n",
        "\n",
        "# plt.plot(x_train,\n",
        "#          y_train_predict,\n",
        "#          color='tab:green',\n",
        "#          label=\"Prediction on training dataset\")\n",
        "\n",
        "plt.plot(x_test, y_test_predict, color='tab:red',\n",
        "         label=\"Prediction on training dataset\")\n",
        "\n",
        "plt.legend()\n",
        "plt.show()\n",
        "\n",
        "# test_mse = mean_squared_error(y_test_predict, x_test, squared=False)\n",
        "# train_mse = mean_squared_error(y_train_predict, x_train, squared=False)\n",
        "test_mse = mean_squared_error(y_test, y_test_predict, squared=False)\n",
        "train_mse = mean_squared_error(y_train, y_train_predict, squared=False)\n",
        "\n",
        "print(f'MSE on train dataset: {train_mse}')\n",
        "print(f'MSE on test dataset: {test_mse}')\n",
        "print(f'Diffrence: {abs(train_mse - test_mse)}')"
      ],
      "metadata": {
        "id": "fSW3JO-tILB8",
        "outputId": "767f5b44-e521-4977-b246-5e6cb7f3cfdd",
        "colab": {
          "base_uri": "https://localhost:8080/",
          "height": 317
        }
      },
      "execution_count": 46,
      "outputs": [
        {
          "output_type": "display_data",
          "data": {
            "text/plain": [
              "<Figure size 432x288 with 1 Axes>"
            ],
            "image/png": "[encoded data removed]"
          },
          "metadata": {
            "needs_background": "light"
          }
        },
        {
          "output_type": "stream",
          "name": "stdout",
          "text": [
            "MSE on train dataset: 5.4970442128175705\n",
            "MSE on test dataset: 5.972100826886157\n",
            "Diffrence: 0.47505661406858657\n"
          ]
        }
      ]
    },
    {
      "cell_type": "code",
      "source": [
        "lin_reg = LinearRegression().fit(x_train, y_train)\n",
        "\n",
        "y_test_predict = lin_reg.predict(x_test)\n",
        "y_train_predict = lin_reg.predict(x_train)\n",
        "\n",
        "plt.scatter(x_data, y_data)\n",
        "\n",
        "# plt.plot(x_train,\n",
        "#          y_train_predict,\n",
        "#          color='tab:green',\n",
        "#          label=\"Prediction on training dataset\")\n",
        "\n",
        "plt.plot(x_test, y_test_predict, color='tab:red',\n",
        "         label=\"Prediction on training dataset\")\n",
        "\n",
        "plt.legend()\n",
        "plt.show()\n",
        "\n",
        "# test_mse = mean_squared_error(y_test_predict, x_test)\n",
        "# train_mse = mean_squared_error(y_train_predict, x_train)\n",
        "\n",
        "test_mse = mean_squared_error(y_test, y_test_predict, squared=False)\n",
        "train_mse = mean_squared_error(y_train, y_train_predict, squared=False)\n",
        "\n",
        "print(f'MSE on train dataset: {train_mse}')\n",
        "print(f'MSE on test dataset: {test_mse}')\n",
        "print(f'Diffrence: {abs(train_mse - test_mse)}')"
      ],
      "metadata": {
        "id": "4Jk7A2sFEBhX",
        "outputId": "9c0ef20a-649c-4197-b144-ac5f4debf4d1",
        "colab": {
          "base_uri": "https://localhost:8080/",
          "height": 317
        }
      },
      "execution_count": 47,
      "outputs": [
        {
          "output_type": "display_data",
          "data": {
            "text/plain": [
              "<Figure size 432x288 with 1 Axes>"
            ],
            "image/png": "[encoded data removed]"
          },
          "metadata": {
            "needs_background": "light"
          }
        },
        {
          "output_type": "stream",
          "name": "stdout",
          "text": [
            "MSE on train dataset: 5.204431243081864\n",
            "MSE on test dataset: 6.057779505682533\n",
            "Diffrence: 0.8533482626006696\n"
          ]
        }
      ]
    }
  ]
}