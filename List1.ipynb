{
  "nbformat": 4,
  "nbformat_minor": 0,
  "metadata": {
    "colab": {
      "provenance": [],
      "toc_visible": true,
      "authorship_tag": "ABX9TyPuQz1r6bRyCY0tkh3q1nnk",
      "include_colab_link": true
    },
    "kernelspec": {
      "name": "python3",
      "display_name": "Python 3"
    },
    "language_info": {
      "name": "python"
    }
  },
  "cells": [
    {
      "cell_type": "markdown",
      "metadata": {
        "id": "view-in-github",
        "colab_type": "text"
      },
      "source": [
        "<a href=\"https://colab.research.google.com/github/11jolek11/BigData/blob/release/List1.ipynb\" target=\"_parent\"><img src=\"https://colab.research.google.com/assets/colab-badge.svg\" alt=\"Open In Colab\"/></a>"
      ]
    },
    {
      "cell_type": "code",
      "execution_count": 1,
      "metadata": {
        "id": "WakVFM4ukPSF",
        "outputId": "a54d27f7-0efb-42e8-edcd-16ebe9fa4b80",
        "colab": {
          "base_uri": "https://localhost:8080/"
        }
      },
      "outputs": [
        {
          "output_type": "stream",
          "name": "stdout",
          "text": [
            "Looking in indexes: https://pypi.org/simple, https://us-python.pkg.dev/colab-wheels/public/simple/\n",
            "Collecting flake8\n",
            "  Downloading flake8-6.0.0-py2.py3-none-any.whl (57 kB)\n",
            "\u001b[2K     \u001b[90m━━━━━━━━━━━━━━━━━━━━━━━━━━━━━━━━━━━━━━━\u001b[0m \u001b[32m57.8/57.8 KB\u001b[0m \u001b[31m941.9 kB/s\u001b[0m eta \u001b[36m0:00:00\u001b[0m\n",
            "\u001b[?25hCollecting mccabe<0.8.0,>=0.7.0\n",
            "  Downloading mccabe-0.7.0-py2.py3-none-any.whl (7.3 kB)\n",
            "Collecting pycodestyle<2.11.0,>=2.10.0\n",
            "  Downloading pycodestyle-2.10.0-py2.py3-none-any.whl (41 kB)\n",
            "\u001b[2K     \u001b[90m━━━━━━━━━━━━━━━━━━━━━━━━━━━━━━━━━━━━━━━━\u001b[0m \u001b[32m41.3/41.3 KB\u001b[0m \u001b[31m2.0 MB/s\u001b[0m eta \u001b[36m0:00:00\u001b[0m\n",
            "\u001b[?25hCollecting pyflakes<3.1.0,>=3.0.0\n",
            "  Downloading pyflakes-3.0.1-py2.py3-none-any.whl (62 kB)\n",
            "\u001b[2K     \u001b[90m━━━━━━━━━━━━━━━━━━━━━━━━━━━━━━━━━━━━━━━━\u001b[0m \u001b[32m62.8/62.8 KB\u001b[0m \u001b[31m4.0 MB/s\u001b[0m eta \u001b[36m0:00:00\u001b[0m\n",
            "\u001b[?25hInstalling collected packages: pyflakes, pycodestyle, mccabe, flake8\n",
            "Successfully installed flake8-6.0.0 mccabe-0.7.0 pycodestyle-2.10.0 pyflakes-3.0.1\n",
            "Looking in indexes: https://pypi.org/simple, https://us-python.pkg.dev/colab-wheels/public/simple/\n",
            "Requirement already satisfied: pycodestyle in /usr/local/lib/python3.8/dist-packages (2.10.0)\n",
            "Collecting pycodestyle_magic\n",
            "  Downloading pycodestyle_magic-0.5-py2.py3-none-any.whl (9.5 kB)\n",
            "Installing collected packages: pycodestyle_magic\n",
            "Successfully installed pycodestyle_magic-0.5\n"
          ]
        }
      ],
      "source": [
        "# # install\n",
        "!pip install flake8\n",
        "!pip install pycodestyle pycodestyle_magic\n",
        "\n",
        "\n",
        "# # load\n",
        "%load_ext pycodestyle_magic\n",
        "\n",
        "%pycodestyle_on"
      ]
    },
    {
      "cell_type": "code",
      "source": [
        "from sklearn.linear_model import LinearRegression\n",
        "from sklearn.preprocessing import PolynomialFeatures\n",
        "from sklearn.linear_model import Ridge\n",
        "from sklearn.linear_model import RidgeCV\n",
        "from sklearn.datasets import make_regression\n",
        "from sklearn.model_selection import train_test_split\n",
        "from sklearn.metrics import mean_squared_error\n",
        "import matplotlib.pyplot as plt\n",
        "import numpy as np\n",
        "\n",
        "%matplotlib inline"
      ],
      "metadata": {
        "id": "eC0hDDb02s2D"
      },
      "execution_count": 2,
      "outputs": []
    },
    {
      "cell_type": "markdown",
      "source": [
        "#Zadanie 1"
      ],
      "metadata": {
        "id": "bxqUBG_I9BcL"
      }
    },
    {
      "cell_type": "code",
      "source": [
        "# Data without modification\n",
        "x_data, y_data = make_regression(n_samples=100, n_features=1, noise=3)\n",
        "\n",
        "plt.scatter(x_data, y_data)\n",
        "plt.show()"
      ],
      "metadata": {
        "colab": {
          "base_uri": "https://localhost:8080/",
          "height": 265
        },
        "id": "8QTvQCMTri0m",
        "outputId": "ecd2bc5d-1246-40dd-8893-6c300c65510a"
      },
      "execution_count": 3,
      "outputs": [
        {
          "output_type": "display_data",
          "data": {
            "text/plain": [
              "<Figure size 432x288 with 1 Axes>"
            ],
            "image/png": "[encoded data removed]"
          },
          "metadata": {
            "needs_background": "light"
          }
        }
      ]
    },
    {
      "cell_type": "code",
      "source": [
        "x_train, x_test, y_train, y_test = train_test_split(x_data, y_data)\n",
        "\n",
        "y_train = y_train.reshape(-1, 1)\n",
        "y_test = y_test.reshape(-1, 1)"
      ],
      "metadata": {
        "id": "_NDfI4F7t8JZ"
      },
      "execution_count": 4,
      "outputs": []
    },
    {
      "cell_type": "code",
      "source": [
        "linreg = LinearRegression().fit(x_train,\n",
        "                                y_train)\n",
        "\n",
        "y_test_predict = linreg.predict(x_test)\n",
        "y_train_predict = linreg.predict(x_train).reshape(-1, 1)\n",
        "\n",
        "plt.scatter(x_data, y_data)\n",
        "\n",
        "# plt.plot(x_train,\n",
        "#          y_train_predict,\n",
        "#          color='tab:green',\n",
        "#          label=\"Prediction on training dataset\")\n",
        "\n",
        "plt.plot(x_test, y_test_predict, color='tab:red',\n",
        "         label=\"Prediction on training dataset\")\n",
        "plt.legend()\n",
        "plt.show()\n",
        "\n",
        "print(f'Estimated coefficients: {linreg.coef_}')\n",
        "print(f'Independent term: {linreg.intercept_}')"
      ],
      "metadata": {
        "colab": {
          "base_uri": "https://localhost:8080/",
          "height": 300
        },
        "id": "dxbsPRMsvr40",
        "outputId": "4bd3767d-86b8-4eba-f3ff-8c96ee2251c2"
      },
      "execution_count": 5,
      "outputs": [
        {
          "output_type": "display_data",
          "data": {
            "text/plain": [
              "<Figure size 432x288 with 1 Axes>"
            ],
            "image/png": "[encoded data removed]"
          },
          "metadata": {
            "needs_background": "light"
          }
        },
        {
          "output_type": "stream",
          "name": "stdout",
          "text": [
            "Estimated coefficients: [[48.6741074]]\n",
            "Independent term: [-0.37549645]\n"
          ]
        }
      ]
    },
    {
      "cell_type": "markdown",
      "source": [
        "# Zadanie 2"
      ],
      "metadata": {
        "id": "l2UNwhPh9KPt"
      }
    },
    {
      "cell_type": "code",
      "source": [
        "def make_polynomial_regression(n_samples=100.0, noise=0.1,\n",
        "                               degree=2, x_axis_span=2.5):\n",
        "    X = x_axis_span*np.random.randn(n_samples)\n",
        "    y = 4 + 2*X + (-4)*X**degree + noise*np.random.randn(n_samples)\n",
        "    return X, y, degree\n",
        "\n",
        "n = 100\n",
        "noise = 30\n",
        "\n",
        "x_data, y_data, degree = make_polynomial_regression(n, noise, 3)\n",
        "\n",
        "plt.scatter(x_data, y_data)\n",
        "plt.show()"
      ],
      "metadata": {
        "id": "_9CcZVjA9NM0",
        "outputId": "91723eab-eee5-49e0-a776-1719091f8523",
        "colab": {
          "base_uri": "https://localhost:8080/",
          "height": 282
        }
      },
      "execution_count": 27,
      "outputs": [
        {
          "output_type": "display_data",
          "data": {
            "text/plain": [
              "<Figure size 432x288 with 1 Axes>"
            ],
            "image/png": "[encoded data removed]"
          },
          "metadata": {
            "needs_background": "light"
          }
        },
        {
          "output_type": "stream",
          "name": "stderr",
          "text": [
            "INFO:pycodestyle:7:1: E305 expected 2 blank lines after class or function definition, found 1\n"
          ]
        }
      ]
    },
    {
      "cell_type": "code",
      "source": [
        "x_train, x_test, y_train, y_test = train_test_split(x_data, y_data)\n",
        "\n",
        "mymodel = np.poly1d(np.polyfit(x_train, y_train, degree))\n",
        "\n",
        "x_for_plot = np.linspace(np.min(x_data), np.max(x_data), 100)\n",
        "\n",
        "plt.scatter(x_data, y_data)\n",
        "\n",
        "y_train_predict = mymodel(x_for_plot)\n",
        "\n",
        "plt.plot(x_for_plot, y_train_predict, color=\"tab:red\")\n",
        "plt.show()\n",
        "\n",
        "print(f'Estimated coefficients:  {mymodel.coefficients}')"
      ],
      "metadata": {
        "id": "ppFpUjVP0SX6",
        "outputId": "61932c40-c27d-469a-c500-982f5a57728f",
        "colab": {
          "base_uri": "https://localhost:8080/",
          "height": 282
        }
      },
      "execution_count": 28,
      "outputs": [
        {
          "output_type": "display_data",
          "data": {
            "text/plain": [
              "<Figure size 432x288 with 1 Axes>"
            ],
            "image/png": "[encoded data removed]"
          },
          "metadata": {
            "needs_background": "light"
          }
        },
        {
          "output_type": "stream",
          "name": "stdout",
          "text": [
            "Estimated coefficients:  [-4.02834169  0.11400833  1.56438194 -2.90137661]\n"
          ]
        }
      ]
    },
    {
      "cell_type": "markdown",
      "source": [
        "# Zadanie 3"
      ],
      "metadata": {
        "id": "FXxzca9XA0dh"
      }
    },
    {
      "cell_type": "code",
      "source": [
        "x_data, y_data = make_regression(n_samples=100, n_features=1, noise=5)\n",
        "\n",
        "plt.scatter(x_data, y_data)\n",
        "plt.show()"
      ],
      "metadata": {
        "id": "P62BVsj4A3gS",
        "outputId": "c4e7f65f-67b6-4c93-957d-0a5d09873657",
        "colab": {
          "base_uri": "https://localhost:8080/",
          "height": 265
        }
      },
      "execution_count": 29,
      "outputs": [
        {
          "output_type": "display_data",
          "data": {
            "text/plain": [
              "<Figure size 432x288 with 1 Axes>"
            ],
            "image/png": "[encoded data removed]"
          },
          "metadata": {
            "needs_background": "light"
          }
        }
      ]
    },
    {
      "cell_type": "code",
      "source": [
        "x_train, x_test, y_train, y_test = train_test_split(x_data, y_data)\n",
        "\n",
        "y_train = y_train.reshape(-1, 1)\n",
        "y_test = y_test.reshape(-1, 1)"
      ],
      "metadata": {
        "id": "SGBbJi-_ICl2"
      },
      "execution_count": 39,
      "outputs": []
    },
    {
      "cell_type": "code",
      "source": [
        "ridge_reg = Ridge(alpha=1.0).fit(x_train, y_train)\n",
        "\n",
        "y_test_predict = ridge_reg.predict(x_test)\n",
        "y_train_predict = ridge_reg.predict(x_train)\n",
        "\n",
        "plt.scatter(x_data, y_data)\n",
        "\n",
        "# plt.plot(x_train,\n",
        "#          y_train_predict,\n",
        "#          color='tab:green',\n",
        "#          label=\"Prediction on training dataset\")\n",
        "\n",
        "plt.plot(x_test, y_test_predict, color='tab:red',\n",
        "         label=\"Prediction on training dataset\")\n",
        "\n",
        "plt.legend()\n",
        "plt.show()\n",
        "\n",
        "print(f'Estimated coefficients: {ridge_reg.coef_}')\n",
        "print(f'Independent term: {ridge_reg.intercept_}')"
      ],
      "metadata": {
        "id": "fSW3JO-tILB8",
        "outputId": "4b57fadc-3c1c-4028-cb3e-02b53ff5ddec",
        "colab": {
          "base_uri": "https://localhost:8080/",
          "height": 300
        }
      },
      "execution_count": 40,
      "outputs": [
        {
          "output_type": "display_data",
          "data": {
            "text/plain": [
              "<Figure size 432x288 with 1 Axes>"
            ],
            "image/png": "[encoded data removed]"
          },
          "metadata": {
            "needs_background": "light"
          }
        },
        {
          "output_type": "stream",
          "name": "stdout",
          "text": [
            "Estimated coefficients: [[39.83946215]]\n",
            "Independent term: [0.70980937]\n"
          ]
        }
      ]
    },
    {
      "cell_type": "markdown",
      "source": [
        "# Zad 3 CV"
      ],
      "metadata": {
        "id": "LD3bprMKjSRH"
      }
    },
    {
      "cell_type": "code",
      "source": [
        "x_data, y_data = make_regression(n_samples=100, n_features=1, noise=12)\n",
        "\n",
        "plt.scatter(x_data, y_data)\n",
        "plt.show()"
      ],
      "metadata": {
        "id": "G5FUkGatjUy2",
        "colab": {
          "base_uri": "https://localhost:8080/",
          "height": 265
        },
        "outputId": "6d1b5040-1fa4-4989-912e-68db6670df39"
      },
      "execution_count": 32,
      "outputs": [
        {
          "output_type": "display_data",
          "data": {
            "text/plain": [
              "<Figure size 432x288 with 1 Axes>"
            ],
            "image/png": "[encoded data removed]"
          },
          "metadata": {
            "needs_background": "light"
          }
        }
      ]
    },
    {
      "cell_type": "code",
      "source": [
        "x_train, x_test, y_train, y_test = train_test_split(x_data, y_data)\n",
        "\n",
        "y_train = y_train.reshape(-1, 1)\n",
        "y_test = y_test.reshape(-1, 1)"
      ],
      "metadata": {
        "id": "Ec-zNC1Ojcv0"
      },
      "execution_count": 33,
      "outputs": []
    },
    {
      "cell_type": "code",
      "source": [
        "r_alphas = np.logspace(0, 7, 200)\n",
        "\n",
        "ridge_model = RidgeCV(alphas=r_alphas, store_cv_values=True)\n",
        "\n",
        "ridge_reg = ridge_model.fit(x_train, y_train)"
      ],
      "metadata": {
        "id": "qCv2j3Uhje0N"
      },
      "execution_count": 34,
      "outputs": []
    },
    {
      "cell_type": "code",
      "source": [
        "\n",
        "y_test_predict = ridge_reg.predict(x_test)\n",
        "y_train_predict = ridge_reg.predict(x_train)\n",
        "\n",
        "plt.scatter(x_data, y_data)\n",
        "\n",
        "# plt.plot(x_train,\n",
        "#          y_train_predict,\n",
        "#          color='tab:green',\n",
        "#          label=\"Prediction on training dataset\")\n",
        "\n",
        "plt.plot(x_test, y_test_predict, color='tab:red',\n",
        "         label=\"Prediction on training dataset\")\n",
        "\n",
        "plt.legend()\n",
        "plt.show()\n",
        "\n",
        "print(f'Alpha: {ridge_reg.alpha_}')"
      ],
      "metadata": {
        "id": "cN4mHDe0jkks",
        "colab": {
          "base_uri": "https://localhost:8080/",
          "height": 282
        },
        "outputId": "d50df480-29a6-4ec6-a04c-9f4e815010ce"
      },
      "execution_count": 35,
      "outputs": [
        {
          "output_type": "display_data",
          "data": {
            "text/plain": [
              "<Figure size 432x288 with 1 Axes>"
            ],
            "image/png": "[encoded data removed]"
          },
          "metadata": {
            "needs_background": "light"
          }
        },
        {
          "output_type": "stream",
          "name": "stdout",
          "text": [
            "Alpha: 1.0\n"
          ]
        }
      ]
    },
    {
      "cell_type": "code",
      "source": [
        "\n",
        "print(f'Estimated coefficients: {ridge_reg.coef_}')\n",
        "print(f'Independent term: {ridge_reg.intercept_}')"
      ],
      "metadata": {
        "id": "fz-vOic7jneY",
        "colab": {
          "base_uri": "https://localhost:8080/"
        },
        "outputId": "2ced12ee-6d2a-4916-d942-c0eaa1c76f8d"
      },
      "execution_count": 36,
      "outputs": [
        {
          "output_type": "stream",
          "name": "stdout",
          "text": [
            "Estimated coefficients: [[42.44284764]]\n",
            "Independent term: [1.07012175]\n"
          ]
        }
      ]
    }
  ]
}