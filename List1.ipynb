{
  "nbformat": 4,
  "nbformat_minor": 0,
  "metadata": {
    "colab": {
      "provenance": [],
      "authorship_tag": "ABX9TyPtIHjg+gZrV3c/bQRzZhj4",
      "include_colab_link": true
    },
    "kernelspec": {
      "name": "python3",
      "display_name": "Python 3"
    },
    "language_info": {
      "name": "python"
    }
  },
  "cells": [
    {
      "cell_type": "markdown",
      "metadata": {
        "id": "view-in-github",
        "colab_type": "text"
      },
      "source": [
        "<a href=\"https://colab.research.google.com/github/11jolek11/BigData/blob/main/List1.ipynb\" target=\"_parent\"><img src=\"https://colab.research.google.com/assets/colab-badge.svg\" alt=\"Open In Colab\"/></a>"
      ]
    },
    {
      "cell_type": "code",
      "execution_count": 38,
      "metadata": {
        "id": "WakVFM4ukPSF"
      },
      "outputs": [],
      "source": [
        "# # install\n",
        "!pip install flake8\n",
        "!pip install pycodestyle pycodestyle_magic\n",
        "\n",
        "\n",
        "# # load\n",
        "%load_ext pycodestyle_magic\n",
        "\n",
        "%pycodestyle_on"
      ]
    },
    {
      "cell_type": "code",
      "source": [
        "from sklearn.linear_model import LinearRegression\n",
        "from sklearn.datasets import make_regression\n",
        "from sklearn.model_selection import train_test_split\n",
        "import matplotlib.pyplot as plt\n",
        "# import pandas as pd\n",
        "# import seaborn as sns\n",
        "\n",
        "%matplotlib inline"
      ],
      "metadata": {
        "id": "eC0hDDb02s2D"
      },
      "execution_count": 39,
      "outputs": []
    },
    {
      "cell_type": "code",
      "source": [
        "# Data without modification\n",
        "x_data, y_data = make_regression(n_samples=1000, n_features=1, noise=18)\n",
        "\n",
        "plt.scatter(x_data, y_data)\n",
        "plt.show()"
      ],
      "metadata": {
        "colab": {
          "base_uri": "https://localhost:8080/",
          "height": 265
        },
        "id": "8QTvQCMTri0m",
        "outputId": "b705649b-3b38-47e8-c063-5567e0e763f8"
      },
      "execution_count": 40,
      "outputs": [
        {
          "output_type": "display_data",
          "data": {
            "text/plain": [
              "<Figure size 432x288 with 1 Axes>"
            ],
            "image/png": "[encoded data removed]"
          },
          "metadata": {
            "needs_background": "light"
          }
        }
      ]
    },
    {
      "cell_type": "code",
      "source": [
        "x_train, x_test, y_train, y_test = train_test_split(x_data, y_data)\n",
        "\n",
        "y_train = y_train.reshape(-1, 1)\n",
        "y_test = y_test.reshape(-1, 1)\n",
        "\n",
        "print(f'x_train shape {x_train.shape}')\n",
        "print(f'x_test shape {x_test.shape}')\n",
        "print(f'y_train shape {y_train.shape}')\n",
        "print(f'y_test shape {y_test.shape}')\n",
        "# TODO: Change shape of y_* datasets from zero-dimensional to 1-dimensional\n",
        "# TODO: Add cross validation for another linear models"
      ],
      "metadata": {
        "id": "_NDfI4F7t8JZ"
      },
      "execution_count": 41,
      "outputs": []
    },
    {
      "cell_type": "code",
      "source": [
        "linreg = LinearRegression().fit(x_train,\n",
        "                                y_train)\n",
        "\n",
        "y_test_predict = linreg.predict(x_test)\n",
        "y_train_predict = linreg.predict(x_train).reshape(-1, 1)\n",
        "\n",
        "plt.scatter(x_data, y_data)\n",
        "plt.plot(x_train,\n",
        "         y_train_predict,\n",
        "         color='tab:green',\n",
        "         label=\"Prediction on training dataset\")\n",
        "# plt.plot(x_test, y_test_predict, color='tab:red'\n",
        "# , label=\"Prediction on training dataset\")"
      ],
      "metadata": {
        "colab": {
          "base_uri": "https://localhost:8080/",
          "height": 282
        },
        "id": "dxbsPRMsvr40",
        "outputId": "8d5cb22d-90db-4256-84ff-02a1cdbd523c"
      },
      "execution_count": 42,
      "outputs": [
        {
          "output_type": "execute_result",
          "data": {
            "text/plain": [
              "[<matplotlib.lines.Line2D at 0x7f86864707c0>]"
            ]
          },
          "metadata": {},
          "execution_count": 42
        },
        {
          "output_type": "display_data",
          "data": {
            "text/plain": [
              "<Figure size 432x288 with 1 Axes>"
            ],
            "image/png": "[encoded data removed]"
          },
          "metadata": {
            "needs_background": "light"
          }
        }
      ]
    }
  ]
}