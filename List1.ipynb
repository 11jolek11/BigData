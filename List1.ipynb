{
  "nbformat": 4,
  "nbformat_minor": 0,
  "metadata": {
    "colab": {
      "provenance": [],
      "toc_visible": true,
      "authorship_tag": "ABX9TyNaKzRcGLe240/Kwsx+Nfmx",
      "include_colab_link": true
    },
    "kernelspec": {
      "name": "python3",
      "display_name": "Python 3"
    },
    "language_info": {
      "name": "python"
    }
  },
  "cells": [
    {
      "cell_type": "markdown",
      "metadata": {
        "id": "view-in-github",
        "colab_type": "text"
      },
      "source": [
        "<a href=\"https://colab.research.google.com/github/11jolek11/BigData/blob/main/List1.ipynb\" target=\"_parent\"><img src=\"https://colab.research.google.com/assets/colab-badge.svg\" alt=\"Open In Colab\"/></a>"
      ]
    },
    {
      "cell_type": "code",
      "execution_count": null,
      "metadata": {
        "id": "WakVFM4ukPSF",
        "outputId": "5cd274c4-9086-4e28-e599-9ac9b2e2227c",
        "colab": {
          "base_uri": "https://localhost:8080/"
        }
      },
      "outputs": [
        {
          "output_type": "stream",
          "name": "stdout",
          "text": [
            "Looking in indexes: https://pypi.org/simple, https://us-python.pkg.dev/colab-wheels/public/simple/\n",
            "Requirement already satisfied: flake8 in /usr/local/lib/python3.8/dist-packages (6.0.0)\n",
            "Requirement already satisfied: pycodestyle<2.11.0,>=2.10.0 in /usr/local/lib/python3.8/dist-packages (from flake8) (2.10.0)\n",
            "Requirement already satisfied: mccabe<0.8.0,>=0.7.0 in /usr/local/lib/python3.8/dist-packages (from flake8) (0.7.0)\n",
            "Requirement already satisfied: pyflakes<3.1.0,>=3.0.0 in /usr/local/lib/python3.8/dist-packages (from flake8) (3.0.1)\n",
            "Looking in indexes: https://pypi.org/simple, https://us-python.pkg.dev/colab-wheels/public/simple/\n",
            "Requirement already satisfied: pycodestyle in /usr/local/lib/python3.8/dist-packages (2.10.0)\n",
            "Requirement already satisfied: pycodestyle_magic in /usr/local/lib/python3.8/dist-packages (0.5)\n",
            "The pycodestyle_magic extension is already loaded. To reload it, use:\n",
            "  %reload_ext pycodestyle_magic\n"
          ]
        }
      ],
      "source": [
        "# # install\n",
        "!pip install flake8\n",
        "!pip install pycodestyle pycodestyle_magic\n",
        "\n",
        "\n",
        "# # load\n",
        "%load_ext pycodestyle_magic\n",
        "\n",
        "%pycodestyle_on"
      ]
    },
    {
      "cell_type": "code",
      "source": [
        "from sklearn.linear_model import LinearRegression\n",
        "from sklearn.preprocessing import PolynomialFeatures\n",
        "from sklearn.linear_model import Ridge\n",
        "from sklearn.linear_model import RidgeCV\n",
        "from sklearn.datasets import make_regression\n",
        "from sklearn.model_selection import train_test_split\n",
        "from sklearn.metrics import mean_squared_error\n",
        "import matplotlib.pyplot as plt\n",
        "import numpy as np\n",
        "\n",
        "%matplotlib inline"
      ],
      "metadata": {
        "id": "eC0hDDb02s2D"
      },
      "execution_count": null,
      "outputs": []
    },
    {
      "cell_type": "markdown",
      "source": [
        "#Zadanie 1"
      ],
      "metadata": {
        "id": "bxqUBG_I9BcL"
      }
    },
    {
      "cell_type": "code",
      "source": [
        "# Generowanie danych \n",
        "x_data, y_data = make_regression(n_samples=100, n_features=1, noise=3)\n",
        "\n",
        "plt.scatter(x_data, y_data)\n",
        "plt.show()"
      ],
      "metadata": {
        "colab": {
          "base_uri": "https://localhost:8080/",
          "height": 321
        },
        "id": "8QTvQCMTri0m",
        "outputId": "c977876a-e831-4c87-840a-7aa7dfe6f42c"
      },
      "execution_count": null,
      "outputs": [
        {
          "output_type": "display_data",
          "data": {
            "text/plain": [
              "<Figure size 432x288 with 1 Axes>"
            ],
            "image/png": "[encoded data removed]"
          },
          "metadata": {
            "needs_background": "light"
          }
        },
        {
          "output_type": "stream",
          "name": "stderr",
          "text": [
            "INFO:pycodestyle:1:21: W291 trailing whitespace\n",
            "INFO:pycodestyle:1:21: W291 trailing whitespace\n",
            "INFO:pycodestyle:1:21: W291 trailing whitespace\n"
          ]
        }
      ]
    },
    {
      "cell_type": "code",
      "source": [
        "# Podział danych na zbiór treningowy i testowy\n",
        "x_train, x_test, y_train, y_test = train_test_split(x_data, y_data)\n",
        "\n",
        "y_train = y_train.reshape(-1, 1)\n",
        "y_test = y_test.reshape(-1, 1)"
      ],
      "metadata": {
        "id": "_NDfI4F7t8JZ"
      },
      "execution_count": null,
      "outputs": []
    },
    {
      "cell_type": "code",
      "source": [
        "# Tworzenie modelu oraz estymacja parametrów\n",
        "linreg = LinearRegression().fit(x_train,\n",
        "                                y_train)\n",
        "\n",
        "y_test_predict = linreg.predict(x_test)\n",
        "y_train_predict = linreg.predict(x_train).reshape(-1, 1)\n",
        "\n",
        "plt.scatter(x_data, y_data)\n",
        "\n",
        "# plt.plot(x_train,\n",
        "#          y_train_predict,\n",
        "#          color='tab:green',\n",
        "#          label=\"Prediction on training dataset\")\n",
        "\n",
        "plt.plot(x_test, y_test_predict, color='tab:red',\n",
        "         label=\"Prediction on training dataset\")\n",
        "plt.legend()\n",
        "plt.show()\n",
        "\n",
        "print(f'Estimated coefficients: {linreg.coef_}')\n",
        "print(f'Independent term: {linreg.intercept_}')"
      ],
      "metadata": {
        "colab": {
          "base_uri": "https://localhost:8080/",
          "height": 304
        },
        "id": "dxbsPRMsvr40",
        "outputId": "1ab4ca71-6489-4032-bb90-f211a0b11cbe"
      },
      "execution_count": null,
      "outputs": [
        {
          "output_type": "display_data",
          "data": {
            "text/plain": [
              "<Figure size 432x288 with 1 Axes>"
            ],
            "image/png": "[encoded data removed]"
          },
          "metadata": {
            "needs_background": "light"
          }
        },
        {
          "output_type": "stream",
          "name": "stdout",
          "text": [
            "Estimated coefficients: [[73.54107828]]\n",
            "Independent term: [0.26303409]\n"
          ]
        }
      ]
    },
    {
      "cell_type": "markdown",
      "source": [
        "# Zadanie 2"
      ],
      "metadata": {
        "id": "l2UNwhPh9KPt"
      }
    },
    {
      "cell_type": "code",
      "source": [
        "def make_polynomial_regression(n_samples=100.0, noise=0.1,\n",
        "                               degree=2, x_axis_span=2.5):\n",
        "    \"\"\"\n",
        "    Funkcja generująca dane dla regresji wielomianowej.\n",
        "    Funckja odpowiadająca za generowanie danych:\n",
        "    -4*X^degree + 2*X + 4 + szum z rozkładu normalnego\n",
        "    \"\"\"\n",
        "    X = x_axis_span*np.random.randn(n_samples)\n",
        "    y = 4 + 2*X + (-4)*X**degree + noise*np.random.randn(n_samples)\n",
        "    return X, y, degree\n",
        "\n",
        "\n",
        "n = 100\n",
        "noise = 30\n",
        "\n",
        "# Generowanie danych\n",
        "x_data, y_data, degree = make_polynomial_regression(n, noise, 3)\n",
        "\n",
        "plt.scatter(x_data, y_data)\n",
        "plt.show()"
      ],
      "metadata": {
        "id": "_9CcZVjA9NM0",
        "outputId": "d5164660-3e8e-400c-f7ae-a68f5771b1cc",
        "colab": {
          "base_uri": "https://localhost:8080/",
          "height": 265
        }
      },
      "execution_count": null,
      "outputs": [
        {
          "output_type": "display_data",
          "data": {
            "text/plain": [
              "<Figure size 432x288 with 1 Axes>"
            ],
            "image/png": "[encoded data removed]"
          },
          "metadata": {
            "needs_background": "light"
          }
        }
      ]
    },
    {
      "cell_type": "code",
      "source": [
        "# Podział danych na zbiór testowy oraz treningowy\n",
        "x_train, x_test, y_train, y_test = train_test_split(x_data, y_data)\n",
        "\n",
        "# Tworzenie modelu oraz estymacja parametrów\n",
        "mymodel = np.poly1d(np.polyfit(x_train, y_train, degree))\n",
        "\n",
        "x_for_plot = np.linspace(np.min(x_data), np.max(x_data), 100)\n",
        "\n",
        "plt.scatter(x_data, y_data)\n",
        "\n",
        "# Predykcja\n",
        "y_train_predict = mymodel(x_for_plot)\n",
        "\n",
        "plt.plot(x_for_plot, y_train_predict, color=\"tab:red\")\n",
        "\n",
        "plt.show()\n",
        "\n",
        "print(f'Estimated coefficients:  {mymodel.coefficients}')"
      ],
      "metadata": {
        "id": "ppFpUjVP0SX6",
        "outputId": "c4bc4139-54bf-4f69-cb0f-c44676d7356f",
        "colab": {
          "base_uri": "https://localhost:8080/",
          "height": 282
        }
      },
      "execution_count": null,
      "outputs": [
        {
          "output_type": "display_data",
          "data": {
            "text/plain": [
              "<Figure size 432x288 with 1 Axes>"
            ],
            "image/png": "[encoded data removed]"
          },
          "metadata": {
            "needs_background": "light"
          }
        },
        {
          "output_type": "stream",
          "name": "stdout",
          "text": [
            "Estimated coefficients:  [-4.00510281  0.389567    5.40044684  0.71507405]\n"
          ]
        }
      ]
    },
    {
      "cell_type": "markdown",
      "source": [
        "# Zadanie 3"
      ],
      "metadata": {
        "id": "FXxzca9XA0dh"
      }
    },
    {
      "cell_type": "code",
      "source": [
        "# Generowanie danych\n",
        "x_data, y_data = make_regression(n_samples=100, n_features=1, noise=5)\n",
        "\n",
        "plt.scatter(x_data, y_data)\n",
        "plt.show()"
      ],
      "metadata": {
        "id": "P62BVsj4A3gS",
        "outputId": "73a77da2-a336-4bbb-ddaf-fa757123d16e",
        "colab": {
          "base_uri": "https://localhost:8080/",
          "height": 265
        }
      },
      "execution_count": null,
      "outputs": [
        {
          "output_type": "display_data",
          "data": {
            "text/plain": [
              "<Figure size 432x288 with 1 Axes>"
            ],
            "image/png": "[encoded data removed]"
          },
          "metadata": {
            "needs_background": "light"
          }
        }
      ]
    },
    {
      "cell_type": "code",
      "source": [
        "# Podział danych na zbiór testowy oraz treningowy\n",
        "x_train, x_test, y_train, y_test = train_test_split(x_data, y_data)\n",
        "\n",
        "y_train = y_train.reshape(-1, 1)\n",
        "y_test = y_test.reshape(-1, 1)"
      ],
      "metadata": {
        "id": "SGBbJi-_ICl2"
      },
      "execution_count": null,
      "outputs": []
    },
    {
      "cell_type": "code",
      "source": [
        "# Model regresji liniowej z parametrem alpha == 1 oraz estymacja parametrów\n",
        "ridge_reg = Ridge(alpha=1.0).fit(x_train, y_train)\n",
        "\n",
        "# Predykcja\n",
        "y_test_predict = ridge_reg.predict(x_test)\n",
        "y_train_predict = ridge_reg.predict(x_train)\n",
        "\n",
        "plt.scatter(x_data, y_data)\n",
        "\n",
        "# plt.plot(x_train,\n",
        "#          y_train_predict,\n",
        "#          color='tab:green',\n",
        "#          label=\"Prediction on training dataset\")\n",
        "\n",
        "plt.plot(x_test, y_test_predict, color='tab:red',\n",
        "         label=\"Prediction on training dataset\")\n",
        "\n",
        "plt.legend()\n",
        "plt.show()\n",
        "\n",
        "print(f'Estimated coefficients: {ridge_reg.coef_}')\n",
        "print(f'Independent term: {ridge_reg.intercept_}')"
      ],
      "metadata": {
        "id": "fSW3JO-tILB8",
        "outputId": "212b892e-f4e1-45a2-8b57-bd88c4fc8aac",
        "colab": {
          "base_uri": "https://localhost:8080/",
          "height": 300
        }
      },
      "execution_count": null,
      "outputs": [
        {
          "output_type": "display_data",
          "data": {
            "text/plain": [
              "<Figure size 432x288 with 1 Axes>"
            ],
            "image/png": "[encoded data removed]"
          },
          "metadata": {
            "needs_background": "light"
          }
        },
        {
          "output_type": "stream",
          "name": "stdout",
          "text": [
            "Estimated coefficients: [[93.23558846]]\n",
            "Independent term: [0.43081097]\n"
          ]
        }
      ]
    },
    {
      "cell_type": "markdown",
      "source": [
        "# Zad 3 CV"
      ],
      "metadata": {
        "id": "LD3bprMKjSRH"
      }
    },
    {
      "cell_type": "code",
      "source": [
        "# Generowanie danych \n",
        "x_data, y_data = make_regression(n_samples=100, n_features=1, noise=12)\n",
        "\n",
        "plt.scatter(x_data, y_data)\n",
        "plt.show()"
      ],
      "metadata": {
        "id": "G5FUkGatjUy2",
        "colab": {
          "base_uri": "https://localhost:8080/",
          "height": 265
        },
        "outputId": "ed5a5367-01cf-4bad-f0be-a85766d8a8fa"
      },
      "execution_count": null,
      "outputs": [
        {
          "output_type": "display_data",
          "data": {
            "text/plain": [
              "<Figure size 432x288 with 1 Axes>"
            ],
            "image/png": "[encoded data removed]"
          },
          "metadata": {
            "needs_background": "light"
          }
        }
      ]
    },
    {
      "cell_type": "code",
      "source": [
        "# Podział danych na zbioru testowe i treningowe\n",
        "x_train, x_test, y_train, y_test = train_test_split(x_data, y_data)\n",
        "\n",
        "y_train = y_train.reshape(-1, 1)\n",
        "y_test = y_test.reshape(-1, 1)"
      ],
      "metadata": {
        "id": "Ec-zNC1Ojcv0"
      },
      "execution_count": null,
      "outputs": []
    },
    {
      "cell_type": "code",
      "source": [
        "# Generowanie hiperparamteru alpha do walidacji krzyżowej\n",
        "r_alphas = np.linspace(1, 7, 200)\n",
        "\n",
        "# model z walidacją krzyżową \n",
        "ridge_model = RidgeCV(alphas=r_alphas, store_cv_values=True)\n",
        "\n",
        "# estymacja parametrów\n",
        "ridge_reg = ridge_model.fit(x_train, y_train)"
      ],
      "metadata": {
        "id": "qCv2j3Uhje0N"
      },
      "execution_count": null,
      "outputs": []
    },
    {
      "cell_type": "code",
      "source": [
        "# predykcja\n",
        "y_test_predict = ridge_reg.predict(x_test)\n",
        "y_train_predict = ridge_reg.predict(x_train)\n",
        "\n",
        "plt.scatter(x_data, y_data)\n",
        "\n",
        "# plt.plot(x_train,\n",
        "#          y_train_predict,\n",
        "#          color='tab:green',\n",
        "#          label=\"Prediction on training dataset\")\n",
        "\n",
        "plt.plot(x_test, y_test_predict, color='tab:red',\n",
        "         label=\"Prediction on training dataset\")\n",
        "\n",
        "plt.legend()\n",
        "plt.show()\n",
        "\n",
        "print(f'Alpha: {ridge_reg.alpha_}')"
      ],
      "metadata": {
        "id": "cN4mHDe0jkks",
        "colab": {
          "base_uri": "https://localhost:8080/",
          "height": 282
        },
        "outputId": "5dd7a03f-865d-4e26-da8e-668180a0fb09"
      },
      "execution_count": null,
      "outputs": [
        {
          "output_type": "display_data",
          "data": {
            "text/plain": [
              "<Figure size 432x288 with 1 Axes>"
            ],
            "image/png": "[encoded data removed]"
          },
          "metadata": {
            "needs_background": "light"
          }
        },
        {
          "output_type": "stream",
          "name": "stdout",
          "text": [
            "Alpha: 1.0\n"
          ]
        }
      ]
    },
    {
      "cell_type": "code",
      "source": [
        "\n",
        "print(f'Estimated coefficients: {ridge_reg.coef_}')\n",
        "print(f'Independent term: {ridge_reg.intercept_}')"
      ],
      "metadata": {
        "id": "fz-vOic7jneY",
        "colab": {
          "base_uri": "https://localhost:8080/"
        },
        "outputId": "045b3402-7948-4d53-f8d9-1f9a38729262"
      },
      "execution_count": null,
      "outputs": [
        {
          "output_type": "stream",
          "name": "stdout",
          "text": [
            "Estimated coefficients: [[80.42664406]]\n",
            "Independent term: [0.9093022]\n"
          ]
        }
      ]
    }
  ]
}