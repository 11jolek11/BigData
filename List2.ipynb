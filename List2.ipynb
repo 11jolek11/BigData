{
  "nbformat": 4,
  "nbformat_minor": 0,
  "metadata": {
    "colab": {
      "provenance": [],
      "authorship_tag": "ABX9TyO+Hwvn6DSNWyraBW0ZA1Be",
      "include_colab_link": true
    },
    "kernelspec": {
      "name": "python3",
      "display_name": "Python 3"
    },
    "language_info": {
      "name": "python"
    }
  },
  "cells": [
    {
      "cell_type": "markdown",
      "metadata": {
        "id": "view-in-github",
        "colab_type": "text"
      },
      "source": [
        "<a href=\"https://colab.research.google.com/github/11jolek11/BigData/blob/main/List2.ipynb\" target=\"_parent\"><img src=\"https://colab.research.google.com/assets/colab-badge.svg\" alt=\"Open In Colab\"/></a>"
      ]
    },
    {
      "cell_type": "code",
      "execution_count": 31,
      "metadata": {
        "colab": {
          "base_uri": "https://localhost:8080/"
        },
        "id": "yudliWZEdoif",
        "outputId": "0504cac6-037d-4e38-9cf7-be438b7ff71b"
      },
      "outputs": [
        {
          "output_type": "stream",
          "name": "stdout",
          "text": [
            "Looking in indexes: https://pypi.org/simple, https://us-python.pkg.dev/colab-wheels/public/simple/\n",
            "Requirement already satisfied: flake8 in /usr/local/lib/python3.9/dist-packages (6.0.0)\n",
            "Requirement already satisfied: pyflakes<3.1.0,>=3.0.0 in /usr/local/lib/python3.9/dist-packages (from flake8) (3.0.1)\n",
            "Requirement already satisfied: pycodestyle<2.11.0,>=2.10.0 in /usr/local/lib/python3.9/dist-packages (from flake8) (2.10.0)\n",
            "Requirement already satisfied: mccabe<0.8.0,>=0.7.0 in /usr/local/lib/python3.9/dist-packages (from flake8) (0.7.0)\n",
            "Looking in indexes: https://pypi.org/simple, https://us-python.pkg.dev/colab-wheels/public/simple/\n",
            "Requirement already satisfied: pycodestyle in /usr/local/lib/python3.9/dist-packages (2.10.0)\n",
            "Requirement already satisfied: pycodestyle_magic in /usr/local/lib/python3.9/dist-packages (0.5)\n",
            "The pycodestyle_magic extension is already loaded. To reload it, use:\n",
            "  %reload_ext pycodestyle_magic\n"
          ]
        }
      ],
      "source": [
        "# # install\n",
        "!pip install flake8\n",
        "!pip install pycodestyle pycodestyle_magic\n",
        "\n",
        "\n",
        "# # load\n",
        "%load_ext pycodestyle_magic\n",
        "\n",
        "%pycodestyle_on"
      ]
    },
    {
      "cell_type": "code",
      "source": [
        "import numpy as np\n",
        "import matplotlib.pyplot as plt\n",
        "from scipy import interpolate\n",
        "\n",
        "%matplotlib inline"
      ],
      "metadata": {
        "id": "jESlHFO_d_Jw"
      },
      "execution_count": 32,
      "outputs": []
    },
    {
      "cell_type": "markdown",
      "source": [
        "# Zadanie 1"
      ],
      "metadata": {
        "id": "dQdMOIQ2eBI-"
      }
    },
    {
      "cell_type": "code",
      "source": [
        "# (1/np.sqrt(np.pi)*4)*(e**(-0.5((x-7)/2)^2))"
      ],
      "metadata": {
        "id": "2HoXVbAaeFCw"
      },
      "execution_count": 33,
      "outputs": []
    },
    {
      "cell_type": "code",
      "source": [
        "def generate_bell_data(n=16, a=0, b=10):\n",
        "    X = np.linspace(a, b, n)\n",
        "    y = (1/np.sqrt(np.pi)*4)*(np.e**(-0.5*((X-7)/2)**2))\n",
        "    return X, y\n",
        "\n",
        "\n",
        "x_data, y_data = generate_bell_data()\n",
        "\n",
        "plt.scatter(x_data, y_data)\n",
        "plt.show()"
      ],
      "metadata": {
        "colab": {
          "base_uri": "https://localhost:8080/",
          "height": 265
        },
        "id": "F70vTL0NePvJ",
        "outputId": "fb122d9a-2e03-4d26-d552-64acd9945fb2"
      },
      "execution_count": 34,
      "outputs": [
        {
          "output_type": "display_data",
          "data": {
            "text/plain": [
              "<Figure size 432x288 with 1 Axes>"
            ],
            "image/png": "[encoded data removed]"
          },
          "metadata": {
            "needs_background": "light"
          }
        }
      ]
    },
    {
      "cell_type": "code",
      "source": [
        "f = interpolate.interp1d(x_data, y_data, kind='linear')\n",
        "\n",
        "x = np.linspace(0, 10, 30)\n",
        "\n",
        "y_hat = f(x)\n",
        "\n",
        "plt.scatter(x_data, y_data)\n",
        "plt.plot(x, y_hat, color=\"tab:red\")"
      ],
      "metadata": {
        "id": "Tm9zdAcXs7Ab",
        "outputId": "1a0b6b84-45fd-4642-d13c-bb14c7ac1f8c",
        "colab": {
          "base_uri": "https://localhost:8080/",
          "height": 282
        }
      },
      "execution_count": 35,
      "outputs": [
        {
          "output_type": "execute_result",
          "data": {
            "text/plain": [
              "[<matplotlib.lines.Line2D at 0x7f9099e8bc40>]"
            ]
          },
          "metadata": {},
          "execution_count": 35
        },
        {
          "output_type": "display_data",
          "data": {
            "text/plain": [
              "<Figure size 432x288 with 1 Axes>"
            ],
            "image/png": "[encoded data removed]"
          },
          "metadata": {
            "needs_background": "light"
          }
        }
      ]
    },
    {
      "cell_type": "markdown",
      "source": [
        "# Zadanie 2"
      ],
      "metadata": {
        "id": "lvG7Yad057_m"
      }
    },
    {
      "cell_type": "code",
      "source": [
        "# f = interpolate.interp1d(x_data, y_data, kind=3)\n",
        "\n",
        "# plt.plot(x, f(x), 'b')\n",
        "# plt.scatter(x_data, y_data, color=\"tab:red\")\n",
        "\n",
        "# plt.show()"
      ],
      "metadata": {
        "id": "OLRcJQzn6GMo"
      },
      "execution_count": 36,
      "outputs": []
    },
    {
      "cell_type": "code",
      "source": [
        "# def _poly_newton_coefficient(x, y):    \n",
        "#     \"\"\"\n",
        "#     x: list or np array contanining x data points\n",
        "#     y: list or np array contanining y data points\n",
        "#     \"\"\"\n",
        "\n",
        "#     m = len(x)\n",
        "\n",
        "#     x = np.copy(x)\n",
        "#     a = np.copy(y)\n",
        "#     for k in range(1, m):\n",
        "#         a[k:m] = (a[k:m] - a[k - 1])/(x[k:m] - x[k - 1])\n",
        "\n",
        "#     return a\n",
        "\n",
        "# def newton_polynomial(x_data, y_data, x):\n",
        "#     \"\"\"\n",
        "#     x_data: data points at x\n",
        "#     y_data: data points at y\n",
        "#     x: evaluation point(s)\n",
        "#     \"\"\"\n",
        "#     a = _poly_newton_coefficient(x_data, y_data)\n",
        "#     n = len(x_data) - 1  # Degree of polynomial\n",
        "#     p = a[n]\n",
        "\n",
        "#     for k in range(1, n + 1):\n",
        "#         p = a[n - k] + (x - x_data[n - k])*p\n",
        "\n",
        "#     return p\n",
        "\n",
        "# x_newton = x_data[::4]\n",
        "# y_newton = y_data[::4]\n",
        "\n",
        "# if len(x_newton) != 4 and len(y_newton) != 4:\n",
        "#     print(\"Błąd\")\n",
        "\n",
        "# newton = newton_polynomial(x_newton, y_newton, x_data)\n",
        "# plt.plot(x_data, newton, 'b')\n",
        "# plt.scatter(x_data, y_data, color=\"tab:red\")\n",
        "\n",
        "# plt.show()  "
      ],
      "metadata": {
        "id": "ItxwahUafYNR",
        "outputId": "57e268ca-fa56-4958-cb43-08ee26fdb830",
        "colab": {
          "base_uri": "https://localhost:8080/"
        }
      },
      "execution_count": 46,
      "outputs": [
        {
          "output_type": "stream",
          "name": "stderr",
          "text": [
            "INFO:pycodestyle:1:38: W291 trailing whitespace\n",
            "INFO:pycodestyle:41:13: W291 trailing whitespace\n",
            "INFO:pycodestyle:1:38: W291 trailing whitespace\n",
            "INFO:pycodestyle:41:13: W291 trailing whitespace\n",
            "INFO:pycodestyle:1:38: W291 trailing whitespace\n",
            "INFO:pycodestyle:41:13: W291 trailing whitespace\n"
          ]
        }
      ]
    },
    {
      "cell_type": "code",
      "source": [
        "x_lagrange = x_data[::4]\n",
        "y_lagrange = y_data[::4]\n",
        "\n",
        "f = interpolate.lagrange(x_lagrange, y_lagrange)\n",
        "\n",
        "plt.plot(x_data, f(x_data), 'b')\n",
        "plt.scatter(x_lagrange, y_lagrange, color=\"tab:red\")\n",
        "\n",
        "print(f.c)\n",
        "\n",
        "plt.show()"
      ],
      "metadata": {
        "id": "HJdEf5LjkoHi",
        "outputId": "9f5d9086-dbc7-4f38-f044-de8d165fe857",
        "colab": {
          "base_uri": "https://localhost:8080/",
          "height": 282
        }
      },
      "execution_count": 58,
      "outputs": [
        {
          "output_type": "stream",
          "name": "stdout",
          "text": [
            "[-0.01889724  0.23330457 -0.40868244  0.00493664]\n"
          ]
        },
        {
          "output_type": "display_data",
          "data": {
            "text/plain": [
              "<Figure size 432x288 with 1 Axes>"
            ],
            "image/png": "[encoded data removed]"
          },
          "metadata": {
            "needs_background": "light"
          }
        }
      ]
    },
    {
      "cell_type": "markdown",
      "source": [
        "# Zadanie 3"
      ],
      "metadata": {
        "id": "2uk1Ap_DGO9q"
      }
    },
    {
      "cell_type": "code",
      "source": [
        "# tck = interpolate.UnivariateSpline(x_data, y_data, k=3, s=14)\n",
        "\n",
        "# plt.plot(x, tck(x), color=\"tab:green\")\n",
        "# plt.scatter(x_data, y_data)\n",
        "# plt.show()\n",
        "\n",
        "\n",
        "# f = interpolate.interp1d(x_data, y_data, kind='cubic')\n",
        "f = interpolate.interp1d(x_data, y_data, kind=3)\n",
        "\n",
        "\n",
        "plt.plot(x, f(x), 'b')\n",
        "plt.scatter(x_data, y_data, color=\"tab:red\")\n",
        "\n",
        "plt.show()"
      ],
      "metadata": {
        "id": "iumLZ9ttGQij",
        "outputId": "648f68f7-bf77-4856-96db-877cda1128f2",
        "colab": {
          "base_uri": "https://localhost:8080/",
          "height": 265
        }
      },
      "execution_count": 37,
      "outputs": [
        {
          "output_type": "display_data",
          "data": {
            "text/plain": [
              "<Figure size 432x288 with 1 Axes>"
            ],
            "image/png": "[encoded data removed]"
          },
          "metadata": {
            "needs_background": "light"
          }
        }
      ]
    },
    {
      "cell_type": "code",
      "source": [
        "\n",
        "f = interpolate.CubicSpline(x_data, y_data)\n",
        "\n",
        "plt.plot(x, f(x), 'b')\n",
        "plt.scatter(x_data, y_data, color=\"tab:red\")\n",
        "\n",
        "plt.show()"
      ],
      "metadata": {
        "id": "gzNHA37Kbn-p",
        "outputId": "edb38a13-739b-4902-8d6a-4b1feb52b4c8",
        "colab": {
          "base_uri": "https://localhost:8080/",
          "height": 265
        }
      },
      "execution_count": 38,
      "outputs": [
        {
          "output_type": "display_data",
          "data": {
            "text/plain": [
              "<Figure size 432x288 with 1 Axes>"
            ],
            "image/png": "[encoded data removed]"
          },
          "metadata": {
            "needs_background": "light"
          }
        }
      ]
    },
    {
      "cell_type": "code",
      "source": [
        "hours = [0.0, 1.0, 2.0, 3.0, 4.0, 5.0, 6.0, 7.0, 8.0, 9.0, 10.0, 11.0, 12.0, 13.0, 14.0, 15.0, 16.0, 17.0, 18.0, 19.0, 20.0, 21.0, 22.0, 23.0, 24.]\n",
        "temperature_celcius = [22, 20.5, 19, 18.5, 18, 18, 18.5, 19, 21, 23, 24, 24.5, 25, 26, 27, 28, 28, 26, 24.5, 23, 22, 22, 21.5, 21, 22]\n",
        "\n",
        "x = np.linspace(0, max(hours))\n",
        "\n",
        "f = interpolate.CubicSpline(hours, temperature_celcius)\n",
        "\n",
        "plt.plot(x, f(x), 'b')\n",
        "plt.scatter(hours, temperature_celcius, color=\"tab:red\")\n",
        "\n",
        "plt.show()"
      ],
      "metadata": {
        "id": "2w3IDQ9xcL4o",
        "outputId": "c6df2b3f-9803-4d6f-876a-37ebacbf64cb",
        "colab": {
          "base_uri": "https://localhost:8080/",
          "height": 369
        }
      },
      "execution_count": 39,
      "outputs": [
        {
          "output_type": "display_data",
          "data": {
            "text/plain": [
              "<Figure size 432x288 with 1 Axes>"
            ],
            "image/png": "[encoded data removed]"
          },
          "metadata": {
            "needs_background": "light"
          }
        },
        {
          "output_type": "stream",
          "name": "stderr",
          "text": [
            "INFO:pycodestyle:1:80: E501 line too long (147 > 79 characters)\n",
            "INFO:pycodestyle:2:80: E501 line too long (134 > 79 characters)\n",
            "INFO:pycodestyle:1:80: E501 line too long (147 > 79 characters)\n",
            "INFO:pycodestyle:2:80: E501 line too long (134 > 79 characters)\n",
            "INFO:pycodestyle:1:80: E501 line too long (147 > 79 characters)\n",
            "INFO:pycodestyle:2:80: E501 line too long (134 > 79 characters)\n"
          ]
        }
      ]
    }
  ]
}