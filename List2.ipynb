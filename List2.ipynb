{
  "nbformat": 4,
  "nbformat_minor": 0,
  "metadata": {
    "colab": {
      "provenance": [],
      "authorship_tag": "ABX9TyM8+0E002kzd+XKTRFQrO5I",
      "include_colab_link": true
    },
    "kernelspec": {
      "name": "python3",
      "display_name": "Python 3"
    },
    "language_info": {
      "name": "python"
    }
  },
  "cells": [
    {
      "cell_type": "markdown",
      "metadata": {
        "id": "view-in-github",
        "colab_type": "text"
      },
      "source": [
        "<a href=\"https://colab.research.google.com/github/11jolek11/BigData/blob/main/List2.ipynb\" target=\"_parent\"><img src=\"https://colab.research.google.com/assets/colab-badge.svg\" alt=\"Open In Colab\"/></a>"
      ]
    },
    {
      "cell_type": "code",
      "execution_count": 1,
      "metadata": {
        "colab": {
          "base_uri": "https://localhost:8080/"
        },
        "id": "yudliWZEdoif",
        "outputId": "8e40d4d7-be50-4a99-8dcf-aafe0c711cef"
      },
      "outputs": [
        {
          "output_type": "stream",
          "name": "stdout",
          "text": [
            "Looking in indexes: https://pypi.org/simple, https://us-python.pkg.dev/colab-wheels/public/simple/\n",
            "Collecting flake8\n",
            "  Downloading flake8-6.0.0-py2.py3-none-any.whl (57 kB)\n",
            "\u001b[2K     \u001b[90m━━━━━━━━━━━━━━━━━━━━━━━━━━━━━━━━━━━━━━━━\u001b[0m \u001b[32m57.8/57.8 KB\u001b[0m \u001b[31m1.6 MB/s\u001b[0m eta \u001b[36m0:00:00\u001b[0m\n",
            "\u001b[?25hCollecting pyflakes<3.1.0,>=3.0.0\n",
            "  Downloading pyflakes-3.0.1-py2.py3-none-any.whl (62 kB)\n",
            "\u001b[2K     \u001b[90m━━━━━━━━━━━━━━━━━━━━━━━━━━━━━━━━━━━━━━━━\u001b[0m \u001b[32m62.8/62.8 KB\u001b[0m \u001b[31m3.1 MB/s\u001b[0m eta \u001b[36m0:00:00\u001b[0m\n",
            "\u001b[?25hCollecting pycodestyle<2.11.0,>=2.10.0\n",
            "  Downloading pycodestyle-2.10.0-py2.py3-none-any.whl (41 kB)\n",
            "\u001b[2K     \u001b[90m━━━━━━━━━━━━━━━━━━━━━━━━━━━━━━━━━━━━━━━━\u001b[0m \u001b[32m41.3/41.3 KB\u001b[0m \u001b[31m1.7 MB/s\u001b[0m eta \u001b[36m0:00:00\u001b[0m\n",
            "\u001b[?25hCollecting mccabe<0.8.0,>=0.7.0\n",
            "  Downloading mccabe-0.7.0-py2.py3-none-any.whl (7.3 kB)\n",
            "Installing collected packages: pyflakes, pycodestyle, mccabe, flake8\n",
            "Successfully installed flake8-6.0.0 mccabe-0.7.0 pycodestyle-2.10.0 pyflakes-3.0.1\n",
            "Looking in indexes: https://pypi.org/simple, https://us-python.pkg.dev/colab-wheels/public/simple/\n",
            "Requirement already satisfied: pycodestyle in /usr/local/lib/python3.8/dist-packages (2.10.0)\n",
            "Collecting pycodestyle_magic\n",
            "  Downloading pycodestyle_magic-0.5-py2.py3-none-any.whl (9.5 kB)\n",
            "Installing collected packages: pycodestyle_magic\n",
            "Successfully installed pycodestyle_magic-0.5\n"
          ]
        }
      ],
      "source": [
        "# # install\n",
        "!pip install flake8\n",
        "!pip install pycodestyle pycodestyle_magic\n",
        "\n",
        "\n",
        "# # load\n",
        "%load_ext pycodestyle_magic\n",
        "\n",
        "%pycodestyle_on"
      ]
    },
    {
      "cell_type": "code",
      "source": [
        "import numpy as np\n",
        "import matplotlib.pyplot as plt\n",
        "from scipy import interpolate\n",
        "\n",
        "%matplotlib inline"
      ],
      "metadata": {
        "id": "jESlHFO_d_Jw"
      },
      "execution_count": 2,
      "outputs": []
    },
    {
      "cell_type": "markdown",
      "source": [
        "# Zadanie 1"
      ],
      "metadata": {
        "id": "dQdMOIQ2eBI-"
      }
    },
    {
      "cell_type": "code",
      "source": [
        "# (1/np.sqrt(np.pi)*4)*(e**(-0.5((x-7)/2)^2))"
      ],
      "metadata": {
        "id": "2HoXVbAaeFCw"
      },
      "execution_count": 3,
      "outputs": []
    },
    {
      "cell_type": "code",
      "source": [
        "def generate_bell_data(n=15, a=0, b=10):\n",
        "    X = np.linspace(a, b, n)\n",
        "    y = (1/np.sqrt(np.pi)*4)*(np.e**(-0.5*((X-7)/2)**2))\n",
        "    return X, y\n",
        "\n",
        "\n",
        "x_data, y_data = generate_bell_data()\n",
        "\n",
        "plt.scatter(x_data, y_data)\n",
        "plt.show()"
      ],
      "metadata": {
        "colab": {
          "base_uri": "https://localhost:8080/",
          "height": 265
        },
        "id": "F70vTL0NePvJ",
        "outputId": "7f9244b2-c1ba-406d-b3c3-bb687fb47b78"
      },
      "execution_count": 4,
      "outputs": [
        {
          "output_type": "display_data",
          "data": {
            "text/plain": [
              "<Figure size 432x288 with 1 Axes>"
            ],
            "image/png": "[encoded data removed]"
          },
          "metadata": {
            "needs_background": "light"
          }
        }
      ]
    },
    {
      "cell_type": "code",
      "source": [
        "f = interpolate.interp1d(x_data, y_data)\n",
        "\n",
        "x = np.linspace(0, 10, 30)\n",
        "\n",
        "y_hat = f(x)\n",
        "\n",
        "plt.scatter(x_data, y_data)\n",
        "plt.plot(x, y_hat, color=\"tab:red\")"
      ],
      "metadata": {
        "id": "Tm9zdAcXs7Ab",
        "outputId": "7404bf17-c911-41f2-b421-f40e32fa37b9",
        "colab": {
          "base_uri": "https://localhost:8080/",
          "height": 282
        }
      },
      "execution_count": 6,
      "outputs": [
        {
          "output_type": "execute_result",
          "data": {
            "text/plain": [
              "[<matplotlib.lines.Line2D at 0x7f4cb0827f10>]"
            ]
          },
          "metadata": {},
          "execution_count": 6
        },
        {
          "output_type": "display_data",
          "data": {
            "text/plain": [
              "<Figure size 432x288 with 1 Axes>"
            ],
            "image/png": "[encoded data removed]"
          },
          "metadata": {
            "needs_background": "light"
          }
        }
      ]
    },
    {
      "cell_type": "markdown",
      "source": [
        "# Zadanie 2"
      ],
      "metadata": {
        "id": "lvG7Yad057_m"
      }
    },
    {
      "cell_type": "code",
      "source": [
        "f = interpolate.interp1d(x_data, y_data, kind=3)\n",
        "\n",
        "plt.plot(x, f(x), 'b')\n",
        "plt.scatter(x_data, y_data, color=\"tab:red\")\n",
        "\n",
        "plt.show()"
      ],
      "metadata": {
        "id": "OLRcJQzn6GMo",
        "outputId": "40d0efbe-d29a-438d-d3bd-54ce0a18611a",
        "colab": {
          "base_uri": "https://localhost:8080/",
          "height": 265
        }
      },
      "execution_count": 7,
      "outputs": [
        {
          "output_type": "display_data",
          "data": {
            "text/plain": [
              "<Figure size 432x288 with 1 Axes>"
            ],
            "image/png": "[encoded data removed]"
          },
          "metadata": {
            "needs_background": "light"
          }
        }
      ]
    },
    {
      "cell_type": "markdown",
      "source": [
        "# Zadanie 3"
      ],
      "metadata": {
        "id": "2uk1Ap_DGO9q"
      }
    },
    {
      "cell_type": "code",
      "source": [
        "tck = interpolate.UnivariateSpline(x_data, y_data, k=3, s=14)\n",
        "\n",
        "plt.plot(x, tck(x), color=\"tab:green\")\n",
        "plt.scatter(x_data, y_data)\n",
        "plt.show()"
      ],
      "metadata": {
        "id": "iumLZ9ttGQij",
        "outputId": "6412c072-baa1-47b3-92b6-15417cf7477b",
        "colab": {
          "base_uri": "https://localhost:8080/",
          "height": 265
        }
      },
      "execution_count": 12,
      "outputs": [
        {
          "output_type": "display_data",
          "data": {
            "text/plain": [
              "<Figure size 432x288 with 1 Axes>"
            ],
            "image/png": "[encoded data removed]"
          },
          "metadata": {
            "needs_background": "light"
          }
        }
      ]
    }
  ]
}