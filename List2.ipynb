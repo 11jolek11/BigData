{
  "nbformat": 4,
  "nbformat_minor": 0,
  "metadata": {
    "colab": {
      "provenance": [],
      "authorship_tag": "ABX9TyMhJfVSLetAv0v/2eVs//Yf",
      "include_colab_link": true
    },
    "kernelspec": {
      "name": "python3",
      "display_name": "Python 3"
    },
    "language_info": {
      "name": "python"
    }
  },
  "cells": [
    {
      "cell_type": "markdown",
      "metadata": {
        "id": "view-in-github",
        "colab_type": "text"
      },
      "source": [
        "<a href=\"https://colab.research.google.com/github/11jolek11/BigData/blob/main/List2.ipynb\" target=\"_parent\"><img src=\"https://colab.research.google.com/assets/colab-badge.svg\" alt=\"Open In Colab\"/></a>"
      ]
    },
    {
      "cell_type": "code",
      "execution_count": 10,
      "metadata": {
        "colab": {
          "base_uri": "https://localhost:8080/"
        },
        "id": "yudliWZEdoif",
        "outputId": "91cd61d1-8818-4e13-b479-750325c81740"
      },
      "outputs": [
        {
          "output_type": "stream",
          "name": "stdout",
          "text": [
            "Looking in indexes: https://pypi.org/simple, https://us-python.pkg.dev/colab-wheels/public/simple/\n",
            "Requirement already satisfied: flake8 in /usr/local/lib/python3.8/dist-packages (6.0.0)\n",
            "Requirement already satisfied: pyflakes<3.1.0,>=3.0.0 in /usr/local/lib/python3.8/dist-packages (from flake8) (3.0.1)\n",
            "Requirement already satisfied: pycodestyle<2.11.0,>=2.10.0 in /usr/local/lib/python3.8/dist-packages (from flake8) (2.10.0)\n",
            "Requirement already satisfied: mccabe<0.8.0,>=0.7.0 in /usr/local/lib/python3.8/dist-packages (from flake8) (0.7.0)\n",
            "Looking in indexes: https://pypi.org/simple, https://us-python.pkg.dev/colab-wheels/public/simple/\n",
            "Requirement already satisfied: pycodestyle in /usr/local/lib/python3.8/dist-packages (2.10.0)\n",
            "Requirement already satisfied: pycodestyle_magic in /usr/local/lib/python3.8/dist-packages (0.5)\n",
            "The pycodestyle_magic extension is already loaded. To reload it, use:\n",
            "  %reload_ext pycodestyle_magic\n"
          ]
        }
      ],
      "source": [
        "# # install\n",
        "!pip install flake8\n",
        "!pip install pycodestyle pycodestyle_magic\n",
        "\n",
        "\n",
        "# # load\n",
        "%load_ext pycodestyle_magic\n",
        "\n",
        "%pycodestyle_on"
      ]
    },
    {
      "cell_type": "code",
      "source": [
        "\n",
        "from sklearn.linear_model import LinearRegression\n",
        "from sklearn.preprocessing import PolynomialFeatures\n",
        "from sklearn.linear_model import Ridge\n",
        "from sklearn.linear_model import RidgeCV\n",
        "from sklearn.datasets import make_regression\n",
        "from sklearn.model_selection import train_test_split\n",
        "from sklearn.metrics import mean_squared_error\n",
        "import matplotlib.pyplot as plt\n",
        "from scipy.interpolate import interp1d\n",
        "from scipy.interpolate import lagrange\n",
        "from scipy import interpolate\n",
        "import numpy as np\n",
        "\n",
        "%matplotlib inline"
      ],
      "metadata": {
        "id": "jESlHFO_d_Jw"
      },
      "execution_count": 11,
      "outputs": []
    },
    {
      "cell_type": "markdown",
      "source": [
        "# Zadanie 1"
      ],
      "metadata": {
        "id": "dQdMOIQ2eBI-"
      }
    },
    {
      "cell_type": "code",
      "source": [
        "# (1/np.sqrt(np.pi)*4)*(e**(-0.5((x-7)/2)^2))"
      ],
      "metadata": {
        "id": "2HoXVbAaeFCw"
      },
      "execution_count": 12,
      "outputs": []
    },
    {
      "cell_type": "code",
      "source": [
        "def generate_bell_data(n=15, a=0, b=10):\n",
        "    X = np.linspace(a, b, n)\n",
        "    y = (1/np.sqrt(np.pi)*4)*(np.e**(-0.5*((X-7)/2)**2))\n",
        "    return X, y\n",
        "\n",
        "\n",
        "x_data, y_data = generate_bell_data()\n",
        "\n",
        "plt.scatter(x_data, y_data)\n",
        "plt.show()"
      ],
      "metadata": {
        "colab": {
          "base_uri": "https://localhost:8080/",
          "height": 265
        },
        "id": "F70vTL0NePvJ",
        "outputId": "93bf03f8-3c5d-47d5-a56c-b9e39c608316"
      },
      "execution_count": 13,
      "outputs": [
        {
          "output_type": "display_data",
          "data": {
            "text/plain": [
              "<Figure size 432x288 with 1 Axes>"
            ],
            "image/png": "[encoded data removed]"
          },
          "metadata": {
            "needs_background": "light"
          }
        }
      ]
    },
    {
      "cell_type": "code",
      "source": [
        "f = interp1d(x_data, y_data)\n",
        "\n",
        "x = np.linspace(0, 10, 30)\n",
        "\n",
        "y_hat = f(x)\n",
        "\n",
        "plt.scatter(x_data, y_data)\n",
        "plt.plot(x, y_hat, color=\"tab:red\")"
      ],
      "metadata": {
        "id": "Tm9zdAcXs7Ab",
        "outputId": "7e7bb6f3-7e9a-4fdc-c578-0ba4709a2666",
        "colab": {
          "base_uri": "https://localhost:8080/",
          "height": 282
        }
      },
      "execution_count": 14,
      "outputs": [
        {
          "output_type": "execute_result",
          "data": {
            "text/plain": [
              "[<matplotlib.lines.Line2D at 0x7f2016eb54f0>]"
            ]
          },
          "metadata": {},
          "execution_count": 14
        },
        {
          "output_type": "display_data",
          "data": {
            "text/plain": [
              "<Figure size 432x288 with 1 Axes>"
            ],
            "image/png": "[encoded data removed]"
          },
          "metadata": {
            "needs_background": "light"
          }
        }
      ]
    },
    {
      "cell_type": "markdown",
      "source": [
        "# Zadanie 2"
      ],
      "metadata": {
        "id": "lvG7Yad057_m"
      }
    },
    {
      "cell_type": "code",
      "source": [
        "f = lagrange(x_data, y_data)\n",
        "\n",
        "plt.plot(x, f(x), 'b')\n",
        "plt.scatter(x_data, y_data, color=\"tab:red\")\n",
        "\n",
        "plt.show()"
      ],
      "metadata": {
        "id": "OLRcJQzn6GMo",
        "outputId": "1e5f8244-ab81-4f34-bc12-bcc4cfbb8dec",
        "colab": {
          "base_uri": "https://localhost:8080/",
          "height": 265
        }
      },
      "execution_count": 15,
      "outputs": [
        {
          "output_type": "display_data",
          "data": {
            "text/plain": [
              "<Figure size 432x288 with 1 Axes>"
            ],
            "image/png": "[encoded data removed]"
          },
          "metadata": {
            "needs_background": "light"
          }
        }
      ]
    },
    {
      "cell_type": "markdown",
      "source": [
        "# Zadanie 3"
      ],
      "metadata": {
        "id": "2uk1Ap_DGO9q"
      }
    },
    {
      "cell_type": "code",
      "source": [
        "tck = interpolate.splrep(x_data, y_data, s=0)\n",
        "y = interpolate.splev(x, tck, der=0)\n",
        "\n",
        "plt.plot(x, y, color=\"tab:green\")\n",
        "plt.scatter(x_data, y_data)\n",
        "plt.show()"
      ],
      "metadata": {
        "id": "iumLZ9ttGQij",
        "outputId": "903c0237-5aa9-493d-8440-240bbc3aae65",
        "colab": {
          "base_uri": "https://localhost:8080/",
          "height": 265
        }
      },
      "execution_count": 16,
      "outputs": [
        {
          "output_type": "display_data",
          "data": {
            "text/plain": [
              "<Figure size 432x288 with 1 Axes>"
            ],
            "image/png": "[encoded data removed]"
          },
          "metadata": {
            "needs_background": "light"
          }
        }
      ]
    }
  ]
}