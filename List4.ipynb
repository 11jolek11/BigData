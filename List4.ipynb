{
  "nbformat": 4,
  "nbformat_minor": 0,
  "metadata": {
    "colab": {
      "provenance": [],
      "authorship_tag": "ABX9TyPfTyC5Fo7T3hPOm8My9n2X",
      "include_colab_link": true
    },
    "kernelspec": {
      "name": "python3",
      "display_name": "Python 3"
    },
    "language_info": {
      "name": "python"
    }
  },
  "cells": [
    {
      "cell_type": "markdown",
      "metadata": {
        "id": "view-in-github",
        "colab_type": "text"
      },
      "source": [
        "<a href=\"https://colab.research.google.com/github/11jolek11/BigData/blob/yfinance/List4.ipynb\" target=\"_parent\"><img src=\"https://colab.research.google.com/assets/colab-badge.svg\" alt=\"Open In Colab\"/></a>"
      ]
    },
    {
      "cell_type": "code",
      "source": [
        "!pip install -q yfinance\n",
        "!pip install -q hurst"
      ],
      "metadata": {
        "id": "A8OsbibDrlbf"
      },
      "execution_count": 89,
      "outputs": []
    },
    {
      "cell_type": "code",
      "source": [
        "import numpy as np\n",
        "import pandas as pd\n",
        "import matplotlib.pyplot as plt\n",
        "from pandas.tseries.offsets import BDay\n",
        "from scipy.stats import entropy, kurtosis\n",
        "import hurst"
      ],
      "metadata": {
        "id": "c6VrZgr6alwk"
      },
      "execution_count": 90,
      "outputs": []
    },
    {
      "cell_type": "markdown",
      "source": [
        "Generowanie danych\n"
      ],
      "metadata": {
        "id": "feNtNsncrcmO"
      }
    },
    {
      "cell_type": "code",
      "execution_count": 91,
      "metadata": {
        "id": "xeOilisy1wdj"
      },
      "outputs": [],
      "source": [
        "# N = 500\n",
        "# scalar = 10\n",
        "# t = pd.date_range('2015-07-01', periods=N, freq=BDay())\n",
        "# x = np.log(np.cumsum(np.random.randn(N) + 1)) + scalar\n",
        "# x = np.sin(np.random.normal(loc=1, scale=0.03, size=N))\n",
        "\n",
        "# x = pd.Series(x, index=t)\n",
        "\n",
        "# plt.figure(figsize=(10,3))\n",
        "# plt.plot(t,x, label='orginal')\n",
        "# plt.legend()\n",
        "# plt.show()"
      ]
    },
    {
      "cell_type": "code",
      "source": [
        "N = 9999\n",
        "scalar = 10\n",
        "# x = pd.Series(x, index=t)\n",
        "\n",
        "# x = hurst.random_walk(N, proba=0.5)\n",
        "t = pd.date_range('2015-07-01', periods=N, freq=BDay())\n",
        "\n",
        "random_changes = 1. + np.random.randn(N) / 1000.\n",
        "x = np.cumprod(random_changes)  # create a random walk from random changes\n",
        "x = pd.Series(x, index=t)\n",
        "\n",
        "pp = hurst.compute_Hc(x, kind='price', simplified=True)\n",
        "\n",
        "plt.figure(figsize=(10,3))\n",
        "plt.plot(t, x, label='orginal')\n",
        "plt.legend()\n",
        "plt.show()\n",
        "\n",
        "print(pp[0])"
      ],
      "metadata": {
        "id": "lO5QGTjKXMWC",
        "outputId": "30cdf4b6-caf4-4c47-e00b-eb2a0c396ad6",
        "colab": {
          "base_uri": "https://localhost:8080/",
          "height": 231
        }
      },
      "execution_count": 92,
      "outputs": [
        {
          "output_type": "display_data",
          "data": {
            "text/plain": [
              "<Figure size 720x216 with 1 Axes>"
            ],
            "image/png": "[encoded data removed]"
          },
          "metadata": {
            "needs_background": "light"
          }
        },
        {
          "output_type": "stream",
          "name": "stdout",
          "text": [
            "0.601839154917832\n"
          ]
        }
      ]
    },
    {
      "cell_type": "markdown",
      "source": [
        "# Zad 1\n",
        "Wersja biblioteczna"
      ],
      "metadata": {
        "id": "GX2vcA8r18n0"
      }
    },
    {
      "cell_type": "code",
      "source": [
        "x.describe()"
      ],
      "metadata": {
        "id": "tt7yWKjb2BRM",
        "colab": {
          "base_uri": "https://localhost:8080/"
        },
        "outputId": "495315ad-adfb-4a3c-bcd1-dc384f78dcf5"
      },
      "execution_count": 93,
      "outputs": [
        {
          "output_type": "execute_result",
          "data": {
            "text/plain": [
              "count    9999.000000\n",
              "mean        1.107541\n",
              "std         0.077144\n",
              "min         0.984994\n",
              "25%         1.029740\n",
              "50%         1.123935\n",
              "75%         1.174892\n",
              "max         1.239024\n",
              "dtype: float64"
            ]
          },
          "metadata": {},
          "execution_count": 93
        }
      ]
    },
    {
      "cell_type": "code",
      "source": [
        "print(kurtosis(x))"
      ],
      "metadata": {
        "colab": {
          "base_uri": "https://localhost:8080/"
        },
        "id": "VTABVsOrgPqw",
        "outputId": "dae44256-a125-4c03-8b16-de3a2317382d"
      },
      "execution_count": 108,
      "outputs": [
        {
          "output_type": "stream",
          "name": "stdout",
          "text": [
            "-1.5626984203304497\n"
          ]
        }
      ]
    },
    {
      "cell_type": "markdown",
      "source": [
        "# Zad 2"
      ],
      "metadata": {
        "id": "hUWQYN512KBj"
      }
    },
    {
      "cell_type": "code",
      "source": [
        "# E = x.apply(lambda x : entropy(N, base=2)).reset_index()\n",
        "\n",
        "E = entropy(x, base=2)\n",
        "print(E)"
      ],
      "metadata": {
        "id": "1AAV7ZxE2ObM",
        "colab": {
          "base_uri": "https://localhost:8080/"
        },
        "outputId": "849f0092-4ea1-4f1f-f604-2aa4b9600132"
      },
      "execution_count": 95,
      "outputs": [
        {
          "output_type": "stream",
          "name": "stdout",
          "text": [
            "13.284065319282634\n"
          ]
        }
      ]
    },
    {
      "cell_type": "code",
      "source": [
        "# def hurst(input_ts, lags_to_test=[2, 100]):\n",
        "#   tau = []\n",
        "#   lagvec = []\n",
        "\n",
        "#   # print(None is input_ts)\n",
        "#   for lag in range(lags_to_test[0], lags_to_test[1]):\n",
        "#     # pp = np.subtract(input_ts[lag:], input_ts[:-lag])\n",
        "#     pp = input_ts[lag:] - input_ts[:-lag]\n",
        "#     # print(pp)\n",
        "#     # print(input_ts[:-lag])\n",
        "#     # print(None is pp)\n",
        "#     lagvec.append(lag)\n",
        "#     tau.append(np.std(pp))\n",
        "\n",
        "#   # print(lagvec)\n",
        "#   # print(tau)\n",
        "\n",
        "#   m = np.polyfit(lagvec, tau, 1)\n",
        "#   return m[0]\n",
        "\n",
        "# print(hurst(series))"
      ],
      "metadata": {
        "id": "nFhGH0vNjeEI"
      },
      "execution_count": 96,
      "outputs": []
    },
    {
      "cell_type": "code",
      "source": [
        "plt.figure(figsize=(10,3))\n",
        "plt.plot(t, x, label='orginal')\n",
        "plt.legend()\n",
        "plt.show()"
      ],
      "metadata": {
        "id": "vseIpDrUg-3t",
        "outputId": "c2924e65-5bcd-4b77-eaa8-71197c0a9b28",
        "colab": {
          "base_uri": "https://localhost:8080/",
          "height": 214
        }
      },
      "execution_count": 97,
      "outputs": [
        {
          "output_type": "display_data",
          "data": {
            "text/plain": [
              "<Figure size 720x216 with 1 Axes>"
            ],
            "image/png": "[encoded data removed]"
          },
          "metadata": {
            "needs_background": "light"
          }
        }
      ]
    },
    {
      "cell_type": "code",
      "source": [
        "print(hurst.compute_Hc(x)[0])"
      ],
      "metadata": {
        "id": "wA97cqO212Xe",
        "outputId": "24cc6099-0f8c-4b02-fb7d-963c0ff41d08",
        "colab": {
          "base_uri": "https://localhost:8080/"
        }
      },
      "execution_count": 102,
      "outputs": [
        {
          "output_type": "stream",
          "name": "stdout",
          "text": [
            "0.5882629212973552\n"
          ]
        }
      ]
    },
    {
      "cell_type": "code",
      "source": [
        "# def vectorized_stride_v1(array, clearing_time_index, max_time, sub_window_size,\n",
        "#                          stride_size):\n",
        "#     start = clearing_time_index + 1 - sub_window_size + 1\n",
        "    \n",
        "#     sub_windows = (\n",
        "#         start + \n",
        "#         np.expand_dims(np.arange(sub_window_size), 0) +\n",
        "#         np.expand_dims(np.arange(max_time + 1), 0).T\n",
        "#     )\n",
        "    \n",
        "#     # Fancy indexing to select every V rows.\n",
        "#     return array[sub_windows[::stride_size]]\n",
        "\n",
        "\n",
        "# def vectorized_stride_v2(array, clearing_time_index, max_time, sub_window_size,\n",
        "#                          stride_size):\n",
        "#     start = clearing_time_index + 1 - sub_window_size + 1\n",
        "    \n",
        "#     sub_windows = (\n",
        "#         start + \n",
        "#         np.expand_dims(np.arange(sub_window_size), 0) +\n",
        "#         # Create a rightmost vector as [0, V, 2V, ...].\n",
        "#         np.expand_dims(np.arange(max_time + 1, step=stride_size), 0).T\n",
        "#     )\n",
        "    \n",
        "#     return array[sub_windows]"
      ],
      "metadata": {
        "id": "t8CACAoxih3b"
      },
      "execution_count": 98,
      "outputs": []
    },
    {
      "cell_type": "code",
      "source": [
        "# vectorized_stride_v2(x, )"
      ],
      "metadata": {
        "id": "DL2JSB6XjQOA"
      },
      "execution_count": 99,
      "outputs": []
    },
    {
      "cell_type": "code",
      "source": [
        "# def rolling_window(seq, window_size):\n",
        "#     it = iter(seq)\n",
        "#     win = [it.next() for cnt in range(window_size)] # First window\n",
        "#     yield win\n",
        "#     for e in it: # Subsequent windows\n",
        "#         win[:-1] = win[1:]\n",
        "#         win[-1] = e\n",
        "#         yield win"
      ],
      "metadata": {
        "id": "6-GRDMHmh-P2"
      },
      "execution_count": 100,
      "outputs": []
    },
    {
      "cell_type": "markdown",
      "source": [
        "# Zad 3\n"
      ],
      "metadata": {
        "id": "mWsrNTZO2OvL"
      }
    },
    {
      "cell_type": "markdown",
      "source": [
        "Dla zadania 1\n"
      ],
      "metadata": {
        "id": "huHPuxi_7JK1"
      }
    },
    {
      "cell_type": "code",
      "source": [
        "x.rolling(7).mean()"
      ],
      "metadata": {
        "id": "jcr3D_1y2QPj",
        "outputId": "ae874a62-2af4-4f69-d8d1-e9fea79f4584",
        "colab": {
          "base_uri": "https://localhost:8080/"
        }
      },
      "execution_count": 103,
      "outputs": [
        {
          "output_type": "execute_result",
          "data": {
            "text/plain": [
              "2015-07-01         NaN\n",
              "2015-07-02         NaN\n",
              "2015-07-03         NaN\n",
              "2015-07-06         NaN\n",
              "2015-07-07         NaN\n",
              "                ...   \n",
              "2053-10-21    1.202565\n",
              "2053-10-22    1.203418\n",
              "2053-10-23    1.203848\n",
              "2053-10-24    1.204079\n",
              "2053-10-27    1.204496\n",
              "Freq: B, Length: 9999, dtype: float64"
            ]
          },
          "metadata": {},
          "execution_count": 103
        }
      ]
    },
    {
      "cell_type": "code",
      "source": [
        "x.rolling(7).std()"
      ],
      "metadata": {
        "id": "Nd_smJiB2O5-",
        "outputId": "837d8302-1b63-4af7-8d3b-7088c972358b",
        "colab": {
          "base_uri": "https://localhost:8080/"
        }
      },
      "execution_count": 104,
      "outputs": [
        {
          "output_type": "execute_result",
          "data": {
            "text/plain": [
              "2015-07-01         NaN\n",
              "2015-07-02         NaN\n",
              "2015-07-03         NaN\n",
              "2015-07-06         NaN\n",
              "2015-07-07         NaN\n",
              "                ...   \n",
              "2053-10-21    0.001457\n",
              "2053-10-22    0.001764\n",
              "2053-10-23    0.001817\n",
              "2053-10-24    0.001769\n",
              "2053-10-27    0.001571\n",
              "Freq: B, Length: 9999, dtype: float64"
            ]
          },
          "metadata": {},
          "execution_count": 104
        }
      ]
    },
    {
      "cell_type": "code",
      "source": [
        "x.rolling(7).median()"
      ],
      "metadata": {
        "id": "IkTnLwbU2WCd",
        "outputId": "e66cbae4-67a5-45f4-d3be-95229e29e517",
        "colab": {
          "base_uri": "https://localhost:8080/"
        }
      },
      "execution_count": 105,
      "outputs": [
        {
          "output_type": "execute_result",
          "data": {
            "text/plain": [
              "2015-07-01         NaN\n",
              "2015-07-02         NaN\n",
              "2015-07-03         NaN\n",
              "2015-07-06         NaN\n",
              "2015-07-07         NaN\n",
              "                ...   \n",
              "2053-10-21    1.202320\n",
              "2053-10-22    1.202515\n",
              "2053-10-23    1.202831\n",
              "2053-10-24    1.204449\n",
              "2053-10-27    1.205069\n",
              "Freq: B, Length: 9999, dtype: float64"
            ]
          },
          "metadata": {},
          "execution_count": 105
        }
      ]
    },
    {
      "cell_type": "code",
      "source": [
        "x.rolling(7).apply(kurtosis)"
      ],
      "metadata": {
        "id": "B98F9nyV5mX2",
        "outputId": "9b7cb3c8-09bf-4fbe-85f8-4b8b75ce6c09",
        "colab": {
          "base_uri": "https://localhost:8080/"
        }
      },
      "execution_count": 109,
      "outputs": [
        {
          "output_type": "execute_result",
          "data": {
            "text/plain": [
              "2015-07-01         NaN\n",
              "2015-07-02         NaN\n",
              "2015-07-03         NaN\n",
              "2015-07-06         NaN\n",
              "2015-07-07         NaN\n",
              "                ...   \n",
              "2053-10-21    0.589521\n",
              "2053-10-22   -0.797090\n",
              "2053-10-23   -1.615082\n",
              "2053-10-24   -1.609575\n",
              "2053-10-27   -1.140565\n",
              "Freq: B, Length: 9999, dtype: float64"
            ]
          },
          "metadata": {},
          "execution_count": 109
        }
      ]
    },
    {
      "cell_type": "markdown",
      "source": [
        "Do zadania 2"
      ],
      "metadata": {
        "id": "4Qk5sQF17LqV"
      }
    },
    {
      "cell_type": "code",
      "source": [
        "def entopy_base_2(data):\n",
        "    return entropy(data, base=2)"
      ],
      "metadata": {
        "id": "FBjIv-vq7aAQ"
      },
      "execution_count": 110,
      "outputs": []
    },
    {
      "cell_type": "code",
      "source": [
        "def first_hurst(data):\n",
        "    return hurst.compute_Hc(data)[0]"
      ],
      "metadata": {
        "id": "xH2QHtLt73s-"
      },
      "execution_count": 112,
      "outputs": []
    },
    {
      "cell_type": "code",
      "source": [
        "x.rolling(7).apply(entopy_base_2)"
      ],
      "metadata": {
        "id": "JAJrtAJx7N8e",
        "outputId": "8901441f-7ba5-4df1-db80-991c8877c5a9",
        "colab": {
          "base_uri": "https://localhost:8080/"
        }
      },
      "execution_count": 111,
      "outputs": [
        {
          "output_type": "execute_result",
          "data": {
            "text/plain": [
              "2015-07-01         NaN\n",
              "2015-07-02         NaN\n",
              "2015-07-03         NaN\n",
              "2015-07-06         NaN\n",
              "2015-07-07         NaN\n",
              "                ...   \n",
              "2053-10-21    2.807354\n",
              "2053-10-22    2.807354\n",
              "2053-10-23    2.807354\n",
              "2053-10-24    2.807354\n",
              "2053-10-27    2.807354\n",
              "Freq: B, Length: 9999, dtype: float64"
            ]
          },
          "metadata": {},
          "execution_count": 111
        }
      ]
    },
    {
      "cell_type": "code",
      "source": [
        "x.rolling(100).apply(first_hurst)"
      ],
      "metadata": {
        "id": "jXN2mADj7rPm",
        "outputId": "2f92017d-a14c-4511-8c34-86278cfb97d8",
        "colab": {
          "base_uri": "https://localhost:8080/"
        }
      },
      "execution_count": 114,
      "outputs": [
        {
          "output_type": "execute_result",
          "data": {
            "text/plain": [
              "2015-07-01         NaN\n",
              "2015-07-02         NaN\n",
              "2015-07-03         NaN\n",
              "2015-07-06         NaN\n",
              "2015-07-07         NaN\n",
              "                ...   \n",
              "2053-10-21    0.546939\n",
              "2053-10-22    0.519260\n",
              "2053-10-23    0.574025\n",
              "2053-10-24    0.584777\n",
              "2053-10-27    0.606551\n",
              "Freq: B, Length: 9999, dtype: float64"
            ]
          },
          "metadata": {},
          "execution_count": 114
        }
      ]
    },
    {
      "cell_type": "markdown",
      "source": [
        "# Zad 4"
      ],
      "metadata": {
        "id": "sZAO_x1R2QtE"
      }
    },
    {
      "cell_type": "code",
      "source": [],
      "metadata": {
        "id": "eHzA_NNo2TlT"
      },
      "execution_count": null,
      "outputs": []
    }
  ]
}