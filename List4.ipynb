{
  "nbformat": 4,
  "nbformat_minor": 0,
  "metadata": {
    "colab": {
      "provenance": [],
      "authorship_tag": "ABX9TyNydwEFQ/PWiJh/iBQ0x5wk",
      "include_colab_link": true
    },
    "kernelspec": {
      "name": "python3",
      "display_name": "Python 3"
    },
    "language_info": {
      "name": "python"
    }
  },
  "cells": [
    {
      "cell_type": "markdown",
      "metadata": {
        "id": "view-in-github",
        "colab_type": "text"
      },
      "source": [
        "<a href=\"https://colab.research.google.com/github/11jolek11/BigData/blob/yfinance/List4.ipynb\" target=\"_parent\"><img src=\"https://colab.research.google.com/assets/colab-badge.svg\" alt=\"Open In Colab\"/></a>"
      ]
    },
    {
      "cell_type": "code",
      "source": [
        "!pip install -q yfinance\n",
        "!pip install -q hurst"
      ],
      "metadata": {
        "id": "A8OsbibDrlbf"
      },
      "execution_count": 79,
      "outputs": []
    },
    {
      "cell_type": "code",
      "source": [
        "import numpy as np\n",
        "import pandas as pd\n",
        "import matplotlib.pyplot as plt\n",
        "from pandas.tseries.offsets import BDay\n",
        "from scipy.stats import entropy, kurtosis\n",
        "import hurst"
      ],
      "metadata": {
        "id": "c6VrZgr6alwk"
      },
      "execution_count": 55,
      "outputs": []
    },
    {
      "cell_type": "markdown",
      "source": [
        "Generowanie danych\n"
      ],
      "metadata": {
        "id": "feNtNsncrcmO"
      }
    },
    {
      "cell_type": "code",
      "execution_count": 77,
      "metadata": {
        "id": "xeOilisy1wdj"
      },
      "outputs": [],
      "source": [
        "# N = 500\n",
        "# scalar = 10\n",
        "# t = pd.date_range('2015-07-01', periods=N, freq=BDay())\n",
        "# x = np.log(np.cumsum(np.random.randn(N) + 1)) + scalar\n",
        "# x = np.sin(np.random.normal(loc=1, scale=0.03, size=N))\n",
        "\n",
        "# x = pd.Series(x, index=t)\n",
        "\n",
        "# plt.figure(figsize=(10,3))\n",
        "# plt.plot(t,x, label='orginal')\n",
        "# plt.legend()\n",
        "# plt.show()"
      ]
    },
    {
      "cell_type": "code",
      "source": [
        "N = 9999\n",
        "scalar = 10\n",
        "# x = pd.Series(x, index=t)\n",
        "\n",
        "# x = hurst.random_walk(N, proba=0.5)\n",
        "t = pd.date_range('2015-07-01', periods=N, freq=BDay())\n",
        "\n",
        "random_changes = 1. + np.random.randn(N) / 1000.\n",
        "x = np.cumprod(random_changes)  # create a random walk from random changes\n",
        "x = pd.Series(x, index=t)\n",
        "\n",
        "pp = hurst.compute_Hc(x, kind='price', simplified=True)\n",
        "\n",
        "plt.figure(figsize=(10,3))\n",
        "plt.plot(t, x, label='orginal')\n",
        "plt.legend()\n",
        "plt.show()\n",
        "\n",
        "print(pp[0])"
      ],
      "metadata": {
        "id": "lO5QGTjKXMWC",
        "outputId": "93a9fb86-5886-4c31-e8f4-baee07df9a49",
        "colab": {
          "base_uri": "https://localhost:8080/",
          "height": 232
        }
      },
      "execution_count": 78,
      "outputs": [
        {
          "output_type": "display_data",
          "data": {
            "text/plain": [
              "<Figure size 720x216 with 1 Axes>"
            ],
            "image/png": "[encoded data removed]"
          },
          "metadata": {
            "needs_background": "light"
          }
        },
        {
          "output_type": "stream",
          "name": "stdout",
          "text": [
            "0.477327301402233\n"
          ]
        }
      ]
    },
    {
      "cell_type": "markdown",
      "source": [
        "# Zad 1\n",
        "Wersja biblioteczna"
      ],
      "metadata": {
        "id": "GX2vcA8r18n0"
      }
    },
    {
      "cell_type": "code",
      "source": [
        "x.describe()"
      ],
      "metadata": {
        "id": "tt7yWKjb2BRM",
        "colab": {
          "base_uri": "https://localhost:8080/"
        },
        "outputId": "c7d3557b-a41b-4a51-f86b-cd0c33927c51"
      },
      "execution_count": 58,
      "outputs": [
        {
          "output_type": "execute_result",
          "data": {
            "text/plain": [
              "count    9999.000000\n",
              "mean        0.919002\n",
              "std         0.064218\n",
              "min         0.823072\n",
              "25%         0.858155\n",
              "50%         0.909724\n",
              "75%         0.990431\n",
              "max         1.017948\n",
              "dtype: float64"
            ]
          },
          "metadata": {},
          "execution_count": 58
        }
      ]
    },
    {
      "cell_type": "code",
      "source": [
        "print(kurtosis(x, fisher=False))"
      ],
      "metadata": {
        "colab": {
          "base_uri": "https://localhost:8080/"
        },
        "id": "VTABVsOrgPqw",
        "outputId": "5e288c5f-393d-493f-80c1-3321562c5476"
      },
      "execution_count": 59,
      "outputs": [
        {
          "output_type": "stream",
          "name": "stdout",
          "text": [
            "1.3870927869849716\n"
          ]
        }
      ]
    },
    {
      "cell_type": "markdown",
      "source": [
        "# Zad 2"
      ],
      "metadata": {
        "id": "hUWQYN512KBj"
      }
    },
    {
      "cell_type": "code",
      "source": [
        "# E = x.apply(lambda x : entropy(N, base=2)).reset_index()\n",
        "\n",
        "E = entropy(x, base=2)\n",
        "print(E)"
      ],
      "metadata": {
        "id": "1AAV7ZxE2ObM",
        "colab": {
          "base_uri": "https://localhost:8080/"
        },
        "outputId": "c466a5a3-3ccc-4076-9e4c-ced296c2b0a2"
      },
      "execution_count": 80,
      "outputs": [
        {
          "output_type": "stream",
          "name": "stdout",
          "text": [
            "13.287235065893412\n"
          ]
        }
      ]
    },
    {
      "cell_type": "code",
      "source": [
        "# def hurst(input_ts, lags_to_test=[2, 100]):\n",
        "#   tau = []\n",
        "#   lagvec = []\n",
        "\n",
        "#   # print(None is input_ts)\n",
        "#   for lag in range(lags_to_test[0], lags_to_test[1]):\n",
        "#     # pp = np.subtract(input_ts[lag:], input_ts[:-lag])\n",
        "#     pp = input_ts[lag:] - input_ts[:-lag]\n",
        "#     # print(pp)\n",
        "#     # print(input_ts[:-lag])\n",
        "#     # print(None is pp)\n",
        "#     lagvec.append(lag)\n",
        "#     tau.append(np.std(pp))\n",
        "\n",
        "#   # print(lagvec)\n",
        "#   # print(tau)\n",
        "\n",
        "#   m = np.polyfit(lagvec, tau, 1)\n",
        "#   return m[0]\n",
        "\n",
        "# print(hurst(series))"
      ],
      "metadata": {
        "id": "nFhGH0vNjeEI"
      },
      "execution_count": 81,
      "outputs": []
    },
    {
      "cell_type": "code",
      "source": [
        "plt.figure(figsize=(10,3))\n",
        "plt.plot(t, x, label='orginal')\n",
        "plt.legend()\n",
        "plt.show()"
      ],
      "metadata": {
        "id": "vseIpDrUg-3t",
        "outputId": "79f022da-c382-4042-8309-9e6b54e2bbae",
        "colab": {
          "base_uri": "https://localhost:8080/",
          "height": 215
        }
      },
      "execution_count": 82,
      "outputs": [
        {
          "output_type": "display_data",
          "data": {
            "text/plain": [
              "<Figure size 720x216 with 1 Axes>"
            ],
            "image/png": "[encoded data removed]"
          },
          "metadata": {
            "needs_background": "light"
          }
        }
      ]
    },
    {
      "cell_type": "code",
      "source": [
        "# def vectorized_stride_v1(array, clearing_time_index, max_time, sub_window_size,\n",
        "#                          stride_size):\n",
        "#     start = clearing_time_index + 1 - sub_window_size + 1\n",
        "    \n",
        "#     sub_windows = (\n",
        "#         start + \n",
        "#         np.expand_dims(np.arange(sub_window_size), 0) +\n",
        "#         np.expand_dims(np.arange(max_time + 1), 0).T\n",
        "#     )\n",
        "    \n",
        "#     # Fancy indexing to select every V rows.\n",
        "#     return array[sub_windows[::stride_size]]\n",
        "\n",
        "\n",
        "# def vectorized_stride_v2(array, clearing_time_index, max_time, sub_window_size,\n",
        "#                          stride_size):\n",
        "#     start = clearing_time_index + 1 - sub_window_size + 1\n",
        "    \n",
        "#     sub_windows = (\n",
        "#         start + \n",
        "#         np.expand_dims(np.arange(sub_window_size), 0) +\n",
        "#         # Create a rightmost vector as [0, V, 2V, ...].\n",
        "#         np.expand_dims(np.arange(max_time + 1, step=stride_size), 0).T\n",
        "#     )\n",
        "    \n",
        "#     return array[sub_windows]"
      ],
      "metadata": {
        "id": "t8CACAoxih3b"
      },
      "execution_count": 83,
      "outputs": []
    },
    {
      "cell_type": "code",
      "source": [
        "# vectorized_stride_v2(x, )"
      ],
      "metadata": {
        "id": "DL2JSB6XjQOA"
      },
      "execution_count": 64,
      "outputs": []
    },
    {
      "cell_type": "code",
      "source": [
        "# def rolling_window(seq, window_size):\n",
        "#     it = iter(seq)\n",
        "#     win = [it.next() for cnt in range(window_size)] # First window\n",
        "#     yield win\n",
        "#     for e in it: # Subsequent windows\n",
        "#         win[:-1] = win[1:]\n",
        "#         win[-1] = e\n",
        "#         yield win"
      ],
      "metadata": {
        "id": "6-GRDMHmh-P2"
      },
      "execution_count": 85,
      "outputs": []
    },
    {
      "cell_type": "code",
      "source": [],
      "metadata": {
        "id": "1qFfLptrh-6d",
        "outputId": "0b2feefe-b2f4-4f7d-d4f3-4c9e6ddb9062",
        "colab": {
          "base_uri": "https://localhost:8080/"
        }
      },
      "execution_count": 88,
      "outputs": [
        {
          "output_type": "execute_result",
          "data": {
            "text/plain": [
              "2015-07-01         NaN\n",
              "2015-07-02         NaN\n",
              "2015-07-03         NaN\n",
              "2015-07-06         NaN\n",
              "2015-07-07         NaN\n",
              "                ...   \n",
              "2053-10-21    0.971198\n",
              "2053-10-22    0.971650\n",
              "2053-10-23    0.972124\n",
              "2053-10-24    0.972433\n",
              "2053-10-27    0.972781\n",
              "Freq: B, Length: 9999, dtype: float64"
            ]
          },
          "metadata": {},
          "execution_count": 88
        }
      ]
    },
    {
      "cell_type": "markdown",
      "source": [
        "# Zad 3\n"
      ],
      "metadata": {
        "id": "mWsrNTZO2OvL"
      }
    },
    {
      "cell_type": "code",
      "source": [
        "x.rolling(7).mean()"
      ],
      "metadata": {
        "id": "jcr3D_1y2QPj"
      },
      "execution_count": null,
      "outputs": []
    },
    {
      "cell_type": "markdown",
      "source": [
        "# Zad 4"
      ],
      "metadata": {
        "id": "sZAO_x1R2QtE"
      }
    },
    {
      "cell_type": "code",
      "source": [],
      "metadata": {
        "id": "eHzA_NNo2TlT"
      },
      "execution_count": null,
      "outputs": []
    }
  ]
}