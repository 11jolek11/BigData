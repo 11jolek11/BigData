{
  "nbformat": 4,
  "nbformat_minor": 0,
  "metadata": {
    "colab": {
      "provenance": [],
      "authorship_tag": "ABX9TyNWzOyoqsHPLtFkT1mWwPvH",
      "include_colab_link": true
    },
    "kernelspec": {
      "name": "python3",
      "display_name": "Python 3"
    },
    "language_info": {
      "name": "python"
    }
  },
  "cells": [
    {
      "cell_type": "markdown",
      "metadata": {
        "id": "view-in-github",
        "colab_type": "text"
      },
      "source": [
        "<a href=\"https://colab.research.google.com/github/11jolek11/BigData/blob/yfinance/List4.ipynb\" target=\"_parent\"><img src=\"https://colab.research.google.com/assets/colab-badge.svg\" alt=\"Open In Colab\"/></a>"
      ]
    },
    {
      "cell_type": "code",
      "source": [
        "!pip install -q yfinance\n",
        "\n",
        "import numpy as np\n",
        "import pandas as pd\n",
        "import matplotlib.pyplot as plt\n",
        "from pandas.tseries.offsets import BDay\n",
        "from scipy.stats import entropy\n",
        "import yfinance as yf"
      ],
      "metadata": {
        "id": "c6VrZgr6alwk"
      },
      "execution_count": 32,
      "outputs": []
    },
    {
      "cell_type": "code",
      "execution_count": 26,
      "metadata": {
        "colab": {
          "base_uri": "https://localhost:8080/",
          "height": 211
        },
        "id": "xeOilisy1wdj",
        "outputId": "a9c951d8-d88d-4c40-925f-2e0724a8dd45"
      },
      "outputs": [
        {
          "output_type": "display_data",
          "data": {
            "text/plain": [
              "<Figure size 720x216 with 1 Axes>"
            ],
            "image/png": "[encoded data removed]"
          },
          "metadata": {
            "needs_background": "light"
          }
        }
      ],
      "source": [
        "N = 500\n",
        "scalar = 10\n",
        "t = pd.date_range('2015-07-01', periods=N, freq=BDay())\n",
        "x = np.log(np.cumsum(np.random.randn(N) + 1)) + scalar\n",
        "\n",
        "x = pd.Series(x, index=t)\n",
        "\n",
        "plt.figure(figsize=(10,3))\n",
        "plt.plot(t,x, label='orginal')\n",
        "plt.legend()\n",
        "plt.show()"
      ]
    },
    {
      "cell_type": "markdown",
      "source": [
        "# Zad 1\n",
        "Wersja biblioteczna"
      ],
      "metadata": {
        "id": "GX2vcA8r18n0"
      }
    },
    {
      "cell_type": "code",
      "source": [
        "x.describe()"
      ],
      "metadata": {
        "id": "tt7yWKjb2BRM",
        "colab": {
          "base_uri": "https://localhost:8080/"
        },
        "outputId": "6f165374-31ee-42ca-e87c-476bed2fbd0c"
      },
      "execution_count": 27,
      "outputs": [
        {
          "output_type": "execute_result",
          "data": {
            "text/plain": [
              "count    500.000000\n",
              "mean      15.137578\n",
              "std        0.977133\n",
              "min       10.001247\n",
              "25%       14.691840\n",
              "50%       15.433876\n",
              "75%       15.860315\n",
              "max       16.160310\n",
              "dtype: float64"
            ]
          },
          "metadata": {},
          "execution_count": 27
        }
      ]
    },
    {
      "cell_type": "markdown",
      "source": [
        "# Zad 2"
      ],
      "metadata": {
        "id": "hUWQYN512KBj"
      }
    },
    {
      "cell_type": "code",
      "source": [
        "E = x.apply(lambda x : entropy(N, base=2)).reset_index()\n",
        "\n",
        "\n",
        "def get_hurst_exponent(time_series, max_lag=20):\n",
        "    \"\"\"Returns the Hurst Exponent of the time series\"\"\"\n",
        "    \n",
        "    lags = range(2, max_lag)\n",
        "\n",
        "    # variances of the lagged differences\n",
        "    tau = [np.std(np.subtract(time_series[lag:], time_series[:-lag])) for lag in lags]\n",
        "\n",
        "    # calculate the slope of the log plot -> the Hurst Exponent\n",
        "    reg = np.polyfit(np.log(lags), np.log(tau), 1)\n",
        "\n",
        "    return reg[0]\n",
        "\n",
        "  \n",
        "\n",
        "for lag in [20, 100, 300, 500, 1000]:\n",
        "    hurst_exp = get_hurst_exponent(x, lag)\n",
        "    print(f\"Hurst exponent with {lag} lags: {hurst_exp:.4f}\")"
      ],
      "metadata": {
        "id": "1AAV7ZxE2ObM",
        "colab": {
          "base_uri": "https://localhost:8080/"
        },
        "outputId": "a457fb1c-88f7-4a23-cc3e-865d5e4748df"
      },
      "execution_count": 28,
      "outputs": [
        {
          "output_type": "stream",
          "name": "stderr",
          "text": [
            "<ipython-input-28-d3b2e12d98f9>:13: RuntimeWarning: divide by zero encountered in log\n",
            "  reg = np.polyfit(np.log(lags), np.log(tau), 1)\n",
            "<ipython-input-28-d3b2e12d98f9>:13: RuntimeWarning: divide by zero encountered in log\n",
            "  reg = np.polyfit(np.log(lags), np.log(tau), 1)\n"
          ]
        },
        {
          "output_type": "stream",
          "name": "stdout",
          "text": [
            "Hurst exponent with 20 lags: nan\n",
            "Hurst exponent with 100 lags: nan\n"
          ]
        },
        {
          "output_type": "stream",
          "name": "stderr",
          "text": [
            "<ipython-input-28-d3b2e12d98f9>:13: RuntimeWarning: divide by zero encountered in log\n",
            "  reg = np.polyfit(np.log(lags), np.log(tau), 1)\n"
          ]
        },
        {
          "output_type": "stream",
          "name": "stdout",
          "text": [
            "Hurst exponent with 300 lags: nan\n"
          ]
        },
        {
          "output_type": "stream",
          "name": "stderr",
          "text": [
            "<ipython-input-28-d3b2e12d98f9>:13: RuntimeWarning: divide by zero encountered in log\n",
            "  reg = np.polyfit(np.log(lags), np.log(tau), 1)\n"
          ]
        },
        {
          "output_type": "stream",
          "name": "stdout",
          "text": [
            "Hurst exponent with 500 lags: nan\n",
            "Hurst exponent with 1000 lags: nan\n"
          ]
        },
        {
          "output_type": "stream",
          "name": "stderr",
          "text": [
            "<ipython-input-28-d3b2e12d98f9>:13: RuntimeWarning: divide by zero encountered in log\n",
            "  reg = np.polyfit(np.log(lags), np.log(tau), 1)\n"
          ]
        }
      ]
    },
    {
      "cell_type": "code",
      "source": [
        "spy_df = yf.download(\"^GSPC\", \n",
        "                     start=\"2010-01-01\", \n",
        "                     end=\"2019-12-31\", \n",
        "                     progress=False)\n",
        "\n",
        "\n",
        "sample_size = 1000\n",
        "scalar = 100\n",
        "\n",
        "np.random.seed(123)\n",
        "df = pd.DataFrame(data={\"mean_rev\": np.log(np.random.randn(sample_size) + scalar),\n",
        "                        \"gbm\": np.log(np.cumsum(np.random.randn(sample_size)) + scalar),\n",
        "                        \"trending\": np.log(np.cumsum(np.random.randn(sample_size) + 1) + scalar)})\n",
        "for lag in [20, 100, 300, 500, 1000]:\n",
        "    hurst_exp = get_hurst_exponent(spy_df[\"Adj Close\"].values, lag)\n",
        "    print(f\"Hurst exponent with {lag} lags: {hurst_exp:.4f}\")"
      ],
      "metadata": {
        "id": "nFhGH0vNjeEI",
        "outputId": "adc35c02-2007-4588-a300-0d75e6bef1e8",
        "colab": {
          "base_uri": "https://localhost:8080/"
        }
      },
      "execution_count": 30,
      "outputs": [
        {
          "output_type": "stream",
          "name": "stdout",
          "text": [
            "Looking in indexes: https://pypi.org/simple, https://us-python.pkg.dev/colab-wheels/public/simple/\n",
            "Collecting yfinance\n",
            "  Downloading yfinance-0.2.13-py2.py3-none-any.whl (59 kB)\n",
            "\u001b[2K     \u001b[90m━━━━━━━━━━━━━━━━━━━━━━━━━━━━━━━━━━━━━━━━\u001b[0m \u001b[32m59.3/59.3 KB\u001b[0m \u001b[31m6.3 MB/s\u001b[0m eta \u001b[36m0:00:00\u001b[0m\n",
            "\u001b[?25hRequirement already satisfied: pandas>=1.3.0 in /usr/local/lib/python3.9/dist-packages (from yfinance) (1.4.4)\n",
            "Requirement already satisfied: html5lib>=1.1 in /usr/local/lib/python3.9/dist-packages (from yfinance) (1.1)\n",
            "Requirement already satisfied: pytz>=2022.5 in /usr/local/lib/python3.9/dist-packages (from yfinance) (2022.7.1)\n",
            "Requirement already satisfied: appdirs>=1.4.4 in /usr/local/lib/python3.9/dist-packages (from yfinance) (1.4.4)\n",
            "Requirement already satisfied: requests>=2.26 in /usr/local/lib/python3.9/dist-packages (from yfinance) (2.27.1)\n",
            "Requirement already satisfied: multitasking>=0.0.7 in /usr/local/lib/python3.9/dist-packages (from yfinance) (0.0.11)\n",
            "Collecting frozendict>=2.3.4\n",
            "  Downloading frozendict-2.3.6-cp39-cp39-manylinux_2_17_x86_64.manylinux2014_x86_64.whl (114 kB)\n",
            "\u001b[2K     \u001b[90m━━━━━━━━━━━━━━━━━━━━━━━━━━━━━━━━━━━━━━\u001b[0m \u001b[32m114.3/114.3 KB\u001b[0m \u001b[31m10.4 MB/s\u001b[0m eta \u001b[36m0:00:00\u001b[0m\n",
            "\u001b[?25hCollecting cryptography>=3.3.2\n",
            "  Downloading cryptography-39.0.2-cp36-abi3-manylinux_2_28_x86_64.whl (4.2 MB)\n",
            "\u001b[2K     \u001b[90m━━━━━━━━━━━━━━━━━━━━━━━━━━━━━━━━━━━━━━━━\u001b[0m \u001b[32m4.2/4.2 MB\u001b[0m \u001b[31m61.5 MB/s\u001b[0m eta \u001b[36m0:00:00\u001b[0m\n",
            "\u001b[?25hRequirement already satisfied: beautifulsoup4>=4.11.1 in /usr/local/lib/python3.9/dist-packages (from yfinance) (4.11.2)\n",
            "Requirement already satisfied: lxml>=4.9.1 in /usr/local/lib/python3.9/dist-packages (from yfinance) (4.9.2)\n",
            "Requirement already satisfied: numpy>=1.16.5 in /usr/local/lib/python3.9/dist-packages (from yfinance) (1.22.4)\n",
            "Requirement already satisfied: soupsieve>1.2 in /usr/local/lib/python3.9/dist-packages (from beautifulsoup4>=4.11.1->yfinance) (2.4)\n",
            "Requirement already satisfied: cffi>=1.12 in /usr/local/lib/python3.9/dist-packages (from cryptography>=3.3.2->yfinance) (1.15.1)\n",
            "Requirement already satisfied: six>=1.9 in /usr/local/lib/python3.9/dist-packages (from html5lib>=1.1->yfinance) (1.16.0)\n",
            "Requirement already satisfied: webencodings in /usr/local/lib/python3.9/dist-packages (from html5lib>=1.1->yfinance) (0.5.1)\n",
            "Requirement already satisfied: python-dateutil>=2.8.1 in /usr/local/lib/python3.9/dist-packages (from pandas>=1.3.0->yfinance) (2.8.2)\n",
            "Requirement already satisfied: certifi>=2017.4.17 in /usr/local/lib/python3.9/dist-packages (from requests>=2.26->yfinance) (2022.12.7)\n",
            "Requirement already satisfied: urllib3<1.27,>=1.21.1 in /usr/local/lib/python3.9/dist-packages (from requests>=2.26->yfinance) (1.26.15)\n",
            "Requirement already satisfied: idna<4,>=2.5 in /usr/local/lib/python3.9/dist-packages (from requests>=2.26->yfinance) (3.4)\n",
            "Requirement already satisfied: charset-normalizer~=2.0.0 in /usr/local/lib/python3.9/dist-packages (from requests>=2.26->yfinance) (2.0.12)\n",
            "Requirement already satisfied: pycparser in /usr/local/lib/python3.9/dist-packages (from cffi>=1.12->cryptography>=3.3.2->yfinance) (2.21)\n",
            "Installing collected packages: frozendict, cryptography, yfinance\n",
            "Successfully installed cryptography-39.0.2 frozendict-2.3.6 yfinance-0.2.13\n",
            "Hurst exponent with 20 lags: 0.4394\n",
            "Hurst exponent with 100 lags: 0.3834\n",
            "Hurst exponent with 300 lags: 0.3257\n",
            "Hurst exponent with 500 lags: 0.3230\n",
            "Hurst exponent with 1000 lags: 0.1793\n"
          ]
        }
      ]
    },
    {
      "cell_type": "markdown",
      "source": [
        "# Zad 3\n"
      ],
      "metadata": {
        "id": "mWsrNTZO2OvL"
      }
    },
    {
      "cell_type": "code",
      "source": [],
      "metadata": {
        "id": "jcr3D_1y2QPj"
      },
      "execution_count": null,
      "outputs": []
    },
    {
      "cell_type": "markdown",
      "source": [
        "# Zad 4"
      ],
      "metadata": {
        "id": "sZAO_x1R2QtE"
      }
    },
    {
      "cell_type": "code",
      "source": [],
      "metadata": {
        "id": "eHzA_NNo2TlT"
      },
      "execution_count": null,
      "outputs": []
    }
  ]
}